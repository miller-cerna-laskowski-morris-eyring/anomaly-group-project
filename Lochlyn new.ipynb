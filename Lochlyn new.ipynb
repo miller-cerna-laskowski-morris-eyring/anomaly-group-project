{
 "cells": [
  {
   "cell_type": "code",
   "execution_count": 1,
   "id": "88a95b64",
   "metadata": {},
   "outputs": [],
   "source": [
    "import warnings  \n",
    "warnings.filterwarnings('ignore')\n",
    "\n",
    "import matplotlib.pyplot as plt\n",
    "import numpy as np\n",
    "import pandas as pd\n",
    "import seaborn as sns\n",
    "from sklearn import metrics\n",
    "from env import get_db_url\n",
    "import acquire\n",
    "import wrangle\n",
    "pd.set_option(\"display.max_rows\", 2500)"
   ]
  },
  {
   "cell_type": "code",
   "execution_count": 2,
   "id": "d846e1d4",
   "metadata": {},
   "outputs": [
    {
     "name": "stdout",
     "output_type": "stream",
     "text": [
      "This returned the following dataframes (reassign if you missed any):\n"
     ]
    },
    {
     "data": {
      "text/html": [
       "<div>\n",
       "<style scoped>\n",
       "    .dataframe tbody tr th:only-of-type {\n",
       "        vertical-align: middle;\n",
       "    }\n",
       "\n",
       "    .dataframe tbody tr th {\n",
       "        vertical-align: top;\n",
       "    }\n",
       "\n",
       "    .dataframe thead th {\n",
       "        text-align: right;\n",
       "    }\n",
       "</style>\n",
       "<table border=\"1\" class=\"dataframe\">\n",
       "  <thead>\n",
       "    <tr style=\"text-align: right;\">\n",
       "      <th></th>\n",
       "      <th>Description</th>\n",
       "      <th>Record Count</th>\n",
       "      <th>Percent of Raw df</th>\n",
       "    </tr>\n",
       "    <tr>\n",
       "      <th>Dataframe</th>\n",
       "      <th></th>\n",
       "      <th></th>\n",
       "      <th></th>\n",
       "    </tr>\n",
       "  </thead>\n",
       "  <tbody>\n",
       "    <tr>\n",
       "      <th>df</th>\n",
       "      <td>Fully cleaned dataframe</td>\n",
       "      <td>509409</td>\n",
       "      <td>56.6%</td>\n",
       "    </tr>\n",
       "    <tr>\n",
       "      <th>df_staff</th>\n",
       "      <td>Cohort == Staff</td>\n",
       "      <td>84031</td>\n",
       "      <td>9.33%</td>\n",
       "    </tr>\n",
       "    <tr>\n",
       "      <th>df_multicohort</th>\n",
       "      <td>Users listed in more than one cohort</td>\n",
       "      <td>22708</td>\n",
       "      <td>2.52%</td>\n",
       "    </tr>\n",
       "    <tr>\n",
       "      <th>df_unimputed</th>\n",
       "      <td>Users with unknown/unimputable cohorts</td>\n",
       "      <td>45904</td>\n",
       "      <td>5.1%</td>\n",
       "    </tr>\n",
       "    <tr>\n",
       "      <th>df_non_curriculum</th>\n",
       "      <td>Accessess not related to the curriculum, i.e. directories, images</td>\n",
       "      <td>116539</td>\n",
       "      <td>12.9%</td>\n",
       "    </tr>\n",
       "    <tr>\n",
       "      <th>df_outliers</th>\n",
       "      <td>Accesses meeting outlier conditions</td>\n",
       "      <td>121626</td>\n",
       "      <td>13.5%</td>\n",
       "    </tr>\n",
       "  </tbody>\n",
       "</table>\n",
       "</div>"
      ],
      "text/plain": [
       "                                                                         Description  \\\n",
       "Dataframe                                                                              \n",
       "df                                                           Fully cleaned dataframe   \n",
       "df_staff                                                             Cohort == Staff   \n",
       "df_multicohort                                  Users listed in more than one cohort   \n",
       "df_unimputed                                  Users with unknown/unimputable cohorts   \n",
       "df_non_curriculum  Accessess not related to the curriculum, i.e. directories, images   \n",
       "df_outliers                                      Accesses meeting outlier conditions   \n",
       "\n",
       "                   Record Count Percent of Raw df  \n",
       "Dataframe                                          \n",
       "df                       509409             56.6%  \n",
       "df_staff                  84031             9.33%  \n",
       "df_multicohort            22708             2.52%  \n",
       "df_unimputed              45904              5.1%  \n",
       "df_non_curriculum        116539             12.9%  \n",
       "df_outliers              121626             13.5%  "
      ]
     },
     "metadata": {},
     "output_type": "display_data"
    }
   ],
   "source": [
    "df, df_staff, df_multicohort, df_unimputed, df_non_curriculum, df_outliers = wrangle.full_wrangle()"
   ]
  },
  {
   "cell_type": "code",
   "execution_count": 3,
   "id": "3d7aa782",
   "metadata": {},
   "outputs": [],
   "source": [
    "# join df and outliers as one dataframe\n",
    "joint = pd.concat([df, df_outliers])"
   ]
  },
  {
   "cell_type": "code",
   "execution_count": 4,
   "id": "96d1412d",
   "metadata": {},
   "outputs": [],
   "source": [
    "# removed user 782 since they are incorrectly identified as a DS student\n",
    "joint = joint[joint.user_id != 782]"
   ]
  },
  {
   "cell_type": "code",
   "execution_count": 5,
   "id": "99e9da77",
   "metadata": {},
   "outputs": [],
   "source": [
    "# create web development and datas cience dataframes\n",
    "wd_df = joint[joint.program_type=='Web Development']\n",
    "ds_df = joint[joint.program_type=='Data Science']"
   ]
  },
  {
   "cell_type": "markdown",
   "id": "7caedd44",
   "metadata": {},
   "source": [
    "### 5. At some point in 2019, the ability for students and alumni to access both curriculums (web dev to ds, ds to web dev) should have been shut off. Do you see any evidence of that happening? Did it happen before?"
   ]
  },
  {
   "cell_type": "markdown",
   "id": "ae369f2b",
   "metadata": {},
   "source": [
    "#### Web Development Students viewing access to Data Science Curriculum"
   ]
  },
  {
   "cell_type": "code",
   "execution_count": 6,
   "id": "52919841",
   "metadata": {},
   "outputs": [],
   "source": [
    "# determine what a data science course is using science\n",
    "wd_to_ds_access_df = wd_df[wd_df.path.str.contains('science')]"
   ]
  },
  {
   "cell_type": "code",
   "execution_count": 7,
   "id": "f5357912",
   "metadata": {},
   "outputs": [],
   "source": [
    "wd_to_ds_access_df = wd_to_ds_access_df.set_index(wd_to_ds_access_df.accessed)"
   ]
  },
  {
   "cell_type": "code",
   "execution_count": 8,
   "id": "b09efac2",
   "metadata": {},
   "outputs": [],
   "source": [
    "# view daily cross-acess in web development to data science\n",
    "daily_wd_to_ds_access_df = wd_to_ds_access_df.resample('D').count()"
   ]
  },
  {
   "cell_type": "code",
   "execution_count": 9,
   "id": "85448b89",
   "metadata": {},
   "outputs": [],
   "source": [
    "# create data for wd students viewing ds curriculum after 2019\n",
    "after_2019 = wd_to_ds_access_df['2019-12-31':]"
   ]
  },
  {
   "cell_type": "code",
   "execution_count": 10,
   "id": "aae88857",
   "metadata": {},
   "outputs": [
    {
     "data": {
      "image/png": "[encoded data removed]",
      "text/plain": [
       "<Figure size 1296x864 with 4 Axes>"
      ]
     },
     "metadata": {
      "needs_background": "light"
     },
     "output_type": "display_data"
    }
   ],
   "source": [
    "# view web development students that access data science by user id\n",
    "plt.figure(figsize = (18, 12))\n",
    "plt.subplot(221)\n",
    "sns.countplot(data=wd_to_ds_access_df, x=wd_to_ds_access_df.user_id)\n",
    "plt.title('Web Development Students Access to Data Science Curriculum by User')\n",
    "plt.xticks(rotation=90)\n",
    "\n",
    "plt.subplot(222)\n",
    "sns.countplot(data=after_2019, x=after_2019.user_id)\n",
    "plt.title('Web Development Students Access to Data Science Curriculum by User - After 2019')\n",
    "plt.xticks(rotation=90)\n",
    "\n",
    "plt.subplot(223)\n",
    "sns.countplot(data=wd_to_ds_access_df, x=wd_to_ds_access_df.cohort)\n",
    "plt.title('Web Development Students Access to Data Science Curriculum by Cohort')\n",
    "plt.xticks(rotation=90)\n",
    "\n",
    "plt.subplot(224)\n",
    "sns.countplot(data=after_2019, x=after_2019.cohort)\n",
    "plt.title('Web Development Students Access to Data Science Curriculum by Cohort - After 2019')\n",
    "plt.xticks(rotation=90)\n",
    "plt.show()\n",
    "plt.show()"
   ]
  },
  {
   "cell_type": "markdown",
   "id": "7594d889",
   "metadata": {},
   "source": [
    "**Notes:** Prior to 2019, 18 web development users accessed the data science curriculum. After the expected shut-off in 2019, four users continued to access the data science curriculum.\n",
    "\n",
    "- User 220 accessed Data Science Program in April 2019. (Wrangle cohort, graduated Nov 2018)\n",
    "- Accessed Data Science Program after 2019 cutoff:\n",
    "    - User 20 - Teddy cohort, graduated May 2018, accessed Nov 2020 - Feb 2021. Viewed fundamentals.\n",
    "    - User 410 - Betelgeuse cohort, graduated Oct 2019, accessed Jan 2020. Viewed fundamentals.\n",
    "    - User 495 - Deimos cohort, graduated Feb 2020, accessed Nov 2020. Viewed fundamentals.\n",
    "    - User 790 - Active student in Kalypso cohort, accessed in Mar 2021 (no lesson viewed)."
   ]
  },
  {
   "cell_type": "markdown",
   "id": "43051bbd",
   "metadata": {},
   "source": [
    "#### Data Science Students accessing Web Development Curriculum"
   ]
  },
  {
   "cell_type": "code",
   "execution_count": 11,
   "id": "a0b8b048",
   "metadata": {},
   "outputs": [],
   "source": [
    "# determine what a web development course is using java\n",
    "ds_to_wd_access_df=ds_df[ds_df.path.str.contains('java')]"
   ]
  },
  {
   "cell_type": "code",
   "execution_count": 12,
   "id": "d1fb8f89",
   "metadata": {},
   "outputs": [],
   "source": [
    "# set index to datetime for resampling\n",
    "ds_to_wd_access_df=ds_to_wd_access_df.set_index(ds_to_wd_access_df.accessed)"
   ]
  },
  {
   "cell_type": "code",
   "execution_count": 13,
   "id": "83621d8a",
   "metadata": {},
   "outputs": [],
   "source": [
    "# create data for wd students viewing ds curriculum after 2019\n",
    "ds_after_2019 = ds_to_wd_access_df['2019-12-31':]"
   ]
  },
  {
   "cell_type": "code",
   "execution_count": 14,
   "id": "6f3e7ae9",
   "metadata": {},
   "outputs": [],
   "source": [
    "# resample data to daily view\n",
    "daily_ds_to_wd_access_df=ds_to_wd_access_df.resample('D').count()"
   ]
  },
  {
   "cell_type": "code",
   "execution_count": 15,
   "id": "63d77b05",
   "metadata": {},
   "outputs": [
    {
     "data": {
      "image/png": "[encoded data removed]",
      "text/plain": [
       "<Figure size 1296x864 with 4 Axes>"
      ]
     },
     "metadata": {
      "needs_background": "light"
     },
     "output_type": "display_data"
    }
   ],
   "source": [
    "plt.figure(figsize = (18, 12))\n",
    "plt.subplot(221)\n",
    "sns.countplot(data=ds_to_wd_access_df, x=ds_to_wd_access_df.user_id)\n",
    "plt.title('Data Science Students Access to Web Development Curriculum by User')\n",
    "plt.xticks(rotation=90)\n",
    "\n",
    "plt.subplot(222)\n",
    "sns.countplot(data=ds_to_wd_access_df, x=ds_to_wd_access_df.cohort)\n",
    "plt.title('Data Science Students Access to Web Development Curriculum by Cohort')\n",
    "\n",
    "plt.subplot(223)\n",
    "sns.countplot(data=ds_after_2019, x=ds_after_2019.user_id)\n",
    "plt.title('Data Science Students Access to Web Development Curriculum by User - After 2019')\n",
    "\n",
    "plt.subplot(224)\n",
    "sns.countplot(data=ds_after_2019, x=ds_after_2019.cohort)\n",
    "plt.title('Data Science Students Access to Web Development Curriculum by Cohort - After 2019')\n",
    "plt.show()\n",
    "\n"
   ]
  },
  {
   "cell_type": "markdown",
   "id": "20920bd3",
   "metadata": {},
   "source": [
    "**Data science students accessing web development courses ended in 2019, but there was one cross-curriculum access in May 2020.**"
   ]
  },
  {
   "cell_type": "markdown",
   "id": "fbf16caa",
   "metadata": {},
   "source": [
    "**Notes:** Most users utilizing cross-curriculum were in the Bayes cohort and were active students at the time of accessing the curriculum, prior to the end of cross-curriculum access.\n",
    "- The one outlier in May 2020 was in the Curie cohort.\n",
    "- User 590: Accessed Web Development curriculum May 2020, viewed Java-II/object-oriented-programming."
   ]
  },
  {
   "cell_type": "code",
   "execution_count": 16,
   "id": "22a249b4",
   "metadata": {},
   "outputs": [
    {
     "data": {
      "image/png": "[encoded data removed]",
      "text/plain": [
       "<Figure size 1296x648 with 1 Axes>"
      ]
     },
     "metadata": {
      "needs_background": "light"
     },
     "output_type": "display_data"
    }
   ],
   "source": [
    "plt.figure(figsize = (18, 9))\n",
    "daily_ds_to_wd_access_df.program_id.plot(label='Data Science to Web Development')\n",
    "daily_wd_to_ds_access_df.program_id.plot(label='Web Development to Data Science')\n",
    "plt.title('Cross-Curriculum Access by Program', fontsize=20)\n",
    "plt.axvline(pd.Timestamp('2019-12-31'),color='black',ls='--')\n",
    "plt.legend()\n",
    "plt.show()"
   ]
  },
  {
   "cell_type": "code",
   "execution_count": 17,
   "id": "45f063a1",
   "metadata": {
    "scrolled": true
   },
   "outputs": [
    {
     "data": {
      "text/html": [
       "<div>\n",
       "<style scoped>\n",
       "    .dataframe tbody tr th:only-of-type {\n",
       "        vertical-align: middle;\n",
       "    }\n",
       "\n",
       "    .dataframe tbody tr th {\n",
       "        vertical-align: top;\n",
       "    }\n",
       "\n",
       "    .dataframe thead th {\n",
       "        text-align: right;\n",
       "    }\n",
       "</style>\n",
       "<table border=\"1\" class=\"dataframe\">\n",
       "  <thead>\n",
       "    <tr style=\"text-align: right;\">\n",
       "      <th></th>\n",
       "      <th>accessed</th>\n",
       "      <th>path</th>\n",
       "      <th>ip</th>\n",
       "      <th>user_id</th>\n",
       "      <th>program_id</th>\n",
       "      <th>program_type</th>\n",
       "      <th>cohort</th>\n",
       "      <th>start_date</th>\n",
       "      <th>end_date</th>\n",
       "      <th>lesson</th>\n",
       "      <th>hour</th>\n",
       "    </tr>\n",
       "  </thead>\n",
       "  <tbody>\n",
       "    <tr>\n",
       "      <th>213037</th>\n",
       "      <td>2019-04-13 01:39:14</td>\n",
       "      <td>datascience</td>\n",
       "      <td>70.120.5.227</td>\n",
       "      <td>220</td>\n",
       "      <td>2.0</td>\n",
       "      <td>Web Development</td>\n",
       "      <td>Wrangell</td>\n",
       "      <td>2018-07-23</td>\n",
       "      <td>2018-11-29</td>\n",
       "      <td>Not Lesson</td>\n",
       "      <td>1</td>\n",
       "    </tr>\n",
       "    <tr>\n",
       "      <th>213044</th>\n",
       "      <td>2019-04-13 01:40:39</td>\n",
       "      <td>data-science</td>\n",
       "      <td>70.120.5.227</td>\n",
       "      <td>220</td>\n",
       "      <td>2.0</td>\n",
       "      <td>Web Development</td>\n",
       "      <td>Wrangell</td>\n",
       "      <td>2018-07-23</td>\n",
       "      <td>2018-11-29</td>\n",
       "      <td>Not Lesson</td>\n",
       "      <td>1</td>\n",
       "    </tr>\n",
       "  </tbody>\n",
       "</table>\n",
       "</div>"
      ],
      "text/plain": [
       "                  accessed          path            ip  user_id  program_id  \\\n",
       "213037 2019-04-13 01:39:14   datascience  70.120.5.227      220         2.0   \n",
       "213044 2019-04-13 01:40:39  data-science  70.120.5.227      220         2.0   \n",
       "\n",
       "           program_type    cohort start_date   end_date      lesson  hour  \n",
       "213037  Web Development  Wrangell 2018-07-23 2018-11-29  Not Lesson     1  \n",
       "213044  Web Development  Wrangell 2018-07-23 2018-11-29  Not Lesson     1  "
      ]
     },
     "execution_count": 17,
     "metadata": {},
     "output_type": "execute_result"
    }
   ],
   "source": [
    "# review user 220\n",
    "df[(df.user_id==220) & (df.path.str.contains('science'))]"
   ]
  },
  {
   "cell_type": "code",
   "execution_count": 18,
   "id": "a3d0bcd7",
   "metadata": {
    "scrolled": false
   },
   "outputs": [
    {
     "data": {
      "image/png": "[encoded data removed]",
      "text/plain": [
       "<Figure size 1296x648 with 1 Axes>"
      ]
     },
     "metadata": {
      "needs_background": "light"
     },
     "output_type": "display_data"
    }
   ],
   "source": [
    "plt.figure(figsize = (18, 9))\n",
    "daily_wd_to_ds_access_df.program_id.plot()\n",
    "plt.title('Web Development Students Accessing Data Science Curriculum by Date', fontsize=20)\n",
    "plt.show()"
   ]
  },
  {
   "cell_type": "code",
   "execution_count": 19,
   "id": "3bfd62b2",
   "metadata": {},
   "outputs": [
    {
     "data": {
      "text/html": [
       "<div>\n",
       "<style scoped>\n",
       "    .dataframe tbody tr th:only-of-type {\n",
       "        vertical-align: middle;\n",
       "    }\n",
       "\n",
       "    .dataframe tbody tr th {\n",
       "        vertical-align: top;\n",
       "    }\n",
       "\n",
       "    .dataframe thead th {\n",
       "        text-align: right;\n",
       "    }\n",
       "</style>\n",
       "<table border=\"1\" class=\"dataframe\">\n",
       "  <thead>\n",
       "    <tr style=\"text-align: right;\">\n",
       "      <th></th>\n",
       "      <th>accessed</th>\n",
       "      <th>path</th>\n",
       "      <th>ip</th>\n",
       "      <th>user_id</th>\n",
       "      <th>program_id</th>\n",
       "      <th>program_type</th>\n",
       "      <th>cohort</th>\n",
       "      <th>start_date</th>\n",
       "      <th>end_date</th>\n",
       "      <th>lesson</th>\n",
       "      <th>hour</th>\n",
       "    </tr>\n",
       "  </thead>\n",
       "  <tbody>\n",
       "    <tr>\n",
       "      <th>606165</th>\n",
       "      <td>2020-11-10 10:14:09</td>\n",
       "      <td>fundamentals/intro-to-data-science</td>\n",
       "      <td>104.190.242.242</td>\n",
       "      <td>20</td>\n",
       "      <td>2.0</td>\n",
       "      <td>Web Development</td>\n",
       "      <td>Teddy</td>\n",
       "      <td>2018-01-08</td>\n",
       "      <td>2018-05-17</td>\n",
       "      <td>fundamentals.intro-to-data-science</td>\n",
       "      <td>10</td>\n",
       "    </tr>\n",
       "    <tr>\n",
       "      <th>631543</th>\n",
       "      <td>2020-12-11 16:06:49</td>\n",
       "      <td>fundamentals/intro-to-data-science</td>\n",
       "      <td>104.190.242.242</td>\n",
       "      <td>20</td>\n",
       "      <td>2.0</td>\n",
       "      <td>Web Development</td>\n",
       "      <td>Teddy</td>\n",
       "      <td>2018-01-08</td>\n",
       "      <td>2018-05-17</td>\n",
       "      <td>fundamentals.intro-to-data-science</td>\n",
       "      <td>16</td>\n",
       "    </tr>\n",
       "    <tr>\n",
       "      <th>631546</th>\n",
       "      <td>2020-12-11 16:06:59</td>\n",
       "      <td>fundamentals/intro-to-data-science</td>\n",
       "      <td>104.190.242.242</td>\n",
       "      <td>20</td>\n",
       "      <td>2.0</td>\n",
       "      <td>Web Development</td>\n",
       "      <td>Teddy</td>\n",
       "      <td>2018-01-08</td>\n",
       "      <td>2018-05-17</td>\n",
       "      <td>fundamentals.intro-to-data-science</td>\n",
       "      <td>16</td>\n",
       "    </tr>\n",
       "    <tr>\n",
       "      <th>648737</th>\n",
       "      <td>2021-01-11 09:42:53</td>\n",
       "      <td>fundamentals/intro-to-data-science</td>\n",
       "      <td>104.190.242.242</td>\n",
       "      <td>20</td>\n",
       "      <td>2.0</td>\n",
       "      <td>Web Development</td>\n",
       "      <td>Teddy</td>\n",
       "      <td>2018-01-08</td>\n",
       "      <td>2018-05-17</td>\n",
       "      <td>fundamentals.intro-to-data-science</td>\n",
       "      <td>9</td>\n",
       "    </tr>\n",
       "    <tr>\n",
       "      <th>685568</th>\n",
       "      <td>2021-02-23 22:01:51</td>\n",
       "      <td>fundamentals/intro-to-data-science</td>\n",
       "      <td>104.190.242.242</td>\n",
       "      <td>20</td>\n",
       "      <td>2.0</td>\n",
       "      <td>Web Development</td>\n",
       "      <td>Teddy</td>\n",
       "      <td>2018-01-08</td>\n",
       "      <td>2018-05-17</td>\n",
       "      <td>fundamentals.intro-to-data-science</td>\n",
       "      <td>22</td>\n",
       "    </tr>\n",
       "    <tr>\n",
       "      <th>686515</th>\n",
       "      <td>2021-02-25 09:02:46</td>\n",
       "      <td>fundamentals/intro-to-data-science</td>\n",
       "      <td>104.190.242.242</td>\n",
       "      <td>20</td>\n",
       "      <td>2.0</td>\n",
       "      <td>Web Development</td>\n",
       "      <td>Teddy</td>\n",
       "      <td>2018-01-08</td>\n",
       "      <td>2018-05-17</td>\n",
       "      <td>fundamentals.intro-to-data-science</td>\n",
       "      <td>9</td>\n",
       "    </tr>\n",
       "  </tbody>\n",
       "</table>\n",
       "</div>"
      ],
      "text/plain": [
       "                  accessed                                path  \\\n",
       "606165 2020-11-10 10:14:09  fundamentals/intro-to-data-science   \n",
       "631543 2020-12-11 16:06:49  fundamentals/intro-to-data-science   \n",
       "631546 2020-12-11 16:06:59  fundamentals/intro-to-data-science   \n",
       "648737 2021-01-11 09:42:53  fundamentals/intro-to-data-science   \n",
       "685568 2021-02-23 22:01:51  fundamentals/intro-to-data-science   \n",
       "686515 2021-02-25 09:02:46  fundamentals/intro-to-data-science   \n",
       "\n",
       "                     ip  user_id  program_id     program_type cohort  \\\n",
       "606165  104.190.242.242       20         2.0  Web Development  Teddy   \n",
       "631543  104.190.242.242       20         2.0  Web Development  Teddy   \n",
       "631546  104.190.242.242       20         2.0  Web Development  Teddy   \n",
       "648737  104.190.242.242       20         2.0  Web Development  Teddy   \n",
       "685568  104.190.242.242       20         2.0  Web Development  Teddy   \n",
       "686515  104.190.242.242       20         2.0  Web Development  Teddy   \n",
       "\n",
       "       start_date   end_date                              lesson  hour  \n",
       "606165 2018-01-08 2018-05-17  fundamentals.intro-to-data-science    10  \n",
       "631543 2018-01-08 2018-05-17  fundamentals.intro-to-data-science    16  \n",
       "631546 2018-01-08 2018-05-17  fundamentals.intro-to-data-science    16  \n",
       "648737 2018-01-08 2018-05-17  fundamentals.intro-to-data-science     9  \n",
       "685568 2018-01-08 2018-05-17  fundamentals.intro-to-data-science    22  \n",
       "686515 2018-01-08 2018-05-17  fundamentals.intro-to-data-science     9  "
      ]
     },
     "execution_count": 19,
     "metadata": {},
     "output_type": "execute_result"
    }
   ],
   "source": [
    "df[(df.user_id==20) & (df.path.str.contains('science'))]"
   ]
  },
  {
   "cell_type": "code",
   "execution_count": 20,
   "id": "3f55062f",
   "metadata": {},
   "outputs": [
    {
     "data": {
      "text/html": [
       "<div>\n",
       "<style scoped>\n",
       "    .dataframe tbody tr th:only-of-type {\n",
       "        vertical-align: middle;\n",
       "    }\n",
       "\n",
       "    .dataframe tbody tr th {\n",
       "        vertical-align: top;\n",
       "    }\n",
       "\n",
       "    .dataframe thead th {\n",
       "        text-align: right;\n",
       "    }\n",
       "</style>\n",
       "<table border=\"1\" class=\"dataframe\">\n",
       "  <thead>\n",
       "    <tr style=\"text-align: right;\">\n",
       "      <th></th>\n",
       "      <th>accessed</th>\n",
       "      <th>path</th>\n",
       "      <th>ip</th>\n",
       "      <th>user_id</th>\n",
       "      <th>program_id</th>\n",
       "      <th>program_type</th>\n",
       "      <th>cohort</th>\n",
       "      <th>start_date</th>\n",
       "      <th>end_date</th>\n",
       "      <th>lesson</th>\n",
       "      <th>hour</th>\n",
       "    </tr>\n",
       "  </thead>\n",
       "  <tbody>\n",
       "    <tr>\n",
       "      <th>611437</th>\n",
       "      <td>2020-11-17 08:40:22</td>\n",
       "      <td>fundamentals/intro-to-data-science</td>\n",
       "      <td>72.191.58.18</td>\n",
       "      <td>495</td>\n",
       "      <td>2.0</td>\n",
       "      <td>Web Development</td>\n",
       "      <td>Deimos</td>\n",
       "      <td>2019-09-16</td>\n",
       "      <td>2020-02-27</td>\n",
       "      <td>fundamentals.intro-to-data-science</td>\n",
       "      <td>8</td>\n",
       "    </tr>\n",
       "  </tbody>\n",
       "</table>\n",
       "</div>"
      ],
      "text/plain": [
       "                  accessed                                path            ip  \\\n",
       "611437 2020-11-17 08:40:22  fundamentals/intro-to-data-science  72.191.58.18   \n",
       "\n",
       "        user_id  program_id     program_type  cohort start_date   end_date  \\\n",
       "611437      495         2.0  Web Development  Deimos 2019-09-16 2020-02-27   \n",
       "\n",
       "                                    lesson  hour  \n",
       "611437  fundamentals.intro-to-data-science     8  "
      ]
     },
     "execution_count": 20,
     "metadata": {},
     "output_type": "execute_result"
    }
   ],
   "source": [
    "df[(df.user_id==495) & (df.path.str.contains('science'))]"
   ]
  },
  {
   "cell_type": "code",
   "execution_count": 21,
   "id": "8de4a48a",
   "metadata": {},
   "outputs": [
    {
     "data": {
      "text/html": [
       "<div>\n",
       "<style scoped>\n",
       "    .dataframe tbody tr th:only-of-type {\n",
       "        vertical-align: middle;\n",
       "    }\n",
       "\n",
       "    .dataframe tbody tr th {\n",
       "        vertical-align: top;\n",
       "    }\n",
       "\n",
       "    .dataframe thead th {\n",
       "        text-align: right;\n",
       "    }\n",
       "</style>\n",
       "<table border=\"1\" class=\"dataframe\">\n",
       "  <thead>\n",
       "    <tr style=\"text-align: right;\">\n",
       "      <th></th>\n",
       "      <th>accessed</th>\n",
       "      <th>path</th>\n",
       "      <th>ip</th>\n",
       "      <th>user_id</th>\n",
       "      <th>program_id</th>\n",
       "      <th>program_type</th>\n",
       "      <th>cohort</th>\n",
       "      <th>start_date</th>\n",
       "      <th>end_date</th>\n",
       "      <th>lesson</th>\n",
       "      <th>hour</th>\n",
       "    </tr>\n",
       "  </thead>\n",
       "  <tbody>\n",
       "    <tr>\n",
       "      <th>700807</th>\n",
       "      <td>2021-03-12 10:13:21</td>\n",
       "      <td>datascience</td>\n",
       "      <td>99.173.134.103</td>\n",
       "      <td>790</td>\n",
       "      <td>2.0</td>\n",
       "      <td>Web Development</td>\n",
       "      <td>Kalypso</td>\n",
       "      <td>2020-11-02</td>\n",
       "      <td>2021-05-04</td>\n",
       "      <td>Not Lesson</td>\n",
       "      <td>10</td>\n",
       "    </tr>\n",
       "  </tbody>\n",
       "</table>\n",
       "</div>"
      ],
      "text/plain": [
       "                  accessed         path              ip  user_id  program_id  \\\n",
       "700807 2021-03-12 10:13:21  datascience  99.173.134.103      790         2.0   \n",
       "\n",
       "           program_type   cohort start_date   end_date      lesson  hour  \n",
       "700807  Web Development  Kalypso 2020-11-02 2021-05-04  Not Lesson    10  "
      ]
     },
     "execution_count": 21,
     "metadata": {},
     "output_type": "execute_result"
    }
   ],
   "source": [
    "df[(df.user_id==790) & (df.path.str.contains('science'))]"
   ]
  },
  {
   "cell_type": "markdown",
   "id": "1b38a947",
   "metadata": {},
   "source": [
    "**Notes:** Prior to the end of 2019, 13 Web Development cohorts viewed the Data Science curriculum, after the expected shut off 3 cohorts were viewing cross-curriculum data. Teddy is the main contender."
   ]
  },
  {
   "cell_type": "code",
   "execution_count": 22,
   "id": "26189a95",
   "metadata": {
    "scrolled": true
   },
   "outputs": [
    {
     "data": {
      "text/html": [
       "<div>\n",
       "<style scoped>\n",
       "    .dataframe tbody tr th:only-of-type {\n",
       "        vertical-align: middle;\n",
       "    }\n",
       "\n",
       "    .dataframe tbody tr th {\n",
       "        vertical-align: top;\n",
       "    }\n",
       "\n",
       "    .dataframe thead th {\n",
       "        text-align: right;\n",
       "    }\n",
       "</style>\n",
       "<table border=\"1\" class=\"dataframe\">\n",
       "  <thead>\n",
       "    <tr style=\"text-align: right;\">\n",
       "      <th></th>\n",
       "      <th>accessed</th>\n",
       "      <th>path</th>\n",
       "      <th>ip</th>\n",
       "      <th>user_id</th>\n",
       "      <th>program_id</th>\n",
       "      <th>program_type</th>\n",
       "      <th>cohort</th>\n",
       "      <th>start_date</th>\n",
       "      <th>end_date</th>\n",
       "      <th>lesson</th>\n",
       "      <th>hour</th>\n",
       "    </tr>\n",
       "  </thead>\n",
       "  <tbody>\n",
       "    <tr>\n",
       "      <th>469433</th>\n",
       "      <td>2020-05-19 16:03:32</td>\n",
       "      <td>java-ii/object-oriented-programming</td>\n",
       "      <td>130.45.47.56</td>\n",
       "      <td>590</td>\n",
       "      <td>3.0</td>\n",
       "      <td>Data Science</td>\n",
       "      <td>Curie</td>\n",
       "      <td>2020-02-03</td>\n",
       "      <td>2020-07-07</td>\n",
       "      <td>java-ii.object-oriented-programming</td>\n",
       "      <td>16</td>\n",
       "    </tr>\n",
       "  </tbody>\n",
       "</table>\n",
       "</div>"
      ],
      "text/plain": [
       "                  accessed                                 path            ip  \\\n",
       "469433 2020-05-19 16:03:32  java-ii/object-oriented-programming  130.45.47.56   \n",
       "\n",
       "        user_id  program_id  program_type cohort start_date   end_date  \\\n",
       "469433      590         3.0  Data Science  Curie 2020-02-03 2020-07-07   \n",
       "\n",
       "                                     lesson  hour  \n",
       "469433  java-ii.object-oriented-programming    16  "
      ]
     },
     "execution_count": 22,
     "metadata": {},
     "output_type": "execute_result"
    }
   ],
   "source": [
    "# review user 590\n",
    "joint[(joint.user_id==590) & (joint.path.str.contains('java'))]"
   ]
  },
  {
   "cell_type": "code",
   "execution_count": 23,
   "id": "e31a2ccf",
   "metadata": {},
   "outputs": [
    {
     "data": {
      "text/html": [
       "<div>\n",
       "<style scoped>\n",
       "    .dataframe tbody tr th:only-of-type {\n",
       "        vertical-align: middle;\n",
       "    }\n",
       "\n",
       "    .dataframe tbody tr th {\n",
       "        vertical-align: top;\n",
       "    }\n",
       "\n",
       "    .dataframe thead th {\n",
       "        text-align: right;\n",
       "    }\n",
       "</style>\n",
       "<table border=\"1\" class=\"dataframe\">\n",
       "  <thead>\n",
       "    <tr style=\"text-align: right;\">\n",
       "      <th></th>\n",
       "      <th>accessed</th>\n",
       "      <th>path</th>\n",
       "      <th>ip</th>\n",
       "      <th>user_id</th>\n",
       "      <th>program_id</th>\n",
       "      <th>program_type</th>\n",
       "      <th>cohort</th>\n",
       "      <th>start_date</th>\n",
       "      <th>end_date</th>\n",
       "      <th>lesson</th>\n",
       "      <th>hour</th>\n",
       "    </tr>\n",
       "  </thead>\n",
       "  <tbody>\n",
       "    <tr>\n",
       "      <th>347356</th>\n",
       "      <td>2019-11-26 15:32:05</td>\n",
       "      <td>javascript-i/conditionals</td>\n",
       "      <td>97.105.19.58</td>\n",
       "      <td>472</td>\n",
       "      <td>3.0</td>\n",
       "      <td>Data Science</td>\n",
       "      <td>Bayes</td>\n",
       "      <td>2019-08-19</td>\n",
       "      <td>2020-01-30</td>\n",
       "      <td>javascript-i.conditionals</td>\n",
       "      <td>15</td>\n",
       "    </tr>\n",
       "  </tbody>\n",
       "</table>\n",
       "</div>"
      ],
      "text/plain": [
       "                  accessed                       path            ip  user_id  \\\n",
       "347356 2019-11-26 15:32:05  javascript-i/conditionals  97.105.19.58      472   \n",
       "\n",
       "        program_id  program_type cohort start_date   end_date  \\\n",
       "347356         3.0  Data Science  Bayes 2019-08-19 2020-01-30   \n",
       "\n",
       "                           lesson  hour  \n",
       "347356  javascript-i.conditionals    15  "
      ]
     },
     "execution_count": 23,
     "metadata": {},
     "output_type": "execute_result"
    }
   ],
   "source": [
    "# review user 472\n",
    "joint[(joint.user_id==472) & (joint.path.str.contains('java'))]"
   ]
  },
  {
   "cell_type": "markdown",
   "id": "5de36ae9",
   "metadata": {},
   "source": [
    "### Utlizing Outlier Dataframe"
   ]
  },
  {
   "cell_type": "code",
   "execution_count": 24,
   "id": "e8d8e892",
   "metadata": {},
   "outputs": [
    {
     "data": {
      "text/html": [
       "<div>\n",
       "<style scoped>\n",
       "    .dataframe tbody tr th:only-of-type {\n",
       "        vertical-align: middle;\n",
       "    }\n",
       "\n",
       "    .dataframe tbody tr th {\n",
       "        vertical-align: top;\n",
       "    }\n",
       "\n",
       "    .dataframe thead th {\n",
       "        text-align: right;\n",
       "    }\n",
       "</style>\n",
       "<table border=\"1\" class=\"dataframe\">\n",
       "  <thead>\n",
       "    <tr style=\"text-align: right;\">\n",
       "      <th></th>\n",
       "      <th>accessed</th>\n",
       "      <th>path</th>\n",
       "      <th>ip</th>\n",
       "      <th>user_id</th>\n",
       "      <th>program_id</th>\n",
       "      <th>program_type</th>\n",
       "      <th>cohort</th>\n",
       "      <th>start_date</th>\n",
       "      <th>end_date</th>\n",
       "      <th>lesson</th>\n",
       "      <th>hour</th>\n",
       "    </tr>\n",
       "  </thead>\n",
       "  <tbody>\n",
       "    <tr>\n",
       "      <th>6</th>\n",
       "      <td>2018-01-26 09:56:46</td>\n",
       "      <td>javascript-i/conditionals</td>\n",
       "      <td>97.105.19.61</td>\n",
       "      <td>3</td>\n",
       "      <td>2.0</td>\n",
       "      <td>Web Development</td>\n",
       "      <td>Teddy</td>\n",
       "      <td>2018-01-08</td>\n",
       "      <td>2018-05-17</td>\n",
       "      <td>javascript-i.conditionals</td>\n",
       "      <td>9</td>\n",
       "    </tr>\n",
       "    <tr>\n",
       "      <th>7</th>\n",
       "      <td>2018-01-26 09:56:48</td>\n",
       "      <td>javascript-i/functions</td>\n",
       "      <td>97.105.19.61</td>\n",
       "      <td>3</td>\n",
       "      <td>2.0</td>\n",
       "      <td>Web Development</td>\n",
       "      <td>Teddy</td>\n",
       "      <td>2018-01-08</td>\n",
       "      <td>2018-05-17</td>\n",
       "      <td>javascript-i.functions</td>\n",
       "      <td>9</td>\n",
       "    </tr>\n",
       "    <tr>\n",
       "      <th>24</th>\n",
       "      <td>2018-01-26 10:08:34</td>\n",
       "      <td>git/merge-conflict-demo</td>\n",
       "      <td>97.105.19.61</td>\n",
       "      <td>10</td>\n",
       "      <td>2.0</td>\n",
       "      <td>Web Development</td>\n",
       "      <td>Sequoia</td>\n",
       "      <td>2017-09-27</td>\n",
       "      <td>2018-02-15</td>\n",
       "      <td>git.merge-conflict-demo</td>\n",
       "      <td>10</td>\n",
       "    </tr>\n",
       "    <tr>\n",
       "      <th>26</th>\n",
       "      <td>2018-01-26 10:08:55</td>\n",
       "      <td>git/working-in-teams</td>\n",
       "      <td>97.105.19.61</td>\n",
       "      <td>10</td>\n",
       "      <td>2.0</td>\n",
       "      <td>Web Development</td>\n",
       "      <td>Sequoia</td>\n",
       "      <td>2017-09-27</td>\n",
       "      <td>2018-02-15</td>\n",
       "      <td>git.working-in-teams</td>\n",
       "      <td>10</td>\n",
       "    </tr>\n",
       "    <tr>\n",
       "      <th>29</th>\n",
       "      <td>2018-01-26 10:10:16</td>\n",
       "      <td>javascript-i/functions</td>\n",
       "      <td>97.105.19.61</td>\n",
       "      <td>3</td>\n",
       "      <td>2.0</td>\n",
       "      <td>Web Development</td>\n",
       "      <td>Teddy</td>\n",
       "      <td>2018-01-08</td>\n",
       "      <td>2018-05-17</td>\n",
       "      <td>javascript-i.functions</td>\n",
       "      <td>10</td>\n",
       "    </tr>\n",
       "  </tbody>\n",
       "</table>\n",
       "</div>"
      ],
      "text/plain": [
       "              accessed                       path            ip  user_id  \\\n",
       "6  2018-01-26 09:56:46  javascript-i/conditionals  97.105.19.61        3   \n",
       "7  2018-01-26 09:56:48     javascript-i/functions  97.105.19.61        3   \n",
       "24 2018-01-26 10:08:34    git/merge-conflict-demo  97.105.19.61       10   \n",
       "26 2018-01-26 10:08:55       git/working-in-teams  97.105.19.61       10   \n",
       "29 2018-01-26 10:10:16     javascript-i/functions  97.105.19.61        3   \n",
       "\n",
       "    program_id     program_type   cohort start_date   end_date  \\\n",
       "6          2.0  Web Development    Teddy 2018-01-08 2018-05-17   \n",
       "7          2.0  Web Development    Teddy 2018-01-08 2018-05-17   \n",
       "24         2.0  Web Development  Sequoia 2017-09-27 2018-02-15   \n",
       "26         2.0  Web Development  Sequoia 2017-09-27 2018-02-15   \n",
       "29         2.0  Web Development    Teddy 2018-01-08 2018-05-17   \n",
       "\n",
       "                       lesson  hour  \n",
       "6   javascript-i.conditionals     9  \n",
       "7      javascript-i.functions     9  \n",
       "24    git.merge-conflict-demo    10  \n",
       "26       git.working-in-teams    10  \n",
       "29     javascript-i.functions    10  "
      ]
     },
     "execution_count": 24,
     "metadata": {},
     "output_type": "execute_result"
    }
   ],
   "source": [
    "df_outliers.head()"
   ]
  },
  {
   "cell_type": "code",
   "execution_count": 25,
   "id": "0e2c1246",
   "metadata": {},
   "outputs": [],
   "source": [
    "# set index to datetime for resampling\n",
    "df_outliers=df_outliers.set_index(df_outliers.accessed)"
   ]
  },
  {
   "cell_type": "code",
   "execution_count": 26,
   "id": "de8727a5",
   "metadata": {},
   "outputs": [],
   "source": [
    "# create web dev and ds dataframes\n",
    "wd = df_outliers[df_outliers.program_type=='Web Development']\n",
    "ds = df_outliers[df_outliers.program_type=='Data Science']"
   ]
  },
  {
   "cell_type": "code",
   "execution_count": 27,
   "id": "c13a5e95",
   "metadata": {},
   "outputs": [],
   "source": [
    "# determine what a data science course is using science\n",
    "wd_to_ds_access=wd[wd.path.str.contains('science')]"
   ]
  },
  {
   "cell_type": "code",
   "execution_count": 28,
   "id": "9d441550",
   "metadata": {},
   "outputs": [],
   "source": [
    "# create data for wd students viewing ds curriculum after 2019\n",
    "after_2019 = wd_to_ds_access['2019-12-31':]"
   ]
  },
  {
   "cell_type": "code",
   "execution_count": 29,
   "id": "6c636ea3",
   "metadata": {},
   "outputs": [],
   "source": [
    "# view daily cross-access in web development to data science\n",
    "daily_wd_to_ds_access=wd_to_ds_access.resample('D').count()\n",
    "# daily_wd_to_ds_access / commented out for ease of visibility"
   ]
  },
  {
   "cell_type": "code",
   "execution_count": 30,
   "id": "38b8395b",
   "metadata": {
    "scrolled": true
   },
   "outputs": [
    {
     "data": {
      "image/png": "[encoded data removed]",
      "text/plain": [
       "<Figure size 1296x648 with 1 Axes>"
      ]
     },
     "metadata": {
      "needs_background": "light"
     },
     "output_type": "display_data"
    }
   ],
   "source": [
    "plt.figure(figsize = (18, 9))\n",
    "daily_wd_to_ds_access.program_id.plot()\n",
    "plt.title('Web Development Students Accessing Data Science Curriculum by Date - Outliers', fontsize=20)\n",
    "plt.show()"
   ]
  },
  {
   "cell_type": "markdown",
   "id": "f989605a",
   "metadata": {},
   "source": [
    "**Notes:** Outliers within web development show cross-curriculum access on 13 Jan 2020. (5 hits.)"
   ]
  },
  {
   "cell_type": "code",
   "execution_count": 31,
   "id": "88eb837b",
   "metadata": {},
   "outputs": [
    {
     "data": {
      "text/html": [
       "<div>\n",
       "<style scoped>\n",
       "    .dataframe tbody tr th:only-of-type {\n",
       "        vertical-align: middle;\n",
       "    }\n",
       "\n",
       "    .dataframe tbody tr th {\n",
       "        vertical-align: top;\n",
       "    }\n",
       "\n",
       "    .dataframe thead th {\n",
       "        text-align: right;\n",
       "    }\n",
       "</style>\n",
       "<table border=\"1\" class=\"dataframe\">\n",
       "  <thead>\n",
       "    <tr style=\"text-align: right;\">\n",
       "      <th></th>\n",
       "      <th>accessed</th>\n",
       "      <th>path</th>\n",
       "      <th>ip</th>\n",
       "      <th>user_id</th>\n",
       "      <th>program_id</th>\n",
       "      <th>program_type</th>\n",
       "      <th>cohort</th>\n",
       "      <th>start_date</th>\n",
       "      <th>end_date</th>\n",
       "      <th>lesson</th>\n",
       "      <th>hour</th>\n",
       "    </tr>\n",
       "    <tr>\n",
       "      <th>cohort</th>\n",
       "      <th></th>\n",
       "      <th></th>\n",
       "      <th></th>\n",
       "      <th></th>\n",
       "      <th></th>\n",
       "      <th></th>\n",
       "      <th></th>\n",
       "      <th></th>\n",
       "      <th></th>\n",
       "      <th></th>\n",
       "      <th></th>\n",
       "    </tr>\n",
       "  </thead>\n",
       "  <tbody>\n",
       "    <tr>\n",
       "      <th>Betelgeuse</th>\n",
       "      <td>5</td>\n",
       "      <td>5</td>\n",
       "      <td>5</td>\n",
       "      <td>5</td>\n",
       "      <td>5</td>\n",
       "      <td>5</td>\n",
       "      <td>5</td>\n",
       "      <td>5</td>\n",
       "      <td>5</td>\n",
       "      <td>5</td>\n",
       "      <td>5</td>\n",
       "    </tr>\n",
       "  </tbody>\n",
       "</table>\n",
       "</div>"
      ],
      "text/plain": [
       "            accessed  path  ip  user_id  program_id  program_type  cohort  \\\n",
       "cohort                                                                      \n",
       "Betelgeuse         5     5   5        5           5             5       5   \n",
       "\n",
       "            start_date  end_date  lesson  hour  \n",
       "cohort                                          \n",
       "Betelgeuse           5         5       5     5  "
      ]
     },
     "execution_count": 31,
     "metadata": {},
     "output_type": "execute_result"
    }
   ],
   "source": [
    "after_2019.groupby(wd_to_ds_access.cohort).count()"
   ]
  },
  {
   "cell_type": "code",
   "execution_count": 32,
   "id": "be21e83b",
   "metadata": {},
   "outputs": [
    {
     "data": {
      "text/html": [
       "<div>\n",
       "<style scoped>\n",
       "    .dataframe tbody tr th:only-of-type {\n",
       "        vertical-align: middle;\n",
       "    }\n",
       "\n",
       "    .dataframe tbody tr th {\n",
       "        vertical-align: top;\n",
       "    }\n",
       "\n",
       "    .dataframe thead th {\n",
       "        text-align: right;\n",
       "    }\n",
       "</style>\n",
       "<table border=\"1\" class=\"dataframe\">\n",
       "  <thead>\n",
       "    <tr style=\"text-align: right;\">\n",
       "      <th></th>\n",
       "      <th>accessed</th>\n",
       "      <th>path</th>\n",
       "      <th>ip</th>\n",
       "      <th>user_id</th>\n",
       "      <th>program_id</th>\n",
       "      <th>program_type</th>\n",
       "      <th>cohort</th>\n",
       "      <th>start_date</th>\n",
       "      <th>end_date</th>\n",
       "      <th>lesson</th>\n",
       "      <th>hour</th>\n",
       "    </tr>\n",
       "    <tr>\n",
       "      <th>user_id</th>\n",
       "      <th></th>\n",
       "      <th></th>\n",
       "      <th></th>\n",
       "      <th></th>\n",
       "      <th></th>\n",
       "      <th></th>\n",
       "      <th></th>\n",
       "      <th></th>\n",
       "      <th></th>\n",
       "      <th></th>\n",
       "      <th></th>\n",
       "    </tr>\n",
       "  </thead>\n",
       "  <tbody>\n",
       "    <tr>\n",
       "      <th>410</th>\n",
       "      <td>5</td>\n",
       "      <td>5</td>\n",
       "      <td>5</td>\n",
       "      <td>5</td>\n",
       "      <td>5</td>\n",
       "      <td>5</td>\n",
       "      <td>5</td>\n",
       "      <td>5</td>\n",
       "      <td>5</td>\n",
       "      <td>5</td>\n",
       "      <td>5</td>\n",
       "    </tr>\n",
       "  </tbody>\n",
       "</table>\n",
       "</div>"
      ],
      "text/plain": [
       "         accessed  path  ip  user_id  program_id  program_type  cohort  \\\n",
       "user_id                                                                  \n",
       "410             5     5   5        5           5             5       5   \n",
       "\n",
       "         start_date  end_date  lesson  hour  \n",
       "user_id                                      \n",
       "410               5         5       5     5  "
      ]
     },
     "execution_count": 32,
     "metadata": {},
     "output_type": "execute_result"
    }
   ],
   "source": [
    "after_2019.groupby(wd_to_ds_access.user_id).count()"
   ]
  },
  {
   "cell_type": "code",
   "execution_count": 33,
   "id": "f29588ff",
   "metadata": {},
   "outputs": [],
   "source": [
    "# determine what a web development course is using java\n",
    "ds_to_wd_access=ds[ds.path.str.contains('java')]"
   ]
  },
  {
   "cell_type": "code",
   "execution_count": 34,
   "id": "399f4ef7",
   "metadata": {},
   "outputs": [],
   "source": [
    "# create data for wd students viewing ds curriculum after 2019 \n",
    "after_2019_ds_out = ds_to_wd_access['2019-12-31':]"
   ]
  },
  {
   "cell_type": "code",
   "execution_count": 35,
   "id": "a476fe71",
   "metadata": {},
   "outputs": [],
   "source": [
    "# view daily cross-access from DS to WD\n",
    "daily_ds_to_wd_access=ds_to_wd_access.resample('D').count()"
   ]
  },
  {
   "cell_type": "code",
   "execution_count": 36,
   "id": "f06aeee5",
   "metadata": {},
   "outputs": [
    {
     "data": {
      "image/png": "[encoded data removed]",
      "text/plain": [
       "<Figure size 1296x648 with 1 Axes>"
      ]
     },
     "metadata": {
      "needs_background": "light"
     },
     "output_type": "display_data"
    }
   ],
   "source": [
    "plt.figure(figsize = (18, 9))\n",
    "daily_ds_to_wd_access.program_id.plot()\n",
    "plt.title('Data Science Students Accessing Web Development Curriculum by Date - Outliers', fontsize=20)\n",
    "plt.show()"
   ]
  },
  {
   "cell_type": "markdown",
   "id": "ee06b787",
   "metadata": {},
   "source": [
    "**Notes:** Outliers within data science has one cross-curriculum use in May 2020."
   ]
  },
  {
   "cell_type": "code",
   "execution_count": 37,
   "id": "e9d2e7c4",
   "metadata": {},
   "outputs": [
    {
     "data": {
      "text/html": [
       "<div>\n",
       "<style scoped>\n",
       "    .dataframe tbody tr th:only-of-type {\n",
       "        vertical-align: middle;\n",
       "    }\n",
       "\n",
       "    .dataframe tbody tr th {\n",
       "        vertical-align: top;\n",
       "    }\n",
       "\n",
       "    .dataframe thead th {\n",
       "        text-align: right;\n",
       "    }\n",
       "</style>\n",
       "<table border=\"1\" class=\"dataframe\">\n",
       "  <thead>\n",
       "    <tr style=\"text-align: right;\">\n",
       "      <th></th>\n",
       "      <th>accessed</th>\n",
       "      <th>path</th>\n",
       "      <th>ip</th>\n",
       "      <th>user_id</th>\n",
       "      <th>program_id</th>\n",
       "      <th>program_type</th>\n",
       "      <th>start_date</th>\n",
       "      <th>end_date</th>\n",
       "      <th>lesson</th>\n",
       "      <th>hour</th>\n",
       "    </tr>\n",
       "    <tr>\n",
       "      <th>cohort</th>\n",
       "      <th></th>\n",
       "      <th></th>\n",
       "      <th></th>\n",
       "      <th></th>\n",
       "      <th></th>\n",
       "      <th></th>\n",
       "      <th></th>\n",
       "      <th></th>\n",
       "      <th></th>\n",
       "      <th></th>\n",
       "    </tr>\n",
       "  </thead>\n",
       "  <tbody>\n",
       "    <tr>\n",
       "      <th>Curie</th>\n",
       "      <td>1</td>\n",
       "      <td>1</td>\n",
       "      <td>1</td>\n",
       "      <td>1</td>\n",
       "      <td>1</td>\n",
       "      <td>1</td>\n",
       "      <td>1</td>\n",
       "      <td>1</td>\n",
       "      <td>1</td>\n",
       "      <td>1</td>\n",
       "    </tr>\n",
       "    <tr>\n",
       "      <th>Darden</th>\n",
       "      <td>194</td>\n",
       "      <td>194</td>\n",
       "      <td>194</td>\n",
       "      <td>194</td>\n",
       "      <td>194</td>\n",
       "      <td>194</td>\n",
       "      <td>194</td>\n",
       "      <td>194</td>\n",
       "      <td>194</td>\n",
       "      <td>194</td>\n",
       "    </tr>\n",
       "  </tbody>\n",
       "</table>\n",
       "</div>"
      ],
      "text/plain": [
       "        accessed  path   ip  user_id  program_id  program_type  start_date  \\\n",
       "cohort                                                                       \n",
       "Curie          1     1    1        1           1             1           1   \n",
       "Darden       194   194  194      194         194           194         194   \n",
       "\n",
       "        end_date  lesson  hour  \n",
       "cohort                          \n",
       "Curie          1       1     1  \n",
       "Darden       194     194   194  "
      ]
     },
     "execution_count": 37,
     "metadata": {},
     "output_type": "execute_result"
    }
   ],
   "source": [
    "after_2019_ds_out.groupby(after_2019_ds_out.cohort).count()"
   ]
  },
  {
   "cell_type": "code",
   "execution_count": 38,
   "id": "02f5d431",
   "metadata": {},
   "outputs": [
    {
     "data": {
      "text/html": [
       "<div>\n",
       "<style scoped>\n",
       "    .dataframe tbody tr th:only-of-type {\n",
       "        vertical-align: middle;\n",
       "    }\n",
       "\n",
       "    .dataframe tbody tr th {\n",
       "        vertical-align: top;\n",
       "    }\n",
       "\n",
       "    .dataframe thead th {\n",
       "        text-align: right;\n",
       "    }\n",
       "</style>\n",
       "<table border=\"1\" class=\"dataframe\">\n",
       "  <thead>\n",
       "    <tr style=\"text-align: right;\">\n",
       "      <th></th>\n",
       "      <th>accessed</th>\n",
       "      <th>path</th>\n",
       "      <th>ip</th>\n",
       "      <th>program_id</th>\n",
       "      <th>program_type</th>\n",
       "      <th>cohort</th>\n",
       "      <th>start_date</th>\n",
       "      <th>end_date</th>\n",
       "      <th>lesson</th>\n",
       "      <th>hour</th>\n",
       "    </tr>\n",
       "    <tr>\n",
       "      <th>user_id</th>\n",
       "      <th></th>\n",
       "      <th></th>\n",
       "      <th></th>\n",
       "      <th></th>\n",
       "      <th></th>\n",
       "      <th></th>\n",
       "      <th></th>\n",
       "      <th></th>\n",
       "      <th></th>\n",
       "      <th></th>\n",
       "    </tr>\n",
       "  </thead>\n",
       "  <tbody>\n",
       "    <tr>\n",
       "      <th>590</th>\n",
       "      <td>1</td>\n",
       "      <td>1</td>\n",
       "      <td>1</td>\n",
       "      <td>1</td>\n",
       "      <td>1</td>\n",
       "      <td>1</td>\n",
       "      <td>1</td>\n",
       "      <td>1</td>\n",
       "      <td>1</td>\n",
       "      <td>1</td>\n",
       "    </tr>\n",
       "    <tr>\n",
       "      <th>782</th>\n",
       "      <td>194</td>\n",
       "      <td>194</td>\n",
       "      <td>194</td>\n",
       "      <td>194</td>\n",
       "      <td>194</td>\n",
       "      <td>194</td>\n",
       "      <td>194</td>\n",
       "      <td>194</td>\n",
       "      <td>194</td>\n",
       "      <td>194</td>\n",
       "    </tr>\n",
       "  </tbody>\n",
       "</table>\n",
       "</div>"
      ],
      "text/plain": [
       "         accessed  path   ip  program_id  program_type  cohort  start_date  \\\n",
       "user_id                                                                      \n",
       "590             1     1    1           1             1       1           1   \n",
       "782           194   194  194         194           194     194         194   \n",
       "\n",
       "         end_date  lesson  hour  \n",
       "user_id                          \n",
       "590             1       1     1  \n",
       "782           194     194   194  "
      ]
     },
     "execution_count": 38,
     "metadata": {},
     "output_type": "execute_result"
    }
   ],
   "source": [
    "after_2019_ds_out.groupby(after_2019_ds_out.user_id).count()"
   ]
  },
  {
   "cell_type": "code",
   "execution_count": 39,
   "id": "98882530",
   "metadata": {
    "scrolled": true
   },
   "outputs": [
    {
     "data": {
      "text/html": [
       "<div>\n",
       "<style scoped>\n",
       "    .dataframe tbody tr th:only-of-type {\n",
       "        vertical-align: middle;\n",
       "    }\n",
       "\n",
       "    .dataframe tbody tr th {\n",
       "        vertical-align: top;\n",
       "    }\n",
       "\n",
       "    .dataframe thead th {\n",
       "        text-align: right;\n",
       "    }\n",
       "</style>\n",
       "<table border=\"1\" class=\"dataframe\">\n",
       "  <thead>\n",
       "    <tr style=\"text-align: right;\">\n",
       "      <th></th>\n",
       "      <th>accessed</th>\n",
       "      <th>path</th>\n",
       "      <th>ip</th>\n",
       "      <th>user_id</th>\n",
       "      <th>program_id</th>\n",
       "      <th>program_type</th>\n",
       "      <th>cohort</th>\n",
       "      <th>start_date</th>\n",
       "      <th>end_date</th>\n",
       "      <th>lesson</th>\n",
       "      <th>hour</th>\n",
       "    </tr>\n",
       "    <tr>\n",
       "      <th>accessed</th>\n",
       "      <th></th>\n",
       "      <th></th>\n",
       "      <th></th>\n",
       "      <th></th>\n",
       "      <th></th>\n",
       "      <th></th>\n",
       "      <th></th>\n",
       "      <th></th>\n",
       "      <th></th>\n",
       "      <th></th>\n",
       "      <th></th>\n",
       "    </tr>\n",
       "  </thead>\n",
       "  <tbody>\n",
       "    <tr>\n",
       "      <th>2020-05-19 16:03:32</th>\n",
       "      <td>2020-05-19 16:03:32</td>\n",
       "      <td>java-ii/object-oriented-programming</td>\n",
       "      <td>130.45.47.56</td>\n",
       "      <td>590</td>\n",
       "      <td>3.0</td>\n",
       "      <td>Data Science</td>\n",
       "      <td>Curie</td>\n",
       "      <td>2020-02-03</td>\n",
       "      <td>2020-07-07</td>\n",
       "      <td>java-ii.object-oriented-programming</td>\n",
       "      <td>16</td>\n",
       "    </tr>\n",
       "  </tbody>\n",
       "</table>\n",
       "</div>"
      ],
      "text/plain": [
       "                               accessed                                 path  \\\n",
       "accessed                                                                       \n",
       "2020-05-19 16:03:32 2020-05-19 16:03:32  java-ii/object-oriented-programming   \n",
       "\n",
       "                               ip  user_id  program_id  program_type cohort  \\\n",
       "accessed                                                                      \n",
       "2020-05-19 16:03:32  130.45.47.56      590         3.0  Data Science  Curie   \n",
       "\n",
       "                    start_date   end_date  \\\n",
       "accessed                                    \n",
       "2020-05-19 16:03:32 2020-02-03 2020-07-07   \n",
       "\n",
       "                                                  lesson  hour  \n",
       "accessed                                                        \n",
       "2020-05-19 16:03:32  java-ii.object-oriented-programming    16  "
      ]
     },
     "execution_count": 39,
     "metadata": {},
     "output_type": "execute_result"
    }
   ],
   "source": [
    "df_outliers[(df_outliers.user_id==590) & (df_outliers.path.str.contains('java'))]"
   ]
  },
  {
   "cell_type": "code",
   "execution_count": 40,
   "id": "00ba0f90",
   "metadata": {
    "scrolled": false
   },
   "outputs": [
    {
     "data": {
      "text/html": [
       "<div>\n",
       "<style scoped>\n",
       "    .dataframe tbody tr th:only-of-type {\n",
       "        vertical-align: middle;\n",
       "    }\n",
       "\n",
       "    .dataframe tbody tr th {\n",
       "        vertical-align: top;\n",
       "    }\n",
       "\n",
       "    .dataframe thead th {\n",
       "        text-align: right;\n",
       "    }\n",
       "</style>\n",
       "<table border=\"1\" class=\"dataframe\">\n",
       "  <thead>\n",
       "    <tr style=\"text-align: right;\">\n",
       "      <th></th>\n",
       "      <th>accessed</th>\n",
       "      <th>path</th>\n",
       "      <th>ip</th>\n",
       "      <th>user_id</th>\n",
       "      <th>program_id</th>\n",
       "      <th>program_type</th>\n",
       "      <th>cohort</th>\n",
       "      <th>start_date</th>\n",
       "      <th>end_date</th>\n",
       "      <th>lesson</th>\n",
       "      <th>hour</th>\n",
       "    </tr>\n",
       "    <tr>\n",
       "      <th>accessed</th>\n",
       "      <th></th>\n",
       "      <th></th>\n",
       "      <th></th>\n",
       "      <th></th>\n",
       "      <th></th>\n",
       "      <th></th>\n",
       "      <th></th>\n",
       "      <th></th>\n",
       "      <th></th>\n",
       "      <th></th>\n",
       "      <th></th>\n",
       "    </tr>\n",
       "  </thead>\n",
       "  <tbody>\n",
       "    <tr>\n",
       "      <th>2020-10-23 23:04:14</th>\n",
       "      <td>2020-10-23 23:04:14</td>\n",
       "      <td>java-ii</td>\n",
       "      <td>67.11.117.74</td>\n",
       "      <td>782</td>\n",
       "      <td>3.0</td>\n",
       "      <td>Data Science</td>\n",
       "      <td>Darden</td>\n",
       "      <td>2020-07-13</td>\n",
       "      <td>2021-01-12</td>\n",
       "      <td>Not Lesson</td>\n",
       "      <td>23</td>\n",
       "    </tr>\n",
       "    <tr>\n",
       "      <th>2020-10-23 23:04:16</th>\n",
       "      <td>2020-10-23 23:04:16</td>\n",
       "      <td>java-ii/collections</td>\n",
       "      <td>67.11.117.74</td>\n",
       "      <td>782</td>\n",
       "      <td>3.0</td>\n",
       "      <td>Data Science</td>\n",
       "      <td>Darden</td>\n",
       "      <td>2020-07-13</td>\n",
       "      <td>2021-01-12</td>\n",
       "      <td>java-ii.collections</td>\n",
       "      <td>23</td>\n",
       "    </tr>\n",
       "    <tr>\n",
       "      <th>2020-10-26 01:00:55</th>\n",
       "      <td>2020-10-26 01:00:55</td>\n",
       "      <td>mysql</td>\n",
       "      <td>67.11.117.74</td>\n",
       "      <td>782</td>\n",
       "      <td>3.0</td>\n",
       "      <td>Data Science</td>\n",
       "      <td>Darden</td>\n",
       "      <td>2020-07-13</td>\n",
       "      <td>2021-01-12</td>\n",
       "      <td>Not Lesson</td>\n",
       "      <td>1</td>\n",
       "    </tr>\n",
       "    <tr>\n",
       "      <th>2020-10-26 01:00:58</th>\n",
       "      <td>2020-10-26 01:00:58</td>\n",
       "      <td>mysql/users</td>\n",
       "      <td>67.11.117.74</td>\n",
       "      <td>782</td>\n",
       "      <td>3.0</td>\n",
       "      <td>Data Science</td>\n",
       "      <td>Darden</td>\n",
       "      <td>2020-07-13</td>\n",
       "      <td>2021-01-12</td>\n",
       "      <td>mysql.users</td>\n",
       "      <td>1</td>\n",
       "    </tr>\n",
       "    <tr>\n",
       "      <th>2020-10-26 01:01:38</th>\n",
       "      <td>2020-10-26 01:01:38</td>\n",
       "      <td>mysql/introduction</td>\n",
       "      <td>67.11.117.74</td>\n",
       "      <td>782</td>\n",
       "      <td>3.0</td>\n",
       "      <td>Data Science</td>\n",
       "      <td>Darden</td>\n",
       "      <td>2020-07-13</td>\n",
       "      <td>2021-01-12</td>\n",
       "      <td>mysql.introduction</td>\n",
       "      <td>1</td>\n",
       "    </tr>\n",
       "  </tbody>\n",
       "</table>\n",
       "</div>"
      ],
      "text/plain": [
       "                               accessed                 path            ip  \\\n",
       "accessed                                                                     \n",
       "2020-10-23 23:04:14 2020-10-23 23:04:14              java-ii  67.11.117.74   \n",
       "2020-10-23 23:04:16 2020-10-23 23:04:16  java-ii/collections  67.11.117.74   \n",
       "2020-10-26 01:00:55 2020-10-26 01:00:55                mysql  67.11.117.74   \n",
       "2020-10-26 01:00:58 2020-10-26 01:00:58          mysql/users  67.11.117.74   \n",
       "2020-10-26 01:01:38 2020-10-26 01:01:38   mysql/introduction  67.11.117.74   \n",
       "\n",
       "                     user_id  program_id  program_type  cohort start_date  \\\n",
       "accessed                                                                    \n",
       "2020-10-23 23:04:14      782         3.0  Data Science  Darden 2020-07-13   \n",
       "2020-10-23 23:04:16      782         3.0  Data Science  Darden 2020-07-13   \n",
       "2020-10-26 01:00:55      782         3.0  Data Science  Darden 2020-07-13   \n",
       "2020-10-26 01:00:58      782         3.0  Data Science  Darden 2020-07-13   \n",
       "2020-10-26 01:01:38      782         3.0  Data Science  Darden 2020-07-13   \n",
       "\n",
       "                      end_date               lesson  hour  \n",
       "accessed                                                   \n",
       "2020-10-23 23:04:14 2021-01-12           Not Lesson    23  \n",
       "2020-10-23 23:04:16 2021-01-12  java-ii.collections    23  \n",
       "2020-10-26 01:00:55 2021-01-12           Not Lesson     1  \n",
       "2020-10-26 01:00:58 2021-01-12          mysql.users     1  \n",
       "2020-10-26 01:01:38 2021-01-12   mysql.introduction     1  "
      ]
     },
     "execution_count": 40,
     "metadata": {},
     "output_type": "execute_result"
    }
   ],
   "source": [
    "df_outliers[(df_outliers.user_id==782)].head()"
   ]
  },
  {
   "cell_type": "markdown",
   "id": "59c09a72",
   "metadata": {},
   "source": [
    "**Notes:** User 782 seems to have incorrectly been labeled as a Data Science student. User 782's access will be removed from the visual."
   ]
  },
  {
   "cell_type": "code",
   "execution_count": 41,
   "id": "b5c48b85",
   "metadata": {},
   "outputs": [
    {
     "data": {
      "image/png": "[encoded data removed]",
      "text/plain": [
       "<Figure size 1296x648 with 1 Axes>"
      ]
     },
     "metadata": {
      "needs_background": "light"
     },
     "output_type": "display_data"
    }
   ],
   "source": [
    "plt.figure(figsize = (18, 9))\n",
    "daily_ds_to_wd_access.program_id.plot(label='Data Science to Web Development')\n",
    "daily_wd_to_ds_access.program_id.plot(label='Web Development to Data Science')\n",
    "plt.title('Cross-Curriculum Access by Program - Outliers', fontsize=20)\n",
    "plt.legend()\n",
    "plt.show()"
   ]
  },
  {
   "cell_type": "code",
   "execution_count": 42,
   "id": "df0a5c0d",
   "metadata": {},
   "outputs": [
    {
     "data": {
      "text/html": [
       "<div>\n",
       "<style scoped>\n",
       "    .dataframe tbody tr th:only-of-type {\n",
       "        vertical-align: middle;\n",
       "    }\n",
       "\n",
       "    .dataframe tbody tr th {\n",
       "        vertical-align: top;\n",
       "    }\n",
       "\n",
       "    .dataframe thead th {\n",
       "        text-align: right;\n",
       "    }\n",
       "</style>\n",
       "<table border=\"1\" class=\"dataframe\">\n",
       "  <thead>\n",
       "    <tr style=\"text-align: right;\">\n",
       "      <th></th>\n",
       "      <th>accessed</th>\n",
       "      <th>path</th>\n",
       "      <th>ip</th>\n",
       "      <th>user_id</th>\n",
       "      <th>program_id</th>\n",
       "      <th>program_type</th>\n",
       "      <th>cohort</th>\n",
       "      <th>start_date</th>\n",
       "      <th>end_date</th>\n",
       "      <th>lesson</th>\n",
       "      <th>hour</th>\n",
       "    </tr>\n",
       "  </thead>\n",
       "  <tbody>\n",
       "    <tr>\n",
       "      <th>1</th>\n",
       "      <td>2018-01-26 09:56:02</td>\n",
       "      <td>java-ii</td>\n",
       "      <td>97.105.19.61</td>\n",
       "      <td>1</td>\n",
       "      <td>1.0</td>\n",
       "      <td>Web Development</td>\n",
       "      <td>Hampton</td>\n",
       "      <td>2015-09-22</td>\n",
       "      <td>2016-02-06</td>\n",
       "      <td>Not Lesson</td>\n",
       "      <td>9</td>\n",
       "    </tr>\n",
       "    <tr>\n",
       "      <th>2</th>\n",
       "      <td>2018-01-26 09:56:05</td>\n",
       "      <td>java-ii/object-oriented-programming</td>\n",
       "      <td>97.105.19.61</td>\n",
       "      <td>1</td>\n",
       "      <td>1.0</td>\n",
       "      <td>Web Development</td>\n",
       "      <td>Hampton</td>\n",
       "      <td>2015-09-22</td>\n",
       "      <td>2016-02-06</td>\n",
       "      <td>java-ii.object-oriented-programming</td>\n",
       "      <td>9</td>\n",
       "    </tr>\n",
       "    <tr>\n",
       "      <th>3</th>\n",
       "      <td>2018-01-26 09:56:06</td>\n",
       "      <td>slides/object_oriented_programming</td>\n",
       "      <td>97.105.19.61</td>\n",
       "      <td>1</td>\n",
       "      <td>1.0</td>\n",
       "      <td>Web Development</td>\n",
       "      <td>Hampton</td>\n",
       "      <td>2015-09-22</td>\n",
       "      <td>2016-02-06</td>\n",
       "      <td>slides.object_oriented_programming</td>\n",
       "      <td>9</td>\n",
       "    </tr>\n",
       "    <tr>\n",
       "      <th>4</th>\n",
       "      <td>2018-01-26 09:56:24</td>\n",
       "      <td>javascript-i/conditionals</td>\n",
       "      <td>97.105.19.61</td>\n",
       "      <td>2</td>\n",
       "      <td>2.0</td>\n",
       "      <td>Web Development</td>\n",
       "      <td>Teddy</td>\n",
       "      <td>2018-01-08</td>\n",
       "      <td>2018-05-17</td>\n",
       "      <td>javascript-i.conditionals</td>\n",
       "      <td>9</td>\n",
       "    </tr>\n",
       "    <tr>\n",
       "      <th>5</th>\n",
       "      <td>2018-01-26 09:56:41</td>\n",
       "      <td>javascript-i/loops</td>\n",
       "      <td>97.105.19.61</td>\n",
       "      <td>2</td>\n",
       "      <td>2.0</td>\n",
       "      <td>Web Development</td>\n",
       "      <td>Teddy</td>\n",
       "      <td>2018-01-08</td>\n",
       "      <td>2018-05-17</td>\n",
       "      <td>javascript-i.loops</td>\n",
       "      <td>9</td>\n",
       "    </tr>\n",
       "  </tbody>\n",
       "</table>\n",
       "</div>"
      ],
      "text/plain": [
       "             accessed                                 path            ip  \\\n",
       "1 2018-01-26 09:56:02                              java-ii  97.105.19.61   \n",
       "2 2018-01-26 09:56:05  java-ii/object-oriented-programming  97.105.19.61   \n",
       "3 2018-01-26 09:56:06   slides/object_oriented_programming  97.105.19.61   \n",
       "4 2018-01-26 09:56:24            javascript-i/conditionals  97.105.19.61   \n",
       "5 2018-01-26 09:56:41                   javascript-i/loops  97.105.19.61   \n",
       "\n",
       "   user_id  program_id     program_type   cohort start_date   end_date  \\\n",
       "1        1         1.0  Web Development  Hampton 2015-09-22 2016-02-06   \n",
       "2        1         1.0  Web Development  Hampton 2015-09-22 2016-02-06   \n",
       "3        1         1.0  Web Development  Hampton 2015-09-22 2016-02-06   \n",
       "4        2         2.0  Web Development    Teddy 2018-01-08 2018-05-17   \n",
       "5        2         2.0  Web Development    Teddy 2018-01-08 2018-05-17   \n",
       "\n",
       "                                lesson  hour  \n",
       "1                           Not Lesson     9  \n",
       "2  java-ii.object-oriented-programming     9  \n",
       "3   slides.object_oriented_programming     9  \n",
       "4            javascript-i.conditionals     9  \n",
       "5                   javascript-i.loops     9  "
      ]
     },
     "execution_count": 42,
     "metadata": {},
     "output_type": "execute_result"
    }
   ],
   "source": [
    "joint.head()"
   ]
  },
  {
   "cell_type": "code",
   "execution_count": null,
   "id": "a4dcdda8",
   "metadata": {},
   "outputs": [],
   "source": []
  }
 ],
 "metadata": {
  "kernelspec": {
   "display_name": "Python 3 (ipykernel)",
   "language": "python",
   "name": "python3"
  },
  "language_info": {
   "codemirror_mode": {
    "name": "ipython",
    "version": 3
   },
   "file_extension": ".py",
   "mimetype": "text/x-python",
   "name": "python",
   "nbconvert_exporter": "python",
   "pygments_lexer": "ipython3",
   "version": "3.9.7"
  }
 },
 "nbformat": 4,
 "nbformat_minor": 5
}
