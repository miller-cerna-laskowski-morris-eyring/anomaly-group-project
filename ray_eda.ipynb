{
 "cells": [
  {
   "cell_type": "code",
   "execution_count": 1,
   "id": "cf2d362b",
   "metadata": {},
   "outputs": [
    {
     "name": "stderr",
     "output_type": "stream",
     "text": [
      "<frozen importlib._bootstrap>:228: RuntimeWarning: scipy._lib.messagestream.MessageStream size changed, may indicate binary incompatibility. Expected 56 from C header, got 64 from PyObject\n"
     ]
    }
   ],
   "source": [
    "# Import libraries\n",
    "import pandas as pd\n",
    "import numpy as np\n",
    "import matplotlib.pyplot as plt\n",
    "import seaborn as sns\n",
    "from datetime import datetime\n",
    "from datetime import timedelta\n",
    "from env import get_db_url\n",
    "\n",
    "# Import acquire and prepare\n",
    "import acquire\n",
    "\n",
    "\n",
    "# Ignore warnings\n",
    "import warnings\n",
    "warnings.filterwarnings('ignore')"
   ]
  },
  {
   "cell_type": "code",
   "execution_count": 2,
   "id": "7b597e75",
   "metadata": {},
   "outputs": [],
   "source": [
    "# Load currciculum access logs\n",
    "df_logs = acquire.get_curriculum_data()\n",
    "\n",
    "# Load cohort data\n",
    "#df_cohorts = acquire.get_cohort_data()\n",
    "\n",
    "# Previous acquire func\n",
    "#df_codeup = acquire.get_codeup_data()"
   ]
  },
  {
   "cell_type": "code",
   "execution_count": 3,
   "id": "c6d47b84",
   "metadata": {},
   "outputs": [
    {
     "name": "stdout",
     "output_type": "stream",
     "text": [
      "(900223, 9)\n"
     ]
    },
    {
     "data": {
      "text/html": [
       "<div>\n",
       "<style scoped>\n",
       "    .dataframe tbody tr th:only-of-type {\n",
       "        vertical-align: middle;\n",
       "    }\n",
       "\n",
       "    .dataframe tbody tr th {\n",
       "        vertical-align: top;\n",
       "    }\n",
       "\n",
       "    .dataframe thead th {\n",
       "        text-align: right;\n",
       "    }\n",
       "</style>\n",
       "<table border=\"1\" class=\"dataframe\">\n",
       "  <thead>\n",
       "    <tr style=\"text-align: right;\">\n",
       "      <th></th>\n",
       "      <th>date</th>\n",
       "      <th>time</th>\n",
       "      <th>path</th>\n",
       "      <th>user_id</th>\n",
       "      <th>ip</th>\n",
       "      <th>name</th>\n",
       "      <th>start_date</th>\n",
       "      <th>end_date</th>\n",
       "      <th>program_id</th>\n",
       "    </tr>\n",
       "  </thead>\n",
       "  <tbody>\n",
       "    <tr>\n",
       "      <th>0</th>\n",
       "      <td>2018-01-26</td>\n",
       "      <td>09:55:03</td>\n",
       "      <td>/</td>\n",
       "      <td>1</td>\n",
       "      <td>97.105.19.61</td>\n",
       "      <td>Hampton</td>\n",
       "      <td>2015-09-22</td>\n",
       "      <td>2016-02-06</td>\n",
       "      <td>1.0</td>\n",
       "    </tr>\n",
       "    <tr>\n",
       "      <th>1</th>\n",
       "      <td>2018-01-26</td>\n",
       "      <td>09:56:02</td>\n",
       "      <td>java-ii</td>\n",
       "      <td>1</td>\n",
       "      <td>97.105.19.61</td>\n",
       "      <td>Hampton</td>\n",
       "      <td>2015-09-22</td>\n",
       "      <td>2016-02-06</td>\n",
       "      <td>1.0</td>\n",
       "    </tr>\n",
       "    <tr>\n",
       "      <th>2</th>\n",
       "      <td>2018-01-26</td>\n",
       "      <td>09:56:05</td>\n",
       "      <td>java-ii/object-oriented-programming</td>\n",
       "      <td>1</td>\n",
       "      <td>97.105.19.61</td>\n",
       "      <td>Hampton</td>\n",
       "      <td>2015-09-22</td>\n",
       "      <td>2016-02-06</td>\n",
       "      <td>1.0</td>\n",
       "    </tr>\n",
       "    <tr>\n",
       "      <th>3</th>\n",
       "      <td>2018-01-26</td>\n",
       "      <td>09:56:06</td>\n",
       "      <td>slides/object_oriented_programming</td>\n",
       "      <td>1</td>\n",
       "      <td>97.105.19.61</td>\n",
       "      <td>Hampton</td>\n",
       "      <td>2015-09-22</td>\n",
       "      <td>2016-02-06</td>\n",
       "      <td>1.0</td>\n",
       "    </tr>\n",
       "    <tr>\n",
       "      <th>4</th>\n",
       "      <td>2018-01-26</td>\n",
       "      <td>09:56:24</td>\n",
       "      <td>javascript-i/conditionals</td>\n",
       "      <td>2</td>\n",
       "      <td>97.105.19.61</td>\n",
       "      <td>Teddy</td>\n",
       "      <td>2018-01-08</td>\n",
       "      <td>2018-05-17</td>\n",
       "      <td>2.0</td>\n",
       "    </tr>\n",
       "  </tbody>\n",
       "</table>\n",
       "</div>"
      ],
      "text/plain": [
       "         date      time                                 path  user_id  \\\n",
       "0  2018-01-26  09:55:03                                    /        1   \n",
       "1  2018-01-26  09:56:02                              java-ii        1   \n",
       "2  2018-01-26  09:56:05  java-ii/object-oriented-programming        1   \n",
       "3  2018-01-26  09:56:06   slides/object_oriented_programming        1   \n",
       "4  2018-01-26  09:56:24            javascript-i/conditionals        2   \n",
       "\n",
       "             ip     name  start_date    end_date  program_id  \n",
       "0  97.105.19.61  Hampton  2015-09-22  2016-02-06         1.0  \n",
       "1  97.105.19.61  Hampton  2015-09-22  2016-02-06         1.0  \n",
       "2  97.105.19.61  Hampton  2015-09-22  2016-02-06         1.0  \n",
       "3  97.105.19.61  Hampton  2015-09-22  2016-02-06         1.0  \n",
       "4  97.105.19.61    Teddy  2018-01-08  2018-05-17         2.0  "
      ]
     },
     "execution_count": 3,
     "metadata": {},
     "output_type": "execute_result"
    }
   ],
   "source": [
    "# Currciculum Acccess Logs Dataset\n",
    "print(df_logs.shape)\n",
    "df_logs.head()"
   ]
  },
  {
   "cell_type": "code",
   "execution_count": null,
   "id": "dc6cef7c",
   "metadata": {},
   "outputs": [],
   "source": [
    "\n",
    "    "
   ]
  },
  {
   "cell_type": "code",
   "execution_count": 4,
   "id": "f0dfb6fa",
   "metadata": {},
   "outputs": [],
   "source": [
    "df_logs.start_date = pd.to_datetime(df_logs.start_date)\n",
    "df_logs.end_date = pd.to_datetime(df_logs.end_date)"
   ]
  },
  {
   "cell_type": "code",
   "execution_count": 5,
   "id": "4bc0cfd9",
   "metadata": {},
   "outputs": [
    {
     "data": {
      "image/png": "[encoded data removed]",
      "text/plain": [
       "<Figure size 1080x720 with 4 Axes>"
      ]
     },
     "metadata": {
      "needs_background": "light"
     },
     "output_type": "display_data"
    }
   ],
   "source": [
    "df_logs.hist(figsize=(15, 10),\n",
    "            ec='black',\n",
    "            grid=True,\n",
    "            bins=25);"
   ]
  },
  {
   "cell_type": "code",
   "execution_count": 6,
   "id": "80b20175",
   "metadata": {},
   "outputs": [],
   "source": [
    "# date\ttime\tpath\tuser_id\tprogram_id\tip\n",
    "\n",
    "#df_logs = df_logs[['date','time','path','user_id','program_id','ip']]"
   ]
  },
  {
   "cell_type": "code",
   "execution_count": 7,
   "id": "35c34aae",
   "metadata": {},
   "outputs": [],
   "source": [
    "# Currciculum Acccess Logs Dataset\n",
    "#print(df_codeup.shape)\n",
    "#df_codeup.head()"
   ]
  },
  {
   "cell_type": "code",
   "execution_count": 8,
   "id": "85641550",
   "metadata": {},
   "outputs": [],
   "source": [
    "# Cohorts Dataset\n",
    "#print(df_cohorts.shape)\n",
    "#df_cohorts.head()"
   ]
  },
  {
   "cell_type": "code",
   "execution_count": 9,
   "id": "3f7eeaa3",
   "metadata": {},
   "outputs": [],
   "source": [
    "#df_cohorts.columns"
   ]
  },
  {
   "cell_type": "code",
   "execution_count": 10,
   "id": "a24b9127",
   "metadata": {},
   "outputs": [],
   "source": [
    "#cohort_id\tname\tstart_date\tend_date\tprogram_id\n",
    "\n",
    "#df_cohorts=df_cohorts[['id','name','start_date','end_date','program_id']]"
   ]
  },
  {
   "cell_type": "code",
   "execution_count": 11,
   "id": "ef2ba49b",
   "metadata": {},
   "outputs": [],
   "source": [
    "#df_cohorts.head()"
   ]
  },
  {
   "cell_type": "code",
   "execution_count": 12,
   "id": "970562d4",
   "metadata": {},
   "outputs": [],
   "source": [
    "#df_cohorts.start_date = pd.to_datetime(df_cohorts.start_date)\n",
    "#df_cohorts.end_date = pd.to_datetime(df_cohorts.end_date)\n"
   ]
  },
  {
   "cell_type": "code",
   "execution_count": 13,
   "id": "20f150d9",
   "metadata": {},
   "outputs": [],
   "source": [
    "#df_cohorts.hist(figsize=(15, 10),\n",
    "           # ec='black',\n",
    "          #  grid=True,\n",
    "          #  bins=25);"
   ]
  },
  {
   "cell_type": "code",
   "execution_count": 14,
   "id": "96b91d42",
   "metadata": {},
   "outputs": [
    {
     "data": {
      "text/plain": [
       "date              0\n",
       "time              0\n",
       "path              1\n",
       "user_id           0\n",
       "ip                0\n",
       "name          52893\n",
       "start_date    52893\n",
       "end_date      52893\n",
       "program_id    52893\n",
       "dtype: int64"
      ]
     },
     "execution_count": 14,
     "metadata": {},
     "output_type": "execute_result"
    }
   ],
   "source": [
    "df_logs.isnull().sum()"
   ]
  },
  {
   "cell_type": "code",
   "execution_count": 15,
   "id": "8a7aaf83",
   "metadata": {},
   "outputs": [],
   "source": [
    "#df_logs = df_logs.rename(columns={'program_id': 'cohort_id'})\n",
    "#df_logs.head()"
   ]
  },
  {
   "cell_type": "code",
   "execution_count": 16,
   "id": "a42d6c72",
   "metadata": {},
   "outputs": [],
   "source": [
    "#df_logs = df_logs.merge(df_cohorts, how='left', on='program_id')"
   ]
  },
  {
   "cell_type": "code",
   "execution_count": 17,
   "id": "8908fde3",
   "metadata": {},
   "outputs": [],
   "source": [
    "df = df_logs"
   ]
  },
  {
   "cell_type": "code",
   "execution_count": 18,
   "id": "d6559991",
   "metadata": {},
   "outputs": [
    {
     "data": {
      "text/html": [
       "<div>\n",
       "<style scoped>\n",
       "    .dataframe tbody tr th:only-of-type {\n",
       "        vertical-align: middle;\n",
       "    }\n",
       "\n",
       "    .dataframe tbody tr th {\n",
       "        vertical-align: top;\n",
       "    }\n",
       "\n",
       "    .dataframe thead th {\n",
       "        text-align: right;\n",
       "    }\n",
       "</style>\n",
       "<table border=\"1\" class=\"dataframe\">\n",
       "  <thead>\n",
       "    <tr style=\"text-align: right;\">\n",
       "      <th></th>\n",
       "      <th>date</th>\n",
       "      <th>time</th>\n",
       "      <th>path</th>\n",
       "      <th>user_id</th>\n",
       "      <th>ip</th>\n",
       "      <th>name</th>\n",
       "      <th>start_date</th>\n",
       "      <th>end_date</th>\n",
       "      <th>program_id</th>\n",
       "    </tr>\n",
       "  </thead>\n",
       "  <tbody>\n",
       "    <tr>\n",
       "      <th>0</th>\n",
       "      <td>2018-01-26</td>\n",
       "      <td>09:55:03</td>\n",
       "      <td>/</td>\n",
       "      <td>1</td>\n",
       "      <td>97.105.19.61</td>\n",
       "      <td>Hampton</td>\n",
       "      <td>2015-09-22</td>\n",
       "      <td>2016-02-06</td>\n",
       "      <td>1.0</td>\n",
       "    </tr>\n",
       "    <tr>\n",
       "      <th>1</th>\n",
       "      <td>2018-01-26</td>\n",
       "      <td>09:56:02</td>\n",
       "      <td>java-ii</td>\n",
       "      <td>1</td>\n",
       "      <td>97.105.19.61</td>\n",
       "      <td>Hampton</td>\n",
       "      <td>2015-09-22</td>\n",
       "      <td>2016-02-06</td>\n",
       "      <td>1.0</td>\n",
       "    </tr>\n",
       "    <tr>\n",
       "      <th>2</th>\n",
       "      <td>2018-01-26</td>\n",
       "      <td>09:56:05</td>\n",
       "      <td>java-ii/object-oriented-programming</td>\n",
       "      <td>1</td>\n",
       "      <td>97.105.19.61</td>\n",
       "      <td>Hampton</td>\n",
       "      <td>2015-09-22</td>\n",
       "      <td>2016-02-06</td>\n",
       "      <td>1.0</td>\n",
       "    </tr>\n",
       "    <tr>\n",
       "      <th>3</th>\n",
       "      <td>2018-01-26</td>\n",
       "      <td>09:56:06</td>\n",
       "      <td>slides/object_oriented_programming</td>\n",
       "      <td>1</td>\n",
       "      <td>97.105.19.61</td>\n",
       "      <td>Hampton</td>\n",
       "      <td>2015-09-22</td>\n",
       "      <td>2016-02-06</td>\n",
       "      <td>1.0</td>\n",
       "    </tr>\n",
       "    <tr>\n",
       "      <th>4</th>\n",
       "      <td>2018-01-26</td>\n",
       "      <td>09:56:24</td>\n",
       "      <td>javascript-i/conditionals</td>\n",
       "      <td>2</td>\n",
       "      <td>97.105.19.61</td>\n",
       "      <td>Teddy</td>\n",
       "      <td>2018-01-08</td>\n",
       "      <td>2018-05-17</td>\n",
       "      <td>2.0</td>\n",
       "    </tr>\n",
       "  </tbody>\n",
       "</table>\n",
       "</div>"
      ],
      "text/plain": [
       "         date      time                                 path  user_id  \\\n",
       "0  2018-01-26  09:55:03                                    /        1   \n",
       "1  2018-01-26  09:56:02                              java-ii        1   \n",
       "2  2018-01-26  09:56:05  java-ii/object-oriented-programming        1   \n",
       "3  2018-01-26  09:56:06   slides/object_oriented_programming        1   \n",
       "4  2018-01-26  09:56:24            javascript-i/conditionals        2   \n",
       "\n",
       "             ip     name start_date   end_date  program_id  \n",
       "0  97.105.19.61  Hampton 2015-09-22 2016-02-06         1.0  \n",
       "1  97.105.19.61  Hampton 2015-09-22 2016-02-06         1.0  \n",
       "2  97.105.19.61  Hampton 2015-09-22 2016-02-06         1.0  \n",
       "3  97.105.19.61  Hampton 2015-09-22 2016-02-06         1.0  \n",
       "4  97.105.19.61    Teddy 2018-01-08 2018-05-17         2.0  "
      ]
     },
     "execution_count": 18,
     "metadata": {},
     "output_type": "execute_result"
    }
   ],
   "source": [
    "df.head()"
   ]
  },
  {
   "cell_type": "code",
   "execution_count": 19,
   "id": "874d05c8",
   "metadata": {},
   "outputs": [
    {
     "data": {
      "text/plain": [
       "date              0\n",
       "time              0\n",
       "path              1\n",
       "user_id           0\n",
       "ip                0\n",
       "name          52893\n",
       "start_date    52893\n",
       "end_date      52893\n",
       "program_id    52893\n",
       "dtype: int64"
      ]
     },
     "execution_count": 19,
     "metadata": {},
     "output_type": "execute_result"
    }
   ],
   "source": [
    "df.isnull().sum()"
   ]
  },
  {
   "cell_type": "code",
   "execution_count": 20,
   "id": "f7ba9e04",
   "metadata": {},
   "outputs": [],
   "source": [
    "df['program_id'] = df.program_id.fillna(0)"
   ]
  },
  {
   "cell_type": "code",
   "execution_count": 21,
   "id": "7aca2dd3",
   "metadata": {},
   "outputs": [
    {
     "data": {
      "text/plain": [
       "date              0\n",
       "time              0\n",
       "path              1\n",
       "user_id           0\n",
       "ip                0\n",
       "name          52893\n",
       "start_date    52893\n",
       "end_date      52893\n",
       "program_id        0\n",
       "dtype: int64"
      ]
     },
     "execution_count": 21,
     "metadata": {},
     "output_type": "execute_result"
    }
   ],
   "source": [
    "df.isnull().sum()"
   ]
  },
  {
   "cell_type": "code",
   "execution_count": 22,
   "id": "b431f08e",
   "metadata": {},
   "outputs": [],
   "source": [
    "#df['program_id'] = df['program_id'].astype('int')"
   ]
  },
  {
   "cell_type": "code",
   "execution_count": 23,
   "id": "5d0f126c",
   "metadata": {},
   "outputs": [
    {
     "data": {
      "text/plain": [
       "date                  object\n",
       "time                  object\n",
       "path                  object\n",
       "user_id                int64\n",
       "ip                    object\n",
       "name                  object\n",
       "start_date    datetime64[ns]\n",
       "end_date      datetime64[ns]\n",
       "program_id           float64\n",
       "dtype: object"
      ]
     },
     "execution_count": 23,
     "metadata": {},
     "output_type": "execute_result"
    }
   ],
   "source": [
    "df.dtypes"
   ]
  },
  {
   "cell_type": "code",
   "execution_count": 24,
   "id": "2ee75703",
   "metadata": {},
   "outputs": [],
   "source": [
    "# assigns values in program_id their program name\n",
    "df.loc[df['program_id'] == 1.0, 'program_id'] = 'Web Development'\n",
    "df.loc[df['program_id'] == 2.0, 'program_id'] = 'Web Development'\n",
    "df.loc[df['program_id'] == 4.0, 'program_id'] = 'Web Development'         \n",
    "df.loc[df['program_id'] == 3.0, 'program_id'] = 'Data Science'"
   ]
  },
  {
   "cell_type": "code",
   "execution_count": 25,
   "id": "975e3e29",
   "metadata": {},
   "outputs": [],
   "source": [
    "#df['ip_int'] = df.ip.str.replace(\".\",\"\").astype(\"int\")"
   ]
  },
  {
   "cell_type": "code",
   "execution_count": 26,
   "id": "e395aef2",
   "metadata": {},
   "outputs": [
    {
     "data": {
      "text/html": [
       "<div>\n",
       "<style scoped>\n",
       "    .dataframe tbody tr th:only-of-type {\n",
       "        vertical-align: middle;\n",
       "    }\n",
       "\n",
       "    .dataframe tbody tr th {\n",
       "        vertical-align: top;\n",
       "    }\n",
       "\n",
       "    .dataframe thead th {\n",
       "        text-align: right;\n",
       "    }\n",
       "</style>\n",
       "<table border=\"1\" class=\"dataframe\">\n",
       "  <thead>\n",
       "    <tr style=\"text-align: right;\">\n",
       "      <th></th>\n",
       "      <th>date</th>\n",
       "      <th>time</th>\n",
       "      <th>path</th>\n",
       "      <th>user_id</th>\n",
       "      <th>ip</th>\n",
       "      <th>name</th>\n",
       "      <th>start_date</th>\n",
       "      <th>end_date</th>\n",
       "      <th>program_id</th>\n",
       "    </tr>\n",
       "  </thead>\n",
       "  <tbody>\n",
       "    <tr>\n",
       "      <th>0</th>\n",
       "      <td>2018-01-26</td>\n",
       "      <td>09:55:03</td>\n",
       "      <td>/</td>\n",
       "      <td>1</td>\n",
       "      <td>97.105.19.61</td>\n",
       "      <td>Hampton</td>\n",
       "      <td>2015-09-22</td>\n",
       "      <td>2016-02-06</td>\n",
       "      <td>Web Development</td>\n",
       "    </tr>\n",
       "    <tr>\n",
       "      <th>1</th>\n",
       "      <td>2018-01-26</td>\n",
       "      <td>09:56:02</td>\n",
       "      <td>java-ii</td>\n",
       "      <td>1</td>\n",
       "      <td>97.105.19.61</td>\n",
       "      <td>Hampton</td>\n",
       "      <td>2015-09-22</td>\n",
       "      <td>2016-02-06</td>\n",
       "      <td>Web Development</td>\n",
       "    </tr>\n",
       "    <tr>\n",
       "      <th>2</th>\n",
       "      <td>2018-01-26</td>\n",
       "      <td>09:56:05</td>\n",
       "      <td>java-ii/object-oriented-programming</td>\n",
       "      <td>1</td>\n",
       "      <td>97.105.19.61</td>\n",
       "      <td>Hampton</td>\n",
       "      <td>2015-09-22</td>\n",
       "      <td>2016-02-06</td>\n",
       "      <td>Web Development</td>\n",
       "    </tr>\n",
       "    <tr>\n",
       "      <th>3</th>\n",
       "      <td>2018-01-26</td>\n",
       "      <td>09:56:06</td>\n",
       "      <td>slides/object_oriented_programming</td>\n",
       "      <td>1</td>\n",
       "      <td>97.105.19.61</td>\n",
       "      <td>Hampton</td>\n",
       "      <td>2015-09-22</td>\n",
       "      <td>2016-02-06</td>\n",
       "      <td>Web Development</td>\n",
       "    </tr>\n",
       "    <tr>\n",
       "      <th>4</th>\n",
       "      <td>2018-01-26</td>\n",
       "      <td>09:56:24</td>\n",
       "      <td>javascript-i/conditionals</td>\n",
       "      <td>2</td>\n",
       "      <td>97.105.19.61</td>\n",
       "      <td>Teddy</td>\n",
       "      <td>2018-01-08</td>\n",
       "      <td>2018-05-17</td>\n",
       "      <td>Web Development</td>\n",
       "    </tr>\n",
       "  </tbody>\n",
       "</table>\n",
       "</div>"
      ],
      "text/plain": [
       "         date      time                                 path  user_id  \\\n",
       "0  2018-01-26  09:55:03                                    /        1   \n",
       "1  2018-01-26  09:56:02                              java-ii        1   \n",
       "2  2018-01-26  09:56:05  java-ii/object-oriented-programming        1   \n",
       "3  2018-01-26  09:56:06   slides/object_oriented_programming        1   \n",
       "4  2018-01-26  09:56:24            javascript-i/conditionals        2   \n",
       "\n",
       "             ip     name start_date   end_date       program_id  \n",
       "0  97.105.19.61  Hampton 2015-09-22 2016-02-06  Web Development  \n",
       "1  97.105.19.61  Hampton 2015-09-22 2016-02-06  Web Development  \n",
       "2  97.105.19.61  Hampton 2015-09-22 2016-02-06  Web Development  \n",
       "3  97.105.19.61  Hampton 2015-09-22 2016-02-06  Web Development  \n",
       "4  97.105.19.61    Teddy 2018-01-08 2018-05-17  Web Development  "
      ]
     },
     "execution_count": 26,
     "metadata": {},
     "output_type": "execute_result"
    }
   ],
   "source": [
    "df.head()"
   ]
  },
  {
   "cell_type": "code",
   "execution_count": 27,
   "id": "3d92cfbc",
   "metadata": {},
   "outputs": [],
   "source": [
    "# Set index as datetime column\n",
    "df.index = pd.to_datetime(df.date + \" \" + df.time)"
   ]
  },
  {
   "cell_type": "code",
   "execution_count": 28,
   "id": "a42ae5d9",
   "metadata": {},
   "outputs": [
    {
     "data": {
      "text/html": [
       "<div>\n",
       "<style scoped>\n",
       "    .dataframe tbody tr th:only-of-type {\n",
       "        vertical-align: middle;\n",
       "    }\n",
       "\n",
       "    .dataframe tbody tr th {\n",
       "        vertical-align: top;\n",
       "    }\n",
       "\n",
       "    .dataframe thead th {\n",
       "        text-align: right;\n",
       "    }\n",
       "</style>\n",
       "<table border=\"1\" class=\"dataframe\">\n",
       "  <thead>\n",
       "    <tr style=\"text-align: right;\">\n",
       "      <th></th>\n",
       "      <th>date</th>\n",
       "      <th>time</th>\n",
       "      <th>path</th>\n",
       "      <th>user_id</th>\n",
       "      <th>ip</th>\n",
       "      <th>name</th>\n",
       "      <th>start_date</th>\n",
       "      <th>end_date</th>\n",
       "      <th>program_id</th>\n",
       "    </tr>\n",
       "  </thead>\n",
       "  <tbody>\n",
       "    <tr>\n",
       "      <th>2018-01-26 09:55:03</th>\n",
       "      <td>2018-01-26</td>\n",
       "      <td>09:55:03</td>\n",
       "      <td>/</td>\n",
       "      <td>1</td>\n",
       "      <td>97.105.19.61</td>\n",
       "      <td>Hampton</td>\n",
       "      <td>2015-09-22</td>\n",
       "      <td>2016-02-06</td>\n",
       "      <td>Web Development</td>\n",
       "    </tr>\n",
       "    <tr>\n",
       "      <th>2018-01-26 09:56:02</th>\n",
       "      <td>2018-01-26</td>\n",
       "      <td>09:56:02</td>\n",
       "      <td>java-ii</td>\n",
       "      <td>1</td>\n",
       "      <td>97.105.19.61</td>\n",
       "      <td>Hampton</td>\n",
       "      <td>2015-09-22</td>\n",
       "      <td>2016-02-06</td>\n",
       "      <td>Web Development</td>\n",
       "    </tr>\n",
       "    <tr>\n",
       "      <th>2018-01-26 09:56:05</th>\n",
       "      <td>2018-01-26</td>\n",
       "      <td>09:56:05</td>\n",
       "      <td>java-ii/object-oriented-programming</td>\n",
       "      <td>1</td>\n",
       "      <td>97.105.19.61</td>\n",
       "      <td>Hampton</td>\n",
       "      <td>2015-09-22</td>\n",
       "      <td>2016-02-06</td>\n",
       "      <td>Web Development</td>\n",
       "    </tr>\n",
       "    <tr>\n",
       "      <th>2018-01-26 09:56:06</th>\n",
       "      <td>2018-01-26</td>\n",
       "      <td>09:56:06</td>\n",
       "      <td>slides/object_oriented_programming</td>\n",
       "      <td>1</td>\n",
       "      <td>97.105.19.61</td>\n",
       "      <td>Hampton</td>\n",
       "      <td>2015-09-22</td>\n",
       "      <td>2016-02-06</td>\n",
       "      <td>Web Development</td>\n",
       "    </tr>\n",
       "    <tr>\n",
       "      <th>2018-01-26 09:56:24</th>\n",
       "      <td>2018-01-26</td>\n",
       "      <td>09:56:24</td>\n",
       "      <td>javascript-i/conditionals</td>\n",
       "      <td>2</td>\n",
       "      <td>97.105.19.61</td>\n",
       "      <td>Teddy</td>\n",
       "      <td>2018-01-08</td>\n",
       "      <td>2018-05-17</td>\n",
       "      <td>Web Development</td>\n",
       "    </tr>\n",
       "  </tbody>\n",
       "</table>\n",
       "</div>"
      ],
      "text/plain": [
       "                           date      time  \\\n",
       "2018-01-26 09:55:03  2018-01-26  09:55:03   \n",
       "2018-01-26 09:56:02  2018-01-26  09:56:02   \n",
       "2018-01-26 09:56:05  2018-01-26  09:56:05   \n",
       "2018-01-26 09:56:06  2018-01-26  09:56:06   \n",
       "2018-01-26 09:56:24  2018-01-26  09:56:24   \n",
       "\n",
       "                                                    path  user_id  \\\n",
       "2018-01-26 09:55:03                                    /        1   \n",
       "2018-01-26 09:56:02                              java-ii        1   \n",
       "2018-01-26 09:56:05  java-ii/object-oriented-programming        1   \n",
       "2018-01-26 09:56:06   slides/object_oriented_programming        1   \n",
       "2018-01-26 09:56:24            javascript-i/conditionals        2   \n",
       "\n",
       "                               ip     name start_date   end_date  \\\n",
       "2018-01-26 09:55:03  97.105.19.61  Hampton 2015-09-22 2016-02-06   \n",
       "2018-01-26 09:56:02  97.105.19.61  Hampton 2015-09-22 2016-02-06   \n",
       "2018-01-26 09:56:05  97.105.19.61  Hampton 2015-09-22 2016-02-06   \n",
       "2018-01-26 09:56:06  97.105.19.61  Hampton 2015-09-22 2016-02-06   \n",
       "2018-01-26 09:56:24  97.105.19.61    Teddy 2018-01-08 2018-05-17   \n",
       "\n",
       "                          program_id  \n",
       "2018-01-26 09:55:03  Web Development  \n",
       "2018-01-26 09:56:02  Web Development  \n",
       "2018-01-26 09:56:05  Web Development  \n",
       "2018-01-26 09:56:06  Web Development  \n",
       "2018-01-26 09:56:24  Web Development  "
      ]
     },
     "execution_count": 28,
     "metadata": {},
     "output_type": "execute_result"
    }
   ],
   "source": [
    "df.head()"
   ]
  },
  {
   "cell_type": "code",
   "execution_count": 29,
   "id": "fe160c5a",
   "metadata": {},
   "outputs": [],
   "source": [
    "# Drop redundant date and time columns\n",
    "df = df.drop(columns=['date','time'], axis=1)"
   ]
  },
  {
   "cell_type": "code",
   "execution_count": 30,
   "id": "4712614c",
   "metadata": {},
   "outputs": [
    {
     "data": {
      "text/html": [
       "<div>\n",
       "<style scoped>\n",
       "    .dataframe tbody tr th:only-of-type {\n",
       "        vertical-align: middle;\n",
       "    }\n",
       "\n",
       "    .dataframe tbody tr th {\n",
       "        vertical-align: top;\n",
       "    }\n",
       "\n",
       "    .dataframe thead th {\n",
       "        text-align: right;\n",
       "    }\n",
       "</style>\n",
       "<table border=\"1\" class=\"dataframe\">\n",
       "  <thead>\n",
       "    <tr style=\"text-align: right;\">\n",
       "      <th></th>\n",
       "      <th>path</th>\n",
       "      <th>user_id</th>\n",
       "      <th>ip</th>\n",
       "      <th>name</th>\n",
       "      <th>start_date</th>\n",
       "      <th>end_date</th>\n",
       "      <th>program_id</th>\n",
       "    </tr>\n",
       "  </thead>\n",
       "  <tbody>\n",
       "    <tr>\n",
       "      <th>2018-01-26 09:55:03</th>\n",
       "      <td>/</td>\n",
       "      <td>1</td>\n",
       "      <td>97.105.19.61</td>\n",
       "      <td>Hampton</td>\n",
       "      <td>2015-09-22</td>\n",
       "      <td>2016-02-06</td>\n",
       "      <td>Web Development</td>\n",
       "    </tr>\n",
       "    <tr>\n",
       "      <th>2018-01-26 09:56:02</th>\n",
       "      <td>java-ii</td>\n",
       "      <td>1</td>\n",
       "      <td>97.105.19.61</td>\n",
       "      <td>Hampton</td>\n",
       "      <td>2015-09-22</td>\n",
       "      <td>2016-02-06</td>\n",
       "      <td>Web Development</td>\n",
       "    </tr>\n",
       "    <tr>\n",
       "      <th>2018-01-26 09:56:05</th>\n",
       "      <td>java-ii/object-oriented-programming</td>\n",
       "      <td>1</td>\n",
       "      <td>97.105.19.61</td>\n",
       "      <td>Hampton</td>\n",
       "      <td>2015-09-22</td>\n",
       "      <td>2016-02-06</td>\n",
       "      <td>Web Development</td>\n",
       "    </tr>\n",
       "    <tr>\n",
       "      <th>2018-01-26 09:56:06</th>\n",
       "      <td>slides/object_oriented_programming</td>\n",
       "      <td>1</td>\n",
       "      <td>97.105.19.61</td>\n",
       "      <td>Hampton</td>\n",
       "      <td>2015-09-22</td>\n",
       "      <td>2016-02-06</td>\n",
       "      <td>Web Development</td>\n",
       "    </tr>\n",
       "    <tr>\n",
       "      <th>2018-01-26 09:56:24</th>\n",
       "      <td>javascript-i/conditionals</td>\n",
       "      <td>2</td>\n",
       "      <td>97.105.19.61</td>\n",
       "      <td>Teddy</td>\n",
       "      <td>2018-01-08</td>\n",
       "      <td>2018-05-17</td>\n",
       "      <td>Web Development</td>\n",
       "    </tr>\n",
       "  </tbody>\n",
       "</table>\n",
       "</div>"
      ],
      "text/plain": [
       "                                                    path  user_id  \\\n",
       "2018-01-26 09:55:03                                    /        1   \n",
       "2018-01-26 09:56:02                              java-ii        1   \n",
       "2018-01-26 09:56:05  java-ii/object-oriented-programming        1   \n",
       "2018-01-26 09:56:06   slides/object_oriented_programming        1   \n",
       "2018-01-26 09:56:24            javascript-i/conditionals        2   \n",
       "\n",
       "                               ip     name start_date   end_date  \\\n",
       "2018-01-26 09:55:03  97.105.19.61  Hampton 2015-09-22 2016-02-06   \n",
       "2018-01-26 09:56:02  97.105.19.61  Hampton 2015-09-22 2016-02-06   \n",
       "2018-01-26 09:56:05  97.105.19.61  Hampton 2015-09-22 2016-02-06   \n",
       "2018-01-26 09:56:06  97.105.19.61  Hampton 2015-09-22 2016-02-06   \n",
       "2018-01-26 09:56:24  97.105.19.61    Teddy 2018-01-08 2018-05-17   \n",
       "\n",
       "                          program_id  \n",
       "2018-01-26 09:55:03  Web Development  \n",
       "2018-01-26 09:56:02  Web Development  \n",
       "2018-01-26 09:56:05  Web Development  \n",
       "2018-01-26 09:56:06  Web Development  \n",
       "2018-01-26 09:56:24  Web Development  "
      ]
     },
     "execution_count": 30,
     "metadata": {},
     "output_type": "execute_result"
    }
   ],
   "source": [
    "df.head()"
   ]
  },
  {
   "cell_type": "code",
   "execution_count": 31,
   "id": "f6ef3f14",
   "metadata": {},
   "outputs": [
    {
     "data": {
      "text/html": [
       "<div>\n",
       "<style scoped>\n",
       "    .dataframe tbody tr th:only-of-type {\n",
       "        vertical-align: middle;\n",
       "    }\n",
       "\n",
       "    .dataframe tbody tr th {\n",
       "        vertical-align: top;\n",
       "    }\n",
       "\n",
       "    .dataframe thead th {\n",
       "        text-align: right;\n",
       "    }\n",
       "</style>\n",
       "<table border=\"1\" class=\"dataframe\">\n",
       "  <thead>\n",
       "    <tr style=\"text-align: right;\">\n",
       "      <th></th>\n",
       "      <th>path</th>\n",
       "      <th>user_id</th>\n",
       "      <th>ip</th>\n",
       "      <th>name</th>\n",
       "      <th>start_date</th>\n",
       "      <th>end_date</th>\n",
       "      <th>program_id</th>\n",
       "    </tr>\n",
       "  </thead>\n",
       "  <tbody>\n",
       "    <tr>\n",
       "      <th>2018-01-26 09:55:03</th>\n",
       "      <td>/</td>\n",
       "      <td>1</td>\n",
       "      <td>97.105.19.61</td>\n",
       "      <td>Hampton</td>\n",
       "      <td>2015-09-22</td>\n",
       "      <td>2016-02-06</td>\n",
       "      <td>Web Development</td>\n",
       "    </tr>\n",
       "    <tr>\n",
       "      <th>2018-01-26 09:56:02</th>\n",
       "      <td>java-ii</td>\n",
       "      <td>1</td>\n",
       "      <td>97.105.19.61</td>\n",
       "      <td>Hampton</td>\n",
       "      <td>2015-09-22</td>\n",
       "      <td>2016-02-06</td>\n",
       "      <td>Web Development</td>\n",
       "    </tr>\n",
       "    <tr>\n",
       "      <th>2018-01-26 09:56:05</th>\n",
       "      <td>java-ii/object-oriented-programming</td>\n",
       "      <td>1</td>\n",
       "      <td>97.105.19.61</td>\n",
       "      <td>Hampton</td>\n",
       "      <td>2015-09-22</td>\n",
       "      <td>2016-02-06</td>\n",
       "      <td>Web Development</td>\n",
       "    </tr>\n",
       "    <tr>\n",
       "      <th>2018-01-26 09:56:06</th>\n",
       "      <td>slides/object_oriented_programming</td>\n",
       "      <td>1</td>\n",
       "      <td>97.105.19.61</td>\n",
       "      <td>Hampton</td>\n",
       "      <td>2015-09-22</td>\n",
       "      <td>2016-02-06</td>\n",
       "      <td>Web Development</td>\n",
       "    </tr>\n",
       "    <tr>\n",
       "      <th>2018-01-26 09:56:24</th>\n",
       "      <td>javascript-i/conditionals</td>\n",
       "      <td>2</td>\n",
       "      <td>97.105.19.61</td>\n",
       "      <td>Teddy</td>\n",
       "      <td>2018-01-08</td>\n",
       "      <td>2018-05-17</td>\n",
       "      <td>Web Development</td>\n",
       "    </tr>\n",
       "  </tbody>\n",
       "</table>\n",
       "</div>"
      ],
      "text/plain": [
       "                                                    path  user_id  \\\n",
       "2018-01-26 09:55:03                                    /        1   \n",
       "2018-01-26 09:56:02                              java-ii        1   \n",
       "2018-01-26 09:56:05  java-ii/object-oriented-programming        1   \n",
       "2018-01-26 09:56:06   slides/object_oriented_programming        1   \n",
       "2018-01-26 09:56:24            javascript-i/conditionals        2   \n",
       "\n",
       "                               ip     name start_date   end_date  \\\n",
       "2018-01-26 09:55:03  97.105.19.61  Hampton 2015-09-22 2016-02-06   \n",
       "2018-01-26 09:56:02  97.105.19.61  Hampton 2015-09-22 2016-02-06   \n",
       "2018-01-26 09:56:05  97.105.19.61  Hampton 2015-09-22 2016-02-06   \n",
       "2018-01-26 09:56:06  97.105.19.61  Hampton 2015-09-22 2016-02-06   \n",
       "2018-01-26 09:56:24  97.105.19.61    Teddy 2018-01-08 2018-05-17   \n",
       "\n",
       "                          program_id  \n",
       "2018-01-26 09:55:03  Web Development  \n",
       "2018-01-26 09:56:02  Web Development  \n",
       "2018-01-26 09:56:05  Web Development  \n",
       "2018-01-26 09:56:06  Web Development  \n",
       "2018-01-26 09:56:24  Web Development  "
      ]
     },
     "execution_count": 31,
     "metadata": {},
     "output_type": "execute_result"
    }
   ],
   "source": [
    "# Change start and end dates to datetime types\n",
    "df['start_date'] = pd.to_datetime(df.start_date)\n",
    "df['end_date'] = pd.to_datetime(df.end_date)\n",
    "df.head()"
   ]
  },
  {
   "cell_type": "code",
   "execution_count": 32,
   "id": "bde35f33",
   "metadata": {},
   "outputs": [
    {
     "data": {
      "text/plain": [
       "path                  object\n",
       "user_id                int64\n",
       "ip                    object\n",
       "name                  object\n",
       "start_date    datetime64[ns]\n",
       "end_date      datetime64[ns]\n",
       "program_id            object\n",
       "dtype: object"
      ]
     },
     "execution_count": 32,
     "metadata": {},
     "output_type": "execute_result"
    }
   ],
   "source": [
    "df.dtypes"
   ]
  },
  {
   "cell_type": "code",
   "execution_count": 33,
   "id": "21a022db",
   "metadata": {},
   "outputs": [
    {
     "data": {
      "text/plain": [
       "array(['Hampton', 'Teddy', 'Sequoia', 'Arches', 'Niagara', 'Pinnacles',\n",
       "       'Quincy', nan, 'Kings', 'Lassen', 'Mammoth', 'Glacier', 'Denali',\n",
       "       'Joshua', 'Olympic', 'Ulysses', 'Badlands', 'Apollo', 'Ike',\n",
       "       'Voyageurs', 'Wrangell', 'Xanadu', 'Franklin', 'Yosemite', 'Staff',\n",
       "       'Zion', 'Andromeda', 'Betelgeuse', 'Ceres', 'Bayes', 'Deimos',\n",
       "       'Europa', 'Fortuna', 'Curie', 'Apex', 'Ganymede', 'Everglades',\n",
       "       'Hyperion', 'Darden', 'Bash', 'Jupiter', 'Kalypso', 'Luna',\n",
       "       'Easley', 'Marco', 'Neptune', 'Florence', 'Oberon'], dtype=object)"
      ]
     },
     "execution_count": 33,
     "metadata": {},
     "output_type": "execute_result"
    }
   ],
   "source": [
    "df.name.unique()"
   ]
  },
  {
   "cell_type": "code",
   "execution_count": 34,
   "id": "cc9edeb3",
   "metadata": {},
   "outputs": [],
   "source": [
    "# remove staff, they are not a cohort\n",
    "df = df[df.name != 'Staff']"
   ]
  },
  {
   "cell_type": "code",
   "execution_count": 35,
   "id": "6bc59023",
   "metadata": {},
   "outputs": [
    {
     "data": {
      "text/plain": [
       "array(['/', 'java-ii', 'java-ii/object-oriented-programming', ...,\n",
       "       'florence-python-assessment.html',\n",
       "       'appendix/further-reading/jquery/effects', 'dataframes'],\n",
       "      dtype=object)"
      ]
     },
     "execution_count": 35,
     "metadata": {},
     "output_type": "execute_result"
    }
   ],
   "source": [
    "df.path.unique()"
   ]
  },
  {
   "cell_type": "code",
   "execution_count": 36,
   "id": "ef5abf88",
   "metadata": {},
   "outputs": [
    {
     "data": {
      "text/plain": [
       "(816192, 7)"
      ]
     },
     "execution_count": 36,
     "metadata": {},
     "output_type": "execute_result"
    }
   ],
   "source": [
    "df.shape"
   ]
  },
  {
   "cell_type": "code",
   "execution_count": 37,
   "id": "e38a7713",
   "metadata": {},
   "outputs": [
    {
     "name": "stdout",
     "output_type": "stream",
     "text": [
      "2140\n"
     ]
    }
   ],
   "source": [
    "print(df['path'].nunique())"
   ]
  },
  {
   "cell_type": "code",
   "execution_count": 38,
   "id": "62a21564",
   "metadata": {
    "scrolled": true
   },
   "outputs": [],
   "source": [
    "#pd.set_option(\"display.max_rows\", 2313)\n",
    "#df.path.value_counts()"
   ]
  },
  {
   "cell_type": "code",
   "execution_count": 39,
   "id": "37cc844f",
   "metadata": {},
   "outputs": [],
   "source": [
    "# Filter out non-curriculumn pages\n",
    "df = df[df.path.str.contains('jpeg') != True]\n",
    "df = df[df.path.str.contains('json') != True]\n",
    "df = df[df.path.str.contains('jpg') != True]\n",
    "df = df[df.path.str.contains('appendix') != True]\n",
    "df = df[df.path.str.contains('Appendix') != True]\n",
    "df = df[df.path != '/']\n",
    "df = df[df.path != 'toc']"
   ]
  },
  {
   "cell_type": "code",
   "execution_count": 40,
   "id": "efca4e78",
   "metadata": {},
   "outputs": [],
   "source": [
    "# df.head()"
   ]
  },
  {
   "cell_type": "code",
   "execution_count": 41,
   "id": "b16f0918",
   "metadata": {},
   "outputs": [],
   "source": [
    "# df.isnull().sum()"
   ]
  },
  {
   "cell_type": "code",
   "execution_count": 42,
   "id": "ae0fdbe8",
   "metadata": {},
   "outputs": [],
   "source": [
    "#df['id'] = df.id.fillna(0)"
   ]
  },
  {
   "cell_type": "code",
   "execution_count": 43,
   "id": "28973b29",
   "metadata": {},
   "outputs": [],
   "source": [
    "#df['cohort_id'] = df['id'].astype('int')"
   ]
  },
  {
   "cell_type": "code",
   "execution_count": 44,
   "id": "6443199b",
   "metadata": {},
   "outputs": [],
   "source": [
    "#df = df.drop(columns=['id'], axis=1)"
   ]
  },
  {
   "cell_type": "code",
   "execution_count": 45,
   "id": "7e0dc042",
   "metadata": {},
   "outputs": [],
   "source": [
    "# df.head()"
   ]
  },
  {
   "cell_type": "code",
   "execution_count": 46,
   "id": "a5e03298",
   "metadata": {},
   "outputs": [],
   "source": [
    "# df.user_id.value_counts()"
   ]
  },
  {
   "cell_type": "code",
   "execution_count": 47,
   "id": "189f751a",
   "metadata": {},
   "outputs": [
    {
     "data": {
      "text/plain": [
       "path              1\n",
       "user_id           0\n",
       "ip                0\n",
       "name          43606\n",
       "start_date    43606\n",
       "end_date      43606\n",
       "program_id        0\n",
       "dtype: int64"
      ]
     },
     "execution_count": 47,
     "metadata": {},
     "output_type": "execute_result"
    }
   ],
   "source": [
    "df.isnull().sum()"
   ]
  },
  {
   "cell_type": "code",
   "execution_count": 48,
   "id": "496f64b2",
   "metadata": {},
   "outputs": [
    {
     "data": {
      "image/png": "[encoded data removed]",
      "text/plain": [
       "<Figure size 1080x720 with 4 Axes>"
      ]
     },
     "metadata": {
      "needs_background": "light"
     },
     "output_type": "display_data"
    }
   ],
   "source": [
    "df.hist(figsize=(15, 10),\n",
    "            ec='black',\n",
    "            grid=True,\n",
    "            bins=25);"
   ]
  },
  {
   "cell_type": "code",
   "execution_count": 49,
   "id": "2a040128",
   "metadata": {},
   "outputs": [],
   "source": [
    "#pd.to_datetime(\"today\")\n",
    "#df['today'] = pd.to_datetime(\"today\")\n",
    "df = df[df.end_date <= pd.to_datetime('today')]"
   ]
  },
  {
   "cell_type": "code",
   "execution_count": 50,
   "id": "30b56e8f",
   "metadata": {},
   "outputs": [
    {
     "data": {
      "image/png": "[encoded data removed]",
      "text/plain": [
       "<Figure size 1080x720 with 4 Axes>"
      ]
     },
     "metadata": {
      "needs_background": "light"
     },
     "output_type": "display_data"
    }
   ],
   "source": [
    "df.hist(figsize=(15, 10),\n",
    "            ec='black',\n",
    "            grid=True,\n",
    "            bins=25);"
   ]
  },
  {
   "cell_type": "code",
   "execution_count": 51,
   "id": "6e1a30df",
   "metadata": {},
   "outputs": [
    {
     "data": {
      "text/html": [
       "<div>\n",
       "<style scoped>\n",
       "    .dataframe tbody tr th:only-of-type {\n",
       "        vertical-align: middle;\n",
       "    }\n",
       "\n",
       "    .dataframe tbody tr th {\n",
       "        vertical-align: top;\n",
       "    }\n",
       "\n",
       "    .dataframe thead th {\n",
       "        text-align: right;\n",
       "    }\n",
       "</style>\n",
       "<table border=\"1\" class=\"dataframe\">\n",
       "  <thead>\n",
       "    <tr style=\"text-align: right;\">\n",
       "      <th></th>\n",
       "      <th>path</th>\n",
       "      <th>user_id</th>\n",
       "      <th>ip</th>\n",
       "      <th>name</th>\n",
       "      <th>start_date</th>\n",
       "      <th>end_date</th>\n",
       "      <th>program_id</th>\n",
       "    </tr>\n",
       "  </thead>\n",
       "  <tbody>\n",
       "    <tr>\n",
       "      <th>2018-01-26 09:56:02</th>\n",
       "      <td>java-ii</td>\n",
       "      <td>1</td>\n",
       "      <td>97.105.19.61</td>\n",
       "      <td>Hampton</td>\n",
       "      <td>2015-09-22</td>\n",
       "      <td>2016-02-06</td>\n",
       "      <td>Web Development</td>\n",
       "    </tr>\n",
       "    <tr>\n",
       "      <th>2018-01-26 09:56:05</th>\n",
       "      <td>java-ii/object-oriented-programming</td>\n",
       "      <td>1</td>\n",
       "      <td>97.105.19.61</td>\n",
       "      <td>Hampton</td>\n",
       "      <td>2015-09-22</td>\n",
       "      <td>2016-02-06</td>\n",
       "      <td>Web Development</td>\n",
       "    </tr>\n",
       "    <tr>\n",
       "      <th>2018-01-26 09:56:06</th>\n",
       "      <td>slides/object_oriented_programming</td>\n",
       "      <td>1</td>\n",
       "      <td>97.105.19.61</td>\n",
       "      <td>Hampton</td>\n",
       "      <td>2015-09-22</td>\n",
       "      <td>2016-02-06</td>\n",
       "      <td>Web Development</td>\n",
       "    </tr>\n",
       "    <tr>\n",
       "      <th>2018-01-26 09:56:24</th>\n",
       "      <td>javascript-i/conditionals</td>\n",
       "      <td>2</td>\n",
       "      <td>97.105.19.61</td>\n",
       "      <td>Teddy</td>\n",
       "      <td>2018-01-08</td>\n",
       "      <td>2018-05-17</td>\n",
       "      <td>Web Development</td>\n",
       "    </tr>\n",
       "    <tr>\n",
       "      <th>2018-01-26 09:56:41</th>\n",
       "      <td>javascript-i/loops</td>\n",
       "      <td>2</td>\n",
       "      <td>97.105.19.61</td>\n",
       "      <td>Teddy</td>\n",
       "      <td>2018-01-08</td>\n",
       "      <td>2018-05-17</td>\n",
       "      <td>Web Development</td>\n",
       "    </tr>\n",
       "  </tbody>\n",
       "</table>\n",
       "</div>"
      ],
      "text/plain": [
       "                                                    path  user_id  \\\n",
       "2018-01-26 09:56:02                              java-ii        1   \n",
       "2018-01-26 09:56:05  java-ii/object-oriented-programming        1   \n",
       "2018-01-26 09:56:06   slides/object_oriented_programming        1   \n",
       "2018-01-26 09:56:24            javascript-i/conditionals        2   \n",
       "2018-01-26 09:56:41                   javascript-i/loops        2   \n",
       "\n",
       "                               ip     name start_date   end_date  \\\n",
       "2018-01-26 09:56:02  97.105.19.61  Hampton 2015-09-22 2016-02-06   \n",
       "2018-01-26 09:56:05  97.105.19.61  Hampton 2015-09-22 2016-02-06   \n",
       "2018-01-26 09:56:06  97.105.19.61  Hampton 2015-09-22 2016-02-06   \n",
       "2018-01-26 09:56:24  97.105.19.61    Teddy 2018-01-08 2018-05-17   \n",
       "2018-01-26 09:56:41  97.105.19.61    Teddy 2018-01-08 2018-05-17   \n",
       "\n",
       "                          program_id  \n",
       "2018-01-26 09:56:02  Web Development  \n",
       "2018-01-26 09:56:05  Web Development  \n",
       "2018-01-26 09:56:06  Web Development  \n",
       "2018-01-26 09:56:24  Web Development  \n",
       "2018-01-26 09:56:41  Web Development  "
      ]
     },
     "execution_count": 51,
     "metadata": {},
     "output_type": "execute_result"
    }
   ],
   "source": [
    "df.head()"
   ]
  },
  {
   "cell_type": "code",
   "execution_count": 52,
   "id": "f5b0fca0",
   "metadata": {},
   "outputs": [],
   "source": [
    "# Create seperate dataframes for Web Development and Data Science programs\n",
    "wd = df[df.program_id != 'Data Science']\n",
    "ds = df[df.program_id == 'Data Science']"
   ]
  },
  {
   "cell_type": "code",
   "execution_count": 53,
   "id": "5baf4451",
   "metadata": {},
   "outputs": [
    {
     "data": {
      "text/html": [
       "<div>\n",
       "<style scoped>\n",
       "    .dataframe tbody tr th:only-of-type {\n",
       "        vertical-align: middle;\n",
       "    }\n",
       "\n",
       "    .dataframe tbody tr th {\n",
       "        vertical-align: top;\n",
       "    }\n",
       "\n",
       "    .dataframe thead th {\n",
       "        text-align: right;\n",
       "    }\n",
       "</style>\n",
       "<table border=\"1\" class=\"dataframe\">\n",
       "  <thead>\n",
       "    <tr style=\"text-align: right;\">\n",
       "      <th></th>\n",
       "      <th>path</th>\n",
       "      <th>user_id</th>\n",
       "      <th>ip</th>\n",
       "      <th>name</th>\n",
       "      <th>start_date</th>\n",
       "      <th>end_date</th>\n",
       "      <th>program_id</th>\n",
       "    </tr>\n",
       "  </thead>\n",
       "  <tbody>\n",
       "    <tr>\n",
       "      <th>2018-01-26 09:56:02</th>\n",
       "      <td>java-ii</td>\n",
       "      <td>1</td>\n",
       "      <td>97.105.19.61</td>\n",
       "      <td>Hampton</td>\n",
       "      <td>2015-09-22</td>\n",
       "      <td>2016-02-06</td>\n",
       "      <td>Web Development</td>\n",
       "    </tr>\n",
       "    <tr>\n",
       "      <th>2018-01-26 09:56:05</th>\n",
       "      <td>java-ii/object-oriented-programming</td>\n",
       "      <td>1</td>\n",
       "      <td>97.105.19.61</td>\n",
       "      <td>Hampton</td>\n",
       "      <td>2015-09-22</td>\n",
       "      <td>2016-02-06</td>\n",
       "      <td>Web Development</td>\n",
       "    </tr>\n",
       "    <tr>\n",
       "      <th>2018-01-26 09:56:06</th>\n",
       "      <td>slides/object_oriented_programming</td>\n",
       "      <td>1</td>\n",
       "      <td>97.105.19.61</td>\n",
       "      <td>Hampton</td>\n",
       "      <td>2015-09-22</td>\n",
       "      <td>2016-02-06</td>\n",
       "      <td>Web Development</td>\n",
       "    </tr>\n",
       "    <tr>\n",
       "      <th>2018-01-26 09:56:24</th>\n",
       "      <td>javascript-i/conditionals</td>\n",
       "      <td>2</td>\n",
       "      <td>97.105.19.61</td>\n",
       "      <td>Teddy</td>\n",
       "      <td>2018-01-08</td>\n",
       "      <td>2018-05-17</td>\n",
       "      <td>Web Development</td>\n",
       "    </tr>\n",
       "    <tr>\n",
       "      <th>2018-01-26 09:56:41</th>\n",
       "      <td>javascript-i/loops</td>\n",
       "      <td>2</td>\n",
       "      <td>97.105.19.61</td>\n",
       "      <td>Teddy</td>\n",
       "      <td>2018-01-08</td>\n",
       "      <td>2018-05-17</td>\n",
       "      <td>Web Development</td>\n",
       "    </tr>\n",
       "  </tbody>\n",
       "</table>\n",
       "</div>"
      ],
      "text/plain": [
       "                                                    path  user_id  \\\n",
       "2018-01-26 09:56:02                              java-ii        1   \n",
       "2018-01-26 09:56:05  java-ii/object-oriented-programming        1   \n",
       "2018-01-26 09:56:06   slides/object_oriented_programming        1   \n",
       "2018-01-26 09:56:24            javascript-i/conditionals        2   \n",
       "2018-01-26 09:56:41                   javascript-i/loops        2   \n",
       "\n",
       "                               ip     name start_date   end_date  \\\n",
       "2018-01-26 09:56:02  97.105.19.61  Hampton 2015-09-22 2016-02-06   \n",
       "2018-01-26 09:56:05  97.105.19.61  Hampton 2015-09-22 2016-02-06   \n",
       "2018-01-26 09:56:06  97.105.19.61  Hampton 2015-09-22 2016-02-06   \n",
       "2018-01-26 09:56:24  97.105.19.61    Teddy 2018-01-08 2018-05-17   \n",
       "2018-01-26 09:56:41  97.105.19.61    Teddy 2018-01-08 2018-05-17   \n",
       "\n",
       "                          program_id  \n",
       "2018-01-26 09:56:02  Web Development  \n",
       "2018-01-26 09:56:05  Web Development  \n",
       "2018-01-26 09:56:06  Web Development  \n",
       "2018-01-26 09:56:24  Web Development  \n",
       "2018-01-26 09:56:41  Web Development  "
      ]
     },
     "execution_count": 53,
     "metadata": {},
     "output_type": "execute_result"
    }
   ],
   "source": [
    "wd.head()"
   ]
  },
  {
   "cell_type": "code",
   "execution_count": 54,
   "id": "b4e31c3b",
   "metadata": {},
   "outputs": [
    {
     "data": {
      "text/html": [
       "<div>\n",
       "<style scoped>\n",
       "    .dataframe tbody tr th:only-of-type {\n",
       "        vertical-align: middle;\n",
       "    }\n",
       "\n",
       "    .dataframe tbody tr th {\n",
       "        vertical-align: top;\n",
       "    }\n",
       "\n",
       "    .dataframe thead th {\n",
       "        text-align: right;\n",
       "    }\n",
       "</style>\n",
       "<table border=\"1\" class=\"dataframe\">\n",
       "  <thead>\n",
       "    <tr style=\"text-align: right;\">\n",
       "      <th></th>\n",
       "      <th>path</th>\n",
       "      <th>user_id</th>\n",
       "      <th>ip</th>\n",
       "      <th>name</th>\n",
       "      <th>start_date</th>\n",
       "      <th>end_date</th>\n",
       "      <th>program_id</th>\n",
       "    </tr>\n",
       "  </thead>\n",
       "  <tbody>\n",
       "    <tr>\n",
       "      <th>2019-08-20 09:40:28</th>\n",
       "      <td>3-sql/1-mysql-overview</td>\n",
       "      <td>470</td>\n",
       "      <td>97.105.19.58</td>\n",
       "      <td>Bayes</td>\n",
       "      <td>2019-08-19</td>\n",
       "      <td>2020-01-30</td>\n",
       "      <td>Data Science</td>\n",
       "    </tr>\n",
       "    <tr>\n",
       "      <th>2019-08-20 09:40:30</th>\n",
       "      <td>2-storytelling/bad-charts</td>\n",
       "      <td>467</td>\n",
       "      <td>97.105.19.58</td>\n",
       "      <td>Bayes</td>\n",
       "      <td>2019-08-19</td>\n",
       "      <td>2020-01-30</td>\n",
       "      <td>Data Science</td>\n",
       "    </tr>\n",
       "    <tr>\n",
       "      <th>2019-08-20 09:41:02</th>\n",
       "      <td>1-fundamentals/1.1-intro-to-data-science</td>\n",
       "      <td>469</td>\n",
       "      <td>97.105.19.58</td>\n",
       "      <td>Bayes</td>\n",
       "      <td>2019-08-19</td>\n",
       "      <td>2020-01-30</td>\n",
       "      <td>Data Science</td>\n",
       "    </tr>\n",
       "    <tr>\n",
       "      <th>2019-08-20 09:41:28</th>\n",
       "      <td>1-fundamentals/1.1-intro-to-data-science</td>\n",
       "      <td>480</td>\n",
       "      <td>97.105.19.58</td>\n",
       "      <td>Bayes</td>\n",
       "      <td>2019-08-19</td>\n",
       "      <td>2020-01-30</td>\n",
       "      <td>Data Science</td>\n",
       "    </tr>\n",
       "    <tr>\n",
       "      <th>2019-08-20 09:41:36</th>\n",
       "      <td>1-fundamentals/1.1-intro-to-data-science</td>\n",
       "      <td>482</td>\n",
       "      <td>97.105.19.58</td>\n",
       "      <td>Bayes</td>\n",
       "      <td>2019-08-19</td>\n",
       "      <td>2020-01-30</td>\n",
       "      <td>Data Science</td>\n",
       "    </tr>\n",
       "  </tbody>\n",
       "</table>\n",
       "</div>"
      ],
      "text/plain": [
       "                                                         path  user_id  \\\n",
       "2019-08-20 09:40:28                    3-sql/1-mysql-overview      470   \n",
       "2019-08-20 09:40:30                 2-storytelling/bad-charts      467   \n",
       "2019-08-20 09:41:02  1-fundamentals/1.1-intro-to-data-science      469   \n",
       "2019-08-20 09:41:28  1-fundamentals/1.1-intro-to-data-science      480   \n",
       "2019-08-20 09:41:36  1-fundamentals/1.1-intro-to-data-science      482   \n",
       "\n",
       "                               ip   name start_date   end_date    program_id  \n",
       "2019-08-20 09:40:28  97.105.19.58  Bayes 2019-08-19 2020-01-30  Data Science  \n",
       "2019-08-20 09:40:30  97.105.19.58  Bayes 2019-08-19 2020-01-30  Data Science  \n",
       "2019-08-20 09:41:02  97.105.19.58  Bayes 2019-08-19 2020-01-30  Data Science  \n",
       "2019-08-20 09:41:28  97.105.19.58  Bayes 2019-08-19 2020-01-30  Data Science  \n",
       "2019-08-20 09:41:36  97.105.19.58  Bayes 2019-08-19 2020-01-30  Data Science  "
      ]
     },
     "execution_count": 54,
     "metadata": {},
     "output_type": "execute_result"
    }
   ],
   "source": [
    "ds.head()"
   ]
  },
  {
   "cell_type": "markdown",
   "id": "b061fd8f",
   "metadata": {},
   "source": [
    "# 1. Which lesson appears to attract the most traffic consistently across cohorts (per program)?"
   ]
  },
  {
   "cell_type": "code",
   "execution_count": 55,
   "id": "ce2eeea2",
   "metadata": {},
   "outputs": [],
   "source": [
    "# Pages with most traffic\n",
    "#pd.DataFrame(wd.path.value_counts().head())"
   ]
  },
  {
   "cell_type": "code",
   "execution_count": 56,
   "id": "a9fe1e55",
   "metadata": {},
   "outputs": [],
   "source": [
    "# Pages with most traffic\n",
    "#pd.DataFrame(ds.path.value_counts().head())"
   ]
  },
  {
   "cell_type": "markdown",
   "id": "779c8fdf",
   "metadata": {},
   "source": [
    "# 2. Is there a cohort that referred to a lesson significantly more than other cohorts seemed to gloss over?"
   ]
  },
  {
   "cell_type": "code",
   "execution_count": 57,
   "id": "22c47e0f",
   "metadata": {},
   "outputs": [],
   "source": [
    "#plt.figure(figsize=(15,10))\n",
    "#wd[wd.path == 'javascript-i'].path.resample('Q').count().plot()\n",
    "#wd[wd.path == 'java-iii'].path.resample('Q').count().plot()\n",
    "#wd[wd.path == 'html-css'].path.resample('Q').count().plot()\n",
    "#wd[wd.path == 'java-ii'].path.resample('Q').count().plot()\n",
    "#wd[wd.path == 'spring'].path.resample('Q').count().plot()\n",
    "#plt.legend(labels = ['javascript-i', 'java-iii', 'html-css', 'java-ii', 'spring'])\n",
    "#plt.title('Most Trafficed Curriculum Webpages by Web Development Students Over Time')\n",
    "#plt.xlabel('Date')\n",
    "#plt.ylabel('Number of Page Visits')"
   ]
  },
  {
   "cell_type": "code",
   "execution_count": 58,
   "id": "eb78b1d3",
   "metadata": {},
   "outputs": [],
   "source": [
    "#def date_dtypes_index(df):\n",
    "    #passing df through pd.to_datetime for date and time format/dtype for all date/time columns\n",
    "    #df.date = pd.to_datetime(df.date)\n",
    "    #df.start_date = pd.to_datetime(df.start_date)\n",
    "    #df.end_date = pd.to_datetime(df.end_date)\n",
    "    #df = df[df.end_date <= pd.to_datetime(\"today\")]\n",
    "    #df.time = df.dt.time\n",
    "    #setting date as the index\n",
    "    #df = df.set_index('date')\n",
    "    #return df"
   ]
  },
  {
   "cell_type": "code",
   "execution_count": 59,
   "id": "71dc9bcf",
   "metadata": {},
   "outputs": [],
   "source": [
    "#df.end_date.tail()"
   ]
  },
  {
   "cell_type": "code",
   "execution_count": 60,
   "id": "220d6b51",
   "metadata": {},
   "outputs": [],
   "source": [
    "#df.hist(figsize=(15, 10),\n",
    "           # ec='black',\n",
    "          #  grid=True,\n",
    "           # bins=25);"
   ]
  },
  {
   "cell_type": "code",
   "execution_count": 61,
   "id": "aafdd57d",
   "metadata": {},
   "outputs": [],
   "source": [
    "#df = date_dtypes_index(df)"
   ]
  },
  {
   "cell_type": "code",
   "execution_count": 62,
   "id": "c00d124e",
   "metadata": {},
   "outputs": [],
   "source": [
    "#df.head()"
   ]
  },
  {
   "cell_type": "markdown",
   "id": "df3fb9f5",
   "metadata": {},
   "source": [
    "# 3. Are there students who, when active, hardly access the curriculum? If so, what information do you have about these students?"
   ]
  },
  {
   "cell_type": "code",
   "execution_count": 63,
   "id": "830c36d6",
   "metadata": {},
   "outputs": [],
   "source": [
    "# Filter dataframe for the time when student were 'active' for each program\n",
    "#active_wd = wd.loc[(wd.index >= wd.start_date) & (wd.index <= wd.end_date)]\n",
    "#active_ds = ds.loc[(ds.index >= ds.start_date) & (ds.index <= ds.end_date)]"
   ]
  },
  {
   "cell_type": "code",
   "execution_count": 64,
   "id": "128fa990",
   "metadata": {},
   "outputs": [],
   "source": [
    "# web dev users with lowest page count\n",
    "#hardly_access_wd = active_wd.groupby('user_id').size().sort_values().head()\n",
    "#hardly_access_wd"
   ]
  },
  {
   "cell_type": "code",
   "execution_count": 65,
   "id": "7ae515d8",
   "metadata": {},
   "outputs": [],
   "source": [
    "# data science users with lowest page count\n",
    "#hardly_access_ds = active_ds.groupby('user_id').size().sort_values().head()\n",
    "#hardly_access_ds"
   ]
  },
  {
   "cell_type": "markdown",
   "id": "e15da590",
   "metadata": {},
   "source": [
    "# 4. Is there any suspicious activity, such as users/machines/etc accessing the curriculum who shouldn’t be? Does it appear that any web-scraping is happening? Are there any suspicious IP addresses?"
   ]
  },
  {
   "cell_type": "code",
   "execution_count": 66,
   "id": "0b8c4603",
   "metadata": {},
   "outputs": [],
   "source": [
    "# Requests allows you to send HTTP/1.1 requests extremely easily. There’s no need to manually add query \n",
    "# strings to your URLs, or to form-encode your PUT & POST data — but nowadays, just use the json method!\n",
    "\n",
    "import requests"
   ]
  },
  {
   "cell_type": "code",
   "execution_count": 67,
   "id": "b7277b41",
   "metadata": {},
   "outputs": [],
   "source": [
    "#df_sus_users = df.copy()\n",
    "\n",
    "#ip_count = df_sus_users.ip.nunique()\n",
    "#ip_count"
   ]
  },
  {
   "cell_type": "code",
   "execution_count": 68,
   "id": "1324f9c2",
   "metadata": {
    "scrolled": true
   },
   "outputs": [],
   "source": [
    "#pd.set_option('display.max_rows', None)\n",
    "#df_sus_users.groupby('ip').size().sort_values()#.unique()"
   ]
  },
  {
   "cell_type": "code",
   "execution_count": 69,
   "id": "c661bc98",
   "metadata": {},
   "outputs": [],
   "source": [
    "#df_sus_users.loc[df_sus_users['ip'] == '221.229.204.176']"
   ]
  },
  {
   "cell_type": "code",
   "execution_count": 70,
   "id": "6b5529da",
   "metadata": {},
   "outputs": [],
   "source": [
    "import ipapi"
   ]
  },
  {
   "cell_type": "code",
   "execution_count": 71,
   "id": "4d1650ea",
   "metadata": {},
   "outputs": [],
   "source": [
    "#ipapi.location(ip='221.229.204.176')"
   ]
  },
  {
   "cell_type": "code",
   "execution_count": 72,
   "id": "9dea7d71",
   "metadata": {},
   "outputs": [],
   "source": [
    "#pd.set_option('display.max_rows', None)\n",
    "#df_sus_users.ip"
   ]
  },
  {
   "cell_type": "code",
   "execution_count": 73,
   "id": "bbce8247",
   "metadata": {},
   "outputs": [],
   "source": [
    "#pd.set_option('display.max_columns', None)\n",
    "\n",
    "import json\n",
    "\n",
    "# IP address to test\n",
    "#ip_address = '24.242.183.202'\n",
    "\n",
    "# URL to send the request to\n",
    "#request_url = 'https://geolocation-db.com/jsonp/' + ip_address\n",
    "# Send request and decode the result\n",
    "#response = requests.get(request_url)\n",
    "#result = response.content.decode()\n",
    "# Clean the returned string so it just contains the dictionary data for the IP address\n",
    "#result = result.split(\"(\")[1].strip(\")\")\n",
    "# Convert this data into a dictionary\n",
    "#result  = json.loads(result)\n",
    "#print(result)"
   ]
  },
  {
   "cell_type": "code",
   "execution_count": 74,
   "id": "0b33dbbc",
   "metadata": {},
   "outputs": [],
   "source": [
    "import ipaddress \n",
    "\n",
    "#def validate_ip_address(df_sus_users):\n",
    "   # try:\n",
    "     #   ip = ipaddress.ip_address(df_sus_users.ip)\n",
    "     #   print(\"IP address {} is valid. The object returned is {}\".format(df_sus_users, ip))\n",
    "   # except ValueError:\n",
    "    #    print(\"IP address {} is not valid\".format(df_sus_users))"
   ]
  },
  {
   "cell_type": "code",
   "execution_count": 75,
   "id": "9c700529",
   "metadata": {},
   "outputs": [],
   "source": [
    "#validate_ip_address(df_sus_users)"
   ]
  },
  {
   "cell_type": "code",
   "execution_count": 76,
   "id": "5e325825",
   "metadata": {},
   "outputs": [],
   "source": [
    "#df_sus_users.dtypes"
   ]
  },
  {
   "cell_type": "code",
   "execution_count": 77,
   "id": "f31b7e1c",
   "metadata": {},
   "outputs": [],
   "source": [
    "#df_sus_users[\"ip\"] = df_sus_users[\"ip\"].astype(str)"
   ]
  },
  {
   "cell_type": "code",
   "execution_count": 78,
   "id": "d216118e",
   "metadata": {},
   "outputs": [],
   "source": [
    "#df_sus_users.dtypes"
   ]
  },
  {
   "cell_type": "markdown",
   "id": "e7c9126b",
   "metadata": {},
   "source": [
    "# 5. At some point in 2019, the ability for students and alumni to access both curriculums (web dev to ds, ds to web dev) should have been shut off. Do you see any evidence of that happening? Did it happen before?"
   ]
  },
  {
   "cell_type": "code",
   "execution_count": 79,
   "id": "8cf677f7",
   "metadata": {},
   "outputs": [],
   "source": [
    "# Number of cross-accessed pages in the last year\n",
    "#df[2019:].groupby('path').size().index.isin(df[2019:].groupby('path').size().index).sum()"
   ]
  },
  {
   "cell_type": "code",
   "execution_count": 80,
   "id": "eb84fe4b",
   "metadata": {},
   "outputs": [],
   "source": [
    "# Unique pages in a list of WD and DS\n",
    "#wd_users = list(wd.user_id.unique())\n",
    "#ds_users = list(ds.user_id.unique())"
   ]
  },
  {
   "cell_type": "code",
   "execution_count": 81,
   "id": "4f4f4f28",
   "metadata": {},
   "outputs": [],
   "source": [
    "# All cross accessed observations\n",
    "#cross_observations = df[2019:][(df[2019:].path.isin(wd[2019:].path)) & (df[2019:].path.isin(ds[2020:].path))]\n",
    "#cross_observations.head()"
   ]
  },
  {
   "cell_type": "code",
   "execution_count": 82,
   "id": "5279e6cf",
   "metadata": {},
   "outputs": [],
   "source": [
    "# Cohorts who cross accessed\n",
    "#cross_observations.name.value_counts()"
   ]
  },
  {
   "cell_type": "markdown",
   "id": "b345c88a",
   "metadata": {},
   "source": [
    "# 6. What topics are grads continuing to reference after graduation and into their jobs (for each program)?"
   ]
  },
  {
   "cell_type": "code",
   "execution_count": 83,
   "id": "00c067b9",
   "metadata": {},
   "outputs": [],
   "source": [
    "# Filter dataframes for data points only after graduation date\n",
    "postgrad_access_wd = wd[(wd.index > wd.end_date)]\n",
    "postgrad_access_ds = ds[(ds.index > ds.end_date)]"
   ]
  },
  {
   "cell_type": "code",
   "execution_count": 84,
   "id": "ce58289f",
   "metadata": {},
   "outputs": [
    {
     "data": {
      "text/plain": [
       "javascript-i    3152\n",
       "spring          2869\n",
       "html-css        2403\n",
       "java-i          2275\n",
       "java-ii         2184\n",
       "Name: path, dtype: int64"
      ]
     },
     "execution_count": 84,
     "metadata": {},
     "output_type": "execute_result"
    }
   ],
   "source": [
    "postgrad_access_wd.path.value_counts().head()"
   ]
  },
  {
   "cell_type": "code",
   "execution_count": 85,
   "id": "35859f93",
   "metadata": {},
   "outputs": [
    {
     "data": {
      "text/plain": [
       "sql/mysql-overview                          275\n",
       "classification/overview                     267\n",
       "classification/scale_features_or_not.svg    220\n",
       "anomaly-detection/overview                  191\n",
       "fundamentals/intro-to-data-science          184\n",
       "Name: path, dtype: int64"
      ]
     },
     "execution_count": 85,
     "metadata": {},
     "output_type": "execute_result"
    }
   ],
   "source": [
    "postgrad_access_ds.path.value_counts().head()"
   ]
  },
  {
   "cell_type": "markdown",
   "id": "316a2aaf",
   "metadata": {},
   "source": [
    "# 7. Which lessons are least accessed?"
   ]
  },
  {
   "cell_type": "code",
   "execution_count": 86,
   "id": "4d808f44",
   "metadata": {},
   "outputs": [],
   "source": [
    "#wd.path.value_counts().tail()"
   ]
  },
  {
   "cell_type": "code",
   "execution_count": 87,
   "id": "317f1d6d",
   "metadata": {},
   "outputs": [],
   "source": [
    "#ds.path.value_counts().tail()"
   ]
  },
  {
   "cell_type": "code",
   "execution_count": null,
   "id": "41aeb637",
   "metadata": {},
   "outputs": [],
   "source": []
  }
 ],
 "metadata": {
  "kernelspec": {
   "display_name": "Python 3 (ipykernel)",
   "language": "python",
   "name": "python3"
  },
  "language_info": {
   "codemirror_mode": {
    "name": "ipython",
    "version": 3
   },
   "file_extension": ".py",
   "mimetype": "text/x-python",
   "name": "python",
   "nbconvert_exporter": "python",
   "pygments_lexer": "ipython3",
   "version": "3.9.7"
  }
 },
 "nbformat": 4,
 "nbformat_minor": 5
}
