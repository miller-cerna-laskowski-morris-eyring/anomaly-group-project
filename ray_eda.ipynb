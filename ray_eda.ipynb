{
 "cells": [
  {
   "cell_type": "code",
   "execution_count": 1,
   "id": "cf2d362b",
   "metadata": {},
   "outputs": [
    {
     "name": "stderr",
     "output_type": "stream",
     "text": [
      "<frozen importlib._bootstrap>:228: RuntimeWarning: scipy._lib.messagestream.MessageStream size changed, may indicate binary incompatibility. Expected 56 from C header, got 64 from PyObject\n"
     ]
    }
   ],
   "source": [
    "# Import libraries\n",
    "import pandas as pd\n",
    "import numpy as np\n",
    "import matplotlib.pyplot as plt\n",
    "import seaborn as sns\n",
    "from datetime import datetime\n",
    "from datetime import timedelta\n",
    "from env import get_db_url\n",
    "\n",
    "# Import acquire and prepare\n",
    "import acquire\n",
    "import wrangle\n",
    "\n",
    "# Ignore warnings\n",
    "import warnings\n",
    "warnings.filterwarnings('ignore')"
   ]
  },
  {
   "cell_type": "code",
   "execution_count": 2,
   "id": "7b597e75",
   "metadata": {},
   "outputs": [],
   "source": [
    "# Load currciculum access logs\n",
    "df = acquire.get_access_data()"
   ]
  },
  {
   "cell_type": "code",
   "execution_count": 3,
   "id": "5845c5e8",
   "metadata": {},
   "outputs": [],
   "source": [
    "df, df_staff, df_multicohort, df_unimputed, df_non_curriculum, df_outliers = wrangle.full_wrangle()"
   ]
  },
  {
   "cell_type": "code",
   "execution_count": 4,
   "id": "c101ad26",
   "metadata": {},
   "outputs": [
    {
     "data": {
      "text/html": [
       "<div>\n",
       "<style scoped>\n",
       "    .dataframe tbody tr th:only-of-type {\n",
       "        vertical-align: middle;\n",
       "    }\n",
       "\n",
       "    .dataframe tbody tr th {\n",
       "        vertical-align: top;\n",
       "    }\n",
       "\n",
       "    .dataframe thead th {\n",
       "        text-align: right;\n",
       "    }\n",
       "</style>\n",
       "<table border=\"1\" class=\"dataframe\">\n",
       "  <thead>\n",
       "    <tr style=\"text-align: right;\">\n",
       "      <th></th>\n",
       "      <th>user_id</th>\n",
       "      <th>path</th>\n",
       "      <th>ip</th>\n",
       "      <th>cohort</th>\n",
       "      <th>unit</th>\n",
       "      <th>subunit</th>\n",
       "      <th>lesson</th>\n",
       "      <th>other</th>\n",
       "      <th>start_date</th>\n",
       "      <th>end_date</th>\n",
       "      <th>program_id</th>\n",
       "      <th>hour</th>\n",
       "      <th>program_type</th>\n",
       "    </tr>\n",
       "    <tr>\n",
       "      <th>accessed</th>\n",
       "      <th></th>\n",
       "      <th></th>\n",
       "      <th></th>\n",
       "      <th></th>\n",
       "      <th></th>\n",
       "      <th></th>\n",
       "      <th></th>\n",
       "      <th></th>\n",
       "      <th></th>\n",
       "      <th></th>\n",
       "      <th></th>\n",
       "      <th></th>\n",
       "      <th></th>\n",
       "    </tr>\n",
       "  </thead>\n",
       "  <tbody>\n",
       "    <tr>\n",
       "      <th>2018-01-26 09:56:02</th>\n",
       "      <td>1</td>\n",
       "      <td>java-ii</td>\n",
       "      <td>97.105.19.61</td>\n",
       "      <td>Hampton</td>\n",
       "      <td>java-ii</td>\n",
       "      <td></td>\n",
       "      <td></td>\n",
       "      <td></td>\n",
       "      <td>2015-09-22</td>\n",
       "      <td>2016-02-06</td>\n",
       "      <td>1</td>\n",
       "      <td>9</td>\n",
       "      <td>Web Development</td>\n",
       "    </tr>\n",
       "    <tr>\n",
       "      <th>2018-01-26 09:56:05</th>\n",
       "      <td>1</td>\n",
       "      <td>java-ii/object-oriented-programming</td>\n",
       "      <td>97.105.19.61</td>\n",
       "      <td>Hampton</td>\n",
       "      <td>java-ii</td>\n",
       "      <td></td>\n",
       "      <td>object-oriented-programming</td>\n",
       "      <td></td>\n",
       "      <td>2015-09-22</td>\n",
       "      <td>2016-02-06</td>\n",
       "      <td>1</td>\n",
       "      <td>9</td>\n",
       "      <td>Web Development</td>\n",
       "    </tr>\n",
       "    <tr>\n",
       "      <th>2018-01-26 09:56:06</th>\n",
       "      <td>1</td>\n",
       "      <td>slides/object_oriented_programming</td>\n",
       "      <td>97.105.19.61</td>\n",
       "      <td>Hampton</td>\n",
       "      <td>slides</td>\n",
       "      <td></td>\n",
       "      <td>object_oriented_programming</td>\n",
       "      <td></td>\n",
       "      <td>2015-09-22</td>\n",
       "      <td>2016-02-06</td>\n",
       "      <td>1</td>\n",
       "      <td>9</td>\n",
       "      <td>Web Development</td>\n",
       "    </tr>\n",
       "    <tr>\n",
       "      <th>2018-01-26 09:56:24</th>\n",
       "      <td>2</td>\n",
       "      <td>javascript-i/conditionals</td>\n",
       "      <td>97.105.19.61</td>\n",
       "      <td>Teddy</td>\n",
       "      <td>javascript-i</td>\n",
       "      <td></td>\n",
       "      <td>conditionals</td>\n",
       "      <td></td>\n",
       "      <td>2018-01-08</td>\n",
       "      <td>2018-05-17</td>\n",
       "      <td>2</td>\n",
       "      <td>9</td>\n",
       "      <td>Web Development</td>\n",
       "    </tr>\n",
       "    <tr>\n",
       "      <th>2018-01-26 09:56:41</th>\n",
       "      <td>2</td>\n",
       "      <td>javascript-i/loops</td>\n",
       "      <td>97.105.19.61</td>\n",
       "      <td>Teddy</td>\n",
       "      <td>javascript-i</td>\n",
       "      <td></td>\n",
       "      <td>loops</td>\n",
       "      <td></td>\n",
       "      <td>2018-01-08</td>\n",
       "      <td>2018-05-17</td>\n",
       "      <td>2</td>\n",
       "      <td>9</td>\n",
       "      <td>Web Development</td>\n",
       "    </tr>\n",
       "  </tbody>\n",
       "</table>\n",
       "</div>"
      ],
      "text/plain": [
       "                     user_id                                 path  \\\n",
       "accessed                                                            \n",
       "2018-01-26 09:56:02        1                              java-ii   \n",
       "2018-01-26 09:56:05        1  java-ii/object-oriented-programming   \n",
       "2018-01-26 09:56:06        1   slides/object_oriented_programming   \n",
       "2018-01-26 09:56:24        2            javascript-i/conditionals   \n",
       "2018-01-26 09:56:41        2                   javascript-i/loops   \n",
       "\n",
       "                               ip   cohort          unit subunit  \\\n",
       "accessed                                                           \n",
       "2018-01-26 09:56:02  97.105.19.61  Hampton       java-ii           \n",
       "2018-01-26 09:56:05  97.105.19.61  Hampton       java-ii           \n",
       "2018-01-26 09:56:06  97.105.19.61  Hampton        slides           \n",
       "2018-01-26 09:56:24  97.105.19.61    Teddy  javascript-i           \n",
       "2018-01-26 09:56:41  97.105.19.61    Teddy  javascript-i           \n",
       "\n",
       "                                          lesson other start_date   end_date  \\\n",
       "accessed                                                                       \n",
       "2018-01-26 09:56:02                                    2015-09-22 2016-02-06   \n",
       "2018-01-26 09:56:05  object-oriented-programming       2015-09-22 2016-02-06   \n",
       "2018-01-26 09:56:06  object_oriented_programming       2015-09-22 2016-02-06   \n",
       "2018-01-26 09:56:24                 conditionals       2018-01-08 2018-05-17   \n",
       "2018-01-26 09:56:41                        loops       2018-01-08 2018-05-17   \n",
       "\n",
       "                     program_id  hour     program_type  \n",
       "accessed                                                \n",
       "2018-01-26 09:56:02           1     9  Web Development  \n",
       "2018-01-26 09:56:05           1     9  Web Development  \n",
       "2018-01-26 09:56:06           1     9  Web Development  \n",
       "2018-01-26 09:56:24           2     9  Web Development  \n",
       "2018-01-26 09:56:41           2     9  Web Development  "
      ]
     },
     "execution_count": 4,
     "metadata": {},
     "output_type": "execute_result"
    }
   ],
   "source": [
    "df.head()"
   ]
  },
  {
   "cell_type": "code",
   "execution_count": 5,
   "id": "45c1065c",
   "metadata": {},
   "outputs": [
    {
     "data": {
      "text/plain": [
       "Web Development    451039\n",
       "Data Science        58370\n",
       "Name: program_type, dtype: int64"
      ]
     },
     "execution_count": 5,
     "metadata": {},
     "output_type": "execute_result"
    }
   ],
   "source": [
    "df.program_type.value_counts()"
   ]
  },
  {
   "cell_type": "code",
   "execution_count": 6,
   "id": "f5b0fca0",
   "metadata": {},
   "outputs": [],
   "source": [
    "# Create seperate dataframes for Web Development and Data Science programs\n",
    "wd = df[df.program_type != 'Data Science']\n",
    "ds = df[df.program_type == 'Data Science']"
   ]
  },
  {
   "cell_type": "markdown",
   "id": "b061fd8f",
   "metadata": {},
   "source": [
    "# 1. Which lesson appears to attract the most traffic consistently across cohorts (per program)?"
   ]
  },
  {
   "cell_type": "code",
   "execution_count": 7,
   "id": "ce2eeea2",
   "metadata": {},
   "outputs": [
    {
     "data": {
      "text/html": [
       "<div>\n",
       "<style scoped>\n",
       "    .dataframe tbody tr th:only-of-type {\n",
       "        vertical-align: middle;\n",
       "    }\n",
       "\n",
       "    .dataframe tbody tr th {\n",
       "        vertical-align: top;\n",
       "    }\n",
       "\n",
       "    .dataframe thead th {\n",
       "        text-align: right;\n",
       "    }\n",
       "</style>\n",
       "<table border=\"1\" class=\"dataframe\">\n",
       "  <thead>\n",
       "    <tr style=\"text-align: right;\">\n",
       "      <th></th>\n",
       "      <th>path</th>\n",
       "    </tr>\n",
       "  </thead>\n",
       "  <tbody>\n",
       "    <tr>\n",
       "      <th>javascript-i</th>\n",
       "      <td>12740</td>\n",
       "    </tr>\n",
       "    <tr>\n",
       "      <th>java-iii</th>\n",
       "      <td>9509</td>\n",
       "    </tr>\n",
       "    <tr>\n",
       "      <th>html-css</th>\n",
       "      <td>9290</td>\n",
       "    </tr>\n",
       "    <tr>\n",
       "      <th>java-ii</th>\n",
       "      <td>8875</td>\n",
       "    </tr>\n",
       "    <tr>\n",
       "      <th>spring</th>\n",
       "      <td>8622</td>\n",
       "    </tr>\n",
       "  </tbody>\n",
       "</table>\n",
       "</div>"
      ],
      "text/plain": [
       "               path\n",
       "javascript-i  12740\n",
       "java-iii       9509\n",
       "html-css       9290\n",
       "java-ii        8875\n",
       "spring         8622"
      ]
     },
     "execution_count": 7,
     "metadata": {},
     "output_type": "execute_result"
    }
   ],
   "source": [
    "# Pages with most traffic\n",
    "pd.DataFrame(wd.path.value_counts().head())"
   ]
  },
  {
   "cell_type": "code",
   "execution_count": 8,
   "id": "a9fe1e55",
   "metadata": {},
   "outputs": [
    {
     "data": {
      "text/html": [
       "<div>\n",
       "<style scoped>\n",
       "    .dataframe tbody tr th:only-of-type {\n",
       "        vertical-align: middle;\n",
       "    }\n",
       "\n",
       "    .dataframe tbody tr th {\n",
       "        vertical-align: top;\n",
       "    }\n",
       "\n",
       "    .dataframe thead th {\n",
       "        text-align: right;\n",
       "    }\n",
       "</style>\n",
       "<table border=\"1\" class=\"dataframe\">\n",
       "  <thead>\n",
       "    <tr style=\"text-align: right;\">\n",
       "      <th></th>\n",
       "      <th>path</th>\n",
       "    </tr>\n",
       "  </thead>\n",
       "  <tbody>\n",
       "    <tr>\n",
       "      <th>classification/overview</th>\n",
       "      <td>1310</td>\n",
       "    </tr>\n",
       "    <tr>\n",
       "      <th>1-fundamentals/1.1-intro-to-data-science</th>\n",
       "      <td>1270</td>\n",
       "    </tr>\n",
       "    <tr>\n",
       "      <th>classification/scale_features_or_not.svg</th>\n",
       "      <td>1138</td>\n",
       "    </tr>\n",
       "    <tr>\n",
       "      <th>sql/mysql-overview</th>\n",
       "      <td>1008</td>\n",
       "    </tr>\n",
       "    <tr>\n",
       "      <th>fundamentals/intro-to-data-science</th>\n",
       "      <td>946</td>\n",
       "    </tr>\n",
       "  </tbody>\n",
       "</table>\n",
       "</div>"
      ],
      "text/plain": [
       "                                          path\n",
       "classification/overview                   1310\n",
       "1-fundamentals/1.1-intro-to-data-science  1270\n",
       "classification/scale_features_or_not.svg  1138\n",
       "sql/mysql-overview                        1008\n",
       "fundamentals/intro-to-data-science         946"
      ]
     },
     "execution_count": 8,
     "metadata": {},
     "output_type": "execute_result"
    }
   ],
   "source": [
    "# Pages with most traffic\n",
    "pd.DataFrame(ds.path.value_counts().head())"
   ]
  },
  {
   "cell_type": "markdown",
   "id": "779c8fdf",
   "metadata": {},
   "source": [
    "# 2. Is there a cohort that referred to a lesson significantly more than other cohorts seemed to gloss over?"
   ]
  },
  {
   "cell_type": "code",
   "execution_count": 9,
   "id": "22c47e0f",
   "metadata": {},
   "outputs": [
    {
     "data": {
      "text/plain": [
       "Text(0, 0.5, 'Number of Page Visits')"
      ]
     },
     "execution_count": 9,
     "metadata": {},
     "output_type": "execute_result"
    },
    {
     "data": {
      "image/png": "[encoded data removed]",
      "text/plain": [
       "<Figure size 1080x720 with 1 Axes>"
      ]
     },
     "metadata": {
      "needs_background": "light"
     },
     "output_type": "display_data"
    }
   ],
   "source": [
    "plt.figure(figsize=(15,10))\n",
    "wd[wd.path == 'javascript-i'].path.resample('Q').count().plot()\n",
    "wd[wd.path == 'java-iii'].path.resample('Q').count().plot()\n",
    "wd[wd.path == 'html-css'].path.resample('Q').count().plot()\n",
    "wd[wd.path == 'java-ii'].path.resample('Q').count().plot()\n",
    "wd[wd.path == 'spring'].path.resample('Q').count().plot()\n",
    "plt.legend(labels = ['javascript-i', 'java-iii', 'html-css', 'java-ii', 'spring'])\n",
    "plt.title('Most Trafficed Curriculum Webpages by Web Development Students Over Time')\n",
    "plt.xlabel('Date')\n",
    "plt.ylabel('Number of Page Visits')"
   ]
  },
  {
   "cell_type": "markdown",
   "id": "df3fb9f5",
   "metadata": {},
   "source": [
    "# 3. Are there students who, when active, hardly access the curriculum? If so, what information do you have about these students?"
   ]
  },
  {
   "cell_type": "code",
   "execution_count": 10,
   "id": "830c36d6",
   "metadata": {},
   "outputs": [],
   "source": [
    "# Filter dataframe for the time when student were 'active' for each program\n",
    "active_wd = wd.loc[(wd.index >= wd.start_date) & (wd.index <= wd.end_date)]\n",
    "active_ds = ds.loc[(ds.index >= ds.start_date) & (ds.index <= ds.end_date)]"
   ]
  },
  {
   "cell_type": "code",
   "execution_count": 11,
   "id": "128fa990",
   "metadata": {},
   "outputs": [
    {
     "data": {
      "text/plain": [
       "user_id\n",
       "278     3\n",
       "340    13\n",
       "963    15\n",
       "41     22\n",
       "371    24\n",
       "dtype: int64"
      ]
     },
     "execution_count": 11,
     "metadata": {},
     "output_type": "execute_result"
    }
   ],
   "source": [
    "# web dev users with lowest page count\n",
    "hardly_access_wd = active_wd.groupby('user_id').size().sort_values().head()\n",
    "hardly_access_wd"
   ]
  },
  {
   "cell_type": "code",
   "execution_count": 12,
   "id": "c3f79e44",
   "metadata": {},
   "outputs": [
    {
     "data": {
      "image/png": "[encoded data removed]",
      "text/plain": [
       "<Figure size 720x360 with 1 Axes>"
      ]
     },
     "metadata": {
      "needs_background": "light"
     },
     "output_type": "display_data"
    }
   ],
   "source": [
    "\n",
    "user_id_count  = active_wd.groupby('user_id').size().sort_values().head()\n",
    "user_id_count = user_id_count[:5,]\n",
    "plt.figure(figsize=(10,5))\n",
    "sns.barplot(user_id_count.index, user_id_count.values, alpha=0.8)\n",
    "plt.title('Hardly Access Web Dev')\n",
    "plt.ylabel('Number of Occurrences', fontsize=12)\n",
    "plt.xlabel('User ID', fontsize=12)\n",
    "plt.show()"
   ]
  },
  {
   "cell_type": "code",
   "execution_count": 13,
   "id": "7ae515d8",
   "metadata": {},
   "outputs": [
    {
     "data": {
      "text/plain": [
       "user_id\n",
       "902    118\n",
       "780    145\n",
       "577    190\n",
       "901    201\n",
       "683    205\n",
       "dtype: int64"
      ]
     },
     "execution_count": 13,
     "metadata": {},
     "output_type": "execute_result"
    }
   ],
   "source": [
    "# data science users with lowest page count\n",
    "hardly_access_ds = active_ds.groupby('user_id').size().sort_values().head()\n",
    "hardly_access_ds"
   ]
  },
  {
   "cell_type": "markdown",
   "id": "e15da590",
   "metadata": {},
   "source": [
    "# 4. Is there any suspicious activity, such as users/machines/etc accessing the curriculum who shouldn’t be? Does it appear that any web-scraping is happening? Are there any suspicious IP addresses?"
   ]
  },
  {
   "cell_type": "code",
   "execution_count": 14,
   "id": "0b8c4603",
   "metadata": {},
   "outputs": [],
   "source": [
    "# Requests allows you to send HTTP/1.1 requests extremely easily. There’s no need to manually add query \n",
    "# strings to your URLs, or to form-encode your PUT & POST data — but nowadays, just use the json method!\n",
    "\n",
    "import requests"
   ]
  },
  {
   "cell_type": "code",
   "execution_count": 15,
   "id": "b7277b41",
   "metadata": {},
   "outputs": [
    {
     "data": {
      "text/plain": [
       "2560"
      ]
     },
     "execution_count": 15,
     "metadata": {},
     "output_type": "execute_result"
    }
   ],
   "source": [
    "df_sus_users = df.copy()\n",
    "\n",
    "ip_count = df_sus_users.ip.nunique()\n",
    "ip_count"
   ]
  },
  {
   "cell_type": "code",
   "execution_count": 16,
   "id": "1324f9c2",
   "metadata": {
    "scrolled": true
   },
   "outputs": [],
   "source": [
    "#pd.set_option('display.max_rows', None)\n",
    "#df_sus_users.groupby('ip').size().sort_values().unique()"
   ]
  },
  {
   "cell_type": "code",
   "execution_count": 17,
   "id": "c661bc98",
   "metadata": {},
   "outputs": [
    {
     "data": {
      "text/html": [
       "<div>\n",
       "<style scoped>\n",
       "    .dataframe tbody tr th:only-of-type {\n",
       "        vertical-align: middle;\n",
       "    }\n",
       "\n",
       "    .dataframe tbody tr th {\n",
       "        vertical-align: top;\n",
       "    }\n",
       "\n",
       "    .dataframe thead th {\n",
       "        text-align: right;\n",
       "    }\n",
       "</style>\n",
       "<table border=\"1\" class=\"dataframe\">\n",
       "  <thead>\n",
       "    <tr style=\"text-align: right;\">\n",
       "      <th></th>\n",
       "      <th>user_id</th>\n",
       "      <th>path</th>\n",
       "      <th>ip</th>\n",
       "      <th>cohort</th>\n",
       "      <th>unit</th>\n",
       "      <th>subunit</th>\n",
       "      <th>lesson</th>\n",
       "      <th>other</th>\n",
       "      <th>start_date</th>\n",
       "      <th>end_date</th>\n",
       "      <th>program_id</th>\n",
       "      <th>hour</th>\n",
       "      <th>program_type</th>\n",
       "    </tr>\n",
       "    <tr>\n",
       "      <th>accessed</th>\n",
       "      <th></th>\n",
       "      <th></th>\n",
       "      <th></th>\n",
       "      <th></th>\n",
       "      <th></th>\n",
       "      <th></th>\n",
       "      <th></th>\n",
       "      <th></th>\n",
       "      <th></th>\n",
       "      <th></th>\n",
       "      <th></th>\n",
       "      <th></th>\n",
       "      <th></th>\n",
       "    </tr>\n",
       "  </thead>\n",
       "  <tbody>\n",
       "  </tbody>\n",
       "</table>\n",
       "</div>"
      ],
      "text/plain": [
       "Empty DataFrame\n",
       "Columns: [user_id, path, ip, cohort, unit, subunit, lesson, other, start_date, end_date, program_id, hour, program_type]\n",
       "Index: []"
      ]
     },
     "execution_count": 17,
     "metadata": {},
     "output_type": "execute_result"
    }
   ],
   "source": [
    "df_sus_users.loc[df_sus_users['ip'] == '221.229.204.176']"
   ]
  },
  {
   "cell_type": "code",
   "execution_count": 18,
   "id": "6b5529da",
   "metadata": {},
   "outputs": [],
   "source": [
    "import ipapi"
   ]
  },
  {
   "cell_type": "code",
   "execution_count": 19,
   "id": "4d1650ea",
   "metadata": {},
   "outputs": [
    {
     "data": {
      "text/plain": [
       "{'ip': '221.229.204.176',\n",
       " 'version': 'IPv4',\n",
       " 'city': 'Tongshan',\n",
       " 'region': 'Henan',\n",
       " 'region_code': 'HA',\n",
       " 'country': 'CN',\n",
       " 'country_name': 'China',\n",
       " 'country_code': 'CN',\n",
       " 'country_code_iso3': 'CHN',\n",
       " 'country_capital': 'Beijing',\n",
       " 'country_tld': '.cn',\n",
       " 'continent_code': 'AS',\n",
       " 'in_eu': False,\n",
       " 'postal': None,\n",
       " 'latitude': 32.7705,\n",
       " 'longitude': 113.561,\n",
       " 'timezone': 'Asia/Shanghai',\n",
       " 'utc_offset': '+0800',\n",
       " 'country_calling_code': '+86',\n",
       " 'currency': 'CNY',\n",
       " 'currency_name': 'Yuan Renminbi',\n",
       " 'languages': 'zh-CN,yue,wuu,dta,ug,za',\n",
       " 'country_area': 9596960.0,\n",
       " 'country_population': 1392730000,\n",
       " 'asn': 'AS4134',\n",
       " 'org': 'Chinanet'}"
      ]
     },
     "execution_count": 19,
     "metadata": {},
     "output_type": "execute_result"
    }
   ],
   "source": [
    "ipapi.location(ip='221.229.204.176')"
   ]
  },
  {
   "cell_type": "code",
   "execution_count": 20,
   "id": "bbce8247",
   "metadata": {},
   "outputs": [
    {
     "name": "stdout",
     "output_type": "stream",
     "text": [
      "{'country_code': 'US', 'country_name': 'United States', 'city': 'Killeen', 'postal': '76541', 'latitude': 31.1164, 'longitude': -97.7278, 'IPv4': '24.242.183.202', 'state': 'Texas'}\n"
     ]
    }
   ],
   "source": [
    "#pd.set_option('display.max_columns', None)\n",
    "\n",
    "import json\n",
    "\n",
    "# IP address to test\n",
    "ip_address = '24.242.183.202'\n",
    "\n",
    "# URL to send the request to\n",
    "request_url = 'https://geolocation-db.com/jsonp/' + ip_address\n",
    "# Send request and decode the result\n",
    "response = requests.get(request_url)\n",
    "result = response.content.decode()\n",
    "# Clean the returned string so it just contains the dictionary data for the IP address\n",
    "result = result.split(\"(\")[1].strip(\")\")\n",
    "# Convert this data into a dictionary\n",
    "result  = json.loads(result)\n",
    "print(result)"
   ]
  },
  {
   "cell_type": "code",
   "execution_count": 21,
   "id": "0b33dbbc",
   "metadata": {},
   "outputs": [],
   "source": [
    "import ipaddress \n",
    "\n",
    "def validate_ip_address(df_sus_users):\n",
    "    try:\n",
    "        ip = ipaddress.ip_address(df_sus_users.ip)\n",
    "        print(\"IP address {} is valid. The object returned is {}\".format(df_sus_users, ip))\n",
    "    except ValueError:\n",
    "        print(\"IP address {} is not valid\".format(df_sus_users))"
   ]
  },
  {
   "cell_type": "code",
   "execution_count": 22,
   "id": "9c700529",
   "metadata": {},
   "outputs": [],
   "source": [
    "#validate_ip_address(df_sus_users)"
   ]
  },
  {
   "cell_type": "markdown",
   "id": "e7c9126b",
   "metadata": {},
   "source": [
    "# 5. At some point in 2019, the ability for students and alumni to access both curriculums (web dev to ds, ds to web dev) should have been shut off. Do you see any evidence of that happening? Did it happen before?"
   ]
  },
  {
   "cell_type": "code",
   "execution_count": 23,
   "id": "8cf677f7",
   "metadata": {},
   "outputs": [
    {
     "data": {
      "text/plain": [
       "1484"
      ]
     },
     "execution_count": 23,
     "metadata": {},
     "output_type": "execute_result"
    }
   ],
   "source": [
    "# Number of cross-accessed pages in the last year\n",
    "df[2019:].groupby('path').size().index.isin(df[2019:].groupby('path').size().index).sum()"
   ]
  },
  {
   "cell_type": "code",
   "execution_count": 24,
   "id": "ca5bd181",
   "metadata": {},
   "outputs": [],
   "source": [
    "# Unique pages in a list of WD and DS\n",
    "wd_users = list(wd.user_id.unique())\n",
    "ds_users = list(ds.user_id.unique())"
   ]
  },
  {
   "cell_type": "code",
   "execution_count": 25,
   "id": "e7dbb462",
   "metadata": {},
   "outputs": [
    {
     "data": {
      "text/html": [
       "<div>\n",
       "<style scoped>\n",
       "    .dataframe tbody tr th:only-of-type {\n",
       "        vertical-align: middle;\n",
       "    }\n",
       "\n",
       "    .dataframe tbody tr th {\n",
       "        vertical-align: top;\n",
       "    }\n",
       "\n",
       "    .dataframe thead th {\n",
       "        text-align: right;\n",
       "    }\n",
       "</style>\n",
       "<table border=\"1\" class=\"dataframe\">\n",
       "  <thead>\n",
       "    <tr style=\"text-align: right;\">\n",
       "      <th></th>\n",
       "      <th>user_id</th>\n",
       "      <th>path</th>\n",
       "      <th>ip</th>\n",
       "      <th>cohort</th>\n",
       "      <th>unit</th>\n",
       "      <th>subunit</th>\n",
       "      <th>lesson</th>\n",
       "      <th>other</th>\n",
       "      <th>start_date</th>\n",
       "      <th>end_date</th>\n",
       "      <th>program_id</th>\n",
       "      <th>hour</th>\n",
       "      <th>program_type</th>\n",
       "    </tr>\n",
       "    <tr>\n",
       "      <th>accessed</th>\n",
       "      <th></th>\n",
       "      <th></th>\n",
       "      <th></th>\n",
       "      <th></th>\n",
       "      <th></th>\n",
       "      <th></th>\n",
       "      <th></th>\n",
       "      <th></th>\n",
       "      <th></th>\n",
       "      <th></th>\n",
       "      <th></th>\n",
       "      <th></th>\n",
       "      <th></th>\n",
       "    </tr>\n",
       "  </thead>\n",
       "  <tbody>\n",
       "    <tr>\n",
       "      <th>2018-01-31 13:55:18</th>\n",
       "      <td>33</td>\n",
       "      <td>mysql</td>\n",
       "      <td>97.105.19.61</td>\n",
       "      <td>Sequoia</td>\n",
       "      <td>mysql</td>\n",
       "      <td></td>\n",
       "      <td></td>\n",
       "      <td></td>\n",
       "      <td>2017-09-27</td>\n",
       "      <td>2018-02-15</td>\n",
       "      <td>2</td>\n",
       "      <td>13</td>\n",
       "      <td>Web Development</td>\n",
       "    </tr>\n",
       "    <tr>\n",
       "      <th>2018-01-31 13:56:50</th>\n",
       "      <td>16</td>\n",
       "      <td>html-css/forms</td>\n",
       "      <td>97.105.19.61</td>\n",
       "      <td>Sequoia</td>\n",
       "      <td>html-css</td>\n",
       "      <td></td>\n",
       "      <td>forms</td>\n",
       "      <td></td>\n",
       "      <td>2017-09-27</td>\n",
       "      <td>2018-02-15</td>\n",
       "      <td>2</td>\n",
       "      <td>13</td>\n",
       "      <td>Web Development</td>\n",
       "    </tr>\n",
       "    <tr>\n",
       "      <th>2018-01-31 14:04:42</th>\n",
       "      <td>33</td>\n",
       "      <td>mysql</td>\n",
       "      <td>97.105.19.61</td>\n",
       "      <td>Sequoia</td>\n",
       "      <td>mysql</td>\n",
       "      <td></td>\n",
       "      <td></td>\n",
       "      <td></td>\n",
       "      <td>2017-09-27</td>\n",
       "      <td>2018-02-15</td>\n",
       "      <td>2</td>\n",
       "      <td>14</td>\n",
       "      <td>Web Development</td>\n",
       "    </tr>\n",
       "    <tr>\n",
       "      <th>2018-01-31 14:19:32</th>\n",
       "      <td>33</td>\n",
       "      <td>mysql</td>\n",
       "      <td>97.105.19.61</td>\n",
       "      <td>Sequoia</td>\n",
       "      <td>mysql</td>\n",
       "      <td></td>\n",
       "      <td></td>\n",
       "      <td></td>\n",
       "      <td>2017-09-27</td>\n",
       "      <td>2018-02-15</td>\n",
       "      <td>2</td>\n",
       "      <td>14</td>\n",
       "      <td>Web Development</td>\n",
       "    </tr>\n",
       "    <tr>\n",
       "      <th>2018-01-31 14:32:16</th>\n",
       "      <td>11</td>\n",
       "      <td>javascript-i</td>\n",
       "      <td>97.105.19.61</td>\n",
       "      <td>Arches</td>\n",
       "      <td>javascript-i</td>\n",
       "      <td></td>\n",
       "      <td></td>\n",
       "      <td></td>\n",
       "      <td>2014-02-04</td>\n",
       "      <td>2014-04-22</td>\n",
       "      <td>1</td>\n",
       "      <td>14</td>\n",
       "      <td>Web Development</td>\n",
       "    </tr>\n",
       "  </tbody>\n",
       "</table>\n",
       "</div>"
      ],
      "text/plain": [
       "                     user_id            path            ip   cohort  \\\n",
       "accessed                                                              \n",
       "2018-01-31 13:55:18       33           mysql  97.105.19.61  Sequoia   \n",
       "2018-01-31 13:56:50       16  html-css/forms  97.105.19.61  Sequoia   \n",
       "2018-01-31 14:04:42       33           mysql  97.105.19.61  Sequoia   \n",
       "2018-01-31 14:19:32       33           mysql  97.105.19.61  Sequoia   \n",
       "2018-01-31 14:32:16       11    javascript-i  97.105.19.61   Arches   \n",
       "\n",
       "                             unit subunit lesson other start_date   end_date  \\\n",
       "accessed                                                                       \n",
       "2018-01-31 13:55:18         mysql                      2017-09-27 2018-02-15   \n",
       "2018-01-31 13:56:50      html-css          forms       2017-09-27 2018-02-15   \n",
       "2018-01-31 14:04:42         mysql                      2017-09-27 2018-02-15   \n",
       "2018-01-31 14:19:32         mysql                      2017-09-27 2018-02-15   \n",
       "2018-01-31 14:32:16  javascript-i                      2014-02-04 2014-04-22   \n",
       "\n",
       "                     program_id  hour     program_type  \n",
       "accessed                                                \n",
       "2018-01-31 13:55:18           2    13  Web Development  \n",
       "2018-01-31 13:56:50           2    13  Web Development  \n",
       "2018-01-31 14:04:42           2    14  Web Development  \n",
       "2018-01-31 14:19:32           2    14  Web Development  \n",
       "2018-01-31 14:32:16           1    14  Web Development  "
      ]
     },
     "execution_count": 25,
     "metadata": {},
     "output_type": "execute_result"
    }
   ],
   "source": [
    "# All cross accessed observations\n",
    "cross_observations = df[2019:][(df[2019:].path.isin(wd[2019:].path)) & (df[2019:].path.isin(ds[2020:].path))]\n",
    "cross_observations.head()"
   ]
  },
  {
   "cell_type": "code",
   "execution_count": 27,
   "id": "03a01b85",
   "metadata": {},
   "outputs": [
    {
     "data": {
      "text/plain": [
       "Ceres         6384\n",
       "Voyageurs     6344\n",
       "Apex          6056\n",
       "Zion          6041\n",
       "Jupiter       5758\n",
       "Xanadu        5662\n",
       "Deimos        5630\n",
       "Fortuna       5208\n",
       "Teddy         4874\n",
       "Hyperion      4722\n",
       "Ganymede      4560\n",
       "Bayes         4553\n",
       "Kalypso       4003\n",
       "Darden        3928\n",
       "Andromeda     3904\n",
       "Betelgeuse    3845\n",
       "Curie         3581\n",
       "Bash          3427\n",
       "Europa        3408\n",
       "Wrangell      3278\n",
       "Ulysses       3170\n",
       "Yosemite      2871\n",
       "Lassen        2512\n",
       "Marco         2307\n",
       "Luna          2075\n",
       "Sequoia       1587\n",
       "Arches        1190\n",
       "Easley        1021\n",
       "Florence       787\n",
       "Pinnacles      507\n",
       "Neptune        360\n",
       "Hampton        335\n",
       "Niagara        230\n",
       "Kings          147\n",
       "Olympic        115\n",
       "Quincy          99\n",
       "Ike             90\n",
       "Mammoth         75\n",
       "Oberon          53\n",
       "Franklin        20\n",
       "Glacier         12\n",
       "Joshua           8\n",
       "Badlands         6\n",
       "Name: cohort, dtype: int64"
      ]
     },
     "execution_count": 27,
     "metadata": {},
     "output_type": "execute_result"
    }
   ],
   "source": [
    "# Cohorts who cross accessed\n",
    "cross_observations.cohort.value_counts()"
   ]
  },
  {
   "cell_type": "markdown",
   "id": "b345c88a",
   "metadata": {},
   "source": [
    "# 6. What topics are grads continuing to reference after graduation and into their jobs (for each program)?"
   ]
  },
  {
   "cell_type": "code",
   "execution_count": 28,
   "id": "00c067b9",
   "metadata": {},
   "outputs": [],
   "source": [
    "# Filter dataframes for data points only after graduation date\n",
    "postgrad_access_wd = wd[(wd.index > wd.end_date)]\n",
    "postgrad_access_ds = ds[(ds.index > ds.end_date)]"
   ]
  },
  {
   "cell_type": "code",
   "execution_count": 29,
   "id": "ce58289f",
   "metadata": {},
   "outputs": [
    {
     "data": {
      "text/plain": [
       "javascript-i    2432\n",
       "spring          2313\n",
       "html-css        1933\n",
       "java-i          1691\n",
       "java-ii         1686\n",
       "Name: path, dtype: int64"
      ]
     },
     "execution_count": 29,
     "metadata": {},
     "output_type": "execute_result"
    }
   ],
   "source": [
    "postgrad_access_wd.path.value_counts().head()"
   ]
  },
  {
   "cell_type": "code",
   "execution_count": 135,
   "id": "f213cccd",
   "metadata": {},
   "outputs": [
    {
     "data": {
      "text/plain": [
       "<AxesSubplot:>"
      ]
     },
     "execution_count": 135,
     "metadata": {},
     "output_type": "execute_result"
    },
    {
     "data": {
      "image/png": "[encoded data removed]",
      "text/plain": [
       "<Figure size 432x288 with 1 Axes>"
      ]
     },
     "metadata": {
      "needs_background": "light"
     },
     "output_type": "display_data"
    }
   ],
   "source": [
    "postgrad_access_wd.path.value_counts().head().sort_values(ascending=True).plot(\n",
    "    kind='barh', color=['black', 'red', 'green', 'blue', 'cyan'])\n"
   ]
  },
  {
   "cell_type": "code",
   "execution_count": 31,
   "id": "35859f93",
   "metadata": {},
   "outputs": [
    {
     "data": {
      "text/plain": [
       "classification/overview                     220\n",
       "sql/mysql-overview                          210\n",
       "classification/scale_features_or_not.svg    174\n",
       "fundamentals/intro-to-data-science          138\n",
       "anomaly-detection/overview                  127\n",
       "Name: path, dtype: int64"
      ]
     },
     "execution_count": 31,
     "metadata": {},
     "output_type": "execute_result"
    }
   ],
   "source": [
    "postgrad_access_ds.path.value_counts().head()"
   ]
  },
  {
   "cell_type": "code",
   "execution_count": 134,
   "id": "96912cd8",
   "metadata": {},
   "outputs": [
    {
     "data": {
      "text/plain": [
       "<AxesSubplot:>"
      ]
     },
     "execution_count": 134,
     "metadata": {},
     "output_type": "execute_result"
    },
    {
     "data": {
      "image/png": "[encoded data removed]",
      "text/plain": [
       "<Figure size 432x288 with 1 Axes>"
      ]
     },
     "metadata": {
      "needs_background": "light"
     },
     "output_type": "display_data"
    }
   ],
   "source": [
    "postgrad_access_ds.path.value_counts().head().sort_values(ascending=True).plot(kind='barh', \n",
    "                                                                               color=['black', 'red', 'green', 'blue', 'cyan'])"
   ]
  },
  {
   "cell_type": "code",
   "execution_count": 133,
   "id": "b1c400da",
   "metadata": {},
   "outputs": [
    {
     "data": {
      "text/plain": [
       "Text(0.5, 1.0, 'Topics referenced after grad')"
      ]
     },
     "execution_count": 133,
     "metadata": {},
     "output_type": "execute_result"
    },
    {
     "data": {
      "image/png": "[encoded data removed]",
      "text/plain": [
       "<Figure size 1440x360 with 1 Axes>"
      ]
     },
     "metadata": {
      "needs_background": "light"
     },
     "output_type": "display_data"
    }
   ],
   "source": [
    "plt.figure(figsize=(20,5))\n",
    "sns.countplot(x=postgrad_access_ds.path, \n",
    "              order=postgrad_access_ds.path.value_counts().iloc[:5].index).set_title(\"Topics referenced after grad\")"
   ]
  },
  {
   "cell_type": "code",
   "execution_count": 132,
   "id": "e4d15093",
   "metadata": {},
   "outputs": [
    {
     "data": {
      "text/plain": [
       "Text(0.5, 1.0, 'Topics Referenced after Graduation')"
      ]
     },
     "execution_count": 132,
     "metadata": {},
     "output_type": "execute_result"
    },
    {
     "data": {
      "image/png": "[encoded data removed]",
      "text/plain": [
       "<Figure size 432x288 with 1 Axes>"
      ]
     },
     "metadata": {
      "needs_background": "light"
     },
     "output_type": "display_data"
    }
   ],
   "source": [
    "sns.countplot(y=\"path\", data=postgrad_access_ds, palette=\"Greens_d\", \n",
    "              order=postgrad_access_ds.path.value_counts().iloc[:5].index)\n",
    "plt.title(\"Topics Referenced after Graduation\")"
   ]
  },
  {
   "cell_type": "code",
   "execution_count": 131,
   "id": "38c48803",
   "metadata": {},
   "outputs": [
    {
     "data": {
      "text/plain": [
       "<AxesSubplot:title={'center':'Most Topics Referenced after Graduation'}, xlabel='count', ylabel='path'>"
      ]
     },
     "execution_count": 131,
     "metadata": {},
     "output_type": "execute_result"
    },
    {
     "data": {
      "image/png": "[encoded data removed]",
      "text/plain": [
       "<Figure size 432x288 with 1 Axes>"
      ]
     },
     "metadata": {
      "needs_background": "light"
     },
     "output_type": "display_data"
    }
   ],
   "source": [
    "plt.title(\"Most Topics Referenced after Graduation\")\n",
    "sns.countplot(y=\"path\",data=postgrad_access_wd, palette=\"pastel\", \n",
    "              order=postgrad_access_wd.path.value_counts().iloc[:5].index)"
   ]
  },
  {
   "cell_type": "markdown",
   "id": "8a106500",
   "metadata": {},
   "source": [
    "# 7. Which lessons are least accessed?"
   ]
  },
  {
   "cell_type": "code",
   "execution_count": 32,
   "id": "220ef01c",
   "metadata": {},
   "outputs": [
    {
     "data": {
      "text/plain": [
       "examples/css/..%5c    1\n",
       "115                   1\n",
       "133                   1\n",
       "131                   1\n",
       "javascript/loops      1\n",
       "Name: path, dtype: int64"
      ]
     },
     "execution_count": 32,
     "metadata": {},
     "output_type": "execute_result"
    }
   ],
   "source": [
    "wd.path.value_counts().tail()"
   ]
  },
  {
   "cell_type": "code",
   "execution_count": 33,
   "id": "9bea3863",
   "metadata": {},
   "outputs": [
    {
     "data": {
      "text/plain": [
       "itc%20-%20ml                 1\n",
       "itc-ml                       1\n",
       "java-i/console-io            1\n",
       "clustering/dbscan            1\n",
       "2.1-spreadsheets-overview    1\n",
       "Name: path, dtype: int64"
      ]
     },
     "execution_count": 33,
     "metadata": {},
     "output_type": "execute_result"
    }
   ],
   "source": [
    "ds.path.value_counts().tail()"
   ]
  },
  {
   "cell_type": "code",
   "execution_count": null,
   "id": "b5ab7537",
   "metadata": {},
   "outputs": [],
   "source": []
  }
 ],
 "metadata": {
  "kernelspec": {
   "display_name": "Python 3 (ipykernel)",
   "language": "python",
   "name": "python3"
  },
  "language_info": {
   "codemirror_mode": {
    "name": "ipython",
    "version": 3
   },
   "file_extension": ".py",
   "mimetype": "text/x-python",
   "name": "python",
   "nbconvert_exporter": "python",
   "pygments_lexer": "ipython3",
   "version": "3.9.7"
  }
 },
 "nbformat": 4,
 "nbformat_minor": 5
}
