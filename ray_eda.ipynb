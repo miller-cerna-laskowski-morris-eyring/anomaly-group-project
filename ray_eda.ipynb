{
 "cells": [
  {
   "cell_type": "code",
   "execution_count": 1,
   "id": "cf2d362b",
   "metadata": {},
   "outputs": [
    {
     "name": "stderr",
     "output_type": "stream",
     "text": [
      "<frozen importlib._bootstrap>:228: RuntimeWarning: scipy._lib.messagestream.MessageStream size changed, may indicate binary incompatibility. Expected 56 from C header, got 64 from PyObject\n"
     ]
    }
   ],
   "source": [
    "# Import libraries\n",
    "import pandas as pd\n",
    "import numpy as np\n",
    "import matplotlib.pyplot as plt\n",
    "import seaborn as sns\n",
    "from datetime import datetime\n",
    "from datetime import timedelta\n",
    "from env import get_db_url\n",
    "import math\n",
    "# Import acquire and prepare\n",
    "import acquire\n",
    "import wrangle\n",
    "\n",
    "# Ignore warnings\n",
    "import warnings\n",
    "warnings.filterwarnings('ignore')"
   ]
  },
  {
   "cell_type": "code",
   "execution_count": 2,
   "id": "7b597e75",
   "metadata": {},
   "outputs": [],
   "source": [
    "# Load currciculum access logs\n",
    "df = acquire.get_access_data()"
   ]
  },
  {
   "cell_type": "code",
   "execution_count": 3,
   "id": "5845c5e8",
   "metadata": {},
   "outputs": [
    {
     "name": "stdout",
     "output_type": "stream",
     "text": [
      "This returned the following dataframes (reassign if you missed any):\n"
     ]
    },
    {
     "data": {
      "text/html": [
       "<div>\n",
       "<style scoped>\n",
       "    .dataframe tbody tr th:only-of-type {\n",
       "        vertical-align: middle;\n",
       "    }\n",
       "\n",
       "    .dataframe tbody tr th {\n",
       "        vertical-align: top;\n",
       "    }\n",
       "\n",
       "    .dataframe thead th {\n",
       "        text-align: right;\n",
       "    }\n",
       "</style>\n",
       "<table border=\"1\" class=\"dataframe\">\n",
       "  <thead>\n",
       "    <tr style=\"text-align: right;\">\n",
       "      <th></th>\n",
       "      <th>Description</th>\n",
       "      <th>Record Count</th>\n",
       "      <th>Percent of Raw df</th>\n",
       "    </tr>\n",
       "    <tr>\n",
       "      <th>Dataframe</th>\n",
       "      <th></th>\n",
       "      <th></th>\n",
       "      <th></th>\n",
       "    </tr>\n",
       "  </thead>\n",
       "  <tbody>\n",
       "    <tr>\n",
       "      <th>df</th>\n",
       "      <td>Fully cleaned dataframe</td>\n",
       "      <td>509409</td>\n",
       "      <td>56.6%</td>\n",
       "    </tr>\n",
       "    <tr>\n",
       "      <th>df_staff</th>\n",
       "      <td>Cohort == Staff</td>\n",
       "      <td>84031</td>\n",
       "      <td>9.33%</td>\n",
       "    </tr>\n",
       "    <tr>\n",
       "      <th>df_multicohort</th>\n",
       "      <td>Users listed in more than one cohort</td>\n",
       "      <td>22708</td>\n",
       "      <td>2.52%</td>\n",
       "    </tr>\n",
       "    <tr>\n",
       "      <th>df_unimputed</th>\n",
       "      <td>Users with unknown/unimputable cohorts</td>\n",
       "      <td>45904</td>\n",
       "      <td>5.1%</td>\n",
       "    </tr>\n",
       "    <tr>\n",
       "      <th>df_non_curriculum</th>\n",
       "      <td>Accessess not related to the curriculum, i.e. directories, images</td>\n",
       "      <td>116539</td>\n",
       "      <td>12.9%</td>\n",
       "    </tr>\n",
       "    <tr>\n",
       "      <th>df_outliers</th>\n",
       "      <td>Accesses meeting outlier conditions</td>\n",
       "      <td>121626</td>\n",
       "      <td>13.5%</td>\n",
       "    </tr>\n",
       "  </tbody>\n",
       "</table>\n",
       "</div>"
      ],
      "text/plain": [
       "                                                                         Description  \\\n",
       "Dataframe                                                                              \n",
       "df                                                           Fully cleaned dataframe   \n",
       "df_staff                                                             Cohort == Staff   \n",
       "df_multicohort                                  Users listed in more than one cohort   \n",
       "df_unimputed                                  Users with unknown/unimputable cohorts   \n",
       "df_non_curriculum  Accessess not related to the curriculum, i.e. directories, images   \n",
       "df_outliers                                      Accesses meeting outlier conditions   \n",
       "\n",
       "                   Record Count Percent of Raw df  \n",
       "Dataframe                                          \n",
       "df                       509409             56.6%  \n",
       "df_staff                  84031             9.33%  \n",
       "df_multicohort            22708             2.52%  \n",
       "df_unimputed              45904              5.1%  \n",
       "df_non_curriculum        116539             12.9%  \n",
       "df_outliers              121626             13.5%  "
      ]
     },
     "metadata": {},
     "output_type": "display_data"
    }
   ],
   "source": [
    "df, df_staff, df_multicohort, df_unimputed, df_non_curriculum, df_outliers = wrangle.full_wrangle()"
   ]
  },
  {
   "cell_type": "code",
   "execution_count": 4,
   "id": "c101ad26",
   "metadata": {},
   "outputs": [
    {
     "data": {
      "text/html": [
       "<div>\n",
       "<style scoped>\n",
       "    .dataframe tbody tr th:only-of-type {\n",
       "        vertical-align: middle;\n",
       "    }\n",
       "\n",
       "    .dataframe tbody tr th {\n",
       "        vertical-align: top;\n",
       "    }\n",
       "\n",
       "    .dataframe thead th {\n",
       "        text-align: right;\n",
       "    }\n",
       "</style>\n",
       "<table border=\"1\" class=\"dataframe\">\n",
       "  <thead>\n",
       "    <tr style=\"text-align: right;\">\n",
       "      <th></th>\n",
       "      <th>accessed</th>\n",
       "      <th>path</th>\n",
       "      <th>ip</th>\n",
       "      <th>user_id</th>\n",
       "      <th>program_id</th>\n",
       "      <th>program_type</th>\n",
       "      <th>cohort</th>\n",
       "      <th>start_date</th>\n",
       "      <th>end_date</th>\n",
       "      <th>lesson</th>\n",
       "      <th>hour</th>\n",
       "    </tr>\n",
       "  </thead>\n",
       "  <tbody>\n",
       "    <tr>\n",
       "      <th>1</th>\n",
       "      <td>2018-01-26 09:56:02</td>\n",
       "      <td>java-ii</td>\n",
       "      <td>97.105.19.61</td>\n",
       "      <td>1</td>\n",
       "      <td>1.0</td>\n",
       "      <td>Web Development</td>\n",
       "      <td>Hampton</td>\n",
       "      <td>2015-09-22</td>\n",
       "      <td>2016-02-06</td>\n",
       "      <td>Not Lesson</td>\n",
       "      <td>9</td>\n",
       "    </tr>\n",
       "    <tr>\n",
       "      <th>2</th>\n",
       "      <td>2018-01-26 09:56:05</td>\n",
       "      <td>java-ii/object-oriented-programming</td>\n",
       "      <td>97.105.19.61</td>\n",
       "      <td>1</td>\n",
       "      <td>1.0</td>\n",
       "      <td>Web Development</td>\n",
       "      <td>Hampton</td>\n",
       "      <td>2015-09-22</td>\n",
       "      <td>2016-02-06</td>\n",
       "      <td>java-ii.object-oriented-programming</td>\n",
       "      <td>9</td>\n",
       "    </tr>\n",
       "    <tr>\n",
       "      <th>3</th>\n",
       "      <td>2018-01-26 09:56:06</td>\n",
       "      <td>slides/object_oriented_programming</td>\n",
       "      <td>97.105.19.61</td>\n",
       "      <td>1</td>\n",
       "      <td>1.0</td>\n",
       "      <td>Web Development</td>\n",
       "      <td>Hampton</td>\n",
       "      <td>2015-09-22</td>\n",
       "      <td>2016-02-06</td>\n",
       "      <td>slides.object_oriented_programming</td>\n",
       "      <td>9</td>\n",
       "    </tr>\n",
       "    <tr>\n",
       "      <th>4</th>\n",
       "      <td>2018-01-26 09:56:24</td>\n",
       "      <td>javascript-i/conditionals</td>\n",
       "      <td>97.105.19.61</td>\n",
       "      <td>2</td>\n",
       "      <td>2.0</td>\n",
       "      <td>Web Development</td>\n",
       "      <td>Teddy</td>\n",
       "      <td>2018-01-08</td>\n",
       "      <td>2018-05-17</td>\n",
       "      <td>javascript-i.conditionals</td>\n",
       "      <td>9</td>\n",
       "    </tr>\n",
       "    <tr>\n",
       "      <th>5</th>\n",
       "      <td>2018-01-26 09:56:41</td>\n",
       "      <td>javascript-i/loops</td>\n",
       "      <td>97.105.19.61</td>\n",
       "      <td>2</td>\n",
       "      <td>2.0</td>\n",
       "      <td>Web Development</td>\n",
       "      <td>Teddy</td>\n",
       "      <td>2018-01-08</td>\n",
       "      <td>2018-05-17</td>\n",
       "      <td>javascript-i.loops</td>\n",
       "      <td>9</td>\n",
       "    </tr>\n",
       "  </tbody>\n",
       "</table>\n",
       "</div>"
      ],
      "text/plain": [
       "             accessed                                 path            ip  \\\n",
       "1 2018-01-26 09:56:02                              java-ii  97.105.19.61   \n",
       "2 2018-01-26 09:56:05  java-ii/object-oriented-programming  97.105.19.61   \n",
       "3 2018-01-26 09:56:06   slides/object_oriented_programming  97.105.19.61   \n",
       "4 2018-01-26 09:56:24            javascript-i/conditionals  97.105.19.61   \n",
       "5 2018-01-26 09:56:41                   javascript-i/loops  97.105.19.61   \n",
       "\n",
       "   user_id  program_id     program_type   cohort start_date   end_date  \\\n",
       "1        1         1.0  Web Development  Hampton 2015-09-22 2016-02-06   \n",
       "2        1         1.0  Web Development  Hampton 2015-09-22 2016-02-06   \n",
       "3        1         1.0  Web Development  Hampton 2015-09-22 2016-02-06   \n",
       "4        2         2.0  Web Development    Teddy 2018-01-08 2018-05-17   \n",
       "5        2         2.0  Web Development    Teddy 2018-01-08 2018-05-17   \n",
       "\n",
       "                                lesson  hour  \n",
       "1                           Not Lesson     9  \n",
       "2  java-ii.object-oriented-programming     9  \n",
       "3   slides.object_oriented_programming     9  \n",
       "4            javascript-i.conditionals     9  \n",
       "5                   javascript-i.loops     9  "
      ]
     },
     "execution_count": 4,
     "metadata": {},
     "output_type": "execute_result"
    }
   ],
   "source": [
    "df.head()"
   ]
  },
  {
   "cell_type": "code",
   "execution_count": 5,
   "id": "e690274c",
   "metadata": {},
   "outputs": [
    {
     "data": {
      "text/plain": [
       "Web Development    451039\n",
       "Data Science        58370\n",
       "Name: program_type, dtype: int64"
      ]
     },
     "execution_count": 5,
     "metadata": {},
     "output_type": "execute_result"
    }
   ],
   "source": [
    "df.program_type.value_counts()"
   ]
  },
  {
   "cell_type": "code",
   "execution_count": 6,
   "id": "2c500d0d",
   "metadata": {},
   "outputs": [
    {
     "data": {
      "text/plain": [
       "accessed        datetime64[ns]\n",
       "path                    object\n",
       "ip                      object\n",
       "user_id                  int64\n",
       "program_id             float64\n",
       "program_type            object\n",
       "cohort                  object\n",
       "start_date      datetime64[ns]\n",
       "end_date        datetime64[ns]\n",
       "lesson                  object\n",
       "hour                     int64\n",
       "dtype: object"
      ]
     },
     "execution_count": 6,
     "metadata": {},
     "output_type": "execute_result"
    }
   ],
   "source": [
    "df.dtypes"
   ]
  },
  {
   "cell_type": "code",
   "execution_count": 7,
   "id": "f5b0fca0",
   "metadata": {},
   "outputs": [],
   "source": [
    "# Create seperate dataframes for Web Development and Data Science programs\n",
    "wd = df[df.program_type != 'Data Science']\n",
    "ds = df[df.program_type == 'Data Science']\n"
   ]
  },
  {
   "cell_type": "markdown",
   "id": "b061fd8f",
   "metadata": {},
   "source": [
    "# 1. Which lesson appears to attract the most traffic consistently across cohorts (per program)?"
   ]
  },
  {
   "cell_type": "code",
   "execution_count": 8,
   "id": "ce2eeea2",
   "metadata": {},
   "outputs": [
    {
     "data": {
      "text/html": [
       "<div>\n",
       "<style scoped>\n",
       "    .dataframe tbody tr th:only-of-type {\n",
       "        vertical-align: middle;\n",
       "    }\n",
       "\n",
       "    .dataframe tbody tr th {\n",
       "        vertical-align: top;\n",
       "    }\n",
       "\n",
       "    .dataframe thead th {\n",
       "        text-align: right;\n",
       "    }\n",
       "</style>\n",
       "<table border=\"1\" class=\"dataframe\">\n",
       "  <thead>\n",
       "    <tr style=\"text-align: right;\">\n",
       "      <th></th>\n",
       "      <th>lesson</th>\n",
       "    </tr>\n",
       "  </thead>\n",
       "  <tbody>\n",
       "    <tr>\n",
       "      <th>Not Lesson</th>\n",
       "      <td>97362</td>\n",
       "    </tr>\n",
       "    <tr>\n",
       "      <th>mysql.tables</th>\n",
       "      <td>5477</td>\n",
       "    </tr>\n",
       "    <tr>\n",
       "      <th>javascript-i.introduction.working-with-data-types-operators-and-variables</th>\n",
       "      <td>5312</td>\n",
       "    </tr>\n",
       "    <tr>\n",
       "      <th>mysql.databases</th>\n",
       "      <td>5169</td>\n",
       "    </tr>\n",
       "    <tr>\n",
       "      <th>javascript-i.functions</th>\n",
       "      <td>5163</td>\n",
       "    </tr>\n",
       "  </tbody>\n",
       "</table>\n",
       "</div>"
      ],
      "text/plain": [
       "                                                                           lesson\n",
       "Not Lesson                                                                  97362\n",
       "mysql.tables                                                                 5477\n",
       "javascript-i.introduction.working-with-data-types-operators-and-variables    5312\n",
       "mysql.databases                                                              5169\n",
       "javascript-i.functions                                                       5163"
      ]
     },
     "execution_count": 8,
     "metadata": {},
     "output_type": "execute_result"
    }
   ],
   "source": [
    "# Pages with most traffic\n",
    "pd.DataFrame(wd.lesson.value_counts().head())"
   ]
  },
  {
   "cell_type": "code",
   "execution_count": 9,
   "id": "3d7eb276",
   "metadata": {},
   "outputs": [
    {
     "data": {
      "text/html": [
       "<div>\n",
       "<style scoped>\n",
       "    .dataframe tbody tr th:only-of-type {\n",
       "        vertical-align: middle;\n",
       "    }\n",
       "\n",
       "    .dataframe tbody tr th {\n",
       "        vertical-align: top;\n",
       "    }\n",
       "\n",
       "    .dataframe thead th {\n",
       "        text-align: right;\n",
       "    }\n",
       "</style>\n",
       "<table border=\"1\" class=\"dataframe\">\n",
       "  <thead>\n",
       "    <tr style=\"text-align: right;\">\n",
       "      <th></th>\n",
       "      <th>lesson</th>\n",
       "    </tr>\n",
       "  </thead>\n",
       "  <tbody>\n",
       "    <tr>\n",
       "      <th>classification.overview</th>\n",
       "      <td>1310</td>\n",
       "    </tr>\n",
       "    <tr>\n",
       "      <th>1-fundamentals.1.1-intro-to-data-science</th>\n",
       "      <td>1270</td>\n",
       "    </tr>\n",
       "    <tr>\n",
       "      <th>classification.scale_features_or_not.svg</th>\n",
       "      <td>1138</td>\n",
       "    </tr>\n",
       "    <tr>\n",
       "      <th>sql.mysql-overview</th>\n",
       "      <td>1008</td>\n",
       "    </tr>\n",
       "    <tr>\n",
       "      <th>fundamentals.intro-to-data-science</th>\n",
       "      <td>946</td>\n",
       "    </tr>\n",
       "  </tbody>\n",
       "</table>\n",
       "</div>"
      ],
      "text/plain": [
       "                                          lesson\n",
       "classification.overview                     1310\n",
       "1-fundamentals.1.1-intro-to-data-science    1270\n",
       "classification.scale_features_or_not.svg    1138\n",
       "sql.mysql-overview                          1008\n",
       "fundamentals.intro-to-data-science           946"
      ]
     },
     "execution_count": 9,
     "metadata": {},
     "output_type": "execute_result"
    }
   ],
   "source": [
    "# Pages with most traffic\n",
    "pd.DataFrame(ds.lesson.value_counts().head())"
   ]
  },
  {
   "cell_type": "markdown",
   "id": "779c8fdf",
   "metadata": {},
   "source": [
    "# 2. Is there a cohort that referred to a lesson significantly more than other cohorts seemed to gloss over?"
   ]
  },
  {
   "cell_type": "markdown",
   "id": "f927b52a",
   "metadata": {},
   "source": [
    "plt.figure(figsize=(15,10))\n",
    "wd[wd.path == 'javascript-i'].path.resample('Q').count().plot()\n",
    "wd[wd.path == 'java-iii'].path.resample('Q').count().plot()\n",
    "wd[wd.path == 'html-css'].path.resample('Q').count().plot()\n",
    "wd[wd.path == 'java-ii'].path.resample('Q').count().plot()\n",
    "wd[wd.path == 'spring'].path.resample('Q').count().plot()\n",
    "plt.legend(labels = ['javascript-i', 'java-iii', 'html-css', 'java-ii', 'spring'])\n",
    "plt.title('Most Trafficed Curriculum Webpages by Web Development Students Over Time')\n",
    "plt.xlabel('Date')\n",
    "plt.ylabel('Number of Page Visits')"
   ]
  },
  {
   "cell_type": "markdown",
   "id": "df3fb9f5",
   "metadata": {},
   "source": [
    "# 3. Are there students who, when active, hardly access the curriculum? If so, what information do you have about these students?"
   ]
  },
  {
   "cell_type": "code",
   "execution_count": 10,
   "id": "830c36d6",
   "metadata": {},
   "outputs": [],
   "source": [
    "# Filter dataframe for the time when student were 'active' for each program\n",
    "active_wd = wd.loc[(wd.accessed >= wd.start_date) & (wd.accessed <= wd.end_date)]\n",
    "active_ds = ds.loc[(ds.accessed >= ds.start_date) & (ds.accessed <= ds.end_date)]"
   ]
  },
  {
   "cell_type": "code",
   "execution_count": 11,
   "id": "128fa990",
   "metadata": {},
   "outputs": [
    {
     "data": {
      "text/plain": [
       "user_id\n",
       "278     3\n",
       "340    13\n",
       "963    15\n",
       "41     22\n",
       "371    24\n",
       "529    29\n",
       "967    30\n",
       "978    32\n",
       "36     36\n",
       "57     42\n",
       "543    43\n",
       "56     44\n",
       "45     51\n",
       "46     51\n",
       "975    59\n",
       "969    60\n",
       "65     63\n",
       "33     63\n",
       "250    63\n",
       "253    71\n",
       "dtype: int64"
      ]
     },
     "execution_count": 11,
     "metadata": {},
     "output_type": "execute_result"
    }
   ],
   "source": [
    "# web dev users with lowest page count\n",
    "hardly_access_wd = active_wd.groupby('user_id').size().sort_values().head(20)\n",
    "hardly_access_wd"
   ]
  },
  {
   "cell_type": "code",
   "execution_count": 12,
   "id": "ac979521",
   "metadata": {},
   "outputs": [
    {
     "data": {
      "image/png": "[encoded data removed]",
      "text/plain": [
       "<Figure size 720x360 with 1 Axes>"
      ]
     },
     "metadata": {
      "needs_background": "light"
     },
     "output_type": "display_data"
    }
   ],
   "source": [
    "#histogram of these users under 20 logged access dates:\n",
    "user_id_count = active_wd.groupby('user_id').size().sort_values()\n",
    "user_id_count = user_id_count[:20]\n",
    "my_order = list(hardly_access_wd.index)\n",
    "my_order.reverse()\n",
    "plt.figure(figsize=(10,5))\n",
    "#plt.figure(figsize=(10,5))\n",
    "sns.barplot(user_id_count.index, user_id_count.values, order=my_order)\n",
    "plt.title ('Top 20 users with the lowest access counts while active Web Dev students')\n",
    "plt.ylabel('Number of Occurences')\n",
    "plt.xlabel('User Id', fontsize=12)\n",
    "plt.show()"
   ]
  },
  {
   "cell_type": "code",
   "execution_count": 13,
   "id": "389e84d9",
   "metadata": {},
   "outputs": [
    {
     "data": {
      "image/png": "[encoded data removed]",
      "text/plain": [
       "<Figure size 720x360 with 1 Axes>"
      ]
     },
     "metadata": {
      "needs_background": "light"
     },
     "output_type": "display_data"
    }
   ],
   "source": [
    "#histogram of these users under 20 logged access dates:\n",
    "user_id_count = active_wd.groupby('user_id').size().sort_values()\n",
    "user_id_count = user_id_count[:20]\n",
    "#my_order = list(hardly_access_wd.index)\n",
    "#my_order.reverse()\n",
    "plt.figure(figsize=(10,5))\n",
    "#plt.figure(figsize=(10,5))\n",
    "sns.barplot(user_id_count.index, user_id_count.values, palette=\"coolwarm\", order=hardly_access_wd.index)\n",
    "plt.title ('Top 20 users with the lowest access counts while active Web Dev students')\n",
    "plt.ylabel('Number of Occurences')\n",
    "plt.xlabel('User Id', fontsize=12)\n",
    "plt.show()"
   ]
  },
  {
   "cell_type": "code",
   "execution_count": 14,
   "id": "7ae515d8",
   "metadata": {},
   "outputs": [
    {
     "data": {
      "text/plain": [
       "user_id\n",
       "902    118\n",
       "780    145\n",
       "577    190\n",
       "901    201\n",
       "683    205\n",
       "dtype: int64"
      ]
     },
     "execution_count": 14,
     "metadata": {},
     "output_type": "execute_result"
    }
   ],
   "source": [
    "# data science users with lowest page count\n",
    "hardly_access_ds = active_ds.groupby('user_id').size().sort_values().head()\n",
    "hardly_access_ds"
   ]
  },
  {
   "cell_type": "markdown",
   "id": "e15da590",
   "metadata": {},
   "source": [
    "# 4. Is there any suspicious activity, such as users/machines/etc accessing the curriculum who shouldn’t be? Does it appear that any web-scraping is happening? Are there any suspicious IP addresses?"
   ]
  },
  {
   "cell_type": "code",
   "execution_count": 15,
   "id": "0b8c4603",
   "metadata": {},
   "outputs": [],
   "source": [
    "# Requests allows you to send HTTP/1.1 requests extremely easily. There’s no need to manually add query \n",
    "# strings to your URLs, or to form-encode your PUT & POST data — but nowadays, just use the json method!\n",
    "\n",
    "import requests"
   ]
  },
  {
   "cell_type": "code",
   "execution_count": 16,
   "id": "b7277b41",
   "metadata": {},
   "outputs": [
    {
     "data": {
      "text/plain": [
       "2560"
      ]
     },
     "execution_count": 16,
     "metadata": {},
     "output_type": "execute_result"
    }
   ],
   "source": [
    "df_sus_users = df.copy()\n",
    "\n",
    "ip_count = df_sus_users.ip.nunique()\n",
    "ip_count"
   ]
  },
  {
   "cell_type": "code",
   "execution_count": 17,
   "id": "1324f9c2",
   "metadata": {
    "scrolled": true
   },
   "outputs": [],
   "source": [
    "#pd.set_option('display.max_rows', None)\n",
    "#df_sus_users.groupby('ip').size().sort_values().unique()"
   ]
  },
  {
   "cell_type": "code",
   "execution_count": 18,
   "id": "c661bc98",
   "metadata": {},
   "outputs": [
    {
     "data": {
      "text/html": [
       "<div>\n",
       "<style scoped>\n",
       "    .dataframe tbody tr th:only-of-type {\n",
       "        vertical-align: middle;\n",
       "    }\n",
       "\n",
       "    .dataframe tbody tr th {\n",
       "        vertical-align: top;\n",
       "    }\n",
       "\n",
       "    .dataframe thead th {\n",
       "        text-align: right;\n",
       "    }\n",
       "</style>\n",
       "<table border=\"1\" class=\"dataframe\">\n",
       "  <thead>\n",
       "    <tr style=\"text-align: right;\">\n",
       "      <th></th>\n",
       "      <th>accessed</th>\n",
       "      <th>path</th>\n",
       "      <th>ip</th>\n",
       "      <th>user_id</th>\n",
       "      <th>program_id</th>\n",
       "      <th>program_type</th>\n",
       "      <th>cohort</th>\n",
       "      <th>start_date</th>\n",
       "      <th>end_date</th>\n",
       "      <th>lesson</th>\n",
       "      <th>hour</th>\n",
       "    </tr>\n",
       "  </thead>\n",
       "  <tbody>\n",
       "  </tbody>\n",
       "</table>\n",
       "</div>"
      ],
      "text/plain": [
       "Empty DataFrame\n",
       "Columns: [accessed, path, ip, user_id, program_id, program_type, cohort, start_date, end_date, lesson, hour]\n",
       "Index: []"
      ]
     },
     "execution_count": 18,
     "metadata": {},
     "output_type": "execute_result"
    }
   ],
   "source": [
    "df_sus_users.loc[df_sus_users['ip'] == '221.229.204.176']"
   ]
  },
  {
   "cell_type": "code",
   "execution_count": 19,
   "id": "6b5529da",
   "metadata": {},
   "outputs": [],
   "source": [
    "import ipapi"
   ]
  },
  {
   "cell_type": "code",
   "execution_count": 20,
   "id": "4d1650ea",
   "metadata": {},
   "outputs": [
    {
     "data": {
      "text/plain": [
       "{'ip': '221.229.204.176',\n",
       " 'version': 'IPv4',\n",
       " 'city': 'Tongshan',\n",
       " 'region': 'Henan',\n",
       " 'region_code': 'HA',\n",
       " 'country': 'CN',\n",
       " 'country_name': 'China',\n",
       " 'country_code': 'CN',\n",
       " 'country_code_iso3': 'CHN',\n",
       " 'country_capital': 'Beijing',\n",
       " 'country_tld': '.cn',\n",
       " 'continent_code': 'AS',\n",
       " 'in_eu': False,\n",
       " 'postal': None,\n",
       " 'latitude': 32.7705,\n",
       " 'longitude': 113.561,\n",
       " 'timezone': 'Asia/Shanghai',\n",
       " 'utc_offset': '+0800',\n",
       " 'country_calling_code': '+86',\n",
       " 'currency': 'CNY',\n",
       " 'currency_name': 'Yuan Renminbi',\n",
       " 'languages': 'zh-CN,yue,wuu,dta,ug,za',\n",
       " 'country_area': 9596960.0,\n",
       " 'country_population': 1392730000,\n",
       " 'asn': 'AS4134',\n",
       " 'org': 'Chinanet'}"
      ]
     },
     "execution_count": 20,
     "metadata": {},
     "output_type": "execute_result"
    }
   ],
   "source": [
    "ipapi.location(ip='221.229.204.176')"
   ]
  },
  {
   "cell_type": "code",
   "execution_count": 21,
   "id": "bbce8247",
   "metadata": {},
   "outputs": [
    {
     "name": "stdout",
     "output_type": "stream",
     "text": [
      "{'country_code': 'US', 'country_name': 'United States', 'city': 'Killeen', 'postal': '76541', 'latitude': 31.1164, 'longitude': -97.7278, 'IPv4': '24.242.183.202', 'state': 'Texas'}\n"
     ]
    }
   ],
   "source": [
    "#pd.set_option('display.max_columns', None)\n",
    "\n",
    "import json\n",
    "\n",
    "# IP address to test\n",
    "ip_address = '24.242.183.202'\n",
    "\n",
    "# URL to send the request to\n",
    "request_url = 'https://geolocation-db.com/jsonp/' + ip_address\n",
    "# Send request and decode the result\n",
    "response = requests.get(request_url)\n",
    "result = response.content.decode()\n",
    "# Clean the returned string so it just contains the dictionary data for the IP address\n",
    "result = result.split(\"(\")[1].strip(\")\")\n",
    "# Convert this data into a dictionary\n",
    "result  = json.loads(result)\n",
    "print(result)"
   ]
  },
  {
   "cell_type": "code",
   "execution_count": 22,
   "id": "0b33dbbc",
   "metadata": {},
   "outputs": [],
   "source": [
    "import ipaddress \n",
    "\n",
    "def validate_ip_address(df_sus_users):\n",
    "    try:\n",
    "        ip = ipaddress.ip_address(df_sus_users.ip)\n",
    "        print(\"IP address {} is valid. The object returned is {}\".format(df_sus_users, ip))\n",
    "    except ValueError:\n",
    "        print(\"IP address {} is not valid\".format(df_sus_users))"
   ]
  },
  {
   "cell_type": "code",
   "execution_count": 23,
   "id": "9c700529",
   "metadata": {},
   "outputs": [],
   "source": [
    "#validate_ip_address(df_sus_users)"
   ]
  },
  {
   "cell_type": "markdown",
   "id": "e7c9126b",
   "metadata": {},
   "source": [
    "# 5. At some point in 2019, the ability for students and alumni to access both curriculums (web dev to ds, ds to web dev) should have been shut off. Do you see any evidence of that happening? Did it happen before?"
   ]
  },
  {
   "cell_type": "code",
   "execution_count": 24,
   "id": "8cf677f7",
   "metadata": {},
   "outputs": [
    {
     "data": {
      "text/plain": [
       "1484"
      ]
     },
     "execution_count": 24,
     "metadata": {},
     "output_type": "execute_result"
    }
   ],
   "source": [
    "# Number of cross-accessed pages in the last year\n",
    "df[2019:].groupby('path').size().index.isin(df[2019:].groupby('path').size().index).sum()"
   ]
  },
  {
   "cell_type": "code",
   "execution_count": 25,
   "id": "ca5bd181",
   "metadata": {},
   "outputs": [],
   "source": [
    "# Unique pages in a list of WD and DS\n",
    "wd_users = list(wd.user_id.unique())\n",
    "ds_users = list(ds.user_id.unique())"
   ]
  },
  {
   "cell_type": "code",
   "execution_count": 26,
   "id": "e7dbb462",
   "metadata": {},
   "outputs": [
    {
     "data": {
      "text/html": [
       "<div>\n",
       "<style scoped>\n",
       "    .dataframe tbody tr th:only-of-type {\n",
       "        vertical-align: middle;\n",
       "    }\n",
       "\n",
       "    .dataframe tbody tr th {\n",
       "        vertical-align: top;\n",
       "    }\n",
       "\n",
       "    .dataframe thead th {\n",
       "        text-align: right;\n",
       "    }\n",
       "</style>\n",
       "<table border=\"1\" class=\"dataframe\">\n",
       "  <thead>\n",
       "    <tr style=\"text-align: right;\">\n",
       "      <th></th>\n",
       "      <th>accessed</th>\n",
       "      <th>path</th>\n",
       "      <th>ip</th>\n",
       "      <th>user_id</th>\n",
       "      <th>program_id</th>\n",
       "      <th>program_type</th>\n",
       "      <th>cohort</th>\n",
       "      <th>start_date</th>\n",
       "      <th>end_date</th>\n",
       "      <th>lesson</th>\n",
       "      <th>hour</th>\n",
       "    </tr>\n",
       "  </thead>\n",
       "  <tbody>\n",
       "    <tr>\n",
       "      <th>2731</th>\n",
       "      <td>2018-01-31 13:55:18</td>\n",
       "      <td>mysql</td>\n",
       "      <td>97.105.19.61</td>\n",
       "      <td>33</td>\n",
       "      <td>2.0</td>\n",
       "      <td>Web Development</td>\n",
       "      <td>Sequoia</td>\n",
       "      <td>2017-09-27</td>\n",
       "      <td>2018-02-15</td>\n",
       "      <td>Not Lesson</td>\n",
       "      <td>13</td>\n",
       "    </tr>\n",
       "    <tr>\n",
       "      <th>2737</th>\n",
       "      <td>2018-01-31 13:56:50</td>\n",
       "      <td>html-css/forms</td>\n",
       "      <td>97.105.19.61</td>\n",
       "      <td>16</td>\n",
       "      <td>2.0</td>\n",
       "      <td>Web Development</td>\n",
       "      <td>Sequoia</td>\n",
       "      <td>2017-09-27</td>\n",
       "      <td>2018-02-15</td>\n",
       "      <td>html-css.forms</td>\n",
       "      <td>13</td>\n",
       "    </tr>\n",
       "    <tr>\n",
       "      <th>2744</th>\n",
       "      <td>2018-01-31 14:04:42</td>\n",
       "      <td>mysql</td>\n",
       "      <td>97.105.19.61</td>\n",
       "      <td>33</td>\n",
       "      <td>2.0</td>\n",
       "      <td>Web Development</td>\n",
       "      <td>Sequoia</td>\n",
       "      <td>2017-09-27</td>\n",
       "      <td>2018-02-15</td>\n",
       "      <td>Not Lesson</td>\n",
       "      <td>14</td>\n",
       "    </tr>\n",
       "    <tr>\n",
       "      <th>2763</th>\n",
       "      <td>2018-01-31 14:19:32</td>\n",
       "      <td>mysql</td>\n",
       "      <td>97.105.19.61</td>\n",
       "      <td>33</td>\n",
       "      <td>2.0</td>\n",
       "      <td>Web Development</td>\n",
       "      <td>Sequoia</td>\n",
       "      <td>2017-09-27</td>\n",
       "      <td>2018-02-15</td>\n",
       "      <td>Not Lesson</td>\n",
       "      <td>14</td>\n",
       "    </tr>\n",
       "    <tr>\n",
       "      <th>2778</th>\n",
       "      <td>2018-01-31 14:32:16</td>\n",
       "      <td>javascript-i</td>\n",
       "      <td>97.105.19.61</td>\n",
       "      <td>11</td>\n",
       "      <td>1.0</td>\n",
       "      <td>Web Development</td>\n",
       "      <td>Arches</td>\n",
       "      <td>2014-02-04</td>\n",
       "      <td>2014-04-22</td>\n",
       "      <td>Not Lesson</td>\n",
       "      <td>14</td>\n",
       "    </tr>\n",
       "  </tbody>\n",
       "</table>\n",
       "</div>"
      ],
      "text/plain": [
       "                accessed            path            ip  user_id  program_id  \\\n",
       "2731 2018-01-31 13:55:18           mysql  97.105.19.61       33         2.0   \n",
       "2737 2018-01-31 13:56:50  html-css/forms  97.105.19.61       16         2.0   \n",
       "2744 2018-01-31 14:04:42           mysql  97.105.19.61       33         2.0   \n",
       "2763 2018-01-31 14:19:32           mysql  97.105.19.61       33         2.0   \n",
       "2778 2018-01-31 14:32:16    javascript-i  97.105.19.61       11         1.0   \n",
       "\n",
       "         program_type   cohort start_date   end_date          lesson  hour  \n",
       "2731  Web Development  Sequoia 2017-09-27 2018-02-15      Not Lesson    13  \n",
       "2737  Web Development  Sequoia 2017-09-27 2018-02-15  html-css.forms    13  \n",
       "2744  Web Development  Sequoia 2017-09-27 2018-02-15      Not Lesson    14  \n",
       "2763  Web Development  Sequoia 2017-09-27 2018-02-15      Not Lesson    14  \n",
       "2778  Web Development   Arches 2014-02-04 2014-04-22      Not Lesson    14  "
      ]
     },
     "execution_count": 26,
     "metadata": {},
     "output_type": "execute_result"
    }
   ],
   "source": [
    "# All cross accessed observations\n",
    "cross_observations = df[2019:][(df[2019:].path.isin(wd[2019:].path)) & (df[2019:].path.isin(ds[2020:].path))]\n",
    "cross_observations.head()"
   ]
  },
  {
   "cell_type": "code",
   "execution_count": 27,
   "id": "03a01b85",
   "metadata": {
    "scrolled": true
   },
   "outputs": [
    {
     "data": {
      "text/plain": [
       "Ceres         6384\n",
       "Voyageurs     6344\n",
       "Apex          6056\n",
       "Zion          6041\n",
       "Jupiter       5758\n",
       "Xanadu        5662\n",
       "Deimos        5630\n",
       "Fortuna       5208\n",
       "Teddy         4874\n",
       "Hyperion      4722\n",
       "Ganymede      4560\n",
       "Bayes         4553\n",
       "Kalypso       4003\n",
       "Darden        3928\n",
       "Andromeda     3904\n",
       "Betelgeuse    3845\n",
       "Curie         3581\n",
       "Bash          3427\n",
       "Europa        3408\n",
       "Wrangell      3278\n",
       "Ulysses       3170\n",
       "Yosemite      2871\n",
       "Lassen        2512\n",
       "Marco         2307\n",
       "Luna          2075\n",
       "Sequoia       1587\n",
       "Arches        1190\n",
       "Easley        1021\n",
       "Florence       787\n",
       "Pinnacles      507\n",
       "Neptune        360\n",
       "Hampton        335\n",
       "Niagara        230\n",
       "Kings          147\n",
       "Olympic        115\n",
       "Quincy          99\n",
       "Ike             90\n",
       "Mammoth         75\n",
       "Oberon          53\n",
       "Franklin        20\n",
       "Glacier         12\n",
       "Joshua           8\n",
       "Badlands         6\n",
       "Name: cohort, dtype: int64"
      ]
     },
     "execution_count": 27,
     "metadata": {},
     "output_type": "execute_result"
    }
   ],
   "source": [
    "# Cohorts who cross accessed\n",
    "cross_observations.cohort.value_counts()"
   ]
  },
  {
   "cell_type": "markdown",
   "id": "b345c88a",
   "metadata": {},
   "source": [
    "# 6. What topics are grads continuing to reference after graduation and into their jobs (for each program)?"
   ]
  },
  {
   "cell_type": "code",
   "execution_count": 29,
   "id": "00c067b9",
   "metadata": {},
   "outputs": [],
   "source": [
    "# Filters dataframes for program_types (web dev & data science) only after graduation date\n",
    "grad_accessed_wd = wd[(wd.accessed > wd.end_date)]\n",
    "grad_accessed_ds = ds[(ds.accessed > ds.end_date)]"
   ]
  },
  {
   "cell_type": "code",
   "execution_count": 30,
   "id": "ce58289f",
   "metadata": {},
   "outputs": [
    {
     "data": {
      "text/plain": [
       "spring.fundamentals.controllers     959\n",
       "spring.fundamentals.views           907\n",
       "spring.setup                        892\n",
       "spring.fundamentals.repositories    871\n",
       "html-css.elements                   683\n",
       "Name: lesson, dtype: int64"
      ]
     },
     "execution_count": 30,
     "metadata": {},
     "output_type": "execute_result"
    }
   ],
   "source": [
    "# Returns the the top 5 lessons by web dev after graduation\n",
    "grad_accessed_wd.lesson.value_counts()[1:6]"
   ]
  },
  {
   "cell_type": "code",
   "execution_count": 31,
   "id": "35859f93",
   "metadata": {},
   "outputs": [
    {
     "data": {
      "text/plain": [
       "sql.mysql-overview                          210\n",
       "classification.scale_features_or_not.svg    174\n",
       "fundamentals.intro-to-data-science          138\n",
       "anomaly-detection.overview                  127\n",
       "1-fundamentals.1.1-intro-to-data-science    117\n",
       "Name: lesson, dtype: int64"
      ]
     },
     "execution_count": 31,
     "metadata": {},
     "output_type": "execute_result"
    }
   ],
   "source": [
    "# Returns the top 5 lessons by data science after graduation\n",
    "grad_accessed_ds.lesson.value_counts()[1:6]"
   ]
  },
  {
   "cell_type": "code",
   "execution_count": 32,
   "id": "9c4de40c",
   "metadata": {},
   "outputs": [
    {
     "data": {
      "text/plain": [
       "Text(0.5, 1.0, 'Topics Referenced after Graduation Data Science')"
      ]
     },
     "execution_count": 32,
     "metadata": {},
     "output_type": "execute_result"
    },
    {
     "data": {
      "image/png": "[encoded data removed]",
      "text/plain": [
       "<Figure size 432x288 with 1 Axes>"
      ]
     },
     "metadata": {
      "needs_background": "light"
     },
     "output_type": "display_data"
    }
   ],
   "source": [
    "# plots the lessons on y-axis and counts on x-axis\n",
    "sns.countplot(y=\"lesson\", data=grad_accessed_ds, palette=\"Greens_d\", \n",
    "              order=grad_accessed_ds.lesson.value_counts()[1:6].index)\n",
    "plt.title(\"Topics Referenced after Graduation Data Science\")"
   ]
  },
  {
   "cell_type": "code",
   "execution_count": 33,
   "id": "630f502d",
   "metadata": {},
   "outputs": [
    {
     "data": {
      "text/plain": [
       "Text(0.5, 1.0, 'Topics Referenced after Graduation Web Development')"
      ]
     },
     "execution_count": 33,
     "metadata": {},
     "output_type": "execute_result"
    },
    {
     "data": {
      "image/png": "[encoded data removed]",
      "text/plain": [
       "<Figure size 432x288 with 1 Axes>"
      ]
     },
     "metadata": {
      "needs_background": "light"
     },
     "output_type": "display_data"
    }
   ],
   "source": [
    "# plots the lessons on y-axis and counts on x-axis\n",
    "sns.countplot(y=\"lesson\", data=grad_accessed_wd, palette=\"Greens_d\", \n",
    "              order=grad_accessed_wd.lesson.value_counts()[1:6].index)\n",
    "plt.title(\"Topics Referenced after Graduation Web Development\")"
   ]
  },
  {
   "cell_type": "markdown",
   "id": "8a106500",
   "metadata": {},
   "source": [
    "# 7. Which lessons are least accessed?"
   ]
  },
  {
   "cell_type": "code",
   "execution_count": 35,
   "id": "220ef01c",
   "metadata": {},
   "outputs": [
    {
     "data": {
      "text/plain": [
       "examples/css/..%5c    1\n",
       "115                   1\n",
       "133                   1\n",
       "131                   1\n",
       "javascript/loops      1\n",
       "Name: path, dtype: int64"
      ]
     },
     "execution_count": 35,
     "metadata": {},
     "output_type": "execute_result"
    }
   ],
   "source": [
    "wd.path.value_counts().tail()"
   ]
  },
  {
   "cell_type": "code",
   "execution_count": 36,
   "id": "9bea3863",
   "metadata": {},
   "outputs": [
    {
     "data": {
      "text/plain": [
       "itc%20-%20ml                 1\n",
       "itc-ml                       1\n",
       "java-i/console-io            1\n",
       "clustering/dbscan            1\n",
       "2.1-spreadsheets-overview    1\n",
       "Name: path, dtype: int64"
      ]
     },
     "execution_count": 36,
     "metadata": {},
     "output_type": "execute_result"
    }
   ],
   "source": [
    "ds.path.value_counts().tail()"
   ]
  },
  {
   "cell_type": "code",
   "execution_count": 37,
   "id": "e7884aab",
   "metadata": {},
   "outputs": [
    {
     "data": {
      "text/html": [
       "<div>\n",
       "<style scoped>\n",
       "    .dataframe tbody tr th:only-of-type {\n",
       "        vertical-align: middle;\n",
       "    }\n",
       "\n",
       "    .dataframe tbody tr th {\n",
       "        vertical-align: top;\n",
       "    }\n",
       "\n",
       "    .dataframe thead th {\n",
       "        text-align: right;\n",
       "    }\n",
       "</style>\n",
       "<table border=\"1\" class=\"dataframe\">\n",
       "  <thead>\n",
       "    <tr style=\"text-align: right;\">\n",
       "      <th></th>\n",
       "      <th>accessed</th>\n",
       "      <th>path</th>\n",
       "      <th>ip</th>\n",
       "      <th>user_id</th>\n",
       "      <th>program_id</th>\n",
       "      <th>program_type</th>\n",
       "      <th>cohort</th>\n",
       "      <th>start_date</th>\n",
       "      <th>end_date</th>\n",
       "      <th>lesson</th>\n",
       "      <th>hour</th>\n",
       "      <th>is_active</th>\n",
       "    </tr>\n",
       "  </thead>\n",
       "  <tbody>\n",
       "    <tr>\n",
       "      <th>1</th>\n",
       "      <td>2018-01-26 09:56:02</td>\n",
       "      <td>java-ii</td>\n",
       "      <td>97.105.19.61</td>\n",
       "      <td>1</td>\n",
       "      <td>1.0</td>\n",
       "      <td>Web Development</td>\n",
       "      <td>Hampton</td>\n",
       "      <td>2015-09-22</td>\n",
       "      <td>2016-02-06</td>\n",
       "      <td>Not Lesson</td>\n",
       "      <td>9</td>\n",
       "      <td>False</td>\n",
       "    </tr>\n",
       "    <tr>\n",
       "      <th>2</th>\n",
       "      <td>2018-01-26 09:56:05</td>\n",
       "      <td>java-ii/object-oriented-programming</td>\n",
       "      <td>97.105.19.61</td>\n",
       "      <td>1</td>\n",
       "      <td>1.0</td>\n",
       "      <td>Web Development</td>\n",
       "      <td>Hampton</td>\n",
       "      <td>2015-09-22</td>\n",
       "      <td>2016-02-06</td>\n",
       "      <td>java-ii.object-oriented-programming</td>\n",
       "      <td>9</td>\n",
       "      <td>False</td>\n",
       "    </tr>\n",
       "  </tbody>\n",
       "</table>\n",
       "</div>"
      ],
      "text/plain": [
       "             accessed                                 path            ip  \\\n",
       "1 2018-01-26 09:56:02                              java-ii  97.105.19.61   \n",
       "2 2018-01-26 09:56:05  java-ii/object-oriented-programming  97.105.19.61   \n",
       "\n",
       "   user_id  program_id     program_type   cohort start_date   end_date  \\\n",
       "1        1         1.0  Web Development  Hampton 2015-09-22 2016-02-06   \n",
       "2        1         1.0  Web Development  Hampton 2015-09-22 2016-02-06   \n",
       "\n",
       "                                lesson  hour  is_active  \n",
       "1                           Not Lesson     9      False  \n",
       "2  java-ii.object-oriented-programming     9      False  "
      ]
     },
     "execution_count": 37,
     "metadata": {},
     "output_type": "execute_result"
    }
   ],
   "source": [
    "df['is_active'] = (df.accessed >= df.start_date) & (df.accessed <= df.end_date)\n",
    "df.head(2)\n"
   ]
  },
  {
   "cell_type": "code",
   "execution_count": 38,
   "id": "6d0de354",
   "metadata": {},
   "outputs": [
    {
     "ename": "NameError",
     "evalue": "name 'sample' is not defined",
     "output_type": "error",
     "traceback": [
      "\u001b[0;31m---------------------------------------------------------------------------\u001b[0m",
      "\u001b[0;31mNameError\u001b[0m                                 Traceback (most recent call last)",
      "Input \u001b[0;32mIn [38]\u001b[0m, in \u001b[0;36m<cell line: 1>\u001b[0;34m()\u001b[0m\n\u001b[0;32m----> 1\u001b[0m Mth \u001b[38;5;241m=\u001b[39m sns\u001b[38;5;241m.\u001b[39mkdeplot(\u001b[43msample\u001b[49m\u001b[38;5;241m.\u001b[39maccessed[(sample[\u001b[38;5;124m\"\u001b[39m\u001b[38;5;124mis_active\u001b[39m\u001b[38;5;124m\"\u001b[39m] \u001b[38;5;241m==\u001b[39m \u001b[38;5;28;01mFalse\u001b[39;00m) ],\n\u001b[1;32m      2\u001b[0m                 color\u001b[38;5;241m=\u001b[39m\u001b[38;5;124m\"\u001b[39m\u001b[38;5;124m#0072BD\u001b[39m\u001b[38;5;124m\"\u001b[39m, shade \u001b[38;5;241m=\u001b[39m \u001b[38;5;28;01mTrue\u001b[39;00m)\n\u001b[1;32m      3\u001b[0m Mth \u001b[38;5;241m=\u001b[39m sns\u001b[38;5;241m.\u001b[39mkdeplot(sample\u001b[38;5;241m.\u001b[39maccessed[(sample[\u001b[38;5;124m\"\u001b[39m\u001b[38;5;124mis_active\u001b[39m\u001b[38;5;124m\"\u001b[39m] \u001b[38;5;241m==\u001b[39m \u001b[38;5;28;01mTrue\u001b[39;00m) ],\n\u001b[1;32m      4\u001b[0m                 ax \u001b[38;5;241m=\u001b[39mMth, color\u001b[38;5;241m=\u001b[39m\u001b[38;5;124m\"\u001b[39m\u001b[38;5;124m#ebb086\u001b[39m\u001b[38;5;124m\"\u001b[39m, shade\u001b[38;5;241m=\u001b[39m \u001b[38;5;28;01mTrue\u001b[39;00m)\n\u001b[1;32m      5\u001b[0m Mth\u001b[38;5;241m.\u001b[39mlegend([\u001b[38;5;124m\"\u001b[39m\u001b[38;5;124mIs Active\u001b[39m\u001b[38;5;124m\"\u001b[39m,\u001b[38;5;124m\"\u001b[39m\u001b[38;5;124mNot Active\u001b[39m\u001b[38;5;124m\"\u001b[39m])\n",
      "\u001b[0;31mNameError\u001b[0m: name 'sample' is not defined"
     ]
    }
   ],
   "source": [
    "\n",
    "\n",
    "Mth = sns.kdeplot(sample.accessed[(sample[\"is_active\"] == False) ],\n",
    "                color=\"#0072BD\", shade = True)\n",
    "Mth = sns.kdeplot(sample.accessed[(sample[\"is_active\"] == True) ],\n",
    "                ax =Mth, color=\"#ebb086\", shade= True)\n",
    "Mth.legend([\"Is Active\",\"Not Active\"])\n",
    "Mth.set_ylabel('Density')\n",
    "Mth.set_xlabel('Accessed')\n",
    "Mth.set_title('Monthly charges by churn')"
   ]
  },
  {
   "cell_type": "code",
   "execution_count": null,
   "id": "b62e04ec",
   "metadata": {},
   "outputs": [],
   "source": [
    "def percentage_stacked_plot(columns_to_plot, title, df):\n",
    "    \n",
    "    '''\n",
    "    Returns a 100% stacked plot of the response variable for independent variable of the list columns_to_plot.\n",
    "    Parameters: columns_to_plot (list of string): Names of the variables to plot\n",
    "    '''\n",
    "    \n",
    "    number_of_columns = 2\n",
    "    number_of_rows = math.ceil(len(columns_to_plot)/2)\n",
    "\n",
    "    # create a figure\n",
    "    fig = plt.figure(figsize=(12, 5 * number_of_rows)) \n",
    "    fig.suptitle(title, fontsize=22,  y=.95)\n",
    " \n",
    "\n",
    "    # loop to each column name to create a subplot\n",
    "    for index, column in enumerate(columns_to_plot, 1):\n",
    "\n",
    "        # create the subplot\n",
    "        ax = fig.add_subplot(number_of_rows, number_of_columns, index)\n",
    "\n",
    "        # calculate the percentage of observations of the response variable for each group of the independent variable\n",
    "        # 100% stacked bar plot\n",
    "        prop_by_independent = pd.crosstab(df[column], df['is_active']).apply(lambda x: x/x.sum()*100, axis=1)\n",
    "\n",
    "        prop_by_independent.plot(kind='bar', ax=ax, stacked=True,\n",
    "                                 rot=0, color=['#94bad4','#ebb086'])\n",
    "\n",
    "        # set the legend in the upper right corner\n",
    "        ax.legend(loc=\"upper right\", bbox_to_anchor=(0.62, 0.5, 0.5, 0.5),\n",
    "                  title='Active?', fancybox=True)\n",
    "\n",
    "        # eliminate the frame from the plot\n",
    "        spine_names = ('top', 'right', 'bottom', 'left')\n",
    "        for spine_name in spine_names:\n",
    "            ax.spines[spine_name].set_visible(False)\n",
    "\n",
    "    return percentage_stacked_plot"
   ]
  },
  {
   "cell_type": "code",
   "execution_count": null,
   "id": "12d75a1a",
   "metadata": {},
   "outputs": [],
   "source": [
    "# type of internet service attributes\n",
    "services_columns = ['program_type','program_id']\n",
    "\n",
    "# stacked plot of internet service attributes\n",
    "percentage_stacked_plot(services_columns, 'Program Types', df)\n",
    "\n",
    "#0 means no they do not have this feature"
   ]
  },
  {
   "cell_type": "code",
   "execution_count": null,
   "id": "b31d1e21",
   "metadata": {},
   "outputs": [],
   "source": []
  },
  {
   "cell_type": "code",
   "execution_count": null,
   "id": "1d472a02",
   "metadata": {},
   "outputs": [],
   "source": []
  }
 ],
 "metadata": {
  "kernelspec": {
   "display_name": "Python 3 (ipykernel)",
   "language": "python",
   "name": "python3"
  },
  "language_info": {
   "codemirror_mode": {
    "name": "ipython",
    "version": 3
   },
   "file_extension": ".py",
   "mimetype": "text/x-python",
   "name": "python",
   "nbconvert_exporter": "python",
   "pygments_lexer": "ipython3",
   "version": "3.9.7"
  }
 },
 "nbformat": 4,
 "nbformat_minor": 5
}
