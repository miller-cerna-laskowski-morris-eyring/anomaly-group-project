{
 "cells": [
  {
   "cell_type": "markdown",
   "id": "f446cf8d",
   "metadata": {},
   "source": [
    "# $\\mathbf{CODEUP}$ $\\mathbf{CURRICULUM}$ $\\mathbf{ACCESS}$ $\\mathbf{ANALYSIS}$\n",
    "## *Lesson access details by user and cohort (plus who is shady, and who is a maybe)* \n",
    "#### This notebook is in support of an email communication and slide prepared by Staff Data Science Team.\n",
    "$\\rightarrow$ Delivered on 6/13/2022 by: Ray Cerna, Jen Eyring, Lochlyn Laskowski, Julessa Morris, Ryan Miller"
   ]
  },
  {
   "cell_type": "markdown",
   "id": "aecc3229",
   "metadata": {},
   "source": [
    "-----"
   ]
  },
  {
   "cell_type": "markdown",
   "id": "2e3dd3ca",
   "metadata": {},
   "source": [
    "# $\\bullet$ Executive Summary"
   ]
  },
  {
   "cell_type": "markdown",
   "id": "861b786d",
   "metadata": {},
   "source": [
    "### Question:\n",
    "### Actions: \n",
    "### Conclusions:  \n",
    "### Recommendations/Next Steps:"
   ]
  },
  {
   "cell_type": "markdown",
   "id": "396af133",
   "metadata": {},
   "source": [
    "----"
   ]
  },
  {
   "cell_type": "markdown",
   "id": "ba5c1571",
   "metadata": {},
   "source": [
    "# $\\bullet$ Libraries Used"
   ]
  },
  {
   "cell_type": "markdown",
   "id": "4b972aed",
   "metadata": {},
   "source": [
    "Common DS Libraries"
   ]
  },
  {
   "cell_type": "code",
   "execution_count": 1,
   "id": "06b7fdd1",
   "metadata": {},
   "outputs": [
    {
     "name": "stderr",
     "output_type": "stream",
     "text": [
      "/opt/homebrew/anaconda3/lib/python3.9/site-packages/scipy/__init__.py:146: UserWarning: A NumPy version >=1.16.5 and <1.23.0 is required for this version of SciPy (detected version 1.23.0\n",
      "  warnings.warn(f\"A NumPy version >={np_minversion} and <{np_maxversion}\"\n"
     ]
    }
   ],
   "source": [
    "# For data analysis:\n",
    "import numpy as np\n",
    "import pandas as pd\n",
    "\n",
    "# Graphs/Visualizations:\n",
    "import seaborn as sns\n",
    "import matplotlib.pyplot as plt\n",
    "%matplotlib inline\n",
    "\n",
    "# For Statistics and Hypothesis Testing:\n",
    "import scipy.stats as stats"
   ]
  },
  {
   "cell_type": "markdown",
   "id": "af3cf124",
   "metadata": {},
   "source": [
    "Internally Created Helper Functions"
   ]
  },
  {
   "cell_type": "code",
   "execution_count": 2,
   "id": "74fbe1a4",
   "metadata": {},
   "outputs": [],
   "source": [
    "# For acquiring the dataset from the Cal Tech Database:\n",
    "import acquire\n",
    "\n",
    "# For acquiring, preparing/cleaning data while also creating dataframes with \n",
    "import wrangle\n",
    "\n",
    "# Various functions for exploring the data\n",
    "import explore"
   ]
  },
  {
   "cell_type": "markdown",
   "id": "a7c27e35",
   "metadata": {},
   "source": [
    "Others"
   ]
  },
  {
   "cell_type": "code",
   "execution_count": 3,
   "id": "1fcb4772",
   "metadata": {},
   "outputs": [],
   "source": [
    "#Ignore Warnings:\n",
    "import warnings\n",
    "warnings.filterwarnings('ignore')\n",
    "\n",
    "# reloads import files each time a cell is ran (makes your life easier)\n",
    "%load_ext autoreload\n",
    "%autoreload 2\n",
    "\n",
    "# Shows all columns of a dataframe\n",
    "pd.set_option('display.max_columns', None)"
   ]
  },
  {
   "cell_type": "markdown",
   "id": "cb4ba058",
   "metadata": {},
   "source": [
    "# $\\bullet$ Analysis"
   ]
  },
  {
   "cell_type": "markdown",
   "id": "0c3a337c",
   "metadata": {},
   "source": [
    "### Our task was to answer a serious of questions about those accessing the Codeup curriculum.\n",
    "### To begin, loading the dataframes using our wrangle function, which acquires the data directly from the Codeup MySQL database.  \n",
    "#### - Query and wrangle details can be found in the wrangle.py function.\n",
    "#### - All dataframes have the same columns and datatypes."
   ]
  },
  {
   "cell_type": "code",
   "execution_count": 4,
   "id": "d1332381",
   "metadata": {},
   "outputs": [
    {
     "name": "stdout",
     "output_type": "stream",
     "text": [
      "This returned the following dataframes (reassign if you missed any):\n"
     ]
    },
    {
     "data": {
      "text/html": [
       "<div>\n",
       "<style scoped>\n",
       "    .dataframe tbody tr th:only-of-type {\n",
       "        vertical-align: middle;\n",
       "    }\n",
       "\n",
       "    .dataframe tbody tr th {\n",
       "        vertical-align: top;\n",
       "    }\n",
       "\n",
       "    .dataframe thead th {\n",
       "        text-align: right;\n",
       "    }\n",
       "</style>\n",
       "<table border=\"1\" class=\"dataframe\">\n",
       "  <thead>\n",
       "    <tr style=\"text-align: right;\">\n",
       "      <th></th>\n",
       "      <th>Description</th>\n",
       "      <th>Record Count</th>\n",
       "      <th>Percent of Raw df</th>\n",
       "    </tr>\n",
       "    <tr>\n",
       "      <th>Dataframe</th>\n",
       "      <th></th>\n",
       "      <th></th>\n",
       "      <th></th>\n",
       "    </tr>\n",
       "  </thead>\n",
       "  <tbody>\n",
       "    <tr>\n",
       "      <th>df</th>\n",
       "      <td>Fully cleaned dataframe</td>\n",
       "      <td>509409</td>\n",
       "      <td>56.6%</td>\n",
       "    </tr>\n",
       "    <tr>\n",
       "      <th>df_staff</th>\n",
       "      <td>Cohort == Staff</td>\n",
       "      <td>84031</td>\n",
       "      <td>9.33%</td>\n",
       "    </tr>\n",
       "    <tr>\n",
       "      <th>df_multicohort</th>\n",
       "      <td>Users listed in more than one cohort</td>\n",
       "      <td>22708</td>\n",
       "      <td>2.52%</td>\n",
       "    </tr>\n",
       "    <tr>\n",
       "      <th>df_unimputed</th>\n",
       "      <td>Users with unknown/unimputable cohorts</td>\n",
       "      <td>45904</td>\n",
       "      <td>5.1%</td>\n",
       "    </tr>\n",
       "    <tr>\n",
       "      <th>df_non_curriculum</th>\n",
       "      <td>Accessess not related to the curriculum, i.e. directories, images</td>\n",
       "      <td>116539</td>\n",
       "      <td>12.9%</td>\n",
       "    </tr>\n",
       "    <tr>\n",
       "      <th>df_outliers</th>\n",
       "      <td>Accesses meeting outlier conditions</td>\n",
       "      <td>121626</td>\n",
       "      <td>13.5%</td>\n",
       "    </tr>\n",
       "  </tbody>\n",
       "</table>\n",
       "</div>"
      ],
      "text/plain": [
       "                                                                         Description  \\\n",
       "Dataframe                                                                              \n",
       "df                                                           Fully cleaned dataframe   \n",
       "df_staff                                                             Cohort == Staff   \n",
       "df_multicohort                                  Users listed in more than one cohort   \n",
       "df_unimputed                                  Users with unknown/unimputable cohorts   \n",
       "df_non_curriculum  Accessess not related to the curriculum, i.e. directories, images   \n",
       "df_outliers                                      Accesses meeting outlier conditions   \n",
       "\n",
       "                   Record Count Percent of Raw df  \n",
       "Dataframe                                          \n",
       "df                       509409             56.6%  \n",
       "df_staff                  84031             9.33%  \n",
       "df_multicohort            22708             2.52%  \n",
       "df_unimputed              45904              5.1%  \n",
       "df_non_curriculum        116539             12.9%  \n",
       "df_outliers              121626             13.5%  "
      ]
     },
     "metadata": {},
     "output_type": "display_data"
    }
   ],
   "source": [
    "df, df_staff, df_multicohort, df_unimputed, df_non_curriculum, df_outliers = wrangle.full_wrangle()"
   ]
  },
  {
   "cell_type": "markdown",
   "id": "f0155f89",
   "metadata": {},
   "source": [
    "##### The core 'df' dataframe is used for most of the user analysis, however other dataframes are integrated in when needed (namely for outlier/anomaly detection)."
   ]
  },
  {
   "cell_type": "markdown",
   "id": "38c3969b",
   "metadata": {},
   "source": [
    "## Question 1: Which lesson appears to attract the most traffic consistently across cohorts (per program)?"
   ]
  },
  {
   "cell_type": "markdown",
   "id": "ed4e3bcf",
   "metadata": {},
   "source": [
    "We analyzed each program seperately:"
   ]
  },
  {
   "cell_type": "code",
   "execution_count": 5,
   "id": "452f4168",
   "metadata": {},
   "outputs": [],
   "source": [
    "# Seperate analysis df into Web Dev and DS\n",
    "wd = df[df.program_type == 'Web Development']\n",
    "ds = df[df.program_type == 'Data Science']"
   ]
  },
  {
   "cell_type": "markdown",
   "id": "3923f871",
   "metadata": {},
   "source": [
    "### Examining Web Development"
   ]
  },
  {
   "cell_type": "markdown",
   "id": "b5ae43b8",
   "metadata": {},
   "source": [
    "To determine the top lesson *across* cohorts, we found the top 3 lessons for each cohort, then tallied up how many times each of those lessons appears in one of the top 3:"
   ]
  },
  {
   "cell_type": "code",
   "execution_count": 6,
   "id": "0a64d666",
   "metadata": {},
   "outputs": [
    {
     "name": "stdout",
     "output_type": "stream",
     "text": [
      "Top ten lessons:\n",
      "----------\n",
      "Not Lesson                                                                   97362\n",
      "mysql.tables                                                                  5477\n",
      "javascript-i.introduction.working-with-data-types-operators-and-variables     5312\n",
      "mysql.databases                                                               5169\n",
      "javascript-i.functions                                                        5163\n",
      "javascript-i.javascript-with-html                                             5157\n",
      "html-css.elements                                                             5046\n",
      "mysql.users                                                                   4858\n",
      "html-css.css-ii.bootstrap-grid-system                                         4843\n",
      "java-iii.jsp-and-jstl                                                         4840\n",
      "Name: lesson, dtype: int64\n"
     ]
    },
    {
     "data": {
      "text/html": [
       "<div>\n",
       "<style scoped>\n",
       "    .dataframe tbody tr th:only-of-type {\n",
       "        vertical-align: middle;\n",
       "    }\n",
       "\n",
       "    .dataframe tbody tr th {\n",
       "        vertical-align: top;\n",
       "    }\n",
       "\n",
       "    .dataframe thead th {\n",
       "        text-align: right;\n",
       "    }\n",
       "</style>\n",
       "<table border=\"1\" class=\"dataframe\">\n",
       "  <thead>\n",
       "    <tr style=\"text-align: right;\">\n",
       "      <th></th>\n",
       "      <th>Cohort</th>\n",
       "      <th>#1 lesson</th>\n",
       "      <th>#1 lesson count</th>\n",
       "      <th>#2 lesson</th>\n",
       "      <th>#2 lesson count</th>\n",
       "      <th>#3 lesson</th>\n",
       "      <th>#3 lesson count</th>\n",
       "    </tr>\n",
       "  </thead>\n",
       "  <tbody>\n",
       "    <tr>\n",
       "      <th>0</th>\n",
       "      <td>Andromeda</td>\n",
       "      <td>javascript-i.introduction.working-with-data-types-operators-and-variables</td>\n",
       "      <td>263.0</td>\n",
       "      <td>mysql.tables</td>\n",
       "      <td>262.0</td>\n",
       "      <td>spring.fundamentals.repositories</td>\n",
       "      <td>259.0</td>\n",
       "    </tr>\n",
       "    <tr>\n",
       "      <th>1</th>\n",
       "      <td>Apex</td>\n",
       "      <td>java-i.syntax-types-and-variables</td>\n",
       "      <td>360.0</td>\n",
       "      <td>java-ii.object-oriented-programming</td>\n",
       "      <td>355.0</td>\n",
       "      <td>mysql.tables</td>\n",
       "      <td>348.0</td>\n",
       "    </tr>\n",
       "    <tr>\n",
       "      <th>2</th>\n",
       "      <td>Arches</td>\n",
       "      <td>javascript-i.loops</td>\n",
       "      <td>66.0</td>\n",
       "      <td>html-css.elements</td>\n",
       "      <td>65.0</td>\n",
       "      <td>javascript-ii.promises</td>\n",
       "      <td>63.0</td>\n",
       "    </tr>\n",
       "    <tr>\n",
       "      <th>3</th>\n",
       "      <td>Badlands</td>\n",
       "      <td>content.php_ii.command-line</td>\n",
       "      <td>6.0</td>\n",
       "      <td>content.php_i</td>\n",
       "      <td>5.0</td>\n",
       "      <td>content.php_ii.control-structures-i</td>\n",
       "      <td>5.0</td>\n",
       "    </tr>\n",
       "    <tr>\n",
       "      <th>4</th>\n",
       "      <td>Bash</td>\n",
       "      <td>javascript-i.introduction</td>\n",
       "      <td>260.0</td>\n",
       "      <td>javascript-i.javascript-with-html</td>\n",
       "      <td>213.0</td>\n",
       "      <td>javascript-i.introduction.working-with-data-types-operators-and-variables</td>\n",
       "      <td>211.0</td>\n",
       "    </tr>\n",
       "    <tr>\n",
       "      <th>5</th>\n",
       "      <td>Betelgeuse</td>\n",
       "      <td>html-css.elements</td>\n",
       "      <td>382.0</td>\n",
       "      <td>html-css.css-ii.bootstrap-grid-system</td>\n",
       "      <td>341.0</td>\n",
       "      <td>javascript-i.javascript-with-html</td>\n",
       "      <td>274.0</td>\n",
       "    </tr>\n",
       "    <tr>\n",
       "      <th>6</th>\n",
       "      <td>Ceres</td>\n",
       "      <td>javascript-i.introduction.working-with-data-types-operators-and-variables</td>\n",
       "      <td>372.0</td>\n",
       "      <td>html-css.forms</td>\n",
       "      <td>353.0</td>\n",
       "      <td>html-css.elements</td>\n",
       "      <td>351.0</td>\n",
       "    </tr>\n",
       "    <tr>\n",
       "      <th>7</th>\n",
       "      <td>Deimos</td>\n",
       "      <td>html-css.css-ii.bootstrap-introduction</td>\n",
       "      <td>340.0</td>\n",
       "      <td>html-css.css-ii.bootstrap-grid-system</td>\n",
       "      <td>324.0</td>\n",
       "      <td>mysql.tables</td>\n",
       "      <td>311.0</td>\n",
       "    </tr>\n",
       "    <tr>\n",
       "      <th>8</th>\n",
       "      <td>Europa</td>\n",
       "      <td>html-css.elements</td>\n",
       "      <td>340.0</td>\n",
       "      <td>html-css.css-i.selectors-and-properties</td>\n",
       "      <td>299.0</td>\n",
       "      <td>mysql.tables</td>\n",
       "      <td>285.0</td>\n",
       "    </tr>\n",
       "    <tr>\n",
       "      <th>9</th>\n",
       "      <td>Fortuna</td>\n",
       "      <td>mysql.tables</td>\n",
       "      <td>303.0</td>\n",
       "      <td>mysql.basic-statements</td>\n",
       "      <td>286.0</td>\n",
       "      <td>java-iii.jsp-and-jstl</td>\n",
       "      <td>275.0</td>\n",
       "    </tr>\n",
       "    <tr>\n",
       "      <th>10</th>\n",
       "      <td>Franklin</td>\n",
       "      <td>javascript-ii.es6</td>\n",
       "      <td>10.0</td>\n",
       "      <td>java-iii.user-input</td>\n",
       "      <td>3.0</td>\n",
       "      <td>javascript-i.coffee-project</td>\n",
       "      <td>2.0</td>\n",
       "    </tr>\n",
       "    <tr>\n",
       "      <th>11</th>\n",
       "      <td>Ganymede</td>\n",
       "      <td>java-iii.servlets</td>\n",
       "      <td>253.0</td>\n",
       "      <td>java-ii.collections</td>\n",
       "      <td>233.0</td>\n",
       "      <td>java-ii.object-oriented-programming</td>\n",
       "      <td>231.0</td>\n",
       "    </tr>\n",
       "    <tr>\n",
       "      <th>12</th>\n",
       "      <td>Glacier</td>\n",
       "      <td>content.html-css</td>\n",
       "      <td>14.0</td>\n",
       "      <td>1-fundamentals.1.1-intro-to-data-science</td>\n",
       "      <td>7.0</td>\n",
       "      <td>content.html-css.introduction.html</td>\n",
       "      <td>7.0</td>\n",
       "    </tr>\n",
       "    <tr>\n",
       "      <th>13</th>\n",
       "      <td>Hampton</td>\n",
       "      <td>java-iii.servlets</td>\n",
       "      <td>30.0</td>\n",
       "      <td>java-iii.jsp-and-jstl</td>\n",
       "      <td>27.0</td>\n",
       "      <td>java-iii.jdbc</td>\n",
       "      <td>24.0</td>\n",
       "    </tr>\n",
       "    <tr>\n",
       "      <th>14</th>\n",
       "      <td>Hyperion</td>\n",
       "      <td>html-css.elements</td>\n",
       "      <td>252.0</td>\n",
       "      <td>java-iii.jsp-and-jstl</td>\n",
       "      <td>236.0</td>\n",
       "      <td>java-iii.servlets</td>\n",
       "      <td>229.0</td>\n",
       "    </tr>\n",
       "    <tr>\n",
       "      <th>15</th>\n",
       "      <td>Ike</td>\n",
       "      <td>html-css.elements</td>\n",
       "      <td>11.0</td>\n",
       "      <td>html-css.introduction</td>\n",
       "      <td>10.0</td>\n",
       "      <td>html-css.forms</td>\n",
       "      <td>8.0</td>\n",
       "    </tr>\n",
       "    <tr>\n",
       "      <th>16</th>\n",
       "      <td>Joshua</td>\n",
       "      <td>content.html-css</td>\n",
       "      <td>19.0</td>\n",
       "      <td>content.html-css.introduction.html</td>\n",
       "      <td>14.0</td>\n",
       "      <td>content.mysql.intro-to-mysql</td>\n",
       "      <td>10.0</td>\n",
       "    </tr>\n",
       "    <tr>\n",
       "      <th>17</th>\n",
       "      <td>Jupiter</td>\n",
       "      <td>java-iii.servlets</td>\n",
       "      <td>315.0</td>\n",
       "      <td>java-ii.object-oriented-programming</td>\n",
       "      <td>313.0</td>\n",
       "      <td>mysql.tables</td>\n",
       "      <td>312.0</td>\n",
       "    </tr>\n",
       "    <tr>\n",
       "      <th>18</th>\n",
       "      <td>Kalypso</td>\n",
       "      <td>javascript-i.bom-and-dom.dom</td>\n",
       "      <td>283.0</td>\n",
       "      <td>html-css.css-ii.bootstrap-grid-system</td>\n",
       "      <td>248.0</td>\n",
       "      <td>java-iii.jsp-and-jstl</td>\n",
       "      <td>210.0</td>\n",
       "    </tr>\n",
       "    <tr>\n",
       "      <th>19</th>\n",
       "      <td>Kings</td>\n",
       "      <td>content.laravel.intro</td>\n",
       "      <td>77.0</td>\n",
       "      <td>content.php_iii</td>\n",
       "      <td>45.0</td>\n",
       "      <td>content.php_iv</td>\n",
       "      <td>40.0</td>\n",
       "    </tr>\n",
       "    <tr>\n",
       "      <th>20</th>\n",
       "      <td>Lassen</td>\n",
       "      <td>spring.fundamentals.repositories</td>\n",
       "      <td>115.0</td>\n",
       "      <td>spring.fundamentals.views</td>\n",
       "      <td>100.0</td>\n",
       "      <td>java-iii.jsp-and-jstl</td>\n",
       "      <td>93.0</td>\n",
       "    </tr>\n",
       "    <tr>\n",
       "      <th>21</th>\n",
       "      <td>Luna</td>\n",
       "      <td>javascript-i.introduction.working-with-data-types-operators-and-variables</td>\n",
       "      <td>226.0</td>\n",
       "      <td>mysql.tables</td>\n",
       "      <td>143.0</td>\n",
       "      <td>javascript-i.loops</td>\n",
       "      <td>141.0</td>\n",
       "    </tr>\n",
       "    <tr>\n",
       "      <th>22</th>\n",
       "      <td>Mammoth</td>\n",
       "      <td>spring.fundamentals.controllers</td>\n",
       "      <td>12.0</td>\n",
       "      <td>spring.fundamentals.views</td>\n",
       "      <td>11.0</td>\n",
       "      <td>content.php_i</td>\n",
       "      <td>9.0</td>\n",
       "    </tr>\n",
       "    <tr>\n",
       "      <th>23</th>\n",
       "      <td>Marco</td>\n",
       "      <td>javascript-i.introduction.working-with-data-types-operators-and-variables</td>\n",
       "      <td>394.0</td>\n",
       "      <td>javascript-i.javascript-with-html</td>\n",
       "      <td>300.0</td>\n",
       "      <td>javascript-i.functions</td>\n",
       "      <td>296.0</td>\n",
       "    </tr>\n",
       "    <tr>\n",
       "      <th>24</th>\n",
       "      <td>Neptune</td>\n",
       "      <td>javascript-i.javascript-with-html</td>\n",
       "      <td>153.0</td>\n",
       "      <td>javascript-i.introduction.working-with-data-types-operators-and-variables</td>\n",
       "      <td>91.0</td>\n",
       "      <td>javascript-i.loops</td>\n",
       "      <td>84.0</td>\n",
       "    </tr>\n",
       "    <tr>\n",
       "      <th>25</th>\n",
       "      <td>Niagara</td>\n",
       "      <td>java-iii.servlets</td>\n",
       "      <td>11.0</td>\n",
       "      <td>spring.fundamentals.controllers</td>\n",
       "      <td>11.0</td>\n",
       "      <td>javascript-ii.map-filter-reduce</td>\n",
       "      <td>9.0</td>\n",
       "    </tr>\n",
       "    <tr>\n",
       "      <th>26</th>\n",
       "      <td>Oberon</td>\n",
       "      <td>javascript-i.introduction.operators</td>\n",
       "      <td>80.0</td>\n",
       "      <td>javascript-i.introduction.primitive-types</td>\n",
       "      <td>72.0</td>\n",
       "      <td>javascript-i.introduction.working-with-data-types-operators-and-variables</td>\n",
       "      <td>66.0</td>\n",
       "    </tr>\n",
       "    <tr>\n",
       "      <th>27</th>\n",
       "      <td>Olympic</td>\n",
       "      <td>content.html-css</td>\n",
       "      <td>50.0</td>\n",
       "      <td>content.laravel.intro</td>\n",
       "      <td>31.0</td>\n",
       "      <td>content.html-css.introduction.html</td>\n",
       "      <td>30.0</td>\n",
       "    </tr>\n",
       "    <tr>\n",
       "      <th>28</th>\n",
       "      <td>Pinnacles</td>\n",
       "      <td>javascript-ii.npm</td>\n",
       "      <td>51.0</td>\n",
       "      <td>java-i.introduction-to-java</td>\n",
       "      <td>29.0</td>\n",
       "      <td>javascript-ii.promises</td>\n",
       "      <td>28.0</td>\n",
       "    </tr>\n",
       "    <tr>\n",
       "      <th>29</th>\n",
       "      <td>Quincy</td>\n",
       "      <td>content.laravel.intro</td>\n",
       "      <td>34.0</td>\n",
       "      <td>content.html-css</td>\n",
       "      <td>26.0</td>\n",
       "      <td>content.php_iii</td>\n",
       "      <td>16.0</td>\n",
       "    </tr>\n",
       "    <tr>\n",
       "      <th>30</th>\n",
       "      <td>Sequoia</td>\n",
       "      <td>spring.fundamentals.views</td>\n",
       "      <td>169.0</td>\n",
       "      <td>spring.fundamentals.controllers</td>\n",
       "      <td>149.0</td>\n",
       "      <td>spring.fundamentals.form-model-binding</td>\n",
       "      <td>144.0</td>\n",
       "    </tr>\n",
       "    <tr>\n",
       "      <th>31</th>\n",
       "      <td>Teddy</td>\n",
       "      <td>mysql.tables</td>\n",
       "      <td>363.0</td>\n",
       "      <td>mysql.databases</td>\n",
       "      <td>356.0</td>\n",
       "      <td>mysql.users</td>\n",
       "      <td>338.0</td>\n",
       "    </tr>\n",
       "    <tr>\n",
       "      <th>32</th>\n",
       "      <td>Ulysses</td>\n",
       "      <td>spring.fundamentals.form-model-binding</td>\n",
       "      <td>301.0</td>\n",
       "      <td>html-css.css-ii.bootstrap-introduction</td>\n",
       "      <td>259.0</td>\n",
       "      <td>mysql.users</td>\n",
       "      <td>248.0</td>\n",
       "    </tr>\n",
       "    <tr>\n",
       "      <th>33</th>\n",
       "      <td>Voyageurs</td>\n",
       "      <td>java-i.introduction-to-java</td>\n",
       "      <td>420.0</td>\n",
       "      <td>mysql.databases</td>\n",
       "      <td>395.0</td>\n",
       "      <td>mysql.tables</td>\n",
       "      <td>387.0</td>\n",
       "    </tr>\n",
       "    <tr>\n",
       "      <th>34</th>\n",
       "      <td>Wrangell</td>\n",
       "      <td>html-css.css-ii.bootstrap-grid-system</td>\n",
       "      <td>277.0</td>\n",
       "      <td>html-css.css-ii.bootstrap-introduction</td>\n",
       "      <td>275.0</td>\n",
       "      <td>javascript-i.functions</td>\n",
       "      <td>271.0</td>\n",
       "    </tr>\n",
       "    <tr>\n",
       "      <th>35</th>\n",
       "      <td>Xanadu</td>\n",
       "      <td>html-css.elements</td>\n",
       "      <td>375.0</td>\n",
       "      <td>mysql.tables</td>\n",
       "      <td>336.0</td>\n",
       "      <td>mysql.databases</td>\n",
       "      <td>298.0</td>\n",
       "    </tr>\n",
       "    <tr>\n",
       "      <th>36</th>\n",
       "      <td>Yosemite</td>\n",
       "      <td>javascript-ii.map-filter-reduce</td>\n",
       "      <td>232.0</td>\n",
       "      <td>mysql.tables</td>\n",
       "      <td>224.0</td>\n",
       "      <td>mysql.basic-statements</td>\n",
       "      <td>189.0</td>\n",
       "    </tr>\n",
       "  </tbody>\n",
       "</table>\n",
       "</div>"
      ],
      "text/plain": [
       "        Cohort  \\\n",
       "0    Andromeda   \n",
       "1         Apex   \n",
       "2       Arches   \n",
       "3     Badlands   \n",
       "4         Bash   \n",
       "5   Betelgeuse   \n",
       "6        Ceres   \n",
       "7       Deimos   \n",
       "8       Europa   \n",
       "9      Fortuna   \n",
       "10    Franklin   \n",
       "11    Ganymede   \n",
       "12     Glacier   \n",
       "13     Hampton   \n",
       "14    Hyperion   \n",
       "15         Ike   \n",
       "16      Joshua   \n",
       "17     Jupiter   \n",
       "18     Kalypso   \n",
       "19       Kings   \n",
       "20      Lassen   \n",
       "21        Luna   \n",
       "22     Mammoth   \n",
       "23       Marco   \n",
       "24     Neptune   \n",
       "25     Niagara   \n",
       "26      Oberon   \n",
       "27     Olympic   \n",
       "28   Pinnacles   \n",
       "29      Quincy   \n",
       "30     Sequoia   \n",
       "31       Teddy   \n",
       "32     Ulysses   \n",
       "33   Voyageurs   \n",
       "34    Wrangell   \n",
       "35      Xanadu   \n",
       "36    Yosemite   \n",
       "\n",
       "                                                                    #1 lesson  \\\n",
       "0   javascript-i.introduction.working-with-data-types-operators-and-variables   \n",
       "1                                           java-i.syntax-types-and-variables   \n",
       "2                                                          javascript-i.loops   \n",
       "3                                                 content.php_ii.command-line   \n",
       "4                                                   javascript-i.introduction   \n",
       "5                                                           html-css.elements   \n",
       "6   javascript-i.introduction.working-with-data-types-operators-and-variables   \n",
       "7                                      html-css.css-ii.bootstrap-introduction   \n",
       "8                                                           html-css.elements   \n",
       "9                                                                mysql.tables   \n",
       "10                                                          javascript-ii.es6   \n",
       "11                                                          java-iii.servlets   \n",
       "12                                                           content.html-css   \n",
       "13                                                          java-iii.servlets   \n",
       "14                                                          html-css.elements   \n",
       "15                                                          html-css.elements   \n",
       "16                                                           content.html-css   \n",
       "17                                                          java-iii.servlets   \n",
       "18                                               javascript-i.bom-and-dom.dom   \n",
       "19                                                      content.laravel.intro   \n",
       "20                                           spring.fundamentals.repositories   \n",
       "21  javascript-i.introduction.working-with-data-types-operators-and-variables   \n",
       "22                                            spring.fundamentals.controllers   \n",
       "23  javascript-i.introduction.working-with-data-types-operators-and-variables   \n",
       "24                                          javascript-i.javascript-with-html   \n",
       "25                                                          java-iii.servlets   \n",
       "26                                        javascript-i.introduction.operators   \n",
       "27                                                           content.html-css   \n",
       "28                                                          javascript-ii.npm   \n",
       "29                                                      content.laravel.intro   \n",
       "30                                                  spring.fundamentals.views   \n",
       "31                                                               mysql.tables   \n",
       "32                                     spring.fundamentals.form-model-binding   \n",
       "33                                                java-i.introduction-to-java   \n",
       "34                                      html-css.css-ii.bootstrap-grid-system   \n",
       "35                                                          html-css.elements   \n",
       "36                                            javascript-ii.map-filter-reduce   \n",
       "\n",
       "    #1 lesson count  \\\n",
       "0             263.0   \n",
       "1             360.0   \n",
       "2              66.0   \n",
       "3               6.0   \n",
       "4             260.0   \n",
       "5             382.0   \n",
       "6             372.0   \n",
       "7             340.0   \n",
       "8             340.0   \n",
       "9             303.0   \n",
       "10             10.0   \n",
       "11            253.0   \n",
       "12             14.0   \n",
       "13             30.0   \n",
       "14            252.0   \n",
       "15             11.0   \n",
       "16             19.0   \n",
       "17            315.0   \n",
       "18            283.0   \n",
       "19             77.0   \n",
       "20            115.0   \n",
       "21            226.0   \n",
       "22             12.0   \n",
       "23            394.0   \n",
       "24            153.0   \n",
       "25             11.0   \n",
       "26             80.0   \n",
       "27             50.0   \n",
       "28             51.0   \n",
       "29             34.0   \n",
       "30            169.0   \n",
       "31            363.0   \n",
       "32            301.0   \n",
       "33            420.0   \n",
       "34            277.0   \n",
       "35            375.0   \n",
       "36            232.0   \n",
       "\n",
       "                                                                    #2 lesson  \\\n",
       "0                                                                mysql.tables   \n",
       "1                                         java-ii.object-oriented-programming   \n",
       "2                                                           html-css.elements   \n",
       "3                                                               content.php_i   \n",
       "4                                           javascript-i.javascript-with-html   \n",
       "5                                       html-css.css-ii.bootstrap-grid-system   \n",
       "6                                                              html-css.forms   \n",
       "7                                       html-css.css-ii.bootstrap-grid-system   \n",
       "8                                     html-css.css-i.selectors-and-properties   \n",
       "9                                                      mysql.basic-statements   \n",
       "10                                                        java-iii.user-input   \n",
       "11                                                        java-ii.collections   \n",
       "12                                   1-fundamentals.1.1-intro-to-data-science   \n",
       "13                                                      java-iii.jsp-and-jstl   \n",
       "14                                                      java-iii.jsp-and-jstl   \n",
       "15                                                      html-css.introduction   \n",
       "16                                         content.html-css.introduction.html   \n",
       "17                                        java-ii.object-oriented-programming   \n",
       "18                                      html-css.css-ii.bootstrap-grid-system   \n",
       "19                                                            content.php_iii   \n",
       "20                                                  spring.fundamentals.views   \n",
       "21                                                               mysql.tables   \n",
       "22                                                  spring.fundamentals.views   \n",
       "23                                          javascript-i.javascript-with-html   \n",
       "24  javascript-i.introduction.working-with-data-types-operators-and-variables   \n",
       "25                                            spring.fundamentals.controllers   \n",
       "26                                  javascript-i.introduction.primitive-types   \n",
       "27                                                      content.laravel.intro   \n",
       "28                                                java-i.introduction-to-java   \n",
       "29                                                           content.html-css   \n",
       "30                                            spring.fundamentals.controllers   \n",
       "31                                                            mysql.databases   \n",
       "32                                     html-css.css-ii.bootstrap-introduction   \n",
       "33                                                            mysql.databases   \n",
       "34                                     html-css.css-ii.bootstrap-introduction   \n",
       "35                                                               mysql.tables   \n",
       "36                                                               mysql.tables   \n",
       "\n",
       "    #2 lesson count  \\\n",
       "0             262.0   \n",
       "1             355.0   \n",
       "2              65.0   \n",
       "3               5.0   \n",
       "4             213.0   \n",
       "5             341.0   \n",
       "6             353.0   \n",
       "7             324.0   \n",
       "8             299.0   \n",
       "9             286.0   \n",
       "10              3.0   \n",
       "11            233.0   \n",
       "12              7.0   \n",
       "13             27.0   \n",
       "14            236.0   \n",
       "15             10.0   \n",
       "16             14.0   \n",
       "17            313.0   \n",
       "18            248.0   \n",
       "19             45.0   \n",
       "20            100.0   \n",
       "21            143.0   \n",
       "22             11.0   \n",
       "23            300.0   \n",
       "24             91.0   \n",
       "25             11.0   \n",
       "26             72.0   \n",
       "27             31.0   \n",
       "28             29.0   \n",
       "29             26.0   \n",
       "30            149.0   \n",
       "31            356.0   \n",
       "32            259.0   \n",
       "33            395.0   \n",
       "34            275.0   \n",
       "35            336.0   \n",
       "36            224.0   \n",
       "\n",
       "                                                                    #3 lesson  \\\n",
       "0                                            spring.fundamentals.repositories   \n",
       "1                                                                mysql.tables   \n",
       "2                                                      javascript-ii.promises   \n",
       "3                                         content.php_ii.control-structures-i   \n",
       "4   javascript-i.introduction.working-with-data-types-operators-and-variables   \n",
       "5                                           javascript-i.javascript-with-html   \n",
       "6                                                           html-css.elements   \n",
       "7                                                                mysql.tables   \n",
       "8                                                                mysql.tables   \n",
       "9                                                       java-iii.jsp-and-jstl   \n",
       "10                                                javascript-i.coffee-project   \n",
       "11                                        java-ii.object-oriented-programming   \n",
       "12                                         content.html-css.introduction.html   \n",
       "13                                                              java-iii.jdbc   \n",
       "14                                                          java-iii.servlets   \n",
       "15                                                             html-css.forms   \n",
       "16                                               content.mysql.intro-to-mysql   \n",
       "17                                                               mysql.tables   \n",
       "18                                                      java-iii.jsp-and-jstl   \n",
       "19                                                             content.php_iv   \n",
       "20                                                      java-iii.jsp-and-jstl   \n",
       "21                                                         javascript-i.loops   \n",
       "22                                                              content.php_i   \n",
       "23                                                     javascript-i.functions   \n",
       "24                                                         javascript-i.loops   \n",
       "25                                            javascript-ii.map-filter-reduce   \n",
       "26  javascript-i.introduction.working-with-data-types-operators-and-variables   \n",
       "27                                         content.html-css.introduction.html   \n",
       "28                                                     javascript-ii.promises   \n",
       "29                                                            content.php_iii   \n",
       "30                                     spring.fundamentals.form-model-binding   \n",
       "31                                                                mysql.users   \n",
       "32                                                                mysql.users   \n",
       "33                                                               mysql.tables   \n",
       "34                                                     javascript-i.functions   \n",
       "35                                                            mysql.databases   \n",
       "36                                                     mysql.basic-statements   \n",
       "\n",
       "    #3 lesson count  \n",
       "0             259.0  \n",
       "1             348.0  \n",
       "2              63.0  \n",
       "3               5.0  \n",
       "4             211.0  \n",
       "5             274.0  \n",
       "6             351.0  \n",
       "7             311.0  \n",
       "8             285.0  \n",
       "9             275.0  \n",
       "10              2.0  \n",
       "11            231.0  \n",
       "12              7.0  \n",
       "13             24.0  \n",
       "14            229.0  \n",
       "15              8.0  \n",
       "16             10.0  \n",
       "17            312.0  \n",
       "18            210.0  \n",
       "19             40.0  \n",
       "20             93.0  \n",
       "21            141.0  \n",
       "22              9.0  \n",
       "23            296.0  \n",
       "24             84.0  \n",
       "25              9.0  \n",
       "26             66.0  \n",
       "27             30.0  \n",
       "28             28.0  \n",
       "29             16.0  \n",
       "30            144.0  \n",
       "31            338.0  \n",
       "32            248.0  \n",
       "33            387.0  \n",
       "34            271.0  \n",
       "35            298.0  \n",
       "36            189.0  "
      ]
     },
     "execution_count": 6,
     "metadata": {},
     "output_type": "execute_result"
    }
   ],
   "source": [
    "# Call function that prints out a program's top 10 lessons overall, then the top three lessons\n",
    "# accessed by each cohort (with counts)\n",
    "wd_tl = explore.lesson_top_three(wd)\n",
    "wd_tl"
   ]
  },
  {
   "cell_type": "code",
   "execution_count": 7,
   "id": "0aa1f7b4",
   "metadata": {},
   "outputs": [
    {
     "data": {
      "text/plain": [
       "mysql.tables                                                                 11.0\n",
       "html-css.elements                                                             7.0\n",
       "javascript-i.introduction.working-with-data-types-operators-and-variables     7.0\n",
       "javascript-i.javascript-with-html                                             4.0\n",
       "dtype: float64"
      ]
     },
     "execution_count": 7,
     "metadata": {},
     "output_type": "execute_result"
    }
   ],
   "source": [
    "# Finds the top functions across all cohorts\n",
    "a1 = wd_tl['#1 lesson'].value_counts()\n",
    "b1 = wd_tl['#2 lesson'].value_counts()\n",
    "c1 = wd_tl['#3 lesson'].value_counts() \n",
    "(a1 + b1 + c1).nlargest()"
   ]
  },
  {
   "cell_type": "markdown",
   "id": "85fa5fac",
   "metadata": {},
   "source": [
    "> ### Key Takeaway: Lesson 'mysql/tables' was the most accessed overall, as well as the consistently the highest amongst the web development cohorts.\n",
    "- ##### We also looked at the cohorts on a Unit (main topic) basis, and 'javascript-i' is the most accessed unit across cohorts."
   ]
  },
  {
   "cell_type": "markdown",
   "id": "7704cdde",
   "metadata": {},
   "source": [
    "### Examining Data Science"
   ]
  },
  {
   "cell_type": "code",
   "execution_count": 8,
   "id": "89162c10",
   "metadata": {},
   "outputs": [
    {
     "name": "stdout",
     "output_type": "stream",
     "text": [
      "Top ten lessons:\n",
      "----------\n",
      "classification.overview                     1310\n",
      "1-fundamentals.1.1-intro-to-data-science    1270\n",
      "classification.scale_features_or_not.svg    1138\n",
      "sql.mysql-overview                          1008\n",
      "fundamentals.intro-to-data-science           946\n",
      "6-regression.1-overview                      848\n",
      "10-anomaly-detection.1-overview              573\n",
      "3-sql.1-mysql-overview                       543\n",
      "anomaly-detection.overview                   523\n",
      "stats.compare-means                          510\n",
      "Name: lesson, dtype: int64\n"
     ]
    },
    {
     "data": {
      "text/html": [
       "<div>\n",
       "<style scoped>\n",
       "    .dataframe tbody tr th:only-of-type {\n",
       "        vertical-align: middle;\n",
       "    }\n",
       "\n",
       "    .dataframe tbody tr th {\n",
       "        vertical-align: top;\n",
       "    }\n",
       "\n",
       "    .dataframe thead th {\n",
       "        text-align: right;\n",
       "    }\n",
       "</style>\n",
       "<table border=\"1\" class=\"dataframe\">\n",
       "  <thead>\n",
       "    <tr style=\"text-align: right;\">\n",
       "      <th></th>\n",
       "      <th>Cohort</th>\n",
       "      <th>#1 lesson</th>\n",
       "      <th>#1 lesson count</th>\n",
       "      <th>#2 lesson</th>\n",
       "      <th>#2 lesson count</th>\n",
       "      <th>#3 lesson</th>\n",
       "      <th>#3 lesson count</th>\n",
       "    </tr>\n",
       "  </thead>\n",
       "  <tbody>\n",
       "    <tr>\n",
       "      <th>0</th>\n",
       "      <td>Bayes</td>\n",
       "      <td>1-fundamentals.1.1-intro-to-data-science</td>\n",
       "      <td>573</td>\n",
       "      <td>6-regression.1-overview</td>\n",
       "      <td>411</td>\n",
       "      <td>10-anomaly-detection.1-overview</td>\n",
       "      <td>289</td>\n",
       "    </tr>\n",
       "    <tr>\n",
       "      <th>1</th>\n",
       "      <td>Curie</td>\n",
       "      <td>6-regression.1-overview</td>\n",
       "      <td>432</td>\n",
       "      <td>1-fundamentals.1.1-intro-to-data-science</td>\n",
       "      <td>344</td>\n",
       "      <td>3-sql.1-mysql-overview</td>\n",
       "      <td>333</td>\n",
       "    </tr>\n",
       "    <tr>\n",
       "      <th>2</th>\n",
       "      <td>Darden</td>\n",
       "      <td>classification.overview</td>\n",
       "      <td>858</td>\n",
       "      <td>classification.scale_features_or_not.svg</td>\n",
       "      <td>713</td>\n",
       "      <td>sql.mysql-overview</td>\n",
       "      <td>573</td>\n",
       "    </tr>\n",
       "    <tr>\n",
       "      <th>3</th>\n",
       "      <td>Easley</td>\n",
       "      <td>classification.scale_features_or_not.svg</td>\n",
       "      <td>283</td>\n",
       "      <td>classification.overview</td>\n",
       "      <td>265</td>\n",
       "      <td>fundamentals.intro-to-data-science</td>\n",
       "      <td>210</td>\n",
       "    </tr>\n",
       "  </tbody>\n",
       "</table>\n",
       "</div>"
      ],
      "text/plain": [
       "   Cohort                                 #1 lesson  #1 lesson count  \\\n",
       "0   Bayes  1-fundamentals.1.1-intro-to-data-science              573   \n",
       "1   Curie                   6-regression.1-overview              432   \n",
       "2  Darden                   classification.overview              858   \n",
       "3  Easley  classification.scale_features_or_not.svg              283   \n",
       "\n",
       "                                  #2 lesson  #2 lesson count  \\\n",
       "0                   6-regression.1-overview              411   \n",
       "1  1-fundamentals.1.1-intro-to-data-science              344   \n",
       "2  classification.scale_features_or_not.svg              713   \n",
       "3                   classification.overview              265   \n",
       "\n",
       "                            #3 lesson  #3 lesson count  \n",
       "0     10-anomaly-detection.1-overview              289  \n",
       "1              3-sql.1-mysql-overview              333  \n",
       "2                  sql.mysql-overview              573  \n",
       "3  fundamentals.intro-to-data-science              210  "
      ]
     },
     "execution_count": 8,
     "metadata": {},
     "output_type": "execute_result"
    }
   ],
   "source": [
    "ds_tl = explore.lesson_top_three(ds)\n",
    "ds_tl"
   ]
  },
  {
   "cell_type": "code",
   "execution_count": 9,
   "id": "88aca282",
   "metadata": {},
   "outputs": [
    {
     "data": {
      "text/plain": [
       "Series([], dtype: float64)"
      ]
     },
     "execution_count": 9,
     "metadata": {},
     "output_type": "execute_result"
    }
   ],
   "source": [
    "a3 = ds_tl['#1 lesson'].value_counts()\n",
    "b3 = ds_tl['#2 lesson'].value_counts()\n",
    "c3 = ds_tl['#3 lesson'].value_counts()\n",
    "(a3 + b3 + c3).nlargest()"
   ]
  },
  {
   "cell_type": "markdown",
   "id": "af33a8f2",
   "metadata": {},
   "source": [
    "This did not work because it counts missing values as NaNs that wipe the whole row out.  Looking just at columns 1 and two:"
   ]
  },
  {
   "cell_type": "code",
   "execution_count": 10,
   "id": "b21aecf2",
   "metadata": {},
   "outputs": [
    {
     "data": {
      "text/plain": [
       "1-fundamentals.1.1-intro-to-data-science    2\n",
       "6-regression.1-overview                     2\n",
       "classification.overview                     2\n",
       "classification.scale_features_or_not.svg    2\n",
       "dtype: int64"
      ]
     },
     "execution_count": 10,
     "metadata": {},
     "output_type": "execute_result"
    }
   ],
   "source": [
    "(a3 + b3)"
   ]
  },
  {
   "cell_type": "markdown",
   "id": "15f530fc",
   "metadata": {},
   "source": [
    "> ### Key Takeaway: 'classification/overview is the is the highest accessed overall, and also scores high across cohorts with introduction/fundamentals close behind.  Interestingly, an image snuck in here and ranked very highly (classification/scale_features_or_no.svg) which means it must be a very good image!\n",
    "> #### Interesting note: It seems the path syntax changed from Bayes to Easely, as evidenced by the fundamentals having two seperate high scoring lessons.\n",
    "- ##### Additionally, when looking at top units, classification was accessed the most, in line with the most accessed lesson."
   ]
  },
  {
   "cell_type": "markdown",
   "id": "d8284265",
   "metadata": {},
   "source": [
    "## Question 2: Is there a cohort that referred to a lesson significantly more than other cohorts seemed to gloss over?"
   ]
  },
  {
   "cell_type": "markdown",
   "id": "ea832877",
   "metadata": {},
   "source": [
    "## Question 3: Are there students who, when active, hardly access the curriculum? If so, what information do you have about these students?"
   ]
  },
  {
   "cell_type": "markdown",
   "id": "0f8c7ab8",
   "metadata": {},
   "source": [
    "## Question 4: Is there any suspicious activity, such as users/machines/etc accessing the curriculum who shouldn’t be? Does it appear that any web-scraping is happening? Are there any suspicious IP addresses?"
   ]
  },
  {
   "cell_type": "markdown",
   "id": "9f16806a",
   "metadata": {},
   "source": [
    "## Question 5:  At some point in 2019, the ability for students and alumni to access both curriculum's (web development to data science, data science to web development) should have been shut off. Do you see any evidence of that happening? Did it happen before?"
   ]
  },
  {
   "cell_type": "markdown",
   "id": "0b067b5f",
   "metadata": {},
   "source": [
    "## Question 6: What topics are grads continuing to reference after graduation and into their jobs (for each program)?"
   ]
  },
  {
   "cell_type": "code",
   "execution_count": 11,
   "id": "9846c51a",
   "metadata": {},
   "outputs": [],
   "source": [
    "# Filters dataframes for program_types (web dev & data science) only after graduation date\n",
    "grad_accessed_wd = wd[(wd.accessed > wd.end_date)]\n",
    "grad_accessed_ds = ds[(ds.accessed > ds.end_date)]"
   ]
  },
  {
   "cell_type": "code",
   "execution_count": 12,
   "id": "82b74e0a",
   "metadata": {},
   "outputs": [
    {
     "data": {
      "text/plain": [
       "spring.fundamentals.controllers     959\n",
       "spring.fundamentals.views           907\n",
       "spring.setup                        892\n",
       "spring.fundamentals.repositories    871\n",
       "html-css.elements                   683\n",
       "Name: lesson, dtype: int64"
      ]
     },
     "execution_count": 12,
     "metadata": {},
     "output_type": "execute_result"
    }
   ],
   "source": [
    "# Returns the the top 5 lessons by web dev after graduation\n",
    "grad_accessed_wd.lesson.value_counts()[1:6]"
   ]
  },
  {
   "cell_type": "code",
   "execution_count": 13,
   "id": "64d25b9f",
   "metadata": {},
   "outputs": [
    {
     "data": {
      "text/plain": [
       "sql.mysql-overview                          210\n",
       "classification.scale_features_or_not.svg    174\n",
       "fundamentals.intro-to-data-science          138\n",
       "anomaly-detection.overview                  127\n",
       "1-fundamentals.1.1-intro-to-data-science    117\n",
       "Name: lesson, dtype: int64"
      ]
     },
     "execution_count": 13,
     "metadata": {},
     "output_type": "execute_result"
    }
   ],
   "source": [
    "# Returns the top 5 lessons by data science after graduation\n",
    "grad_accessed_ds.lesson.value_counts()[1:6]"
   ]
  },
  {
   "cell_type": "code",
   "execution_count": 14,
   "id": "d2357792",
   "metadata": {},
   "outputs": [
    {
     "data": {
      "text/plain": [
       "Text(0.5, 1.0, 'Topics Referenced after Graduation Data Science')"
      ]
     },
     "execution_count": 14,
     "metadata": {},
     "output_type": "execute_result"
    },
    {
     "data": {
      "image/png": "[encoded data removed]",
      "text/plain": [
       "<Figure size 432x288 with 1 Axes>"
      ]
     },
     "metadata": {
      "needs_background": "light"
     },
     "output_type": "display_data"
    }
   ],
   "source": [
    "# plots the lessons on y-axis and counts on x-axis\n",
    "sns.countplot(y=\"lesson\", data=grad_accessed_ds, palette=\"Greens_d\", \n",
    "              order=grad_accessed_ds.lesson.value_counts()[1:6].index)\n",
    "plt.title(\"Topics Referenced after Graduation Data Science\")"
   ]
  },
  {
   "cell_type": "code",
   "execution_count": 15,
   "id": "341b9a07",
   "metadata": {},
   "outputs": [
    {
     "data": {
      "text/plain": [
       "Text(0.5, 1.0, 'Topics Referenced after Graduation Web Development')"
      ]
     },
     "execution_count": 15,
     "metadata": {},
     "output_type": "execute_result"
    },
    {
     "data": {
      "image/png": "[encoded data removed]",
      "text/plain": [
       "<Figure size 432x288 with 1 Axes>"
      ]
     },
     "metadata": {
      "needs_background": "light"
     },
     "output_type": "display_data"
    }
   ],
   "source": [
    "# plots the lessons on y-axis and counts on x-axis\n",
    "sns.countplot(y=\"lesson\", data=grad_accessed_wd, palette=\"Greens_d\", \n",
    "              order=grad_accessed_wd.lesson.value_counts()[1:6].index)\n",
    "plt.title(\"Topics Referenced after Graduation Web Development\")"
   ]
  },
  {
   "cell_type": "markdown",
   "id": "003d07b8",
   "metadata": {},
   "source": [
    "## Question 7: Which lessons are least accessed?"
   ]
  },
  {
   "cell_type": "markdown",
   "id": "43d3b1cf",
   "metadata": {},
   "source": [
    "### Examining Web Development"
   ]
  },
  {
   "cell_type": "markdown",
   "id": "7bdc2ba2",
   "metadata": {},
   "source": [
    "Finding the least accessed lessons for Web Development cohorts is not starightforward.  There is a ton of noise, with lots of lessons having just a few accesses (many with just 1); in addition, cohorts have different sizes and a number are under-represented.  \n",
    "\n",
    "Thus, we focused on finding the least accessed *Unit* for Web Development:"
   ]
  },
  {
   "cell_type": "code",
   "execution_count": 16,
   "id": "b8f850fb",
   "metadata": {},
   "outputs": [
    {
     "data": {
      "text/plain": [
       "introduction        52\n",
       "git                 52\n",
       "elements            54\n",
       "1-fundamentals      62\n",
       "prework            695\n",
       "index.html        1080\n",
       "web-design        1407\n",
       "capstone          1847\n",
       "slides            5993\n",
       "content           6576\n",
       "Name: unit, dtype: int64"
      ]
     },
     "execution_count": 16,
     "metadata": {},
     "output_type": "execute_result"
    }
   ],
   "source": [
    "wd['unit'] = wd.path.str.split('/', expand=True)[0]\n",
    "wd.unit.value_counts()[wd.unit.value_counts()>50].nsmallest(10)"
   ]
  },
  {
   "cell_type": "markdown",
   "id": "d1787818",
   "metadata": {},
   "source": [
    "> ### Key Takeaway: Not counting prework, it seems web-design is the least accessed unit in Web Development"
   ]
  },
  {
   "cell_type": "markdown",
   "id": "f9ec624d",
   "metadata": {},
   "source": [
    "### Examining Data Science"
   ]
  },
  {
   "cell_type": "markdown",
   "id": "f90192ab",
   "metadata": {},
   "source": [
    "Data Science has tighter data, and therefore lends itself better for a more programmatic analysis.\n",
    "\n",
    "Thus, we identified all lessons for every cohort and compared them against each other to determine which were 'common' to all cohorts - this should remove most of the noise."
   ]
  },
  {
   "cell_type": "code",
   "execution_count": 17,
   "id": "f839240b",
   "metadata": {},
   "outputs": [
    {
     "data": {
      "text/plain": [
       "Lesson\n",
       "capstones.capstones                                46\n",
       "storytelling.creating-charts                       56\n",
       "fundamentals.cli.more-topics                       60\n",
       "fundamentals.cli.moving-files                      70\n",
       "storytelling.connecting-to-data                    78\n",
       "nlp.overview                                       79\n",
       "fundamentals.cli.navigating-the-filesystem         82\n",
       "fundamentals.cli.file-paths                        83\n",
       "fundamentals.cli.creating-files-and-directories    93\n",
       "storytelling.tableau                               96\n",
       "Name: Count, dtype: int64"
      ]
     },
     "execution_count": 17,
     "metadata": {},
     "output_type": "execute_result"
    }
   ],
   "source": [
    "# Create a list of DS cohorts\n",
    "ds_cohorts = ds.groupby('cohort').lesson.nunique().index\n",
    "\n",
    "# Now compare the lessons accessed in each cohort to see which have been accessed by all\n",
    "setter = ds[ds.cohort == \"Bayes\"].lesson.unique()\n",
    "for i in ds_cohorts:\n",
    "    unit_list = ds[ds.cohort == i].lesson.unique()\n",
    "    setter = list(set(setter).intersection(unit_list)) \n",
    "\n",
    "# Create a dataframe to display the least accessed 'common' lessons\n",
    "qw = []\n",
    "for n in setter:\n",
    "    row = {}\n",
    "    row['Lesson'] = n\n",
    "    row['Count'] = df[df.lesson == n].accessed.count()\n",
    "    qw.append(row)\n",
    "pd.DataFrame(qw).set_index('Lesson').Count.nsmallest(10)"
   ]
  },
  {
   "cell_type": "markdown",
   "id": "91183a0e",
   "metadata": {},
   "source": [
    "> ### Key Takeaway: Capstones/capstones was the least accessed lesson, followed by storytelling/creating-charts"
   ]
  },
  {
   "cell_type": "markdown",
   "id": "a12422cc",
   "metadata": {},
   "source": [
    "### Question 8: Anything else I should be aware of?"
   ]
  }
 ],
 "metadata": {
  "kernelspec": {
   "display_name": "Python 3 (ipykernel)",
   "language": "python",
   "name": "python3"
  },
  "language_info": {
   "codemirror_mode": {
    "name": "ipython",
    "version": 3
   },
   "file_extension": ".py",
   "mimetype": "text/x-python",
   "name": "python",
   "nbconvert_exporter": "python",
   "pygments_lexer": "ipython3",
   "version": "3.9.7"
  }
 },
 "nbformat": 4,
 "nbformat_minor": 5
}
