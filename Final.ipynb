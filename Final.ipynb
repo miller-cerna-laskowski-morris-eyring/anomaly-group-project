{
 "cells": [
  {
   "cell_type": "markdown",
   "id": "e6299812",
   "metadata": {},
   "source": [
    "# Codeup Curriculum Web Access Analysis"
   ]
  },
  {
   "cell_type": "markdown",
   "id": "552d579b",
   "metadata": {},
   "source": [
    "### Question 1: Which lesson appears to attract the most traffic consistently across cohorts (per program)?"
   ]
  },
  {
   "cell_type": "markdown",
   "id": "2c0f2517",
   "metadata": {},
   "source": [
    "### Question 2: Is there a cohort that referred to a lesson significantly more than other cohorts seemed to gloss over?"
   ]
  },
  {
   "cell_type": "markdown",
   "id": "37c38aac",
   "metadata": {},
   "source": [
    "### Question 3: Are there students who, when active, hardly access the curriculum? If so, what information do you have about these students?"
   ]
  },
  {
   "cell_type": "markdown",
   "id": "42646fa4",
   "metadata": {},
   "source": [
    "### Question 4: Is there any suspicious activity, such as users/machines/etc accessing the curriculum who shouldn’t be? Does it appear that any web-scraping is happening? Are there any suspicious IP addresses?"
   ]
  },
  {
   "cell_type": "markdown",
   "id": "b956609f",
   "metadata": {},
   "source": [
    "### Question 5:  At some point in 2019, the ability for students and alumni to access both curriculum's (web development to data science, data science to web development) should have been shut off. Do you see any evidence of that happening? Did it happen before?"
   ]
  },
  {
   "cell_type": "markdown",
   "id": "469cab30",
   "metadata": {},
   "source": [
    "### Question 6: What topics are grads continuing to reference after graduation and into their jobs (for each program)?"
   ]
  },
  {
   "cell_type": "markdown",
   "id": "e7d10ec3",
   "metadata": {},
   "source": [
    "### Question 7: Which lessons are least accessed?"
   ]
  },
  {
   "cell_type": "markdown",
   "id": "019a6906",
   "metadata": {},
   "source": [
    "### Question 8: Anything else I should be aware of?"
   ]
  }
 ],
 "metadata": {
  "kernelspec": {
   "display_name": "Python 3 (ipykernel)",
   "language": "python",
   "name": "python3"
  },
  "language_info": {
   "codemirror_mode": {
    "name": "ipython",
    "version": 3
   },
   "file_extension": ".py",
   "mimetype": "text/x-python",
   "name": "python",
   "nbconvert_exporter": "python",
   "pygments_lexer": "ipython3",
   "version": "3.9.12"
  }
 },
 "nbformat": 4,
 "nbformat_minor": 5
}
