{
 "cells": [
  {
   "cell_type": "markdown",
   "id": "f446cf8d",
   "metadata": {},
   "source": [
    "# $\\mathbf{CODEUP}$ $\\mathbf{CURRICULUM}$ $\\mathbf{ACCESS}$ $\\mathbf{ANALYSIS}$\n",
    "## *Lesson access details by user and cohort (plus who is shady, and who is a maybe)* \n",
    "#### This notebook is in support of an email communication and slide prepared by Staff Data Science Team.\n",
    "$\\rightarrow$ Delivered on 6/13/2022 by: Ray Cerna, Jen Eyring, Lochlyn Laskowski, Julessa Morris, Ryan Miller"
   ]
  },
  {
   "cell_type": "markdown",
   "id": "aecc3229",
   "metadata": {},
   "source": [
    "-----"
   ]
  },
  {
   "cell_type": "markdown",
   "id": "2e3dd3ca",
   "metadata": {},
   "source": [
    "# $\\bullet$ Executive Summary"
   ]
  },
  {
   "cell_type": "markdown",
   "id": "861b786d",
   "metadata": {},
   "source": [
    "### Question:\n",
    "### Actions: \n",
    "### Conclusions:  \n",
    "### Recommendations/Next Steps:"
   ]
  },
  {
   "cell_type": "markdown",
   "id": "396af133",
   "metadata": {},
   "source": [
    "----"
   ]
  },
  {
   "cell_type": "markdown",
   "id": "ba5c1571",
   "metadata": {},
   "source": [
    "# $\\bullet$ Libraries Used"
   ]
  },
  {
   "cell_type": "markdown",
   "id": "4b972aed",
   "metadata": {},
   "source": [
    "Common DS Libraries"
   ]
  },
  {
   "cell_type": "code",
   "execution_count": 1,
   "id": "06b7fdd1",
   "metadata": {},
   "outputs": [
    {
     "name": "stderr",
     "output_type": "stream",
     "text": [
      "<frozen importlib._bootstrap>:228: RuntimeWarning: scipy._lib.messagestream.MessageStream size changed, may indicate binary incompatibility. Expected 56 from C header, got 64 from PyObject\n"
     ]
    }
   ],
   "source": [
    "# For data analysis:\n",
    "import numpy as np\n",
    "import pandas as pd\n",
    "\n",
    "# Graphs/Visualizations:\n",
    "import seaborn as sns\n",
    "import matplotlib.pyplot as plt\n",
    "%matplotlib inline\n",
    "\n",
    "# For Statistics and Hypothesis Testing:\n",
    "import scipy.stats as stats"
   ]
  },
  {
   "cell_type": "markdown",
   "id": "af3cf124",
   "metadata": {},
   "source": [
    "Internally Created Helper Functions"
   ]
  },
  {
   "cell_type": "code",
   "execution_count": 2,
   "id": "74fbe1a4",
   "metadata": {},
   "outputs": [],
   "source": [
    "# For acquiring the dataset from the Cal Tech Database:\n",
    "import acquire\n",
    "\n",
    "# For acquiring, preparing/cleaning data while also creating dataframes with \n",
    "import wrangle\n",
    "\n",
    "# Various functions for exploring the data\n",
    "#import explore"
   ]
  },
  {
   "cell_type": "markdown",
   "id": "a7c27e35",
   "metadata": {},
   "source": [
    "Others"
   ]
  },
  {
   "cell_type": "code",
   "execution_count": 3,
   "id": "1fcb4772",
   "metadata": {},
   "outputs": [],
   "source": [
    "#Ignore Warnings:\n",
    "import warnings\n",
    "warnings.filterwarnings('ignore')\n",
    "\n",
    "# reloads import files each time a cell is ran (makes your life easier)\n",
    "%load_ext autoreload\n",
    "%autoreload 2\n",
    "\n",
    "# Shows all columns of a dataframe\n",
    "pd.set_option('display.max_columns', None)"
   ]
  },
  {
   "cell_type": "markdown",
   "id": "cb4ba058",
   "metadata": {},
   "source": [
    "# $\\bullet$ Analysis"
   ]
  },
  {
   "cell_type": "markdown",
   "id": "0c3a337c",
   "metadata": {},
   "source": [
    "### Our task was to answer a serious of questions about those accessing the Codeup curriculum.\n",
    "### To begin, loading the dataframes using our wrangle function, which acquires the data directly from the Codeup MySQL database.  \n",
    "#### - Query and wrangle details can be found in the wrangle.py function.\n",
    "#### - All dataframes have the same columns and datatypes."
   ]
  },
  {
   "cell_type": "code",
   "execution_count": 4,
   "id": "d1332381",
   "metadata": {},
   "outputs": [
    {
     "name": "stdout",
     "output_type": "stream",
     "text": [
      "This returned the following dataframes (reassign if you missed any):\n"
     ]
    },
    {
     "data": {
      "text/html": [
       "<div>\n",
       "<style scoped>\n",
       "    .dataframe tbody tr th:only-of-type {\n",
       "        vertical-align: middle;\n",
       "    }\n",
       "\n",
       "    .dataframe tbody tr th {\n",
       "        vertical-align: top;\n",
       "    }\n",
       "\n",
       "    .dataframe thead th {\n",
       "        text-align: right;\n",
       "    }\n",
       "</style>\n",
       "<table border=\"1\" class=\"dataframe\">\n",
       "  <thead>\n",
       "    <tr style=\"text-align: right;\">\n",
       "      <th></th>\n",
       "      <th>Description</th>\n",
       "      <th>Record Count</th>\n",
       "      <th>Percent of Raw df</th>\n",
       "    </tr>\n",
       "    <tr>\n",
       "      <th>Dataframe</th>\n",
       "      <th></th>\n",
       "      <th></th>\n",
       "      <th></th>\n",
       "    </tr>\n",
       "  </thead>\n",
       "  <tbody>\n",
       "    <tr>\n",
       "      <th>df</th>\n",
       "      <td>Fully cleaned dataframe</td>\n",
       "      <td>509409</td>\n",
       "      <td>56.6%</td>\n",
       "    </tr>\n",
       "    <tr>\n",
       "      <th>df_staff</th>\n",
       "      <td>Cohort == Staff</td>\n",
       "      <td>84031</td>\n",
       "      <td>9.33%</td>\n",
       "    </tr>\n",
       "    <tr>\n",
       "      <th>df_multicohort</th>\n",
       "      <td>Users listed in more than one cohort</td>\n",
       "      <td>22708</td>\n",
       "      <td>2.52%</td>\n",
       "    </tr>\n",
       "    <tr>\n",
       "      <th>df_unimputed</th>\n",
       "      <td>Users with unknown/unimputable cohorts</td>\n",
       "      <td>45904</td>\n",
       "      <td>5.1%</td>\n",
       "    </tr>\n",
       "    <tr>\n",
       "      <th>df_non_curriculum</th>\n",
       "      <td>Accessess not related to the curriculum, i.e. directories, images</td>\n",
       "      <td>116539</td>\n",
       "      <td>12.9%</td>\n",
       "    </tr>\n",
       "    <tr>\n",
       "      <th>df_outliers</th>\n",
       "      <td>Accesses meeting outlier conditions</td>\n",
       "      <td>121626</td>\n",
       "      <td>13.5%</td>\n",
       "    </tr>\n",
       "  </tbody>\n",
       "</table>\n",
       "</div>"
      ],
      "text/plain": [
       "                                                                         Description  \\\n",
       "Dataframe                                                                              \n",
       "df                                                           Fully cleaned dataframe   \n",
       "df_staff                                                             Cohort == Staff   \n",
       "df_multicohort                                  Users listed in more than one cohort   \n",
       "df_unimputed                                  Users with unknown/unimputable cohorts   \n",
       "df_non_curriculum  Accessess not related to the curriculum, i.e. directories, images   \n",
       "df_outliers                                      Accesses meeting outlier conditions   \n",
       "\n",
       "                   Record Count Percent of Raw df  \n",
       "Dataframe                                          \n",
       "df                       509409             56.6%  \n",
       "df_staff                  84031             9.33%  \n",
       "df_multicohort            22708             2.52%  \n",
       "df_unimputed              45904              5.1%  \n",
       "df_non_curriculum        116539             12.9%  \n",
       "df_outliers              121626             13.5%  "
      ]
     },
     "metadata": {},
     "output_type": "display_data"
    }
   ],
   "source": [
    "df, df_staff, df_multicohort, df_unimputed, df_non_curriculum, df_outliers = wrangle.full_wrangle()"
   ]
  },
  {
   "cell_type": "markdown",
   "id": "f0155f89",
   "metadata": {},
   "source": [
    "##### The core 'df' dataframe is used for most of the user analysis, however other dataframes are integrated in when needed (namely for outlier/anomaly detection)."
   ]
  },
  {
   "cell_type": "markdown",
   "id": "38c3969b",
   "metadata": {},
   "source": [
    "## Question 1: Which lesson appears to attract the most traffic consistently across cohorts (per program)?"
   ]
  },
  {
   "cell_type": "markdown",
   "id": "ed4e3bcf",
   "metadata": {},
   "source": [
    "We analyzed each program seperately:"
   ]
  },
  {
   "cell_type": "code",
   "execution_count": null,
   "id": "452f4168",
   "metadata": {},
   "outputs": [],
   "source": []
  },
  {
   "cell_type": "markdown",
   "id": "d8284265",
   "metadata": {},
   "source": [
    "### Question 2: Is there a cohort that referred to a lesson significantly more than other cohorts seemed to gloss over?"
   ]
  },
  {
   "cell_type": "markdown",
   "id": "ea832877",
   "metadata": {},
   "source": [
    "### Question 3: Are there students who, when active, hardly access the curriculum? If so, what information do you have about these students?"
   ]
  },
  {
   "cell_type": "code",
   "execution_count": 1,
   "id": "40294e25",
   "metadata": {},
   "outputs": [],
   "source": [
    "#howdy....."
   ]
  },
  {
   "cell_type": "markdown",
   "id": "0f8c7ab8",
   "metadata": {},
   "source": [
    "### Question 4: Is there any suspicious activity, such as users/machines/etc accessing the curriculum who shouldn’t be? Does it appear that any web-scraping is happening? Are there any suspicious IP addresses?"
   ]
  },
  {
   "cell_type": "markdown",
   "id": "9f16806a",
   "metadata": {},
   "source": [
    "### Question 5:  At some point in 2019, the ability for students and alumni to access both curriculum's (web development to data science, data science to web development) should have been shut off. Do you see any evidence of that happening? Did it happen before?"
   ]
  },
  {
   "cell_type": "markdown",
   "id": "0b067b5f",
   "metadata": {},
   "source": [
    "### Question 6: What topics are grads continuing to reference after graduation and into their jobs (for each program)?"
   ]
  },
  {
   "cell_type": "code",
   "execution_count": 5,
   "id": "9846c51a",
   "metadata": {},
   "outputs": [
    {
     "ename": "NameError",
     "evalue": "name 'wd' is not defined",
     "output_type": "error",
     "traceback": [
      "\u001b[0;31m---------------------------------------------------------------------------\u001b[0m",
      "\u001b[0;31mNameError\u001b[0m                                 Traceback (most recent call last)",
      "Input \u001b[0;32mIn [5]\u001b[0m, in \u001b[0;36m<cell line: 2>\u001b[0;34m()\u001b[0m\n\u001b[1;32m      1\u001b[0m \u001b[38;5;66;03m# Filters dataframes for program_types (web dev & data science) only after graduation date\u001b[39;00m\n\u001b[0;32m----> 2\u001b[0m grad_accessed_wd \u001b[38;5;241m=\u001b[39m \u001b[43mwd\u001b[49m[(wd\u001b[38;5;241m.\u001b[39maccessed \u001b[38;5;241m>\u001b[39m wd\u001b[38;5;241m.\u001b[39mend_date)]\n\u001b[1;32m      3\u001b[0m grad_accessed_ds \u001b[38;5;241m=\u001b[39m ds[(ds\u001b[38;5;241m.\u001b[39maccessed \u001b[38;5;241m>\u001b[39m ds\u001b[38;5;241m.\u001b[39mend_date)]\n",
      "\u001b[0;31mNameError\u001b[0m: name 'wd' is not defined"
     ]
    }
   ],
   "source": [
    "# Filters dataframes for program_types (web dev & data science) only after graduation date\n",
    "grad_accessed_wd = wd[(wd.accessed > wd.end_date)]\n",
    "grad_accessed_ds = ds[(ds.accessed > ds.end_date)]"
   ]
  },
  {
   "cell_type": "code",
   "execution_count": null,
   "id": "82b74e0a",
   "metadata": {},
   "outputs": [],
   "source": [
    "# Returns the the top 5 lessons by web dev after graduation\n",
    "grad_accessed_wd.lesson.value_counts()[1:6]"
   ]
  },
  {
   "cell_type": "code",
   "execution_count": null,
   "id": "64d25b9f",
   "metadata": {},
   "outputs": [],
   "source": [
    "# Returns the top 5 lessons by data science after graduation\n",
    "grad_accessed_ds.lesson.value_counts()[1:6]"
   ]
  },
  {
   "cell_type": "code",
   "execution_count": null,
   "id": "d2357792",
   "metadata": {},
   "outputs": [],
   "source": [
    "# plots the lessons on y-axis and counts on x-axis\n",
    "sns.countplot(y=\"lesson\", data=grad_accessed_ds, palette=\"Greens_d\", \n",
    "              order=grad_accessed_ds.lesson.value_counts()[1:6].index)\n",
    "plt.title(\"Topics Referenced after Graduation Data Science\")"
   ]
  },
  {
   "cell_type": "code",
   "execution_count": null,
   "id": "341b9a07",
   "metadata": {},
   "outputs": [],
   "source": [
    "# plots the lessons on y-axis and counts on x-axis\n",
    "sns.countplot(y=\"lesson\", data=grad_accessed_wd, palette=\"Greens_d\", \n",
    "              order=grad_accessed_wd.lesson.value_counts()[1:6].index)\n",
    "plt.title(\"Topics Referenced after Graduation Web Development\")"
   ]
  },
  {
   "cell_type": "markdown",
   "id": "003d07b8",
   "metadata": {},
   "source": [
    "### Question 7: Which lessons are least accessed?"
   ]
  },
  {
   "cell_type": "markdown",
   "id": "a12422cc",
   "metadata": {},
   "source": [
    "### Question 8: Anything else I should be aware of?"
   ]
  }
 ],
 "metadata": {
  "kernelspec": {
   "display_name": "Python 3 (ipykernel)",
   "language": "python",
   "name": "python3"
  },
  "language_info": {
   "codemirror_mode": {
    "name": "ipython",
    "version": 3
   },
   "file_extension": ".py",
   "mimetype": "text/x-python",
   "name": "python",
   "nbconvert_exporter": "python",
   "pygments_lexer": "ipython3",
   "version": "3.9.7"
  }
 },
 "nbformat": 4,
 "nbformat_minor": 5
}
