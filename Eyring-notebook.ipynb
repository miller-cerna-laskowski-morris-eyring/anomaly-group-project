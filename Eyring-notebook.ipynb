{
 "cells": [
  {
   "cell_type": "code",
   "execution_count": 1,
   "id": "32a0a505",
   "metadata": {},
   "outputs": [],
   "source": [
    "#imports libraries\n",
    "import pandas as pd\n",
    "import numpy as np\n",
    "from sklearn import metrics\n",
    "import seaborn as sns\n",
    "from datetime import timedelta\n",
    "from datetime import datetime\n",
    "import matplotlib.pyplot as plt\n",
    "\n",
    "# Ignore warnings\n",
    "import warnings\n",
    "warnings.filterwarnings('ignore')\n",
    "\n",
    "#imports for acquire and prep\n",
    "from env import get_db_url\n",
    "import os\n",
    "import acquire\n",
    "import wrangle"
   ]
  },
  {
   "cell_type": "markdown",
   "id": "c44a20f8",
   "metadata": {},
   "source": [
    "# Team Anomaly Detection Project:\n",
    "\n",
    "This repo is my side of the exploration, in first, answering question #3, and then using our Team's wrangle.py file to do more exploring on finding other anomalies and/or takeaways that might have been overlooked and added to the Codeup email."
   ]
  },
  {
   "cell_type": "markdown",
   "id": "bfd50658",
   "metadata": {},
   "source": [
    "#### Pulling in the wrangle dataframe with the acquire file, and then doing simple changes to further the process of answering questions 3."
   ]
  },
  {
   "cell_type": "code",
   "execution_count": 2,
   "id": "f9fe1c92",
   "metadata": {},
   "outputs": [
    {
     "name": "stdout",
     "output_type": "stream",
     "text": [
      "This returned the following dataframes (reassign if you missed any):\n"
     ]
    },
    {
     "data": {
      "text/html": [
       "<div>\n",
       "<style scoped>\n",
       "    .dataframe tbody tr th:only-of-type {\n",
       "        vertical-align: middle;\n",
       "    }\n",
       "\n",
       "    .dataframe tbody tr th {\n",
       "        vertical-align: top;\n",
       "    }\n",
       "\n",
       "    .dataframe thead th {\n",
       "        text-align: right;\n",
       "    }\n",
       "</style>\n",
       "<table border=\"1\" class=\"dataframe\">\n",
       "  <thead>\n",
       "    <tr style=\"text-align: right;\">\n",
       "      <th></th>\n",
       "      <th>Description</th>\n",
       "      <th>Record Count</th>\n",
       "      <th>Percent of Raw df</th>\n",
       "    </tr>\n",
       "    <tr>\n",
       "      <th>Dataframe</th>\n",
       "      <th></th>\n",
       "      <th></th>\n",
       "      <th></th>\n",
       "    </tr>\n",
       "  </thead>\n",
       "  <tbody>\n",
       "    <tr>\n",
       "      <th>df</th>\n",
       "      <td>Fully cleaned dataframe</td>\n",
       "      <td>509409</td>\n",
       "      <td>56.6%</td>\n",
       "    </tr>\n",
       "    <tr>\n",
       "      <th>df_staff</th>\n",
       "      <td>Cohort == Staff</td>\n",
       "      <td>84031</td>\n",
       "      <td>9.33%</td>\n",
       "    </tr>\n",
       "    <tr>\n",
       "      <th>df_multicohort</th>\n",
       "      <td>Users listed in more than one cohort</td>\n",
       "      <td>22708</td>\n",
       "      <td>2.52%</td>\n",
       "    </tr>\n",
       "    <tr>\n",
       "      <th>df_unimputed</th>\n",
       "      <td>Users with unknown/unimputable cohorts</td>\n",
       "      <td>45904</td>\n",
       "      <td>5.1%</td>\n",
       "    </tr>\n",
       "    <tr>\n",
       "      <th>df_non_curriculum</th>\n",
       "      <td>Accessess not related to the curriculum, i.e. directories, images</td>\n",
       "      <td>116539</td>\n",
       "      <td>12.9%</td>\n",
       "    </tr>\n",
       "    <tr>\n",
       "      <th>df_outliers</th>\n",
       "      <td>Accesses meeting outlier conditions</td>\n",
       "      <td>121626</td>\n",
       "      <td>13.5%</td>\n",
       "    </tr>\n",
       "  </tbody>\n",
       "</table>\n",
       "</div>"
      ],
      "text/plain": [
       "                                                                         Description  \\\n",
       "Dataframe                                                                              \n",
       "df                                                           Fully cleaned dataframe   \n",
       "df_staff                                                             Cohort == Staff   \n",
       "df_multicohort                                  Users listed in more than one cohort   \n",
       "df_unimputed                                  Users with unknown/unimputable cohorts   \n",
       "df_non_curriculum  Accessess not related to the curriculum, i.e. directories, images   \n",
       "df_outliers                                      Accesses meeting outlier conditions   \n",
       "\n",
       "                   Record Count Percent of Raw df  \n",
       "Dataframe                                          \n",
       "df                       509409             56.6%  \n",
       "df_staff                  84031             9.33%  \n",
       "df_multicohort            22708             2.52%  \n",
       "df_unimputed              45904              5.1%  \n",
       "df_non_curriculum        116539             12.9%  \n",
       "df_outliers              121626             13.5%  "
      ]
     },
     "metadata": {},
     "output_type": "display_data"
    }
   ],
   "source": [
    "#calling in acquire function for OG dataset (minimized cleaning/wrangle)\n",
    "df, df_staff, df_multicohort, df_unimputed, df_non_curriculum, df_outliers=wrangle.full_wrangle()"
   ]
  },
  {
   "cell_type": "markdown",
   "id": "0d1b6fee",
   "metadata": {},
   "source": [
    "#### Looking at all of the dataframes:"
   ]
  },
  {
   "cell_type": "code",
   "execution_count": 3,
   "id": "a5fe0adb",
   "metadata": {},
   "outputs": [
    {
     "data": {
      "text/html": [
       "<div>\n",
       "<style scoped>\n",
       "    .dataframe tbody tr th:only-of-type {\n",
       "        vertical-align: middle;\n",
       "    }\n",
       "\n",
       "    .dataframe tbody tr th {\n",
       "        vertical-align: top;\n",
       "    }\n",
       "\n",
       "    .dataframe thead th {\n",
       "        text-align: right;\n",
       "    }\n",
       "</style>\n",
       "<table border=\"1\" class=\"dataframe\">\n",
       "  <thead>\n",
       "    <tr style=\"text-align: right;\">\n",
       "      <th></th>\n",
       "      <th>accessed</th>\n",
       "      <th>path</th>\n",
       "      <th>ip</th>\n",
       "      <th>user_id</th>\n",
       "      <th>program_id</th>\n",
       "      <th>program_type</th>\n",
       "      <th>cohort</th>\n",
       "      <th>start_date</th>\n",
       "      <th>end_date</th>\n",
       "      <th>lesson</th>\n",
       "      <th>hour</th>\n",
       "    </tr>\n",
       "  </thead>\n",
       "  <tbody>\n",
       "    <tr>\n",
       "      <th>1</th>\n",
       "      <td>2018-01-26 09:56:02</td>\n",
       "      <td>java-ii</td>\n",
       "      <td>97.105.19.61</td>\n",
       "      <td>1</td>\n",
       "      <td>1.0</td>\n",
       "      <td>Web Development</td>\n",
       "      <td>Hampton</td>\n",
       "      <td>2015-09-22</td>\n",
       "      <td>2016-02-06</td>\n",
       "      <td>Not Lesson</td>\n",
       "      <td>9</td>\n",
       "    </tr>\n",
       "    <tr>\n",
       "      <th>2</th>\n",
       "      <td>2018-01-26 09:56:05</td>\n",
       "      <td>java-ii/object-oriented-programming</td>\n",
       "      <td>97.105.19.61</td>\n",
       "      <td>1</td>\n",
       "      <td>1.0</td>\n",
       "      <td>Web Development</td>\n",
       "      <td>Hampton</td>\n",
       "      <td>2015-09-22</td>\n",
       "      <td>2016-02-06</td>\n",
       "      <td>java-ii.object-oriented-programming</td>\n",
       "      <td>9</td>\n",
       "    </tr>\n",
       "  </tbody>\n",
       "</table>\n",
       "</div>"
      ],
      "text/plain": [
       "             accessed                                 path            ip  \\\n",
       "1 2018-01-26 09:56:02                              java-ii  97.105.19.61   \n",
       "2 2018-01-26 09:56:05  java-ii/object-oriented-programming  97.105.19.61   \n",
       "\n",
       "   user_id  program_id     program_type   cohort start_date   end_date  \\\n",
       "1        1         1.0  Web Development  Hampton 2015-09-22 2016-02-06   \n",
       "2        1         1.0  Web Development  Hampton 2015-09-22 2016-02-06   \n",
       "\n",
       "                                lesson  hour  \n",
       "1                           Not Lesson     9  \n",
       "2  java-ii.object-oriented-programming     9  "
      ]
     },
     "execution_count": 3,
     "metadata": {},
     "output_type": "execute_result"
    }
   ],
   "source": [
    "#looking at df:\n",
    "df.head(2)"
   ]
  },
  {
   "cell_type": "code",
   "execution_count": 4,
   "id": "f8f3d446",
   "metadata": {},
   "outputs": [
    {
     "data": {
      "text/html": [
       "<div>\n",
       "<style scoped>\n",
       "    .dataframe tbody tr th:only-of-type {\n",
       "        vertical-align: middle;\n",
       "    }\n",
       "\n",
       "    .dataframe tbody tr th {\n",
       "        vertical-align: top;\n",
       "    }\n",
       "\n",
       "    .dataframe thead th {\n",
       "        text-align: right;\n",
       "    }\n",
       "</style>\n",
       "<table border=\"1\" class=\"dataframe\">\n",
       "  <thead>\n",
       "    <tr style=\"text-align: right;\">\n",
       "      <th></th>\n",
       "      <th>accessed</th>\n",
       "      <th>path</th>\n",
       "      <th>ip</th>\n",
       "      <th>user_id</th>\n",
       "      <th>program_id</th>\n",
       "      <th>program_type</th>\n",
       "      <th>cohort</th>\n",
       "      <th>start_date</th>\n",
       "      <th>end_date</th>\n",
       "      <th>lesson</th>\n",
       "      <th>hour</th>\n",
       "    </tr>\n",
       "  </thead>\n",
       "  <tbody>\n",
       "    <tr>\n",
       "      <th>166284</th>\n",
       "      <td>2018-12-06 14:15:29</td>\n",
       "      <td>appendix/further-reading/java/intellij-tomcat-configuration</td>\n",
       "      <td>97.105.19.58</td>\n",
       "      <td>53</td>\n",
       "      <td>2.0</td>\n",
       "      <td>Web Development</td>\n",
       "      <td>Staff</td>\n",
       "      <td>2014-02-04</td>\n",
       "      <td>2014-02-04</td>\n",
       "      <td>Not Lesson</td>\n",
       "      <td>14</td>\n",
       "    </tr>\n",
       "    <tr>\n",
       "      <th>166294</th>\n",
       "      <td>2018-12-06 14:25:40</td>\n",
       "      <td>javascript-i</td>\n",
       "      <td>97.105.19.58</td>\n",
       "      <td>314</td>\n",
       "      <td>2.0</td>\n",
       "      <td>Web Development</td>\n",
       "      <td>Staff</td>\n",
       "      <td>2014-02-04</td>\n",
       "      <td>2014-02-04</td>\n",
       "      <td>Not Lesson</td>\n",
       "      <td>14</td>\n",
       "    </tr>\n",
       "  </tbody>\n",
       "</table>\n",
       "</div>"
      ],
      "text/plain": [
       "                  accessed  \\\n",
       "166284 2018-12-06 14:15:29   \n",
       "166294 2018-12-06 14:25:40   \n",
       "\n",
       "                                                               path  \\\n",
       "166284  appendix/further-reading/java/intellij-tomcat-configuration   \n",
       "166294                                                 javascript-i   \n",
       "\n",
       "                  ip  user_id  program_id     program_type cohort start_date  \\\n",
       "166284  97.105.19.58       53         2.0  Web Development  Staff 2014-02-04   \n",
       "166294  97.105.19.58      314         2.0  Web Development  Staff 2014-02-04   \n",
       "\n",
       "         end_date      lesson  hour  \n",
       "166284 2014-02-04  Not Lesson    14  \n",
       "166294 2014-02-04  Not Lesson    14  "
      ]
     },
     "execution_count": 4,
     "metadata": {},
     "output_type": "execute_result"
    }
   ],
   "source": [
    "#looking at outlier datasets: df_staff (only holds Staff members and their info)\n",
    "df_staff.head(2)"
   ]
  },
  {
   "cell_type": "code",
   "execution_count": 5,
   "id": "6759e146",
   "metadata": {},
   "outputs": [
    {
     "data": {
      "text/html": [
       "<div>\n",
       "<style scoped>\n",
       "    .dataframe tbody tr th:only-of-type {\n",
       "        vertical-align: middle;\n",
       "    }\n",
       "\n",
       "    .dataframe tbody tr th {\n",
       "        vertical-align: top;\n",
       "    }\n",
       "\n",
       "    .dataframe thead th {\n",
       "        text-align: right;\n",
       "    }\n",
       "</style>\n",
       "<table border=\"1\" class=\"dataframe\">\n",
       "  <thead>\n",
       "    <tr style=\"text-align: right;\">\n",
       "      <th></th>\n",
       "      <th>accessed</th>\n",
       "      <th>path</th>\n",
       "      <th>ip</th>\n",
       "      <th>user_id</th>\n",
       "      <th>program_id</th>\n",
       "      <th>program_type</th>\n",
       "      <th>cohort</th>\n",
       "      <th>start_date</th>\n",
       "      <th>end_date</th>\n",
       "      <th>lesson</th>\n",
       "      <th>hour</th>\n",
       "    </tr>\n",
       "  </thead>\n",
       "  <tbody>\n",
       "    <tr>\n",
       "      <th>111</th>\n",
       "      <td>2018-01-26 11:36:00</td>\n",
       "      <td>mkdocs/search_index.json</td>\n",
       "      <td>97.105.19.61</td>\n",
       "      <td>25</td>\n",
       "      <td>2.0</td>\n",
       "      <td>Web Development</td>\n",
       "      <td>Teddy</td>\n",
       "      <td>2018-01-08</td>\n",
       "      <td>2018-05-17</td>\n",
       "      <td>mkdocs.search_index.json</td>\n",
       "      <td>11</td>\n",
       "    </tr>\n",
       "    <tr>\n",
       "      <th>124</th>\n",
       "      <td>2018-01-26 11:41:09</td>\n",
       "      <td>javascript-i/functions</td>\n",
       "      <td>97.105.19.61</td>\n",
       "      <td>25</td>\n",
       "      <td>2.0</td>\n",
       "      <td>Web Development</td>\n",
       "      <td>Teddy</td>\n",
       "      <td>2018-01-08</td>\n",
       "      <td>2018-05-17</td>\n",
       "      <td>javascript-i.functions</td>\n",
       "      <td>11</td>\n",
       "    </tr>\n",
       "  </tbody>\n",
       "</table>\n",
       "</div>"
      ],
      "text/plain": [
       "               accessed                      path            ip  user_id  \\\n",
       "111 2018-01-26 11:36:00  mkdocs/search_index.json  97.105.19.61       25   \n",
       "124 2018-01-26 11:41:09    javascript-i/functions  97.105.19.61       25   \n",
       "\n",
       "     program_id     program_type cohort start_date   end_date  \\\n",
       "111         2.0  Web Development  Teddy 2018-01-08 2018-05-17   \n",
       "124         2.0  Web Development  Teddy 2018-01-08 2018-05-17   \n",
       "\n",
       "                       lesson  hour  \n",
       "111  mkdocs.search_index.json    11  \n",
       "124    javascript-i.functions    11  "
      ]
     },
     "execution_count": 5,
     "metadata": {},
     "output_type": "execute_result"
    }
   ],
   "source": [
    "#looking at outlier datasets: df_multicohort (only holds outliers that have multicohorts in data)\n",
    "df_multicohort.head(2)"
   ]
  },
  {
   "cell_type": "code",
   "execution_count": 6,
   "id": "b2691d49",
   "metadata": {},
   "outputs": [
    {
     "data": {
      "text/html": [
       "<div>\n",
       "<style scoped>\n",
       "    .dataframe tbody tr th:only-of-type {\n",
       "        vertical-align: middle;\n",
       "    }\n",
       "\n",
       "    .dataframe tbody tr th {\n",
       "        vertical-align: top;\n",
       "    }\n",
       "\n",
       "    .dataframe thead th {\n",
       "        text-align: right;\n",
       "    }\n",
       "</style>\n",
       "<table border=\"1\" class=\"dataframe\">\n",
       "  <thead>\n",
       "    <tr style=\"text-align: right;\">\n",
       "      <th></th>\n",
       "      <th>accessed</th>\n",
       "      <th>path</th>\n",
       "      <th>ip</th>\n",
       "      <th>user_id</th>\n",
       "      <th>program_id</th>\n",
       "      <th>program_type</th>\n",
       "      <th>cohort</th>\n",
       "      <th>start_date</th>\n",
       "      <th>end_date</th>\n",
       "      <th>lesson</th>\n",
       "      <th>hour</th>\n",
       "    </tr>\n",
       "  </thead>\n",
       "  <tbody>\n",
       "    <tr>\n",
       "      <th>965</th>\n",
       "      <td>2018-01-28 23:42:55</td>\n",
       "      <td>/</td>\n",
       "      <td>24.160.159.122</td>\n",
       "      <td>54</td>\n",
       "      <td>NaN</td>\n",
       "      <td>Unknown</td>\n",
       "      <td>NaN</td>\n",
       "      <td>NaT</td>\n",
       "      <td>NaT</td>\n",
       "      <td>.</td>\n",
       "      <td>23</td>\n",
       "    </tr>\n",
       "    <tr>\n",
       "      <th>966</th>\n",
       "      <td>2018-01-28 23:43:12</td>\n",
       "      <td>spring/extra-features</td>\n",
       "      <td>24.160.159.122</td>\n",
       "      <td>54</td>\n",
       "      <td>NaN</td>\n",
       "      <td>Unknown</td>\n",
       "      <td>NaN</td>\n",
       "      <td>NaT</td>\n",
       "      <td>NaT</td>\n",
       "      <td>spring.extra-features</td>\n",
       "      <td>23</td>\n",
       "    </tr>\n",
       "  </tbody>\n",
       "</table>\n",
       "</div>"
      ],
      "text/plain": [
       "               accessed                   path              ip  user_id  \\\n",
       "965 2018-01-28 23:42:55                      /  24.160.159.122       54   \n",
       "966 2018-01-28 23:43:12  spring/extra-features  24.160.159.122       54   \n",
       "\n",
       "     program_id program_type cohort start_date end_date  \\\n",
       "965         NaN      Unknown    NaN        NaT      NaT   \n",
       "966         NaN      Unknown    NaN        NaT      NaT   \n",
       "\n",
       "                    lesson  hour  \n",
       "965                      .    23  \n",
       "966  spring.extra-features    23  "
      ]
     },
     "execution_count": 6,
     "metadata": {},
     "output_type": "execute_result"
    }
   ],
   "source": [
    "#looking at outlier datasets: df_unimputed (only holds df w/o imputes)\n",
    "df_unimputed.head(2)"
   ]
  },
  {
   "cell_type": "code",
   "execution_count": 7,
   "id": "67a03298",
   "metadata": {},
   "outputs": [
    {
     "data": {
      "text/html": [
       "<div>\n",
       "<style scoped>\n",
       "    .dataframe tbody tr th:only-of-type {\n",
       "        vertical-align: middle;\n",
       "    }\n",
       "\n",
       "    .dataframe tbody tr th {\n",
       "        vertical-align: top;\n",
       "    }\n",
       "\n",
       "    .dataframe thead th {\n",
       "        text-align: right;\n",
       "    }\n",
       "</style>\n",
       "<table border=\"1\" class=\"dataframe\">\n",
       "  <thead>\n",
       "    <tr style=\"text-align: right;\">\n",
       "      <th></th>\n",
       "      <th>accessed</th>\n",
       "      <th>path</th>\n",
       "      <th>ip</th>\n",
       "      <th>user_id</th>\n",
       "      <th>program_id</th>\n",
       "      <th>program_type</th>\n",
       "      <th>cohort</th>\n",
       "      <th>start_date</th>\n",
       "      <th>end_date</th>\n",
       "      <th>lesson</th>\n",
       "      <th>hour</th>\n",
       "    </tr>\n",
       "  </thead>\n",
       "  <tbody>\n",
       "    <tr>\n",
       "      <th>0</th>\n",
       "      <td>2018-01-26 09:55:03</td>\n",
       "      <td>/</td>\n",
       "      <td>97.105.19.61</td>\n",
       "      <td>1</td>\n",
       "      <td>1.0</td>\n",
       "      <td>Web Development</td>\n",
       "      <td>Hampton</td>\n",
       "      <td>2015-09-22</td>\n",
       "      <td>2016-02-06</td>\n",
       "      <td>.</td>\n",
       "      <td>9</td>\n",
       "    </tr>\n",
       "    <tr>\n",
       "      <th>12</th>\n",
       "      <td>2018-01-26 10:00:37</td>\n",
       "      <td>/</td>\n",
       "      <td>97.105.19.61</td>\n",
       "      <td>6</td>\n",
       "      <td>2.0</td>\n",
       "      <td>Web Development</td>\n",
       "      <td>Teddy</td>\n",
       "      <td>2018-01-08</td>\n",
       "      <td>2018-05-17</td>\n",
       "      <td>.</td>\n",
       "      <td>10</td>\n",
       "    </tr>\n",
       "  </tbody>\n",
       "</table>\n",
       "</div>"
      ],
      "text/plain": [
       "              accessed path            ip  user_id  program_id  \\\n",
       "0  2018-01-26 09:55:03    /  97.105.19.61        1         1.0   \n",
       "12 2018-01-26 10:00:37    /  97.105.19.61        6         2.0   \n",
       "\n",
       "       program_type   cohort start_date   end_date lesson  hour  \n",
       "0   Web Development  Hampton 2015-09-22 2016-02-06      .     9  \n",
       "12  Web Development    Teddy 2018-01-08 2018-05-17      .    10  "
      ]
     },
     "execution_count": 7,
     "metadata": {},
     "output_type": "execute_result"
    }
   ],
   "source": [
    "#looking at outlier datasets: df_non_curriculum (only holds outliers with no lessons)\n",
    "df_non_curriculum.head(2)"
   ]
  },
  {
   "cell_type": "code",
   "execution_count": 8,
   "id": "ebc9fe9b",
   "metadata": {},
   "outputs": [
    {
     "data": {
      "text/html": [
       "<div>\n",
       "<style scoped>\n",
       "    .dataframe tbody tr th:only-of-type {\n",
       "        vertical-align: middle;\n",
       "    }\n",
       "\n",
       "    .dataframe tbody tr th {\n",
       "        vertical-align: top;\n",
       "    }\n",
       "\n",
       "    .dataframe thead th {\n",
       "        text-align: right;\n",
       "    }\n",
       "</style>\n",
       "<table border=\"1\" class=\"dataframe\">\n",
       "  <thead>\n",
       "    <tr style=\"text-align: right;\">\n",
       "      <th></th>\n",
       "      <th>accessed</th>\n",
       "      <th>path</th>\n",
       "      <th>ip</th>\n",
       "      <th>user_id</th>\n",
       "      <th>program_id</th>\n",
       "      <th>program_type</th>\n",
       "      <th>cohort</th>\n",
       "      <th>start_date</th>\n",
       "      <th>end_date</th>\n",
       "      <th>lesson</th>\n",
       "      <th>hour</th>\n",
       "    </tr>\n",
       "  </thead>\n",
       "  <tbody>\n",
       "    <tr>\n",
       "      <th>6</th>\n",
       "      <td>2018-01-26 09:56:46</td>\n",
       "      <td>javascript-i/conditionals</td>\n",
       "      <td>97.105.19.61</td>\n",
       "      <td>3</td>\n",
       "      <td>2.0</td>\n",
       "      <td>Web Development</td>\n",
       "      <td>Teddy</td>\n",
       "      <td>2018-01-08</td>\n",
       "      <td>2018-05-17</td>\n",
       "      <td>javascript-i.conditionals</td>\n",
       "      <td>9</td>\n",
       "    </tr>\n",
       "    <tr>\n",
       "      <th>7</th>\n",
       "      <td>2018-01-26 09:56:48</td>\n",
       "      <td>javascript-i/functions</td>\n",
       "      <td>97.105.19.61</td>\n",
       "      <td>3</td>\n",
       "      <td>2.0</td>\n",
       "      <td>Web Development</td>\n",
       "      <td>Teddy</td>\n",
       "      <td>2018-01-08</td>\n",
       "      <td>2018-05-17</td>\n",
       "      <td>javascript-i.functions</td>\n",
       "      <td>9</td>\n",
       "    </tr>\n",
       "  </tbody>\n",
       "</table>\n",
       "</div>"
      ],
      "text/plain": [
       "             accessed                       path            ip  user_id  \\\n",
       "6 2018-01-26 09:56:46  javascript-i/conditionals  97.105.19.61        3   \n",
       "7 2018-01-26 09:56:48     javascript-i/functions  97.105.19.61        3   \n",
       "\n",
       "   program_id     program_type cohort start_date   end_date  \\\n",
       "6         2.0  Web Development  Teddy 2018-01-08 2018-05-17   \n",
       "7         2.0  Web Development  Teddy 2018-01-08 2018-05-17   \n",
       "\n",
       "                      lesson  hour  \n",
       "6  javascript-i.conditionals     9  \n",
       "7     javascript-i.functions     9  "
      ]
     },
     "execution_count": 8,
     "metadata": {},
     "output_type": "execute_result"
    }
   ],
   "source": [
    "#looking at outlier datasets: df_outliers (only holds datasets that were seen as outliers)\n",
    "df_outliers.head(2)"
   ]
  },
  {
   "cell_type": "code",
   "execution_count": 9,
   "id": "148545bb",
   "metadata": {},
   "outputs": [],
   "source": [
    "#### code to concat different dataframes: #pd.concat([df1, df2,…]) \n",
    "#### code to concat all dataframes: #df_raw = pd.concat([all dfs]) "
   ]
  },
  {
   "cell_type": "markdown",
   "id": "6f6ca2a0",
   "metadata": {},
   "source": [
    "Creating a column to show True or False if accessed data is during the user's cohort dates (accessed when active)."
   ]
  },
  {
   "cell_type": "code",
   "execution_count": 10,
   "id": "b0a68807",
   "metadata": {},
   "outputs": [
    {
     "data": {
      "text/html": [
       "<div>\n",
       "<style scoped>\n",
       "    .dataframe tbody tr th:only-of-type {\n",
       "        vertical-align: middle;\n",
       "    }\n",
       "\n",
       "    .dataframe tbody tr th {\n",
       "        vertical-align: top;\n",
       "    }\n",
       "\n",
       "    .dataframe thead th {\n",
       "        text-align: right;\n",
       "    }\n",
       "</style>\n",
       "<table border=\"1\" class=\"dataframe\">\n",
       "  <thead>\n",
       "    <tr style=\"text-align: right;\">\n",
       "      <th></th>\n",
       "      <th>accessed</th>\n",
       "      <th>path</th>\n",
       "      <th>ip</th>\n",
       "      <th>user_id</th>\n",
       "      <th>program_id</th>\n",
       "      <th>program_type</th>\n",
       "      <th>cohort</th>\n",
       "      <th>start_date</th>\n",
       "      <th>end_date</th>\n",
       "      <th>lesson</th>\n",
       "      <th>hour</th>\n",
       "      <th>is_active</th>\n",
       "    </tr>\n",
       "  </thead>\n",
       "  <tbody>\n",
       "    <tr>\n",
       "      <th>1</th>\n",
       "      <td>2018-01-26 09:56:02</td>\n",
       "      <td>java-ii</td>\n",
       "      <td>97.105.19.61</td>\n",
       "      <td>1</td>\n",
       "      <td>1.0</td>\n",
       "      <td>Web Development</td>\n",
       "      <td>Hampton</td>\n",
       "      <td>2015-09-22</td>\n",
       "      <td>2016-02-06</td>\n",
       "      <td>Not Lesson</td>\n",
       "      <td>9</td>\n",
       "      <td>False</td>\n",
       "    </tr>\n",
       "    <tr>\n",
       "      <th>2</th>\n",
       "      <td>2018-01-26 09:56:05</td>\n",
       "      <td>java-ii/object-oriented-programming</td>\n",
       "      <td>97.105.19.61</td>\n",
       "      <td>1</td>\n",
       "      <td>1.0</td>\n",
       "      <td>Web Development</td>\n",
       "      <td>Hampton</td>\n",
       "      <td>2015-09-22</td>\n",
       "      <td>2016-02-06</td>\n",
       "      <td>java-ii.object-oriented-programming</td>\n",
       "      <td>9</td>\n",
       "      <td>False</td>\n",
       "    </tr>\n",
       "  </tbody>\n",
       "</table>\n",
       "</div>"
      ],
      "text/plain": [
       "             accessed                                 path            ip  \\\n",
       "1 2018-01-26 09:56:02                              java-ii  97.105.19.61   \n",
       "2 2018-01-26 09:56:05  java-ii/object-oriented-programming  97.105.19.61   \n",
       "\n",
       "   user_id  program_id     program_type   cohort start_date   end_date  \\\n",
       "1        1         1.0  Web Development  Hampton 2015-09-22 2016-02-06   \n",
       "2        1         1.0  Web Development  Hampton 2015-09-22 2016-02-06   \n",
       "\n",
       "                                lesson  hour  is_active  \n",
       "1                           Not Lesson     9      False  \n",
       "2  java-ii.object-oriented-programming     9      False  "
      ]
     },
     "execution_count": 10,
     "metadata": {},
     "output_type": "execute_result"
    }
   ],
   "source": [
    "df['is_active'] = (df.accessed >= df.start_date) & (df.accessed <= df.end_date)\n",
    "df.head(2)"
   ]
  },
  {
   "cell_type": "markdown",
   "id": "9fc98811",
   "metadata": {},
   "source": [
    "#### Sorting WebDev and DS into different objects to explore:"
   ]
  },
  {
   "cell_type": "code",
   "execution_count": 11,
   "id": "fb887cbe",
   "metadata": {},
   "outputs": [],
   "source": [
    "def wd_ds_groups(df):\n",
    "    \"\"\"This function splits webdev and ds students into two groups and then assigns users activity in each group\n",
    "    as either active students or inactive students within their cohort dates\"\"\"\n",
    "    #splitting webdev and datascience into two different df:\n",
    "    wd = df[df.program_type != 'Data Science']\n",
    "    ds = df[df.program_type == 'Data Science']\n",
    "    # Filter dataframe for the time when student were 'active' for each program\n",
    "    active_wd = wd.loc[(wd.accessed >= wd.start_date) & (wd.accessed <= wd.end_date)]\n",
    "    active_ds = ds.loc[(ds.accessed >= ds.start_date) & (ds.accessed <= ds.end_date)]\n",
    "    #prints number of active wb students compared to ds students:\n",
    "    print(f'Number of active WebDev students during their cohort dates:', active_wd.value_counts().sum())\n",
    "    print(f'Number of active DataScience students during their cohort dates:', active_ds.value_counts().sum())"
   ]
  },
  {
   "cell_type": "code",
   "execution_count": 12,
   "id": "7228eda5",
   "metadata": {},
   "outputs": [
    {
     "name": "stdout",
     "output_type": "stream",
     "text": [
      "Number of active WebDev students during their cohort dates: 385855\n",
      "Number of active DataScience students during their cohort dates: 51665\n"
     ]
    }
   ],
   "source": [
    "wd_ds_groups(df)"
   ]
  },
  {
   "cell_type": "code",
   "execution_count": 13,
   "id": "45dabaf3",
   "metadata": {},
   "outputs": [],
   "source": [
    "#splitting webdev and datascience into two different df:\n",
    "wd = df[df.program_type != 'Data Science']\n",
    "ds = df[df.program_type == 'Data Science']"
   ]
  },
  {
   "cell_type": "code",
   "execution_count": 14,
   "id": "e9e11656",
   "metadata": {},
   "outputs": [
    {
     "data": {
      "text/plain": [
       "accessed        datetime64[ns]\n",
       "path                    object\n",
       "ip                      object\n",
       "user_id                  int64\n",
       "program_id             float64\n",
       "program_type            object\n",
       "cohort                  object\n",
       "start_date      datetime64[ns]\n",
       "end_date        datetime64[ns]\n",
       "lesson                  object\n",
       "hour                     int64\n",
       "is_active                 bool\n",
       "dtype: object"
      ]
     },
     "execution_count": 14,
     "metadata": {},
     "output_type": "execute_result"
    }
   ],
   "source": [
    "df.dtypes"
   ]
  },
  {
   "cell_type": "markdown",
   "id": "f84380b9",
   "metadata": {},
   "source": [
    "#### Showing students that were actively accessing the curriculum during their cohort dates:"
   ]
  },
  {
   "cell_type": "code",
   "execution_count": 15,
   "id": "83ef3980",
   "metadata": {},
   "outputs": [],
   "source": [
    "#splitting cohorts into program types:\n",
    "#Ray's code to filter dataframe for time where students are active during their programs\n",
    "# Filter dataframe for the time when student were 'active' for each program\n",
    "active_wd = wd.loc[(wd.accessed >= wd.start_date) & (wd.accessed <= wd.end_date)]\n",
    "active_ds = ds.loc[(ds.accessed >= ds.start_date) & (ds.accessed <= ds.end_date)]"
   ]
  },
  {
   "cell_type": "code",
   "execution_count": 16,
   "id": "f9baf424",
   "metadata": {},
   "outputs": [
    {
     "name": "stdout",
     "output_type": "stream",
     "text": [
      "Number of active WebDev students during their cohort dates: 385855\n",
      "Number of active DataScience students during their cohort dates: 51665\n"
     ]
    }
   ],
   "source": [
    "#number of active wb students compared to ds students:\n",
    "print(f'Number of active WebDev students during their cohort dates:', active_wd.value_counts().sum())\n",
    "print(f'Number of active DataScience students during their cohort dates:', active_ds.value_counts().sum())"
   ]
  },
  {
   "cell_type": "code",
   "execution_count": 17,
   "id": "7e04f78a",
   "metadata": {},
   "outputs": [],
   "source": [
    "#creating a function to run other dfs through, to check what active ds students are missing...\n",
    "#def lost_ds(df):\n",
    "    #wd = df[df.program_type != 'Data Science']\n",
    "    #ds = df[df.program_type == 'Data Science']\n",
    "    #active_wd = wd.loc[(wd.index >= wd.start_date) & (wd.index <= wd.end_date)]\n",
    "    #active_ds = ds.loc[(ds.index >= ds.start_date) & (ds.index <= ds.end_date)]\n",
    "    #number of active wb students compared to ds students:\n",
    "    #print(f'Number of active WebDev students during their cohort dates:', active_wd.value_counts().sum())\n",
    "    #print(f'Number of active DataScience students during their cohort dates:', active_ds.value_counts().sum())"
   ]
  },
  {
   "cell_type": "markdown",
   "id": "1ceb63d3",
   "metadata": {},
   "source": [
    "__________________________________________"
   ]
  },
  {
   "cell_type": "markdown",
   "id": "8ef6b35e",
   "metadata": {},
   "source": [
    "### 3. Are there students who, when active, hardly access the curriculum? If so, what information do you have about these students?\n",
    "Active students that do not engage with curriculum?\n",
    "\n",
    "user_id frequency counts\n",
    "current dates of cohorts\n",
    "ip addresses?"
   ]
  },
  {
   "cell_type": "markdown",
   "id": "04c87712",
   "metadata": {},
   "source": [
    "### Active Students with low curriculum access during each program:"
   ]
  },
  {
   "cell_type": "markdown",
   "id": "54d4b31f",
   "metadata": {},
   "source": [
    "#### WEB DEV:"
   ]
  },
  {
   "cell_type": "code",
   "execution_count": 18,
   "id": "49af9a7f",
   "metadata": {},
   "outputs": [],
   "source": [
    "def wd_lowest_access_counts(df):\n",
    "    \"\"\"This function pulls the lowest access counts from WebDev students\"\"\"\n",
    "    # Filter dataframe for the time when student were 'active' for each program\n",
    "    wd = df[df.program_type != 'Data Science']\n",
    "    ds = df[df.program_type == 'Data Science']\n",
    "    active_wd = wd.loc[(wd.accessed >= wd.start_date) & (wd.accessed <= wd.end_date)]\n",
    "    active_ds = ds.loc[(ds.accessed >= ds.start_date) & (ds.accessed <= ds.end_date)]\n",
    "    #sorting wd students into group of 20 lowest accessed counts:\n",
    "    hardly_access_wd = active_wd.groupby('user_id').size().sort_values().head(20)\n",
    "    return hardly_access_wd"
   ]
  },
  {
   "cell_type": "code",
   "execution_count": 19,
   "id": "7fe54e25",
   "metadata": {},
   "outputs": [
    {
     "data": {
      "text/plain": [
       "user_id\n",
       "278     3\n",
       "340    13\n",
       "963    15\n",
       "41     22\n",
       "371    24\n",
       "529    29\n",
       "967    30\n",
       "978    32\n",
       "36     36\n",
       "57     42\n",
       "543    43\n",
       "56     44\n",
       "45     51\n",
       "46     51\n",
       "975    59\n",
       "969    60\n",
       "65     63\n",
       "33     63\n",
       "250    63\n",
       "253    71\n",
       "dtype: int64"
      ]
     },
     "execution_count": 19,
     "metadata": {},
     "output_type": "execute_result"
    }
   ],
   "source": [
    "wd_lowest_access_counts(df)"
   ]
  },
  {
   "cell_type": "code",
   "execution_count": 20,
   "id": "6ba40c74",
   "metadata": {},
   "outputs": [
    {
     "data": {
      "text/html": [
       "<div>\n",
       "<style scoped>\n",
       "    .dataframe tbody tr th:only-of-type {\n",
       "        vertical-align: middle;\n",
       "    }\n",
       "\n",
       "    .dataframe tbody tr th {\n",
       "        vertical-align: top;\n",
       "    }\n",
       "\n",
       "    .dataframe thead th {\n",
       "        text-align: right;\n",
       "    }\n",
       "</style>\n",
       "<table border=\"1\" class=\"dataframe\">\n",
       "  <thead>\n",
       "    <tr style=\"text-align: right;\">\n",
       "      <th></th>\n",
       "      <th>accessed</th>\n",
       "      <th>path</th>\n",
       "      <th>ip</th>\n",
       "      <th>user_id</th>\n",
       "      <th>program_id</th>\n",
       "      <th>program_type</th>\n",
       "      <th>cohort</th>\n",
       "      <th>start_date</th>\n",
       "      <th>end_date</th>\n",
       "      <th>lesson</th>\n",
       "      <th>hour</th>\n",
       "      <th>is_active</th>\n",
       "    </tr>\n",
       "  </thead>\n",
       "  <tbody>\n",
       "    <tr>\n",
       "      <th>168682</th>\n",
       "      <td>2019-01-22 16:49:49</td>\n",
       "      <td>html-css</td>\n",
       "      <td>97.105.19.58</td>\n",
       "      <td>340</td>\n",
       "      <td>2.0</td>\n",
       "      <td>Web Development</td>\n",
       "      <td>Zion</td>\n",
       "      <td>2019-01-22</td>\n",
       "      <td>2019-06-04</td>\n",
       "      <td>Not Lesson</td>\n",
       "      <td>16</td>\n",
       "      <td>True</td>\n",
       "    </tr>\n",
       "    <tr>\n",
       "      <th>168684</th>\n",
       "      <td>2019-01-22 16:50:48</td>\n",
       "      <td>html-css/introduction</td>\n",
       "      <td>97.105.19.58</td>\n",
       "      <td>340</td>\n",
       "      <td>2.0</td>\n",
       "      <td>Web Development</td>\n",
       "      <td>Zion</td>\n",
       "      <td>2019-01-22</td>\n",
       "      <td>2019-06-04</td>\n",
       "      <td>html-css.introduction</td>\n",
       "      <td>16</td>\n",
       "      <td>True</td>\n",
       "    </tr>\n",
       "    <tr>\n",
       "      <th>168685</th>\n",
       "      <td>2019-01-22 16:51:13</td>\n",
       "      <td>html-css/elements</td>\n",
       "      <td>97.105.19.58</td>\n",
       "      <td>340</td>\n",
       "      <td>2.0</td>\n",
       "      <td>Web Development</td>\n",
       "      <td>Zion</td>\n",
       "      <td>2019-01-22</td>\n",
       "      <td>2019-06-04</td>\n",
       "      <td>html-css.elements</td>\n",
       "      <td>16</td>\n",
       "      <td>True</td>\n",
       "    </tr>\n",
       "    <tr>\n",
       "      <th>168686</th>\n",
       "      <td>2019-01-22 16:51:18</td>\n",
       "      <td>javascript-i</td>\n",
       "      <td>97.105.19.58</td>\n",
       "      <td>340</td>\n",
       "      <td>2.0</td>\n",
       "      <td>Web Development</td>\n",
       "      <td>Zion</td>\n",
       "      <td>2019-01-22</td>\n",
       "      <td>2019-06-04</td>\n",
       "      <td>Not Lesson</td>\n",
       "      <td>16</td>\n",
       "      <td>True</td>\n",
       "    </tr>\n",
       "    <tr>\n",
       "      <th>168688</th>\n",
       "      <td>2019-01-22 16:51:32</td>\n",
       "      <td>html-css</td>\n",
       "      <td>97.105.19.58</td>\n",
       "      <td>340</td>\n",
       "      <td>2.0</td>\n",
       "      <td>Web Development</td>\n",
       "      <td>Zion</td>\n",
       "      <td>2019-01-22</td>\n",
       "      <td>2019-06-04</td>\n",
       "      <td>Not Lesson</td>\n",
       "      <td>16</td>\n",
       "      <td>True</td>\n",
       "    </tr>\n",
       "    <tr>\n",
       "      <th>168689</th>\n",
       "      <td>2019-01-22 16:51:36</td>\n",
       "      <td>html-css/introduction</td>\n",
       "      <td>97.105.19.58</td>\n",
       "      <td>340</td>\n",
       "      <td>2.0</td>\n",
       "      <td>Web Development</td>\n",
       "      <td>Zion</td>\n",
       "      <td>2019-01-22</td>\n",
       "      <td>2019-06-04</td>\n",
       "      <td>html-css.introduction</td>\n",
       "      <td>16</td>\n",
       "      <td>True</td>\n",
       "    </tr>\n",
       "    <tr>\n",
       "      <th>168690</th>\n",
       "      <td>2019-01-22 16:51:53</td>\n",
       "      <td>html-css/css-ii/media-queries</td>\n",
       "      <td>97.105.19.58</td>\n",
       "      <td>340</td>\n",
       "      <td>2.0</td>\n",
       "      <td>Web Development</td>\n",
       "      <td>Zion</td>\n",
       "      <td>2019-01-22</td>\n",
       "      <td>2019-06-04</td>\n",
       "      <td>html-css.css-ii.media-queries</td>\n",
       "      <td>16</td>\n",
       "      <td>True</td>\n",
       "    </tr>\n",
       "    <tr>\n",
       "      <th>168691</th>\n",
       "      <td>2019-01-22 16:52:22</td>\n",
       "      <td>html-css/css-ii/grids</td>\n",
       "      <td>97.105.19.58</td>\n",
       "      <td>340</td>\n",
       "      <td>2.0</td>\n",
       "      <td>Web Development</td>\n",
       "      <td>Zion</td>\n",
       "      <td>2019-01-22</td>\n",
       "      <td>2019-06-04</td>\n",
       "      <td>html-css.css-ii.grids</td>\n",
       "      <td>16</td>\n",
       "      <td>True</td>\n",
       "    </tr>\n",
       "    <tr>\n",
       "      <th>168693</th>\n",
       "      <td>2019-01-22 16:52:39</td>\n",
       "      <td>html-css/css-ii/bootstrap-introduction</td>\n",
       "      <td>97.105.19.58</td>\n",
       "      <td>340</td>\n",
       "      <td>2.0</td>\n",
       "      <td>Web Development</td>\n",
       "      <td>Zion</td>\n",
       "      <td>2019-01-22</td>\n",
       "      <td>2019-06-04</td>\n",
       "      <td>html-css.css-ii.bootstrap-introduction</td>\n",
       "      <td>16</td>\n",
       "      <td>True</td>\n",
       "    </tr>\n",
       "    <tr>\n",
       "      <th>168694</th>\n",
       "      <td>2019-01-22 16:52:59</td>\n",
       "      <td>html-css/css-ii/bootstrap-grid-system</td>\n",
       "      <td>97.105.19.58</td>\n",
       "      <td>340</td>\n",
       "      <td>2.0</td>\n",
       "      <td>Web Development</td>\n",
       "      <td>Zion</td>\n",
       "      <td>2019-01-22</td>\n",
       "      <td>2019-06-04</td>\n",
       "      <td>html-css.css-ii.bootstrap-grid-system</td>\n",
       "      <td>16</td>\n",
       "      <td>True</td>\n",
       "    </tr>\n",
       "    <tr>\n",
       "      <th>168721</th>\n",
       "      <td>2019-01-22 18:45:17</td>\n",
       "      <td>html-css/css-ii/bootstrap-grid-system</td>\n",
       "      <td>66.69.108.117</td>\n",
       "      <td>340</td>\n",
       "      <td>2.0</td>\n",
       "      <td>Web Development</td>\n",
       "      <td>Zion</td>\n",
       "      <td>2019-01-22</td>\n",
       "      <td>2019-06-04</td>\n",
       "      <td>html-css.css-ii.bootstrap-grid-system</td>\n",
       "      <td>18</td>\n",
       "      <td>True</td>\n",
       "    </tr>\n",
       "    <tr>\n",
       "      <th>168722</th>\n",
       "      <td>2019-01-22 18:45:20</td>\n",
       "      <td>html-css/css-ii/bootstrap-grid-system</td>\n",
       "      <td>66.69.108.117</td>\n",
       "      <td>340</td>\n",
       "      <td>2.0</td>\n",
       "      <td>Web Development</td>\n",
       "      <td>Zion</td>\n",
       "      <td>2019-01-22</td>\n",
       "      <td>2019-06-04</td>\n",
       "      <td>html-css.css-ii.bootstrap-grid-system</td>\n",
       "      <td>18</td>\n",
       "      <td>True</td>\n",
       "    </tr>\n",
       "    <tr>\n",
       "      <th>168723</th>\n",
       "      <td>2019-01-22 18:45:22</td>\n",
       "      <td>html-css/css-ii/bootstrap-grid-system</td>\n",
       "      <td>66.69.108.117</td>\n",
       "      <td>340</td>\n",
       "      <td>2.0</td>\n",
       "      <td>Web Development</td>\n",
       "      <td>Zion</td>\n",
       "      <td>2019-01-22</td>\n",
       "      <td>2019-06-04</td>\n",
       "      <td>html-css.css-ii.bootstrap-grid-system</td>\n",
       "      <td>18</td>\n",
       "      <td>True</td>\n",
       "    </tr>\n",
       "  </tbody>\n",
       "</table>\n",
       "</div>"
      ],
      "text/plain": [
       "                  accessed                                    path  \\\n",
       "168682 2019-01-22 16:49:49                                html-css   \n",
       "168684 2019-01-22 16:50:48                   html-css/introduction   \n",
       "168685 2019-01-22 16:51:13                       html-css/elements   \n",
       "168686 2019-01-22 16:51:18                            javascript-i   \n",
       "168688 2019-01-22 16:51:32                                html-css   \n",
       "168689 2019-01-22 16:51:36                   html-css/introduction   \n",
       "168690 2019-01-22 16:51:53           html-css/css-ii/media-queries   \n",
       "168691 2019-01-22 16:52:22                   html-css/css-ii/grids   \n",
       "168693 2019-01-22 16:52:39  html-css/css-ii/bootstrap-introduction   \n",
       "168694 2019-01-22 16:52:59   html-css/css-ii/bootstrap-grid-system   \n",
       "168721 2019-01-22 18:45:17   html-css/css-ii/bootstrap-grid-system   \n",
       "168722 2019-01-22 18:45:20   html-css/css-ii/bootstrap-grid-system   \n",
       "168723 2019-01-22 18:45:22   html-css/css-ii/bootstrap-grid-system   \n",
       "\n",
       "                   ip  user_id  program_id     program_type cohort start_date  \\\n",
       "168682   97.105.19.58      340         2.0  Web Development   Zion 2019-01-22   \n",
       "168684   97.105.19.58      340         2.0  Web Development   Zion 2019-01-22   \n",
       "168685   97.105.19.58      340         2.0  Web Development   Zion 2019-01-22   \n",
       "168686   97.105.19.58      340         2.0  Web Development   Zion 2019-01-22   \n",
       "168688   97.105.19.58      340         2.0  Web Development   Zion 2019-01-22   \n",
       "168689   97.105.19.58      340         2.0  Web Development   Zion 2019-01-22   \n",
       "168690   97.105.19.58      340         2.0  Web Development   Zion 2019-01-22   \n",
       "168691   97.105.19.58      340         2.0  Web Development   Zion 2019-01-22   \n",
       "168693   97.105.19.58      340         2.0  Web Development   Zion 2019-01-22   \n",
       "168694   97.105.19.58      340         2.0  Web Development   Zion 2019-01-22   \n",
       "168721  66.69.108.117      340         2.0  Web Development   Zion 2019-01-22   \n",
       "168722  66.69.108.117      340         2.0  Web Development   Zion 2019-01-22   \n",
       "168723  66.69.108.117      340         2.0  Web Development   Zion 2019-01-22   \n",
       "\n",
       "         end_date                                  lesson  hour  is_active  \n",
       "168682 2019-06-04                              Not Lesson    16       True  \n",
       "168684 2019-06-04                   html-css.introduction    16       True  \n",
       "168685 2019-06-04                       html-css.elements    16       True  \n",
       "168686 2019-06-04                              Not Lesson    16       True  \n",
       "168688 2019-06-04                              Not Lesson    16       True  \n",
       "168689 2019-06-04                   html-css.introduction    16       True  \n",
       "168690 2019-06-04           html-css.css-ii.media-queries    16       True  \n",
       "168691 2019-06-04                   html-css.css-ii.grids    16       True  \n",
       "168693 2019-06-04  html-css.css-ii.bootstrap-introduction    16       True  \n",
       "168694 2019-06-04   html-css.css-ii.bootstrap-grid-system    16       True  \n",
       "168721 2019-06-04   html-css.css-ii.bootstrap-grid-system    18       True  \n",
       "168722 2019-06-04   html-css.css-ii.bootstrap-grid-system    18       True  \n",
       "168723 2019-06-04   html-css.css-ii.bootstrap-grid-system    18       True  "
      ]
     },
     "execution_count": 20,
     "metadata": {},
     "output_type": "execute_result"
    }
   ],
   "source": [
    "df[df.user_id == 340]"
   ]
  },
  {
   "cell_type": "code",
   "execution_count": 21,
   "id": "3da0aa80",
   "metadata": {},
   "outputs": [
    {
     "data": {
      "text/plain": [
       "user_id\n",
       "278     3\n",
       "340    13\n",
       "963    15\n",
       "41     22\n",
       "371    24\n",
       "529    29\n",
       "967    30\n",
       "978    32\n",
       "36     36\n",
       "57     42\n",
       "543    43\n",
       "56     44\n",
       "45     51\n",
       "46     51\n",
       "975    59\n",
       "969    60\n",
       "65     63\n",
       "33     63\n",
       "250    63\n",
       "253    71\n",
       "dtype: int64"
      ]
     },
     "execution_count": 21,
     "metadata": {},
     "output_type": "execute_result"
    }
   ],
   "source": [
    "#webdev students with lowest log access count:\n",
    "hardly_access_wd = active_wd.groupby('user_id').size().sort_values().head(20)\n",
    "hardly_access_wd"
   ]
  },
  {
   "cell_type": "code",
   "execution_count": 22,
   "id": "59b34b47",
   "metadata": {},
   "outputs": [
    {
     "data": {
      "image/png": "[encoded data removed]",
      "text/plain": [
       "<Figure size 720x360 with 1 Axes>"
      ]
     },
     "metadata": {
      "needs_background": "light"
     },
     "output_type": "display_data"
    }
   ],
   "source": [
    "#histogram of these users under 20 logged access dates:\n",
    "user_id_count = active_wd.groupby('user_id').size().sort_values()\n",
    "user_id_count = user_id_count[:20]\n",
    "plt.figure(figsize=(10,5))\n",
    "sns.barplot(user_id_count.index, user_id_count.values, order=hardly_access_wd.index, palette=\"viridis\")\n",
    "plt.title ('Top 20 users with the lowest access counts while active Web Dev students', fontsize=17)\n",
    "plt.ylabel('Number of Occurences', fontsize=15)\n",
    "plt.xlabel('User Id', fontsize=15)\n",
    "plt.show()"
   ]
  },
  {
   "cell_type": "code",
   "execution_count": 23,
   "id": "03ba08c3",
   "metadata": {},
   "outputs": [],
   "source": [
    "def wd_lowest_barplot(df):\n",
    "    \"\"\"This function plots the lowest access counts from WebDev students as a barplot\"\"\"\n",
    "    # Runs df through wd_lowest_access_counts to set up data for visual:\n",
    "    wd = df[df.program_type != 'Data Science']\n",
    "    active_wd = wd.loc[(wd.accessed >= wd.start_date) & (wd.accessed <= wd.end_date)]\n",
    "    hardly_access_wd = active_wd.groupby('user_id').size().sort_values().head(20)\n",
    "    #histogram of these users under 20 logged access dates:\n",
    "    user_id_count = active_wd.groupby('user_id').size().sort_values()\n",
    "    user_id_count = user_id_count[:20]\n",
    "    plt.figure(figsize=(10,5))\n",
    "    sns.barplot(user_id_count.index, user_id_count.values, order=hardly_access_wd.index, palette=\"viridis\")\n",
    "    plt.title ('WebDev users with lowest access counts', fontsize=14)\n",
    "    plt.ylabel('Number of Occurences', fontsize=14)\n",
    "    plt.xlabel('User Id', fontsize=14)\n",
    "    plt.show()"
   ]
  },
  {
   "cell_type": "code",
   "execution_count": 24,
   "id": "8211fe8d",
   "metadata": {},
   "outputs": [
    {
     "data": {
      "image/png": "[encoded data removed]",
      "text/plain": [
       "<Figure size 720x360 with 1 Axes>"
      ]
     },
     "metadata": {
      "needs_background": "light"
     },
     "output_type": "display_data"
    }
   ],
   "source": [
    "wd_lowest_barplot(df)"
   ]
  },
  {
   "cell_type": "markdown",
   "id": "de73c44b",
   "metadata": {},
   "source": [
    "# Data Science:"
   ]
  },
  {
   "cell_type": "code",
   "execution_count": 25,
   "id": "a89af494",
   "metadata": {},
   "outputs": [],
   "source": [
    "def ds_lowest_access_counts(df):\n",
    "    \"\"\"This function pulls the lowest access counts from DS students\"\"\"\n",
    "    # Filter dataframe for the time when student were 'active' for each program\n",
    "    ds = df[df.program_type == 'Data Science']\n",
    "    active_ds = ds.loc[(ds.accessed >= ds.start_date) & (ds.accessed <= ds.end_date)]\n",
    "    #sorting wd students into group of 20 lowest accessed counts:\n",
    "    hardly_access_ds = active_ds.groupby('user_id').size().sort_values().head(20)\n",
    "    return hardly_access_ds"
   ]
  },
  {
   "cell_type": "code",
   "execution_count": 26,
   "id": "535b6527",
   "metadata": {},
   "outputs": [
    {
     "data": {
      "text/plain": [
       "user_id\n",
       "902    118\n",
       "780    145\n",
       "577    190\n",
       "901    201\n",
       "683    205\n",
       "914    235\n",
       "897    241\n",
       "949    288\n",
       "846    288\n",
       "910    313\n",
       "477    327\n",
       "907    328\n",
       "693    345\n",
       "896    354\n",
       "575    355\n",
       "583    356\n",
       "470    365\n",
       "587    372\n",
       "908    386\n",
       "616    401\n",
       "dtype: int64"
      ]
     },
     "execution_count": 26,
     "metadata": {},
     "output_type": "execute_result"
    }
   ],
   "source": [
    "ds_lowest_access_counts(df)"
   ]
  },
  {
   "cell_type": "code",
   "execution_count": 27,
   "id": "0ca8804d",
   "metadata": {},
   "outputs": [
    {
     "data": {
      "text/plain": [
       "user_id\n",
       "902    118\n",
       "780    145\n",
       "577    190\n",
       "901    201\n",
       "683    205\n",
       "914    235\n",
       "897    241\n",
       "949    288\n",
       "846    288\n",
       "910    313\n",
       "477    327\n",
       "907    328\n",
       "693    345\n",
       "896    354\n",
       "575    355\n",
       "583    356\n",
       "470    365\n",
       "587    372\n",
       "908    386\n",
       "616    401\n",
       "dtype: int64"
      ]
     },
     "execution_count": 27,
     "metadata": {},
     "output_type": "execute_result"
    }
   ],
   "source": [
    "#looking at ds active students that had lowest curriculum log access counts\n",
    "hardly_access_ds = active_ds.groupby('user_id').size().sort_values().head(20)\n",
    "hardly_access_ds"
   ]
  },
  {
   "cell_type": "code",
   "execution_count": 28,
   "id": "0dc19ed0",
   "metadata": {},
   "outputs": [
    {
     "data": {
      "image/png": "[encoded data removed]",
      "text/plain": [
       "<Figure size 720x360 with 1 Axes>"
      ]
     },
     "metadata": {
      "needs_background": "light"
     },
     "output_type": "display_data"
    }
   ],
   "source": [
    "#histogram of these 3 users under 114 access logs on curriculum:\n",
    "user_id_count1 = active_ds.groupby('user_id').size().nsmallest(20)\n",
    "user_id_count1 = user_id_count1[:20]\n",
    "my_order = list(hardly_access_ds.index)\n",
    "my_order.reverse()\n",
    "plt.figure(figsize=(10,5))\n",
    "sns.barplot(user_id_count1.index, user_id_count1.values, alpha=0.8, order=my_order, palette=\"viridis\")\n",
    "plt.title ('Top 20 users with the lowest access counts while active Data Science students', fontsize=17)\n",
    "plt.ylabel('Number of Occurences', fontsize=15)\n",
    "plt.xlabel('User Id', fontsize=15)\n",
    "plt.show()"
   ]
  },
  {
   "cell_type": "code",
   "execution_count": 29,
   "id": "4bdbe379",
   "metadata": {},
   "outputs": [],
   "source": [
    "def ds_lowest_barplot(df):\n",
    "    \"\"\"This function plots the lowest access counts from DS students as a barplot\"\"\"\n",
    "    # Runs df through ds_lowest_access_counts to set up data for visual:\n",
    "    ds = df[df.program_type == 'Data Science']\n",
    "    active_ds = ds.loc[(ds.accessed >= ds.start_date) & (ds.accessed <= ds.end_date)]\n",
    "    hardly_access_ds = active_ds.groupby('user_id').size().sort_values().head(20)\n",
    "    #histogram of these users under 20 logged access dates:\n",
    "    user_id_count1 = active_ds.groupby('user_id').size().sort_values()\n",
    "    user_id_count1 = user_id_count1[:20]\n",
    "    plt.figure(figsize=(10,5))\n",
    "    sns.barplot(user_id_count1.index, user_id_count1.values, order=hardly_access_ds.index, palette=\"viridis\")\n",
    "    plt.title ('DataScience users with lowest access counts', fontsize=14)\n",
    "    plt.ylabel('Number of Occurences', fontsize=14)\n",
    "    plt.xlabel('User Id', fontsize=14)\n",
    "    plt.show()"
   ]
  },
  {
   "cell_type": "code",
   "execution_count": 30,
   "id": "d194de41",
   "metadata": {},
   "outputs": [
    {
     "data": {
      "image/png": "[encoded data removed]",
      "text/plain": [
       "<Figure size 720x360 with 1 Axes>"
      ]
     },
     "metadata": {
      "needs_background": "light"
     },
     "output_type": "display_data"
    }
   ],
   "source": [
    "ds_lowest_barplot(df)"
   ]
  },
  {
   "cell_type": "markdown",
   "id": "429d9348",
   "metadata": {},
   "source": [
    "#### Putting cohorts side-by-side:"
   ]
  },
  {
   "cell_type": "code",
   "execution_count": 31,
   "id": "ee5556fa",
   "metadata": {},
   "outputs": [],
   "source": [
    "def user_stacked_plot(columns_to_plot, title, df):\n",
    "    '''\n",
    "    Returns a 100% stacked plot of the response variable for independent variable of the list columns_to_plot.\n",
    "    Parameters: columns_to_plot (list of string): Names of the variables to plot\n",
    "    '''\n",
    "    import math\n",
    "    \n",
    "    number_of_columns = 2\n",
    "    number_of_rows = math.ceil(len(columns_to_plot)/2)\n",
    "\n",
    "    # create a figure\n",
    "    fig = plt.figure(figsize=(12, 5 * number_of_rows)) \n",
    "    fig.suptitle(title, fontsize=22,  y=.95)\n",
    " \n",
    "\n",
    "    # loop to each column name to create a subplot\n",
    "    for index, column in enumerate(columns_to_plot, 1):\n",
    "\n",
    "        # create the subplot\n",
    "        ax = fig.add_subplot(number_of_rows, number_of_columns, index)\n",
    "\n",
    "        # calculate the percentage of observations of the response variable for each group of the independent variable\n",
    "        # 100% stacked bar plot\n",
    "        prop_by_independent = pd.crosstab(df[column], df['is_active']).apply(lambda x: x/x.sum()*100, axis=1)\n",
    "\n",
    "        prop_by_independent.plot(kind='bar', ax=ax, stacked=True,\n",
    "                                 rot=0, color=['#608C9B','#ebb086'])\n",
    "\n",
    "        # set the legend in the upper right corner\n",
    "        ax.legend(loc=\"upper right\", bbox_to_anchor=(0.62, 0.5, 0.5, 0.5),\n",
    "                  title='is_active', fancybox=True)\n",
    "\n",
    "        # eliminate the frame from the plot\n",
    "        spine_names = ('top', 'right', 'bottom', 'left')\n",
    "        for spine_name in spine_names:\n",
    "            ax.spines[spine_name].set_visible(False)\n",
    "\n",
    "    return user_stacked_plot\n"
   ]
  },
  {
   "cell_type": "code",
   "execution_count": 33,
   "id": "111fcaf8",
   "metadata": {},
   "outputs": [
    {
     "data": {
      "text/plain": [
       "<function __main__.user_stacked_plot(columns_to_plot, title, df)>"
      ]
     },
     "execution_count": 33,
     "metadata": {},
     "output_type": "execute_result"
    },
    {
     "data": {
      "image/png": "[encoded data removed]",
      "text/plain": [
       "<Figure size 864x360 with 2 Axes>"
      ]
     },
     "metadata": {
      "needs_background": "light"
     },
     "output_type": "display_data"
    }
   ],
   "source": [
    "columns_to_plot = ['program_id','program_type']\n",
    "user_stacked_plot(columns_to_plot, 'Program Type', df)"
   ]
  },
  {
   "cell_type": "code",
   "execution_count": 54,
   "id": "497e786f",
   "metadata": {},
   "outputs": [
    {
     "data": {
      "text/plain": [
       "Text(0.5, 1.0, 'Six month increments of non active users vs active users')"
      ]
     },
     "execution_count": 54,
     "metadata": {},
     "output_type": "execute_result"
    },
    {
     "data": {
      "image/png": "[encoded data removed]",
      "text/plain": [
       "<Figure size 720x576 with 1 Axes>"
      ]
     },
     "metadata": {
      "needs_background": "light"
     },
     "output_type": "display_data"
    }
   ],
   "source": [
    "from matplotlib.ticker import PercentFormatter\n",
    "\n",
    "plt.figure(figsize=(10,8))\n",
    "act = sns.kdeplot(df.accessed[(df['is_active'] == False) ],\n",
    "                color='#608C9B', shade = True, bw_adjust=.2)\n",
    "act = sns.kdeplot(df.accessed[(df['is_active'] == True) ],\n",
    "                ax =act, color='#EBB086', shade= True, bw_adjust=.2)\n",
    "act.legend(['Not active','Active'])\n",
    "act.set_ylabel('Density')\n",
    "act.set_xlabel('Access dates')\n",
    "act.set_title('Six month increments of non active users vs active users')"
   ]
  },
  {
   "cell_type": "code",
   "execution_count": 58,
   "id": "825f7d0b",
   "metadata": {},
   "outputs": [
    {
     "data": {
      "text/plain": [
       "<seaborn.axisgrid.FacetGrid at 0x7fb9c14e7b20>"
      ]
     },
     "execution_count": 58,
     "metadata": {},
     "output_type": "execute_result"
    },
    {
     "data": {
      "text/plain": [
       "<Figure size 720x576 with 0 Axes>"
      ]
     },
     "metadata": {},
     "output_type": "display_data"
    },
    {
     "data": {
      "image/png": "[encoded data removed]",
      "text/plain": [
       "<Figure size 1141.25x576 with 1 Axes>"
      ]
     },
     "metadata": {
      "needs_background": "light"
     },
     "output_type": "display_data"
    }
   ],
   "source": [
    "#percentage of users that are active students vs not for access counts (every 4 months shown)\n",
    "sns.displot(data=df, x='accessed', stat='percent', hue='is_active',  height=8, aspect=15/8, kde=True, kind='hist')\n"
   ]
  },
  {
   "cell_type": "code",
   "execution_count": 52,
   "id": "4c02f547",
   "metadata": {},
   "outputs": [
    {
     "data": {
      "text/plain": [
       "Text(0, 0.5, 'Programs: 1-WebDev, 2-WebDev, 3-DataSc')"
      ]
     },
     "execution_count": 52,
     "metadata": {},
     "output_type": "execute_result"
    },
    {
     "data": {
      "image/png": "[encoded data removed]",
      "text/plain": [
       "<Figure size 720x576 with 1 Axes>"
      ]
     },
     "metadata": {
      "needs_background": "light"
     },
     "output_type": "display_data"
    }
   ],
   "source": [
    "#sns.kdeplot(df.accessed, df.program_id, with hue of is_active or not)\n",
    "sample = df.sample(20000)\n",
    "plt.figure(figsize=(10,8))\n",
    "sns.scatterplot(sample.accessed, sample.program_id, hue=sample.is_active, alpha=0.8)\n",
    "plt.xlabel('Access Dates', fontsize=16)\n",
    "plt.ylabel('Programs: 1-WebDev, 2-WebDev, 3-DataSc', fontsize=16)"
   ]
  },
  {
   "cell_type": "markdown",
   "id": "ad01e24a",
   "metadata": {},
   "source": [
    "_______________________________________________"
   ]
  },
  {
   "cell_type": "markdown",
   "id": "434641d1",
   "metadata": {},
   "source": [
    "## Answers to Questions:\n",
    "#### Overall, DataScience students are accessing their curriculum's website more times than WebDev.\n",
    "    - Do DS teachers teach more from the curriculum?\n",
    "    - What do exercises in the curriculum and lessons look like for each program type?"
   ]
  },
  {
   "cell_type": "markdown",
   "id": "40517751",
   "metadata": {},
   "source": [
    "## Takeaways and further Questions needed:\n",
    "\n",
    "1) Was there another website with curriculum information that 2018 students had access to? (confirmed that Webdev program 1 students were using and had access to another curriculum prior to the accessed minimum date)"
   ]
  },
  {
   "cell_type": "code",
   "execution_count": null,
   "id": "2f1f834e",
   "metadata": {},
   "outputs": [],
   "source": [
    "#minimum date students are accessing Codeup website:\n",
    "df.index.min()"
   ]
  },
  {
   "cell_type": "markdown",
   "id": "a208cdd3",
   "metadata": {},
   "source": [
    "<b>Some of the students that have a 'low' access log count might actually also being using another curriculum, if there was one available.</b>\n",
    "\n",
    "One example of this is student #278.\n",
    "\n",
    "This WebDev student only had 3 showing log counts during their cohort's active period, however after the cohort this student made 60 more log counts after their end date.\n",
    "\n",
    "One of two things:\n",
    "- Students/Alumni's are utilizing curriculum (some more so) after graduating\n",
    "- This could also be a web scrapping case!"
   ]
  },
  {
   "cell_type": "markdown",
   "id": "da397b30",
   "metadata": {},
   "source": [
    "#### Example of Webdev student that had only 3 active accessed logs, but then utilized the curriculm more so after cohort dates:"
   ]
  },
  {
   "cell_type": "code",
   "execution_count": null,
   "id": "323c7c47",
   "metadata": {},
   "outputs": [],
   "source": [
    "#lowest webdev student accessing curriculum was due to them using the curriculum more-so after cohort dates.\n",
    "df[df.user_id == 278]"
   ]
  },
  {
   "cell_type": "markdown",
   "id": "c3985dc4",
   "metadata": {},
   "source": [
    "#### Example of Webdev student that possibly dropped out of course after looking through materials...or possible dummy-account to check through student access to links?"
   ]
  },
  {
   "cell_type": "code",
   "execution_count": null,
   "id": "14b3f0eb",
   "metadata": {},
   "outputs": [],
   "source": [
    "#example of a possible web dev student that dropped out of course or maybe a dummy account that is checking on course links?\n",
    "df[df.user_id == 340]"
   ]
  },
  {
   "cell_type": "markdown",
   "id": "ad0f534d",
   "metadata": {},
   "source": [
    "#### Example of DS student: student accessed data for 2 months and then stopped using curriculum (even before end_date). Possibly dropped out midway through course?"
   ]
  },
  {
   "cell_type": "code",
   "execution_count": null,
   "id": "fdcd77d9",
   "metadata": {},
   "outputs": [],
   "source": [
    "#lowest count of accessed logs for active DS student:\n",
    "df[df.user_id == 902]"
   ]
  },
  {
   "cell_type": "markdown",
   "id": "1f798a67",
   "metadata": {},
   "source": [
    "#### Example of a DS student having low curriculum accessed counts, but still using curriculum after end_date."
   ]
  },
  {
   "cell_type": "code",
   "execution_count": null,
   "id": "f420ce51",
   "metadata": {},
   "outputs": [],
   "source": [
    "#lowest count of accessed logs for active DS student:\n",
    "df[df.user_id == 780]"
   ]
  },
  {
   "cell_type": "code",
   "execution_count": null,
   "id": "a397900f",
   "metadata": {},
   "outputs": [],
   "source": []
  },
  {
   "cell_type": "code",
   "execution_count": null,
   "id": "c38cddc2",
   "metadata": {},
   "outputs": [],
   "source": []
  },
  {
   "cell_type": "markdown",
   "id": "b5edba2c",
   "metadata": {},
   "source": [
    "2) Does Codeup recycle their user_ids at all? -Answer was no, not likely."
   ]
  },
  {
   "cell_type": "markdown",
   "id": "4868250e",
   "metadata": {},
   "source": [
    "_________________________________________________"
   ]
  },
  {
   "cell_type": "markdown",
   "id": "3fe6e628",
   "metadata": {},
   "source": [
    "#### User_id examples of users that went from student to staff"
   ]
  },
  {
   "cell_type": "code",
   "execution_count": null,
   "id": "70c14a7d",
   "metadata": {},
   "outputs": [],
   "source": [
    "#who dis? \n",
    "df[df.user_id == 53]"
   ]
  },
  {
   "cell_type": "code",
   "execution_count": null,
   "id": "36dbfd5b",
   "metadata": {},
   "outputs": [],
   "source": [
    "#another student to staff:\n",
    "df[df.user_id ==539]"
   ]
  },
  {
   "cell_type": "markdown",
   "id": "ea24e3ab",
   "metadata": {},
   "source": [
    "#### Why some students may have nulls:"
   ]
  },
  {
   "cell_type": "code",
   "execution_count": null,
   "id": "1074829a",
   "metadata": {},
   "outputs": [],
   "source": [
    "#This last user_id had nulls. When following it, this shows that possible nulls might be when students are\n",
    "#going through their prework phase at Codeup...good to know for another time...\n",
    "df[df.user_id == 88] "
   ]
  },
  {
   "cell_type": "markdown",
   "id": "7b1273e7",
   "metadata": {},
   "source": [
    "Looking at each of these students to learn more:"
   ]
  },
  {
   "cell_type": "code",
   "execution_count": null,
   "id": "d2dcd878",
   "metadata": {},
   "outputs": [],
   "source": [
    "#user 95 (wondering if this is a webscraper? start date and access dates do not make sense)\n",
    "df[df.user_id == 95]"
   ]
  },
  {
   "cell_type": "code",
   "execution_count": null,
   "id": "d9ad43f1",
   "metadata": {},
   "outputs": [],
   "source": [
    "#user 679: maybe they quit??\n",
    "df[df.user_id == 679]"
   ]
  },
  {
   "cell_type": "code",
   "execution_count": null,
   "id": "d08ca462",
   "metadata": {},
   "outputs": [],
   "source": [
    "#user 71 : access dates and start_date do not coincide..\n",
    "df[df.user_id == 71]"
   ]
  },
  {
   "cell_type": "code",
   "execution_count": null,
   "id": "36dfcc34",
   "metadata": {},
   "outputs": [],
   "source": [
    "#user 246 : looks like webscaper | odd sign-in times and access/start dates do not match\n",
    "df[df.user_id == 246]"
   ]
  },
  {
   "cell_type": "code",
   "execution_count": null,
   "id": "1b15d0fd",
   "metadata": {},
   "outputs": [],
   "source": [
    "#user 399: pathways and quick scan times look like a webscraper\n",
    "df[df.user_id == 399]"
   ]
  },
  {
   "cell_type": "code",
   "execution_count": null,
   "id": "54b30aed",
   "metadata": {},
   "outputs": [],
   "source": [
    "#user 956: looks like a student that my have dropped out\n",
    "df[df.user_id == 956]"
   ]
  },
  {
   "cell_type": "code",
   "execution_count": null,
   "id": "817fc61f",
   "metadata": {},
   "outputs": [],
   "source": [
    "#user 539: student that dropped?\n",
    "df[df.user_id == 539]"
   ]
  },
  {
   "cell_type": "code",
   "execution_count": null,
   "id": "9cb4b082",
   "metadata": {},
   "outputs": [],
   "source": [
    "#user 216: possible web scraper?\n",
    "df[df.user_id == 216]"
   ]
  },
  {
   "cell_type": "code",
   "execution_count": null,
   "id": "79ed4713",
   "metadata": {},
   "outputs": [],
   "source": [
    "#user 177: path would indicate web scrap (images and favicon only)\n",
    "df[df.user_id == 177]"
   ]
  },
  {
   "cell_type": "code",
   "execution_count": null,
   "id": "19d47422",
   "metadata": {},
   "outputs": [],
   "source": [
    "#user 81: path would indicate web scrap (html and css only)\n",
    "df[df.user_id == 81]"
   ]
  },
  {
   "cell_type": "code",
   "execution_count": null,
   "id": "cec7c091",
   "metadata": {},
   "outputs": [],
   "source": [
    "#user 169: looks like web scraper\n",
    "df[df.user_id == 169]"
   ]
  },
  {
   "cell_type": "code",
   "execution_count": null,
   "id": "c24206c2",
   "metadata": {},
   "outputs": [],
   "source": [
    "#user 85: looks like a past possible student that dropped out or never started\n",
    "df[df.user_id == 85]"
   ]
  },
  {
   "cell_type": "code",
   "execution_count": null,
   "id": "97e37d42",
   "metadata": {},
   "outputs": [],
   "source": [
    "#user 832: student that didn't interact with curriculum??\n",
    "df[df.user_id == 832]"
   ]
  },
  {
   "cell_type": "code",
   "execution_count": null,
   "id": "c514a7d4",
   "metadata": {},
   "outputs": [],
   "source": [
    "#user 97: web scraper\n",
    "df[df.user_id == 97]"
   ]
  },
  {
   "cell_type": "code",
   "execution_count": null,
   "id": "b42a0f55",
   "metadata": {},
   "outputs": [],
   "source": [
    "#user 857: probably student that dropped out\n",
    "df[df.user_id == 857]"
   ]
  },
  {
   "cell_type": "code",
   "execution_count": null,
   "id": "a3a6b0dc",
   "metadata": {},
   "outputs": [],
   "source": [
    "#user 348: probably web scraper\n",
    "df[df.user_id == 348]"
   ]
  },
  {
   "cell_type": "code",
   "execution_count": null,
   "id": "1c3d4272",
   "metadata": {},
   "outputs": [],
   "source": [
    "#user 212: probably web scraper or maybe a past student?? (is there much info from 2014?)\n",
    "df[df.user_id == 212]"
   ]
  },
  {
   "cell_type": "code",
   "execution_count": null,
   "id": "e3398e2d",
   "metadata": {},
   "outputs": [],
   "source": [
    "#user 593: probably web scraper \n",
    "df[df.user_id == 593]"
   ]
  },
  {
   "cell_type": "code",
   "execution_count": null,
   "id": "f2e747ae",
   "metadata": {},
   "outputs": [],
   "source": [
    "#user 165: probably web scraper \n",
    "df[df.user_id == 165]"
   ]
  },
  {
   "cell_type": "markdown",
   "id": "bf11584d",
   "metadata": {},
   "source": [
    "#### Creating objects based on exploration of these students:"
   ]
  },
  {
   "cell_type": "code",
   "execution_count": null,
   "id": "912d9c8c",
   "metadata": {},
   "outputs": [],
   "source": [
    "#creating object of known dropped students:\n",
    "df_drop_students = df[df.user_id == 85],df[df.user_id == 956]"
   ]
  },
  {
   "cell_type": "code",
   "execution_count": null,
   "id": "bebfb164",
   "metadata": {},
   "outputs": [],
   "source": [
    "#info together:\n",
    "df_drop_students"
   ]
  },
  {
   "cell_type": "code",
   "execution_count": null,
   "id": "6556822a",
   "metadata": {},
   "outputs": [],
   "source": [
    "#creating object of known web scrapers:\n",
    "web_scrapes = df[df.user_id == 177],df[df.user_id == 399], df[df.user_id == 246]"
   ]
  },
  {
   "cell_type": "code",
   "execution_count": null,
   "id": "d9fc495e",
   "metadata": {},
   "outputs": [],
   "source": [
    "#creating object of possible web scrapers:\n",
    "poss_web_scrapes = df[df.user_id == 165],df[df.user_id == 593], df[df.user_id == 212], df[df.user_id == 348], df[df.user_id == 857],df[df.user_id == 97], df[df.user_id == 832], df[df.user_id == 85], df[df.user_id == 169], df[df.user_id == 81],df[df.user_id == 216]"
   ]
  },
  {
   "cell_type": "code",
   "execution_count": null,
   "id": "72079872",
   "metadata": {},
   "outputs": [],
   "source": [
    "#creating object of student then staff users:\n",
    "student_staff = df[df.user_id == 539],df[df.user_id == 64]"
   ]
  },
  {
   "cell_type": "code",
   "execution_count": null,
   "id": "12c8354f",
   "metadata": {},
   "outputs": [],
   "source": [
    "#reminding myself of column names:\n",
    "df.columns"
   ]
  },
  {
   "cell_type": "code",
   "execution_count": null,
   "id": "38c3c070",
   "metadata": {},
   "outputs": [],
   "source": [
    "#histograph of user_id counts\n",
    "df.user_id.hist(figsize=(15, 10),\n",
    "            ec='black',\n",
    "            grid=True,\n",
    "            bins=25);"
   ]
  },
  {
   "cell_type": "code",
   "execution_count": null,
   "id": "428835d7",
   "metadata": {},
   "outputs": [],
   "source": [
    "#sns is having issues with index as it is showing duplicates:\n",
    "df.index.is_unique"
   ]
  },
  {
   "cell_type": "code",
   "execution_count": null,
   "id": "42280df6",
   "metadata": {},
   "outputs": [],
   "source": [
    "#dropping index duplicates\n",
    "df=df.loc[~df.index.duplicated(), :]"
   ]
  },
  {
   "cell_type": "markdown",
   "id": "c2c04b78",
   "metadata": {},
   "source": [
    "#### Can we look at users' access log times? (help determine any web scrapers)"
   ]
  },
  {
   "cell_type": "code",
   "execution_count": null,
   "id": "df31e2a8",
   "metadata": {},
   "outputs": [],
   "source": [
    "#adding hour column to df for hours shown:\n",
    "df['hour'] = pd.to_datetime(df.time).dt.hour\n",
    "df.head(1)"
   ]
  },
  {
   "cell_type": "code",
   "execution_count": null,
   "id": "6a90e832",
   "metadata": {},
   "outputs": [],
   "source": [
    "#showing hours these hardly accessed students logged in at:\n"
   ]
  },
  {
   "cell_type": "code",
   "execution_count": null,
   "id": "d4fcbc73",
   "metadata": {},
   "outputs": [],
   "source": [
    "#user_id to cohort: are there student ranges here?\n",
    "sns.histplot(data=df, x=df.user_id, hue=df.program_id, bins=30)"
   ]
  },
  {
   "cell_type": "markdown",
   "id": "47a72455",
   "metadata": {},
   "source": [
    "#### Question: Are there overlaps or recycling happening with user_id?"
   ]
  },
  {
   "cell_type": "code",
   "execution_count": null,
   "id": "ca8745a5",
   "metadata": {},
   "outputs": [],
   "source": [
    "#user_id to cohort: are there student ranges here?\n",
    "sns.histplot(data=df, x=df.user_id, hue=df.program_id, bins=60, multiple=\"stack\")"
   ]
  },
  {
   "cell_type": "code",
   "execution_count": null,
   "id": "de11593e",
   "metadata": {},
   "outputs": [],
   "source": [
    "plt.figure(figsize=(10,5))\n",
    "sns.barplot(df.user_id.index, df.program_type.values, alpha=0.8)\n",
    "plt.title ('Hardly Accessed Data Science Curriculum')\n",
    "plt.ylabel('Number of Occurences')\n",
    "plt.xlabel('User Id', fontsize=15)\n",
    "plt.show()"
   ]
  },
  {
   "cell_type": "code",
   "execution_count": null,
   "id": "10b8bcb5",
   "metadata": {},
   "outputs": [],
   "source": [
    "#user example of student then staff member\n",
    "#df[df.user_id ==539]"
   ]
  },
  {
   "cell_type": "code",
   "execution_count": null,
   "id": "92ae6ba8",
   "metadata": {},
   "outputs": [],
   "source": [
    "#using wrangle code to call in all dataframes and file to call in curriculum_log data:\n",
    "df, df_staff, df_multicohort, df_unimputed, df_non_curriculum, df_outliers=wrangle.full_wrangle()"
   ]
  },
  {
   "cell_type": "code",
   "execution_count": null,
   "id": "604cc6ec",
   "metadata": {},
   "outputs": [],
   "source": []
  }
 ],
 "metadata": {
  "kernelspec": {
   "display_name": "Python 3 (ipykernel)",
   "language": "python",
   "name": "python3"
  },
  "language_info": {
   "codemirror_mode": {
    "name": "ipython",
    "version": 3
   },
   "file_extension": ".py",
   "mimetype": "text/x-python",
   "name": "python",
   "nbconvert_exporter": "python",
   "pygments_lexer": "ipython3",
   "version": "3.9.7"
  }
 },
 "nbformat": 4,
 "nbformat_minor": 5
}
