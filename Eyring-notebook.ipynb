{
 "cells": [
  {
   "cell_type": "code",
   "execution_count": 1,
   "id": "32a0a505",
   "metadata": {},
   "outputs": [],
   "source": [
    "#imports libraries\n",
    "import pandas as pd\n",
    "import numpy as np\n",
    "from sklearn import metrics\n",
    "import seaborn as sns\n",
    "from datetime import timedelta\n",
    "from datetime import datetime\n",
    "import matplotlib.pyplot as plt\n",
    "\n",
    "# Ignore warnings\n",
    "import warnings\n",
    "warnings.filterwarnings('ignore')\n",
    "\n",
    "#imports for acquire and prep\n",
    "from env import get_db_url\n",
    "import os\n",
    "import acquire\n",
    "import wrangle"
   ]
  },
  {
   "cell_type": "markdown",
   "id": "c44a20f8",
   "metadata": {},
   "source": [
    "## Team Anomaly Detection Project:\n",
    "\n",
    "This repo is my side of the exploration, in first, answering question #3, and then using our Team's wrangle.py file to do more exploring on finding other anomalies and/or takeaways that might have been overlooked."
   ]
  },
  {
   "cell_type": "markdown",
   "id": "bfd50658",
   "metadata": {},
   "source": [
    "#### Pulling in the wrangle dataframe with the acquire file, and then doing simple changes to further the process of answering questions 3."
   ]
  },
  {
   "cell_type": "code",
   "execution_count": 2,
   "id": "f9fe1c92",
   "metadata": {},
   "outputs": [],
   "source": [
    "#calling in acquire function for OG dataset (minimized cleaning/wrangle)\n",
    "df=acquire.get_access_data()"
   ]
  },
  {
   "cell_type": "code",
   "execution_count": 3,
   "id": "5ec044fa",
   "metadata": {},
   "outputs": [],
   "source": [
    "#calling in wrangle.py functions (minus outliers/imputers) to change dtypes and add/drop columns:\n",
    "df = wrangle.add_columns(df)\n"
   ]
  },
  {
   "cell_type": "code",
   "execution_count": 4,
   "id": "568921e6",
   "metadata": {},
   "outputs": [],
   "source": [
    "# Create DateTime for index, convert dates to DateTime, add an hour column, drop old date and time\n",
    "df['accessed'] = df['date'] + ' ' + df['time']\n",
    "df.accessed = pd.to_datetime(df.accessed)\n",
    "df.start_date = pd.to_datetime(df.start_date)\n",
    "df.end_date = pd.to_datetime(df.end_date)\n",
    "df['hour'] = df['accessed'].dt.hour\n",
    "df = df.drop(columns=['date','time'])\n",
    "df = df[df.end_date <= pd.to_datetime(\"today\")]\n",
    "df['Date'] = df['accessed'].dt.date\n",
    "df['Time'] = df['accessed'].dt.time\n",
    "#setting date as the index\n",
    "df = df.set_index('accessed')"
   ]
  },
  {
   "cell_type": "code",
   "execution_count": 5,
   "id": "d9f6638b",
   "metadata": {},
   "outputs": [],
   "source": [
    "#dropping program 4.0 (newest program) as it ony shows 5 of the students...might be a data submission error:\n",
    "df=df[df.program_id != 4.0]"
   ]
  },
  {
   "cell_type": "code",
   "execution_count": 7,
   "id": "63652c73",
   "metadata": {},
   "outputs": [
    {
     "data": {
      "text/html": [
       "<div>\n",
       "<style scoped>\n",
       "    .dataframe tbody tr th:only-of-type {\n",
       "        vertical-align: middle;\n",
       "    }\n",
       "\n",
       "    .dataframe tbody tr th {\n",
       "        vertical-align: top;\n",
       "    }\n",
       "\n",
       "    .dataframe thead th {\n",
       "        text-align: right;\n",
       "    }\n",
       "</style>\n",
       "<table border=\"1\" class=\"dataframe\">\n",
       "  <thead>\n",
       "    <tr style=\"text-align: right;\">\n",
       "      <th></th>\n",
       "      <th>path</th>\n",
       "      <th>user_id</th>\n",
       "      <th>ip</th>\n",
       "      <th>name</th>\n",
       "      <th>start_date</th>\n",
       "      <th>end_date</th>\n",
       "      <th>program_id</th>\n",
       "      <th>program_type</th>\n",
       "      <th>hour</th>\n",
       "      <th>Date</th>\n",
       "      <th>Time</th>\n",
       "    </tr>\n",
       "    <tr>\n",
       "      <th>accessed</th>\n",
       "      <th></th>\n",
       "      <th></th>\n",
       "      <th></th>\n",
       "      <th></th>\n",
       "      <th></th>\n",
       "      <th></th>\n",
       "      <th></th>\n",
       "      <th></th>\n",
       "      <th></th>\n",
       "      <th></th>\n",
       "      <th></th>\n",
       "    </tr>\n",
       "  </thead>\n",
       "  <tbody>\n",
       "    <tr>\n",
       "      <th>2018-01-26 09:55:03</th>\n",
       "      <td>/</td>\n",
       "      <td>1</td>\n",
       "      <td>97.105.19.61</td>\n",
       "      <td>Hampton</td>\n",
       "      <td>2015-09-22</td>\n",
       "      <td>2016-02-06</td>\n",
       "      <td>1.0</td>\n",
       "      <td>Web Development</td>\n",
       "      <td>9</td>\n",
       "      <td>2018-01-26</td>\n",
       "      <td>09:55:03</td>\n",
       "    </tr>\n",
       "    <tr>\n",
       "      <th>2018-01-26 09:56:02</th>\n",
       "      <td>java-ii</td>\n",
       "      <td>1</td>\n",
       "      <td>97.105.19.61</td>\n",
       "      <td>Hampton</td>\n",
       "      <td>2015-09-22</td>\n",
       "      <td>2016-02-06</td>\n",
       "      <td>1.0</td>\n",
       "      <td>Web Development</td>\n",
       "      <td>9</td>\n",
       "      <td>2018-01-26</td>\n",
       "      <td>09:56:02</td>\n",
       "    </tr>\n",
       "  </tbody>\n",
       "</table>\n",
       "</div>"
      ],
      "text/plain": [
       "                        path  user_id            ip     name start_date  \\\n",
       "accessed                                                                  \n",
       "2018-01-26 09:55:03        /        1  97.105.19.61  Hampton 2015-09-22   \n",
       "2018-01-26 09:56:02  java-ii        1  97.105.19.61  Hampton 2015-09-22   \n",
       "\n",
       "                      end_date  program_id     program_type  hour        Date  \\\n",
       "accessed                                                                        \n",
       "2018-01-26 09:55:03 2016-02-06         1.0  Web Development     9  2018-01-26   \n",
       "2018-01-26 09:56:02 2016-02-06         1.0  Web Development     9  2018-01-26   \n",
       "\n",
       "                         Time  \n",
       "accessed                       \n",
       "2018-01-26 09:55:03  09:55:03  \n",
       "2018-01-26 09:56:02  09:56:02  "
      ]
     },
     "execution_count": 7,
     "metadata": {},
     "output_type": "execute_result"
    }
   ],
   "source": [
    "df.head(2)"
   ]
  },
  {
   "cell_type": "code",
   "execution_count": null,
   "id": "a5fe0adb",
   "metadata": {},
   "outputs": [],
   "source": []
  },
  {
   "cell_type": "markdown",
   "id": "8ef6b35e",
   "metadata": {},
   "source": [
    "### 3. Are there students who, when active, hardly access the curriculum? If so, what information do you have about these students?\n",
    "Active students that do not engage with curriculum?\n",
    "\n",
    "user_id frequency counts\n",
    "current dates of cohorts\n",
    "ip addresses?"
   ]
  },
  {
   "cell_type": "code",
   "execution_count": null,
   "id": "300c11b5",
   "metadata": {
    "scrolled": true
   },
   "outputs": [],
   "source": [
    "df.acquire"
   ]
  },
  {
   "cell_type": "code",
   "execution_count": null,
   "id": "3ff91071",
   "metadata": {},
   "outputs": [],
   "source": [
    "df.head()"
   ]
  },
  {
   "cell_type": "code",
   "execution_count": null,
   "id": "c2a27507",
   "metadata": {},
   "outputs": [],
   "source": []
  },
  {
   "cell_type": "code",
   "execution_count": null,
   "id": "fd7516cb",
   "metadata": {},
   "outputs": [],
   "source": [
    "#Question: are user_ids being recycled? \n",
    "#And was there another website for cohorts in 2014?\n",
    "df[df.user_id == 64]"
   ]
  },
  {
   "cell_type": "code",
   "execution_count": null,
   "id": "81420665",
   "metadata": {},
   "outputs": [],
   "source": [
    "df.index"
   ]
  },
  {
   "cell_type": "code",
   "execution_count": null,
   "id": "78a62b8e",
   "metadata": {},
   "outputs": [],
   "source": [
    "df.columns"
   ]
  },
  {
   "cell_type": "code",
   "execution_count": null,
   "id": "607a3a56",
   "metadata": {
    "scrolled": false
   },
   "outputs": [],
   "source": [
    "#looking at the stats numbers for the dataset:\n",
    "df.describe().T"
   ]
  },
  {
   "cell_type": "markdown",
   "id": "14bac1f8",
   "metadata": {},
   "source": [
    "### Take aways:\n",
    "- `date`/ `time` / `start_date` and `end_date` needs to be run through `pd.to_datetime`\n",
    "- `date` could also become new index\n",
    "- it could be helpful to create a `program_name` column\n",
    "- setting `ip` as float will allow boxplots and other charts for anomaly checks."
   ]
  },
  {
   "cell_type": "code",
   "execution_count": null,
   "id": "ad7620f0",
   "metadata": {},
   "outputs": [],
   "source": [
    "def date_dtypes_index(df):\n",
    "    \"\"\"passing df through pd.to_datetime for date and time format/dtype for all date/time columns;\n",
    "    and combining date + time and setting as index\"\"\"\n",
    "    df['access_date'] = df['date'] + ' ' + df['time']\n",
    "    df.access_date = pd.to_datetime(df.access_date)\n",
    "    df.start_date = pd.to_datetime(df.start_date)\n",
    "    df.end_date = pd.to_datetime(df.end_date)\n",
    "    df = df[df.end_date <= pd.to_datetime(\"today\")]\n",
    "    #setting date as the index\n",
    "    df = df.set_index('access_date')\n",
    "    return df"
   ]
  },
  {
   "cell_type": "code",
   "execution_count": null,
   "id": "37e91397",
   "metadata": {
    "scrolled": true
   },
   "outputs": [],
   "source": [
    "df = date_dtypes_index(df)\n",
    "df.head()"
   ]
  },
  {
   "cell_type": "code",
   "execution_count": null,
   "id": "d0360035",
   "metadata": {},
   "outputs": [],
   "source": [
    "#checking dtypes:\n",
    "df.dtypes"
   ]
  },
  {
   "cell_type": "code",
   "execution_count": null,
   "id": "22a06782",
   "metadata": {},
   "outputs": [],
   "source": [
    "#checking new index:\n",
    "df.index"
   ]
  },
  {
   "cell_type": "code",
   "execution_count": null,
   "id": "74ac02fb",
   "metadata": {},
   "outputs": [],
   "source": [
    "#adding in datetime columns to find stats values:\n",
    "df.describe(datetime_is_numeric=True)"
   ]
  },
  {
   "cell_type": "code",
   "execution_count": null,
   "id": "8c03ee9b",
   "metadata": {},
   "outputs": [],
   "source": [
    "## non curriculum pages (Ray's codes)\n",
    "def drop_noncurriculum(df):\n",
    "    df=df[df.path != '/']\n",
    "    df=df[df.path != 'toc']\n",
    "    df=df[df.path.str.contains('jpeg') != True]\n",
    "    df=df[df.path.str.contains('json') != True]\n",
    "    df=df[df.path.str.contains('jpg') != True]\n",
    "    df=df[df.path.str.contains('appendix') != True]\n",
    "    df=df[df.path.str.contains('Appendix') != True]\n",
    "    return df"
   ]
  },
  {
   "cell_type": "code",
   "execution_count": null,
   "id": "ebfdfc08",
   "metadata": {},
   "outputs": [],
   "source": [
    "df = drop_noncurriculum(df)\n",
    "df"
   ]
  },
  {
   "cell_type": "code",
   "execution_count": null,
   "id": "ff64e35c",
   "metadata": {},
   "outputs": [],
   "source": [
    "def drop_other(df):\n",
    "    df=df[df.program_id != 4.0]\n",
    "    df=df[df.name !='Staff']\n",
    "    return df"
   ]
  },
  {
   "cell_type": "code",
   "execution_count": null,
   "id": "4e56bc8b",
   "metadata": {},
   "outputs": [],
   "source": [
    "df = drop_other(df)\n",
    "df.head()"
   ]
  },
  {
   "cell_type": "code",
   "execution_count": null,
   "id": "ac77ab50",
   "metadata": {},
   "outputs": [],
   "source": [
    "# assigns values in program_id their program name\n",
    "df.loc[df['program_id'] == 1.0, 'program_id'] = 'Web Development'\n",
    "df.loc[df['program_id'] == 2.0, 'program_id'] = 'Web Development'         \n",
    "df.loc[df['program_id'] == 3.0, 'program_id'] = 'Data Science'"
   ]
  },
  {
   "cell_type": "markdown",
   "id": "ad01e24a",
   "metadata": {},
   "source": [
    "_______________________________________________"
   ]
  },
  {
   "cell_type": "markdown",
   "id": "63199f94",
   "metadata": {},
   "source": [
    "### Looking at nulls and anomalies:"
   ]
  },
  {
   "cell_type": "code",
   "execution_count": null,
   "id": "880b929f",
   "metadata": {},
   "outputs": [],
   "source": [
    "#out of the 90,223 rows and 9 columns, what nulls are in the data?\n",
    "df.isnull().sum()"
   ]
  },
  {
   "cell_type": "markdown",
   "id": "32cfe3c8",
   "metadata": {},
   "source": [
    "#### Checking anomalies on ip addresses "
   ]
  },
  {
   "cell_type": "code",
   "execution_count": null,
   "id": "a1a00dcf",
   "metadata": {},
   "outputs": [],
   "source": [
    "#looking at ip column for outliers:\n",
    "df.ip.value_counts()"
   ]
  },
  {
   "cell_type": "code",
   "execution_count": null,
   "id": "20040c02",
   "metadata": {},
   "outputs": [],
   "source": [
    "#defining a function to create a temp df for anomaly counts/frequencies:\n",
    "def value_counts_and_frequencies(s: pd.Series, dropna=True) -> pd.DataFrame:\n",
    "    return pd.merge(\n",
    "    s.value_counts(dropna=False).rename('count'),\n",
    "    s.value_counts(dropna=False, normalize=True).rename('proba'),\n",
    "    left_index=True,\n",
    "    right_index=True,\n",
    "    )\n",
    "\n",
    "ip_df = value_counts_and_frequencies(df.ip)\n",
    "ip_df.head()"
   ]
  },
  {
   "cell_type": "markdown",
   "id": "9507671a",
   "metadata": {},
   "source": [
    "#### interesting find/note about some of the nulls:"
   ]
  },
  {
   "cell_type": "code",
   "execution_count": null,
   "id": "25c3566e",
   "metadata": {},
   "outputs": [],
   "source": [
    "#possible webscraper\n",
    "df[df.user_id == 48]"
   ]
  },
  {
   "cell_type": "code",
   "execution_count": null,
   "id": "ef0b2e45",
   "metadata": {},
   "outputs": [],
   "source": []
  },
  {
   "cell_type": "markdown",
   "id": "c376fee8",
   "metadata": {},
   "source": [
    "#### Next steps: \n",
    "- Turning `ip` into int?? (UPDATE: not needed. can be explored w/o ...verified by Ryan O.\n",
    "- Handling nulls"
   ]
  },
  {
   "cell_type": "markdown",
   "id": "cde4e32a",
   "metadata": {},
   "source": [
    "### What is needed?\n",
    "- Most frequent lessons logged into (per program)\n",
    "    - Lesson counts\n",
    "    - Program id/name\n",
    "- Most/least frequent lessons logged into (per cohort)\n",
    "    - Lesson log counts\n",
    "    - name (cohort)\n",
    "- Active students that do not engage with curriculum?\n",
    "    - user_id frequency counts\n",
    "    - current dates of cohorts\n",
    "    - ip addresses?\n",
    "- Suspicious activity and any webscrapping happening?\n",
    "    - time (looking at odd hours of day)\n",
    "    - ip addresses and no cohorts attached\n",
    "    - user_id?\n",
    "- 2019 dataframe showing shutoff of cross program curriculum access\n",
    "    - program id and path page counts (?)\n",
    "    - date (only 2019)\n",
    "- Topics (path) alumni are still using?\n",
    "    - path frequencies\n",
    "    - anything > end_date of cohorts\n",
    "- Least accessed lessons (overall)\n",
    "    - path frequencies\n",
    "- Anything else??\n"
   ]
  },
  {
   "cell_type": "markdown",
   "id": "0a3bef96",
   "metadata": {},
   "source": [
    "## Using OG dataset for student/user_id outliers:"
   ]
  },
  {
   "cell_type": "markdown",
   "id": "3fe6e628",
   "metadata": {},
   "source": [
    "#### User_id examples of users that went from student to staff"
   ]
  },
  {
   "cell_type": "code",
   "execution_count": null,
   "id": "70c14a7d",
   "metadata": {},
   "outputs": [],
   "source": [
    "#who dis? \n",
    "df[df.user_id == 53]"
   ]
  },
  {
   "cell_type": "code",
   "execution_count": null,
   "id": "1074829a",
   "metadata": {},
   "outputs": [],
   "source": [
    "#This last user_id had nulls. When following it, this shows that possible nulls might be when students are\n",
    "#going through their prework phase at Codeup...good to know for another time...\n",
    "df[df.user_id == 88]"
   ]
  },
  {
   "cell_type": "code",
   "execution_count": null,
   "id": "26d2585a",
   "metadata": {},
   "outputs": [],
   "source": [
    "df.program_id.value_counts()"
   ]
  },
  {
   "cell_type": "code",
   "execution_count": null,
   "id": "6882ae85",
   "metadata": {},
   "outputs": [],
   "source": []
  },
  {
   "cell_type": "code",
   "execution_count": null,
   "id": "8b1e614a",
   "metadata": {},
   "outputs": [],
   "source": [
    "#looking at log counts for each user id\n",
    "df2 = df.groupby(['user_id'])['name'].count()\n",
    "df2"
   ]
  },
  {
   "cell_type": "code",
   "execution_count": null,
   "id": "005dabdd",
   "metadata": {},
   "outputs": [],
   "source": [
    "df.path.value_counts()[55:100\n",
    "                      ]"
   ]
  },
  {
   "cell_type": "markdown",
   "id": "b4805daf",
   "metadata": {},
   "source": [
    "## 3. Are there students who, when active, hardly access the curriculum? If so, what information do you have about these students?\n",
    "Active students that do not engage with curriculum? \n",
    "- user_id frequency counts\n",
    "- current dates of cohorts\n",
    "- ip addresses?\n"
   ]
  },
  {
   "cell_type": "code",
   "execution_count": null,
   "id": "95192741",
   "metadata": {},
   "outputs": [],
   "source": [
    "#creating a df that holds students (user_id) that have accessed curriculum less than 5 times:\n",
    "df3  = df.user_id.value_counts() \n",
    "df3"
   ]
  },
  {
   "cell_type": "code",
   "execution_count": null,
   "id": "2a9a38f2",
   "metadata": {},
   "outputs": [],
   "source": [
    "df3 = pd.DataFrame(df.user_id.value_counts() < 5)\n",
    "df3"
   ]
  },
  {
   "cell_type": "code",
   "execution_count": null,
   "id": "e0236b4a",
   "metadata": {},
   "outputs": [],
   "source": [
    "#all of the user_id that are accessing curriculum 4 times or less\n",
    "df3[df3.user_id == True]"
   ]
  },
  {
   "cell_type": "markdown",
   "id": "7b1273e7",
   "metadata": {},
   "source": [
    "Looking at each of these students to learn more:"
   ]
  },
  {
   "cell_type": "code",
   "execution_count": null,
   "id": "d2dcd878",
   "metadata": {},
   "outputs": [],
   "source": [
    "#user 95 (wondering if this is a webscraper? start date and access dates do not make sense)\n",
    "df[df.user_id == 95]"
   ]
  },
  {
   "cell_type": "code",
   "execution_count": null,
   "id": "d9ad43f1",
   "metadata": {},
   "outputs": [],
   "source": [
    "#user 679: maybe they quit??\n",
    "df[df.user_id == 679]"
   ]
  },
  {
   "cell_type": "code",
   "execution_count": null,
   "id": "d08ca462",
   "metadata": {},
   "outputs": [],
   "source": [
    "#user 71 : access dates and start_date do not coincide..\n",
    "df[df.user_id == 71]"
   ]
  },
  {
   "cell_type": "code",
   "execution_count": null,
   "id": "36dfcc34",
   "metadata": {},
   "outputs": [],
   "source": [
    "#user 246 : looks like webscaper | odd sign-in times and access/start dates do not match\n",
    "df[df.user_id == 246]"
   ]
  },
  {
   "cell_type": "code",
   "execution_count": null,
   "id": "1b15d0fd",
   "metadata": {},
   "outputs": [],
   "source": [
    "#user 399: pathways and quick scan times look like a webscraper\n",
    "df[df.user_id == 399]"
   ]
  },
  {
   "cell_type": "code",
   "execution_count": null,
   "id": "54b30aed",
   "metadata": {},
   "outputs": [],
   "source": [
    "#user 956: looks like a student that my have dropped out\n",
    "df[df.user_id == 956]"
   ]
  },
  {
   "cell_type": "code",
   "execution_count": null,
   "id": "817fc61f",
   "metadata": {},
   "outputs": [],
   "source": [
    "#user 539: student that dropped?\n",
    "df[df.user_id == 539]"
   ]
  },
  {
   "cell_type": "code",
   "execution_count": null,
   "id": "9cb4b082",
   "metadata": {},
   "outputs": [],
   "source": [
    "#user 216: possible web scraper?\n",
    "df[df.user_id == 216]"
   ]
  },
  {
   "cell_type": "code",
   "execution_count": null,
   "id": "79ed4713",
   "metadata": {},
   "outputs": [],
   "source": [
    "#user 177: path would indicate web scrap (images and favicon only)\n",
    "df[df.user_id == 177]"
   ]
  },
  {
   "cell_type": "code",
   "execution_count": null,
   "id": "19d47422",
   "metadata": {},
   "outputs": [],
   "source": [
    "#user 81: path would indicate web scrap (html and css only)\n",
    "df[df.user_id == 81]"
   ]
  },
  {
   "cell_type": "code",
   "execution_count": null,
   "id": "cec7c091",
   "metadata": {},
   "outputs": [],
   "source": [
    "#user 169: looks like web scraper\n",
    "df[df.user_id == 169]"
   ]
  },
  {
   "cell_type": "code",
   "execution_count": null,
   "id": "c24206c2",
   "metadata": {},
   "outputs": [],
   "source": [
    "#user 85: looks like a past possible student that dropped out or never started\n",
    "df[df.user_id == 85]"
   ]
  },
  {
   "cell_type": "code",
   "execution_count": null,
   "id": "97e37d42",
   "metadata": {},
   "outputs": [],
   "source": [
    "#user 832: student that didn't interact with curriculum??\n",
    "df[df.user_id == 832]"
   ]
  },
  {
   "cell_type": "code",
   "execution_count": null,
   "id": "c514a7d4",
   "metadata": {},
   "outputs": [],
   "source": [
    "#user 97: web scraper\n",
    "df[df.user_id == 97]"
   ]
  },
  {
   "cell_type": "code",
   "execution_count": null,
   "id": "b42a0f55",
   "metadata": {},
   "outputs": [],
   "source": [
    "#user 857: probably student that dropped out\n",
    "df[df.user_id == 857]"
   ]
  },
  {
   "cell_type": "code",
   "execution_count": null,
   "id": "a3a6b0dc",
   "metadata": {},
   "outputs": [],
   "source": [
    "#user 348: probably web scraper\n",
    "df[df.user_id == 348]"
   ]
  },
  {
   "cell_type": "code",
   "execution_count": null,
   "id": "1c3d4272",
   "metadata": {},
   "outputs": [],
   "source": [
    "#user 212: probably web scraper or maybe a past student?? (is there much info from 2014?)\n",
    "df[df.user_id == 212]"
   ]
  },
  {
   "cell_type": "code",
   "execution_count": null,
   "id": "e3398e2d",
   "metadata": {},
   "outputs": [],
   "source": [
    "#user 593: probably web scraper \n",
    "df[df.user_id == 593]"
   ]
  },
  {
   "cell_type": "code",
   "execution_count": null,
   "id": "f2e747ae",
   "metadata": {},
   "outputs": [],
   "source": [
    "#user 165: probably web scraper \n",
    "df[df.user_id == 165]"
   ]
  },
  {
   "cell_type": "markdown",
   "id": "bf11584d",
   "metadata": {},
   "source": [
    "#### Creating objects based on exploration of these students:"
   ]
  },
  {
   "cell_type": "code",
   "execution_count": null,
   "id": "912d9c8c",
   "metadata": {},
   "outputs": [],
   "source": [
    "#creating object of known dropped students:\n",
    "df_drop_students = df[df.user_id == 85],df[df.user_id == 956]"
   ]
  },
  {
   "cell_type": "code",
   "execution_count": null,
   "id": "bebfb164",
   "metadata": {},
   "outputs": [],
   "source": [
    "#info together:\n",
    "df_drop_students"
   ]
  },
  {
   "cell_type": "code",
   "execution_count": null,
   "id": "6556822a",
   "metadata": {},
   "outputs": [],
   "source": [
    "#creating object of known web scrapers:\n",
    "web_scrapes = df[df.user_id == 177],df[df.user_id == 399], df[df.user_id == 246]"
   ]
  },
  {
   "cell_type": "code",
   "execution_count": null,
   "id": "d9fc495e",
   "metadata": {},
   "outputs": [],
   "source": [
    "#creating object of possible web scrapers:\n",
    "poss_web_scrapes = df[df.user_id == 165],df[df.user_id == 593], df[df.user_id == 212], df[df.user_id == 348], df[df.user_id == 857],df[df.user_id == 97], df[df.user_id == 832], df[df.user_id == 85], df[df.user_id == 169], df[df.user_id == 81],df[df.user_id == 216]"
   ]
  },
  {
   "cell_type": "code",
   "execution_count": null,
   "id": "72079872",
   "metadata": {},
   "outputs": [],
   "source": [
    "#creating object of student then staff users:\n",
    "student_staff = df[df.user_id == 539],df[df.user_id == 64]"
   ]
  },
  {
   "cell_type": "code",
   "execution_count": null,
   "id": "12c8354f",
   "metadata": {},
   "outputs": [],
   "source": [
    "#reminding myself of column names:\n",
    "df.columns"
   ]
  },
  {
   "cell_type": "code",
   "execution_count": null,
   "id": "38c3c070",
   "metadata": {},
   "outputs": [],
   "source": [
    "#histograph of user_id counts\n",
    "df.user_id.hist(figsize=(15, 10),\n",
    "            ec='black',\n",
    "            grid=True,\n",
    "            bins=25);"
   ]
  },
  {
   "cell_type": "code",
   "execution_count": null,
   "id": "428835d7",
   "metadata": {},
   "outputs": [],
   "source": [
    "#sns is having issues with index as it is showing duplicates:\n",
    "df.index.is_unique"
   ]
  },
  {
   "cell_type": "code",
   "execution_count": null,
   "id": "42280df6",
   "metadata": {},
   "outputs": [],
   "source": [
    "#dropping index duplicates\n",
    "df=df.loc[~df.index.duplicated(), :]"
   ]
  },
  {
   "cell_type": "code",
   "execution_count": null,
   "id": "44d17eee",
   "metadata": {},
   "outputs": [],
   "source": [
    "#splitting webdev and datascience into two different df:\n",
    "wd = df[df.program_id != 'Data Science']\n",
    "ds = df[df.program_id == 'Data Science']"
   ]
  },
  {
   "cell_type": "markdown",
   "id": "fb30104d",
   "metadata": {},
   "source": [
    "### Active Students with low curriculum access during each program:"
   ]
  },
  {
   "cell_type": "code",
   "execution_count": null,
   "id": "dd927e8d",
   "metadata": {},
   "outputs": [],
   "source": [
    "#Ray's code to filter dataframe for time where students are active during their programs\n",
    "active_wd = wd.loc[(wd.index >= wd.start_date) & (wd.index <= wd.end_date)]\n",
    "active_ds = ds.loc[(ds.index >= ds.start_date) & (ds.index <= ds.end_date)]"
   ]
  },
  {
   "cell_type": "markdown",
   "id": "c13ae875",
   "metadata": {},
   "source": [
    "#### WEB DEV:"
   ]
  },
  {
   "cell_type": "code",
   "execution_count": null,
   "id": "0ed6201d",
   "metadata": {},
   "outputs": [],
   "source": [
    "#webdev students with lowest log access count:\n",
    "hardly_access_wd = active_wd.groupby('user_id').size().sort_values().head(20)\n",
    "hardly_access_wd"
   ]
  },
  {
   "cell_type": "code",
   "execution_count": null,
   "id": "17a7c327",
   "metadata": {},
   "outputs": [],
   "source": [
    "#histogram of these users under 20 logged access dates:\n",
    "user_id_count = active_wd.groupby('user_id').size().sort_values()\n",
    "user_id_count = user_id_count[:16]\n",
    "plt.figure(figsize=(10,5))\n",
    "sns.barplot(user_id_count.index, user_id_count.values, alpha=0.8)\n",
    "plt.title ('Hardly Accessed Web Dev Curriculum')\n",
    "plt.ylabel('Number of Occurences')\n",
    "plt.xlabel('User Id', fontsize=12)\n",
    "plt.show()\n"
   ]
  },
  {
   "cell_type": "markdown",
   "id": "be92420f",
   "metadata": {},
   "source": [
    "#### Data Science:"
   ]
  },
  {
   "cell_type": "code",
   "execution_count": null,
   "id": "a7ac9684",
   "metadata": {},
   "outputs": [],
   "source": [
    "#looking at ds active students that had lowest curriculum log access counts\n",
    "active_ds.groupby('user_id').size().sort_values().head()"
   ]
  },
  {
   "cell_type": "code",
   "execution_count": null,
   "id": "0fbec2bf",
   "metadata": {},
   "outputs": [],
   "source": [
    "#ds students with lowest log access count:\n",
    "hardly_access_ds = active_ds.groupby('user_id').size().sort_values().head(3)\n",
    "hardly_access_ds"
   ]
  },
  {
   "cell_type": "code",
   "execution_count": null,
   "id": "b408e4e2",
   "metadata": {},
   "outputs": [],
   "source": [
    "#histogram of these 3 users under 114 access logs on curriculum:\n",
    "sns.barplot(hardly_access_ds.index, hardly_access_ds.values, alpha=0.8)\n",
    "plt.title ('Hardly Accessed Data Science Curriculum')\n",
    "plt.ylabel('Number of Occurences')\n",
    "plt.xlabel('User Id', fontsize=12)\n",
    "plt.show()\n"
   ]
  },
  {
   "cell_type": "markdown",
   "id": "c2c04b78",
   "metadata": {},
   "source": [
    "#### Can we look at users' access log times? (help determine any web scrapers)"
   ]
  },
  {
   "cell_type": "code",
   "execution_count": null,
   "id": "df31e2a8",
   "metadata": {},
   "outputs": [],
   "source": [
    "#adding hour column to df for hours shown:\n",
    "df['hour'] = pd.to_datetime(df.time).dt.hour\n",
    "df.head(1)"
   ]
  },
  {
   "cell_type": "code",
   "execution_count": null,
   "id": "6a90e832",
   "metadata": {},
   "outputs": [],
   "source": [
    "#showing hours these hardly accessed students logged in at:\n"
   ]
  },
  {
   "cell_type": "code",
   "execution_count": null,
   "id": "66949c13",
   "metadata": {},
   "outputs": [],
   "source": []
  },
  {
   "cell_type": "code",
   "execution_count": null,
   "id": "f0efb0b3",
   "metadata": {},
   "outputs": [],
   "source": []
  },
  {
   "cell_type": "code",
   "execution_count": null,
   "id": "d4fcbc73",
   "metadata": {},
   "outputs": [],
   "source": [
    "#user_id to cohort: are there student ranges here?\n",
    "sns.histplot(data=df, x=df.user_id, hue=df.program_id, bins=30)"
   ]
  },
  {
   "cell_type": "markdown",
   "id": "47a72455",
   "metadata": {},
   "source": [
    "#### Question: Are there overlaps or recycling happening with user_id?"
   ]
  },
  {
   "cell_type": "code",
   "execution_count": null,
   "id": "ca8745a5",
   "metadata": {},
   "outputs": [],
   "source": [
    "#user_id to cohort: are there student ranges here?\n",
    "sns.histplot(data=df, x=df.user_id, hue=df.program_id, bins=60, multiple=\"stack\")"
   ]
  },
  {
   "cell_type": "code",
   "execution_count": null,
   "id": "10b8bcb5",
   "metadata": {},
   "outputs": [],
   "source": [
    "#user example of student then staff member\n",
    "#df[df.user_id ==539]"
   ]
  },
  {
   "cell_type": "code",
   "execution_count": null,
   "id": "92ae6ba8",
   "metadata": {},
   "outputs": [],
   "source": [
    "#using wrangle code to call in all dataframes and file to call in curriculum_log data:\n",
    "df, df_staff, df_multicohort, df_unimputed, df_non_curriculum, df_outliers=wrangle.full_wrangle()"
   ]
  }
 ],
 "metadata": {
  "kernelspec": {
   "display_name": "Python 3 (ipykernel)",
   "language": "python",
   "name": "python3"
  },
  "language_info": {
   "codemirror_mode": {
    "name": "ipython",
    "version": 3
   },
   "file_extension": ".py",
   "mimetype": "text/x-python",
   "name": "python",
   "nbconvert_exporter": "python",
   "pygments_lexer": "ipython3",
   "version": "3.9.7"
  }
 },
 "nbformat": 4,
 "nbformat_minor": 5
}
