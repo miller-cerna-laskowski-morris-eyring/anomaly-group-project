{
 "cells": [
  {
   "cell_type": "code",
   "execution_count": 1,
   "id": "32a0a505",
   "metadata": {},
   "outputs": [],
   "source": [
    "#imports libraries\n",
    "import pandas as pd\n",
    "import numpy as np\n",
    "from sklearn import metrics\n",
    "import seaborn as sns\n",
    "from datetime import timedelta\n",
    "from datetime import datetime\n",
    "import matplotlib.pyplot as plt\n",
    "\n",
    "# Ignore warnings\n",
    "import warnings\n",
    "warnings.filterwarnings('ignore')\n",
    "\n",
    "#imports for acquire and prep\n",
    "from env import get_db_url\n",
    "import os\n",
    "import acquire\n",
    "import wrangle"
   ]
  },
  {
   "cell_type": "markdown",
   "id": "c44a20f8",
   "metadata": {},
   "source": [
    "# Team Anomaly Detection Project:\n",
    "\n",
    "This repo is my side of the exploration, in first, answering question #3, and then using our Team's wrangle.py file to do more exploring on finding other anomalies and/or takeaways that might have been overlooked and added to the Codeup email."
   ]
  },
  {
   "cell_type": "markdown",
   "id": "bfd50658",
   "metadata": {},
   "source": [
    "#### Pulling in the wrangle dataframe with the acquire file, and then doing simple changes to further the process of answering questions 3."
   ]
  },
  {
   "cell_type": "code",
   "execution_count": 2,
   "id": "f9fe1c92",
   "metadata": {},
   "outputs": [
    {
     "name": "stdout",
     "output_type": "stream",
     "text": [
      "This returned the following dataframes (reassign if you missed any):\n",
      "                                                         Description  \\\n",
      "Dataframe                                                              \n",
      "df                                           Fully cleaned dataframe   \n",
      "df_staff                   Dataframe where accessing cohort == Staff   \n",
      "df_multicohort     Dataframe of accesses for users listed in more...   \n",
      "df_unimputed       Dataframe with accesses for those users whose ...   \n",
      "df_non_curriculum  Dataframe for accessess not related to the cur...   \n",
      "df_outliers        Dataframe of accesses for those users meeting ...   \n",
      "\n",
      "                   Record Count Percent of Raw df  \n",
      "Dataframe                                          \n",
      "df                       509409             56.6%  \n",
      "df_staff                  84031             9.33%  \n",
      "df_multicohort            22708             2.52%  \n",
      "df_unimputed              45904              5.1%  \n",
      "df_non_curriculum        116539             12.9%  \n",
      "df_outliers              121626             13.5%  \n"
     ]
    }
   ],
   "source": [
    "#calling in acquire function for OG dataset (minimized cleaning/wrangle)\n",
    "df, df_staff, df_multicohort, df_unimputed, df_non_curriculum, df_outliers=wrangle.full_wrangle()"
   ]
  },
  {
   "cell_type": "markdown",
   "id": "0d1b6fee",
   "metadata": {},
   "source": [
    "#### Looking at all of the dataframes:"
   ]
  },
  {
   "cell_type": "code",
   "execution_count": 3,
   "id": "a5fe0adb",
   "metadata": {},
   "outputs": [
    {
     "data": {
      "text/html": [
       "<div>\n",
       "<style scoped>\n",
       "    .dataframe tbody tr th:only-of-type {\n",
       "        vertical-align: middle;\n",
       "    }\n",
       "\n",
       "    .dataframe tbody tr th {\n",
       "        vertical-align: top;\n",
       "    }\n",
       "\n",
       "    .dataframe thead th {\n",
       "        text-align: right;\n",
       "    }\n",
       "</style>\n",
       "<table border=\"1\" class=\"dataframe\">\n",
       "  <thead>\n",
       "    <tr style=\"text-align: right;\">\n",
       "      <th></th>\n",
       "      <th>accessed</th>\n",
       "      <th>path</th>\n",
       "      <th>ip</th>\n",
       "      <th>user_id</th>\n",
       "      <th>program_id</th>\n",
       "      <th>program_type</th>\n",
       "      <th>cohort</th>\n",
       "      <th>start_date</th>\n",
       "      <th>end_date</th>\n",
       "      <th>lesson</th>\n",
       "      <th>hour</th>\n",
       "    </tr>\n",
       "  </thead>\n",
       "  <tbody>\n",
       "    <tr>\n",
       "      <th>1</th>\n",
       "      <td>2018-01-26 09:56:02</td>\n",
       "      <td>java-ii</td>\n",
       "      <td>97.105.19.61</td>\n",
       "      <td>1</td>\n",
       "      <td>1.0</td>\n",
       "      <td>Web Development</td>\n",
       "      <td>Hampton</td>\n",
       "      <td>2015-09-22</td>\n",
       "      <td>2016-02-06</td>\n",
       "      <td>Not Lesson</td>\n",
       "      <td>9</td>\n",
       "    </tr>\n",
       "    <tr>\n",
       "      <th>2</th>\n",
       "      <td>2018-01-26 09:56:05</td>\n",
       "      <td>java-ii/object-oriented-programming</td>\n",
       "      <td>97.105.19.61</td>\n",
       "      <td>1</td>\n",
       "      <td>1.0</td>\n",
       "      <td>Web Development</td>\n",
       "      <td>Hampton</td>\n",
       "      <td>2015-09-22</td>\n",
       "      <td>2016-02-06</td>\n",
       "      <td>java-ii.object-oriented-programming</td>\n",
       "      <td>9</td>\n",
       "    </tr>\n",
       "  </tbody>\n",
       "</table>\n",
       "</div>"
      ],
      "text/plain": [
       "             accessed                                 path            ip  \\\n",
       "1 2018-01-26 09:56:02                              java-ii  97.105.19.61   \n",
       "2 2018-01-26 09:56:05  java-ii/object-oriented-programming  97.105.19.61   \n",
       "\n",
       "   user_id  program_id     program_type   cohort start_date   end_date  \\\n",
       "1        1         1.0  Web Development  Hampton 2015-09-22 2016-02-06   \n",
       "2        1         1.0  Web Development  Hampton 2015-09-22 2016-02-06   \n",
       "\n",
       "                                lesson  hour  \n",
       "1                           Not Lesson     9  \n",
       "2  java-ii.object-oriented-programming     9  "
      ]
     },
     "execution_count": 3,
     "metadata": {},
     "output_type": "execute_result"
    }
   ],
   "source": [
    "#looking at df:\n",
    "df.head(2)"
   ]
  },
  {
   "cell_type": "code",
   "execution_count": 4,
   "id": "f8f3d446",
   "metadata": {},
   "outputs": [
    {
     "data": {
      "text/html": [
       "<div>\n",
       "<style scoped>\n",
       "    .dataframe tbody tr th:only-of-type {\n",
       "        vertical-align: middle;\n",
       "    }\n",
       "\n",
       "    .dataframe tbody tr th {\n",
       "        vertical-align: top;\n",
       "    }\n",
       "\n",
       "    .dataframe thead th {\n",
       "        text-align: right;\n",
       "    }\n",
       "</style>\n",
       "<table border=\"1\" class=\"dataframe\">\n",
       "  <thead>\n",
       "    <tr style=\"text-align: right;\">\n",
       "      <th></th>\n",
       "      <th>accessed</th>\n",
       "      <th>path</th>\n",
       "      <th>ip</th>\n",
       "      <th>user_id</th>\n",
       "      <th>program_id</th>\n",
       "      <th>program_type</th>\n",
       "      <th>cohort</th>\n",
       "      <th>start_date</th>\n",
       "      <th>end_date</th>\n",
       "      <th>lesson</th>\n",
       "      <th>hour</th>\n",
       "    </tr>\n",
       "  </thead>\n",
       "  <tbody>\n",
       "    <tr>\n",
       "      <th>166284</th>\n",
       "      <td>2018-12-06 14:15:29</td>\n",
       "      <td>appendix/further-reading/java/intellij-tomcat-...</td>\n",
       "      <td>97.105.19.58</td>\n",
       "      <td>53</td>\n",
       "      <td>2.0</td>\n",
       "      <td>Web Development</td>\n",
       "      <td>Staff</td>\n",
       "      <td>2014-02-04</td>\n",
       "      <td>2014-02-04</td>\n",
       "      <td>Not Lesson</td>\n",
       "      <td>14</td>\n",
       "    </tr>\n",
       "    <tr>\n",
       "      <th>166294</th>\n",
       "      <td>2018-12-06 14:25:40</td>\n",
       "      <td>javascript-i</td>\n",
       "      <td>97.105.19.58</td>\n",
       "      <td>314</td>\n",
       "      <td>2.0</td>\n",
       "      <td>Web Development</td>\n",
       "      <td>Staff</td>\n",
       "      <td>2014-02-04</td>\n",
       "      <td>2014-02-04</td>\n",
       "      <td>Not Lesson</td>\n",
       "      <td>14</td>\n",
       "    </tr>\n",
       "  </tbody>\n",
       "</table>\n",
       "</div>"
      ],
      "text/plain": [
       "                  accessed                                               path  \\\n",
       "166284 2018-12-06 14:15:29  appendix/further-reading/java/intellij-tomcat-...   \n",
       "166294 2018-12-06 14:25:40                                       javascript-i   \n",
       "\n",
       "                  ip  user_id  program_id     program_type cohort start_date  \\\n",
       "166284  97.105.19.58       53         2.0  Web Development  Staff 2014-02-04   \n",
       "166294  97.105.19.58      314         2.0  Web Development  Staff 2014-02-04   \n",
       "\n",
       "         end_date      lesson  hour  \n",
       "166284 2014-02-04  Not Lesson    14  \n",
       "166294 2014-02-04  Not Lesson    14  "
      ]
     },
     "execution_count": 4,
     "metadata": {},
     "output_type": "execute_result"
    }
   ],
   "source": [
    "#looking at outlier datasets: df_staff (only holds Staff members and their info)\n",
    "df_staff.head(2)"
   ]
  },
  {
   "cell_type": "code",
   "execution_count": 5,
   "id": "6759e146",
   "metadata": {},
   "outputs": [
    {
     "data": {
      "text/html": [
       "<div>\n",
       "<style scoped>\n",
       "    .dataframe tbody tr th:only-of-type {\n",
       "        vertical-align: middle;\n",
       "    }\n",
       "\n",
       "    .dataframe tbody tr th {\n",
       "        vertical-align: top;\n",
       "    }\n",
       "\n",
       "    .dataframe thead th {\n",
       "        text-align: right;\n",
       "    }\n",
       "</style>\n",
       "<table border=\"1\" class=\"dataframe\">\n",
       "  <thead>\n",
       "    <tr style=\"text-align: right;\">\n",
       "      <th></th>\n",
       "      <th>accessed</th>\n",
       "      <th>path</th>\n",
       "      <th>ip</th>\n",
       "      <th>user_id</th>\n",
       "      <th>program_id</th>\n",
       "      <th>program_type</th>\n",
       "      <th>cohort</th>\n",
       "      <th>start_date</th>\n",
       "      <th>end_date</th>\n",
       "      <th>lesson</th>\n",
       "      <th>hour</th>\n",
       "    </tr>\n",
       "  </thead>\n",
       "  <tbody>\n",
       "    <tr>\n",
       "      <th>111</th>\n",
       "      <td>2018-01-26 11:36:00</td>\n",
       "      <td>mkdocs/search_index.json</td>\n",
       "      <td>97.105.19.61</td>\n",
       "      <td>25</td>\n",
       "      <td>2.0</td>\n",
       "      <td>Web Development</td>\n",
       "      <td>Teddy</td>\n",
       "      <td>2018-01-08</td>\n",
       "      <td>2018-05-17</td>\n",
       "      <td>mkdocs.search_index.json</td>\n",
       "      <td>11</td>\n",
       "    </tr>\n",
       "    <tr>\n",
       "      <th>124</th>\n",
       "      <td>2018-01-26 11:41:09</td>\n",
       "      <td>javascript-i/functions</td>\n",
       "      <td>97.105.19.61</td>\n",
       "      <td>25</td>\n",
       "      <td>2.0</td>\n",
       "      <td>Web Development</td>\n",
       "      <td>Teddy</td>\n",
       "      <td>2018-01-08</td>\n",
       "      <td>2018-05-17</td>\n",
       "      <td>javascript-i.functions</td>\n",
       "      <td>11</td>\n",
       "    </tr>\n",
       "  </tbody>\n",
       "</table>\n",
       "</div>"
      ],
      "text/plain": [
       "               accessed                      path            ip  user_id  \\\n",
       "111 2018-01-26 11:36:00  mkdocs/search_index.json  97.105.19.61       25   \n",
       "124 2018-01-26 11:41:09    javascript-i/functions  97.105.19.61       25   \n",
       "\n",
       "     program_id     program_type cohort start_date   end_date  \\\n",
       "111         2.0  Web Development  Teddy 2018-01-08 2018-05-17   \n",
       "124         2.0  Web Development  Teddy 2018-01-08 2018-05-17   \n",
       "\n",
       "                       lesson  hour  \n",
       "111  mkdocs.search_index.json    11  \n",
       "124    javascript-i.functions    11  "
      ]
     },
     "execution_count": 5,
     "metadata": {},
     "output_type": "execute_result"
    }
   ],
   "source": [
    "#looking at outlier datasets: df_multicohort (only holds outliers that have multicohorts in data)\n",
    "df_multicohort.head(2)"
   ]
  },
  {
   "cell_type": "code",
   "execution_count": 6,
   "id": "b2691d49",
   "metadata": {},
   "outputs": [
    {
     "data": {
      "text/html": [
       "<div>\n",
       "<style scoped>\n",
       "    .dataframe tbody tr th:only-of-type {\n",
       "        vertical-align: middle;\n",
       "    }\n",
       "\n",
       "    .dataframe tbody tr th {\n",
       "        vertical-align: top;\n",
       "    }\n",
       "\n",
       "    .dataframe thead th {\n",
       "        text-align: right;\n",
       "    }\n",
       "</style>\n",
       "<table border=\"1\" class=\"dataframe\">\n",
       "  <thead>\n",
       "    <tr style=\"text-align: right;\">\n",
       "      <th></th>\n",
       "      <th>accessed</th>\n",
       "      <th>path</th>\n",
       "      <th>ip</th>\n",
       "      <th>user_id</th>\n",
       "      <th>program_id</th>\n",
       "      <th>program_type</th>\n",
       "      <th>cohort</th>\n",
       "      <th>start_date</th>\n",
       "      <th>end_date</th>\n",
       "      <th>lesson</th>\n",
       "      <th>hour</th>\n",
       "    </tr>\n",
       "  </thead>\n",
       "  <tbody>\n",
       "    <tr>\n",
       "      <th>965</th>\n",
       "      <td>2018-01-28 23:42:55</td>\n",
       "      <td>/</td>\n",
       "      <td>24.160.159.122</td>\n",
       "      <td>54</td>\n",
       "      <td>NaN</td>\n",
       "      <td>Data Science</td>\n",
       "      <td>NaN</td>\n",
       "      <td>NaT</td>\n",
       "      <td>NaT</td>\n",
       "      <td>.</td>\n",
       "      <td>23</td>\n",
       "    </tr>\n",
       "    <tr>\n",
       "      <th>966</th>\n",
       "      <td>2018-01-28 23:43:12</td>\n",
       "      <td>spring/extra-features</td>\n",
       "      <td>24.160.159.122</td>\n",
       "      <td>54</td>\n",
       "      <td>NaN</td>\n",
       "      <td>Data Science</td>\n",
       "      <td>NaN</td>\n",
       "      <td>NaT</td>\n",
       "      <td>NaT</td>\n",
       "      <td>spring.extra-features</td>\n",
       "      <td>23</td>\n",
       "    </tr>\n",
       "  </tbody>\n",
       "</table>\n",
       "</div>"
      ],
      "text/plain": [
       "               accessed                   path              ip  user_id  \\\n",
       "965 2018-01-28 23:42:55                      /  24.160.159.122       54   \n",
       "966 2018-01-28 23:43:12  spring/extra-features  24.160.159.122       54   \n",
       "\n",
       "     program_id  program_type cohort start_date end_date  \\\n",
       "965         NaN  Data Science    NaN        NaT      NaT   \n",
       "966         NaN  Data Science    NaN        NaT      NaT   \n",
       "\n",
       "                    lesson  hour  \n",
       "965                      .    23  \n",
       "966  spring.extra-features    23  "
      ]
     },
     "execution_count": 6,
     "metadata": {},
     "output_type": "execute_result"
    }
   ],
   "source": [
    "#looking at outlier datasets: df_unimputed (only holds df w/o imputes)\n",
    "df_unimputed.head(2)"
   ]
  },
  {
   "cell_type": "code",
   "execution_count": 7,
   "id": "67a03298",
   "metadata": {},
   "outputs": [
    {
     "data": {
      "text/html": [
       "<div>\n",
       "<style scoped>\n",
       "    .dataframe tbody tr th:only-of-type {\n",
       "        vertical-align: middle;\n",
       "    }\n",
       "\n",
       "    .dataframe tbody tr th {\n",
       "        vertical-align: top;\n",
       "    }\n",
       "\n",
       "    .dataframe thead th {\n",
       "        text-align: right;\n",
       "    }\n",
       "</style>\n",
       "<table border=\"1\" class=\"dataframe\">\n",
       "  <thead>\n",
       "    <tr style=\"text-align: right;\">\n",
       "      <th></th>\n",
       "      <th>accessed</th>\n",
       "      <th>path</th>\n",
       "      <th>ip</th>\n",
       "      <th>user_id</th>\n",
       "      <th>program_id</th>\n",
       "      <th>program_type</th>\n",
       "      <th>cohort</th>\n",
       "      <th>start_date</th>\n",
       "      <th>end_date</th>\n",
       "      <th>lesson</th>\n",
       "      <th>hour</th>\n",
       "    </tr>\n",
       "  </thead>\n",
       "  <tbody>\n",
       "    <tr>\n",
       "      <th>0</th>\n",
       "      <td>2018-01-26 09:55:03</td>\n",
       "      <td>/</td>\n",
       "      <td>97.105.19.61</td>\n",
       "      <td>1</td>\n",
       "      <td>1.0</td>\n",
       "      <td>Web Development</td>\n",
       "      <td>Hampton</td>\n",
       "      <td>2015-09-22</td>\n",
       "      <td>2016-02-06</td>\n",
       "      <td>.</td>\n",
       "      <td>9</td>\n",
       "    </tr>\n",
       "    <tr>\n",
       "      <th>12</th>\n",
       "      <td>2018-01-26 10:00:37</td>\n",
       "      <td>/</td>\n",
       "      <td>97.105.19.61</td>\n",
       "      <td>6</td>\n",
       "      <td>2.0</td>\n",
       "      <td>Web Development</td>\n",
       "      <td>Teddy</td>\n",
       "      <td>2018-01-08</td>\n",
       "      <td>2018-05-17</td>\n",
       "      <td>.</td>\n",
       "      <td>10</td>\n",
       "    </tr>\n",
       "  </tbody>\n",
       "</table>\n",
       "</div>"
      ],
      "text/plain": [
       "              accessed path            ip  user_id  program_id  \\\n",
       "0  2018-01-26 09:55:03    /  97.105.19.61        1         1.0   \n",
       "12 2018-01-26 10:00:37    /  97.105.19.61        6         2.0   \n",
       "\n",
       "       program_type   cohort start_date   end_date lesson  hour  \n",
       "0   Web Development  Hampton 2015-09-22 2016-02-06      .     9  \n",
       "12  Web Development    Teddy 2018-01-08 2018-05-17      .    10  "
      ]
     },
     "execution_count": 7,
     "metadata": {},
     "output_type": "execute_result"
    }
   ],
   "source": [
    "#looking at outlier datasets: df_non_curriculum (only holds outliers with no lessons)\n",
    "df_non_curriculum.head(2)"
   ]
  },
  {
   "cell_type": "code",
   "execution_count": 8,
   "id": "ebc9fe9b",
   "metadata": {},
   "outputs": [
    {
     "data": {
      "text/html": [
       "<div>\n",
       "<style scoped>\n",
       "    .dataframe tbody tr th:only-of-type {\n",
       "        vertical-align: middle;\n",
       "    }\n",
       "\n",
       "    .dataframe tbody tr th {\n",
       "        vertical-align: top;\n",
       "    }\n",
       "\n",
       "    .dataframe thead th {\n",
       "        text-align: right;\n",
       "    }\n",
       "</style>\n",
       "<table border=\"1\" class=\"dataframe\">\n",
       "  <thead>\n",
       "    <tr style=\"text-align: right;\">\n",
       "      <th></th>\n",
       "      <th>accessed</th>\n",
       "      <th>path</th>\n",
       "      <th>ip</th>\n",
       "      <th>user_id</th>\n",
       "      <th>program_id</th>\n",
       "      <th>program_type</th>\n",
       "      <th>cohort</th>\n",
       "      <th>start_date</th>\n",
       "      <th>end_date</th>\n",
       "      <th>lesson</th>\n",
       "      <th>hour</th>\n",
       "    </tr>\n",
       "  </thead>\n",
       "  <tbody>\n",
       "    <tr>\n",
       "      <th>6</th>\n",
       "      <td>2018-01-26 09:56:46</td>\n",
       "      <td>javascript-i/conditionals</td>\n",
       "      <td>97.105.19.61</td>\n",
       "      <td>3</td>\n",
       "      <td>2.0</td>\n",
       "      <td>Web Development</td>\n",
       "      <td>Teddy</td>\n",
       "      <td>2018-01-08</td>\n",
       "      <td>2018-05-17</td>\n",
       "      <td>javascript-i.conditionals</td>\n",
       "      <td>9</td>\n",
       "    </tr>\n",
       "    <tr>\n",
       "      <th>7</th>\n",
       "      <td>2018-01-26 09:56:48</td>\n",
       "      <td>javascript-i/functions</td>\n",
       "      <td>97.105.19.61</td>\n",
       "      <td>3</td>\n",
       "      <td>2.0</td>\n",
       "      <td>Web Development</td>\n",
       "      <td>Teddy</td>\n",
       "      <td>2018-01-08</td>\n",
       "      <td>2018-05-17</td>\n",
       "      <td>javascript-i.functions</td>\n",
       "      <td>9</td>\n",
       "    </tr>\n",
       "  </tbody>\n",
       "</table>\n",
       "</div>"
      ],
      "text/plain": [
       "             accessed                       path            ip  user_id  \\\n",
       "6 2018-01-26 09:56:46  javascript-i/conditionals  97.105.19.61        3   \n",
       "7 2018-01-26 09:56:48     javascript-i/functions  97.105.19.61        3   \n",
       "\n",
       "   program_id     program_type cohort start_date   end_date  \\\n",
       "6         2.0  Web Development  Teddy 2018-01-08 2018-05-17   \n",
       "7         2.0  Web Development  Teddy 2018-01-08 2018-05-17   \n",
       "\n",
       "                      lesson  hour  \n",
       "6  javascript-i.conditionals     9  \n",
       "7     javascript-i.functions     9  "
      ]
     },
     "execution_count": 8,
     "metadata": {},
     "output_type": "execute_result"
    }
   ],
   "source": [
    "#looking at outlier datasets: df_outliers (only holds datasets that were seen as outliers)\n",
    "df_outliers.head(2)"
   ]
  },
  {
   "cell_type": "markdown",
   "id": "6f6ca2a0",
   "metadata": {},
   "source": [
    "Creating a column to show True or False if accessed data is during the user's cohort dates (accessed when active)."
   ]
  },
  {
   "cell_type": "code",
   "execution_count": 9,
   "id": "b0a68807",
   "metadata": {},
   "outputs": [
    {
     "data": {
      "text/html": [
       "<div>\n",
       "<style scoped>\n",
       "    .dataframe tbody tr th:only-of-type {\n",
       "        vertical-align: middle;\n",
       "    }\n",
       "\n",
       "    .dataframe tbody tr th {\n",
       "        vertical-align: top;\n",
       "    }\n",
       "\n",
       "    .dataframe thead th {\n",
       "        text-align: right;\n",
       "    }\n",
       "</style>\n",
       "<table border=\"1\" class=\"dataframe\">\n",
       "  <thead>\n",
       "    <tr style=\"text-align: right;\">\n",
       "      <th></th>\n",
       "      <th>accessed</th>\n",
       "      <th>path</th>\n",
       "      <th>ip</th>\n",
       "      <th>user_id</th>\n",
       "      <th>program_id</th>\n",
       "      <th>program_type</th>\n",
       "      <th>cohort</th>\n",
       "      <th>start_date</th>\n",
       "      <th>end_date</th>\n",
       "      <th>lesson</th>\n",
       "      <th>hour</th>\n",
       "      <th>is_active</th>\n",
       "    </tr>\n",
       "  </thead>\n",
       "  <tbody>\n",
       "    <tr>\n",
       "      <th>1</th>\n",
       "      <td>2018-01-26 09:56:02</td>\n",
       "      <td>java-ii</td>\n",
       "      <td>97.105.19.61</td>\n",
       "      <td>1</td>\n",
       "      <td>1.0</td>\n",
       "      <td>Web Development</td>\n",
       "      <td>Hampton</td>\n",
       "      <td>2015-09-22</td>\n",
       "      <td>2016-02-06</td>\n",
       "      <td>Not Lesson</td>\n",
       "      <td>9</td>\n",
       "      <td>False</td>\n",
       "    </tr>\n",
       "    <tr>\n",
       "      <th>2</th>\n",
       "      <td>2018-01-26 09:56:05</td>\n",
       "      <td>java-ii/object-oriented-programming</td>\n",
       "      <td>97.105.19.61</td>\n",
       "      <td>1</td>\n",
       "      <td>1.0</td>\n",
       "      <td>Web Development</td>\n",
       "      <td>Hampton</td>\n",
       "      <td>2015-09-22</td>\n",
       "      <td>2016-02-06</td>\n",
       "      <td>java-ii.object-oriented-programming</td>\n",
       "      <td>9</td>\n",
       "      <td>False</td>\n",
       "    </tr>\n",
       "  </tbody>\n",
       "</table>\n",
       "</div>"
      ],
      "text/plain": [
       "             accessed                                 path            ip  \\\n",
       "1 2018-01-26 09:56:02                              java-ii  97.105.19.61   \n",
       "2 2018-01-26 09:56:05  java-ii/object-oriented-programming  97.105.19.61   \n",
       "\n",
       "   user_id  program_id     program_type   cohort start_date   end_date  \\\n",
       "1        1         1.0  Web Development  Hampton 2015-09-22 2016-02-06   \n",
       "2        1         1.0  Web Development  Hampton 2015-09-22 2016-02-06   \n",
       "\n",
       "                                lesson  hour  is_active  \n",
       "1                           Not Lesson     9      False  \n",
       "2  java-ii.object-oriented-programming     9      False  "
      ]
     },
     "execution_count": 9,
     "metadata": {},
     "output_type": "execute_result"
    }
   ],
   "source": [
    "df['is_active'] = (df.accessed >= df.start_date) & (df.accessed <= df.end_date)\n",
    "df.head(2)"
   ]
  },
  {
   "cell_type": "markdown",
   "id": "9fc98811",
   "metadata": {},
   "source": [
    "#### Sorting WebDev and DS into different objects to explore:"
   ]
  },
  {
   "cell_type": "code",
   "execution_count": 10,
   "id": "45dabaf3",
   "metadata": {},
   "outputs": [],
   "source": [
    "#splitting webdev and datascience into two different df:\n",
    "wd = df[df.program_type != 'Data Science']\n",
    "ds = df[df.program_type == 'Data Science']"
   ]
  },
  {
   "cell_type": "code",
   "execution_count": 11,
   "id": "e9e11656",
   "metadata": {},
   "outputs": [
    {
     "data": {
      "text/plain": [
       "accessed        datetime64[ns]\n",
       "path                    object\n",
       "ip                      object\n",
       "user_id                  int64\n",
       "program_id             float64\n",
       "program_type            object\n",
       "cohort                  object\n",
       "start_date      datetime64[ns]\n",
       "end_date        datetime64[ns]\n",
       "lesson                  object\n",
       "hour                     int64\n",
       "is_active                 bool\n",
       "dtype: object"
      ]
     },
     "execution_count": 11,
     "metadata": {},
     "output_type": "execute_result"
    }
   ],
   "source": [
    "df.dtypes"
   ]
  },
  {
   "cell_type": "code",
   "execution_count": 12,
   "id": "1429886b",
   "metadata": {},
   "outputs": [],
   "source": [
    "#active_programtypes_KDE()"
   ]
  },
  {
   "cell_type": "markdown",
   "id": "f84380b9",
   "metadata": {},
   "source": [
    "#### Showing students that were actively accessing the curriculum during their cohort dates:"
   ]
  },
  {
   "cell_type": "code",
   "execution_count": 13,
   "id": "83ef3980",
   "metadata": {},
   "outputs": [],
   "source": [
    "#splitting cohorts into program types:\n",
    "#Ray's code to filter dataframe for time where students are active during their programs\n",
    "# Filter dataframe for the time when student were 'active' for each program\n",
    "active_wd = wd.loc[(wd.accessed >= wd.start_date) & (wd.accessed <= wd.end_date)]\n",
    "active_ds = ds.loc[(ds.accessed >= ds.start_date) & (ds.accessed <= ds.end_date)]"
   ]
  },
  {
   "cell_type": "code",
   "execution_count": 14,
   "id": "f9baf424",
   "metadata": {},
   "outputs": [
    {
     "name": "stdout",
     "output_type": "stream",
     "text": [
      "Number of active WebDev students during their cohort dates: 383608\n",
      "Number of active DataScience students during their cohort dates: 53912\n"
     ]
    }
   ],
   "source": [
    "#number of active wb students compared to ds students:\n",
    "print(f'Number of active WebDev students during their cohort dates:', active_wd.value_counts().sum())\n",
    "print(f'Number of active DataScience students during their cohort dates:', active_ds.value_counts().sum())"
   ]
  },
  {
   "cell_type": "code",
   "execution_count": 15,
   "id": "7e04f78a",
   "metadata": {},
   "outputs": [],
   "source": [
    "#creating a function to run other dfs through, to check what active ds students are missing...\n",
    "#def lost_ds(df):\n",
    "    #wd = df[df.program_type != 'Data Science']\n",
    "    #ds = df[df.program_type == 'Data Science']\n",
    "    #active_wd = wd.loc[(wd.index >= wd.start_date) & (wd.index <= wd.end_date)]\n",
    "    #active_ds = ds.loc[(ds.index >= ds.start_date) & (ds.index <= ds.end_date)]\n",
    "    #number of active wb students compared to ds students:\n",
    "    #print(f'Number of active WebDev students during their cohort dates:', active_wd.value_counts().sum())\n",
    "    #print(f'Number of active DataScience students during their cohort dates:', active_ds.value_counts().sum())"
   ]
  },
  {
   "cell_type": "markdown",
   "id": "1ceb63d3",
   "metadata": {},
   "source": [
    "__________________________________________"
   ]
  },
  {
   "cell_type": "markdown",
   "id": "8ef6b35e",
   "metadata": {},
   "source": [
    "### 3. Are there students who, when active, hardly access the curriculum? If so, what information do you have about these students?\n",
    "Active students that do not engage with curriculum?\n",
    "\n",
    "user_id frequency counts\n",
    "current dates of cohorts\n",
    "ip addresses?"
   ]
  },
  {
   "cell_type": "markdown",
   "id": "04c87712",
   "metadata": {},
   "source": [
    "### Active Students with low curriculum access during each program:"
   ]
  },
  {
   "cell_type": "markdown",
   "id": "54d4b31f",
   "metadata": {},
   "source": [
    "#### WEB DEV:"
   ]
  },
  {
   "cell_type": "code",
   "execution_count": 16,
   "id": "3da0aa80",
   "metadata": {},
   "outputs": [
    {
     "data": {
      "text/plain": [
       "user_id\n",
       "278     3\n",
       "340    13\n",
       "963    15\n",
       "41     22\n",
       "371    24\n",
       "529    29\n",
       "967    30\n",
       "978    32\n",
       "36     36\n",
       "57     42\n",
       "543    43\n",
       "56     44\n",
       "45     51\n",
       "46     51\n",
       "975    59\n",
       "969    60\n",
       "65     63\n",
       "250    63\n",
       "33     63\n",
       "253    71\n",
       "dtype: int64"
      ]
     },
     "execution_count": 16,
     "metadata": {},
     "output_type": "execute_result"
    }
   ],
   "source": [
    "#webdev students with lowest log access count:\n",
    "hardly_access_wd = active_wd.groupby('user_id').size().sort_values().head(20)\n",
    "hardly_access_wd"
   ]
  },
  {
   "cell_type": "code",
   "execution_count": 17,
   "id": "59b34b47",
   "metadata": {},
   "outputs": [
    {
     "data": {
      "image/png": "[encoded data removed]",
      "text/plain": [
       "<Figure size 720x360 with 1 Axes>"
      ]
     },
     "metadata": {
      "needs_background": "light"
     },
     "output_type": "display_data"
    }
   ],
   "source": [
    "#histogram of these users under 20 logged access dates:\n",
    "user_id_count = active_wd.groupby('user_id').size().sort_values()\n",
    "user_id_count = user_id_count[:20]\n",
    "plt.figure(figsize=(10,5))\n",
    "sns.barplot(user_id_count.index, user_id_count.values, alpha=0.8)\n",
    "plt.title ('Top 20 users with the lowest access counts while active Web Dev students')\n",
    "plt.ylabel('Number of Occurences')\n",
    "plt.xlabel('User Id', fontsize=12)\n",
    "plt.show()"
   ]
  },
  {
   "cell_type": "markdown",
   "id": "de73c44b",
   "metadata": {},
   "source": [
    "# Data Science:"
   ]
  },
  {
   "cell_type": "code",
   "execution_count": 18,
   "id": "0ca8804d",
   "metadata": {},
   "outputs": [
    {
     "data": {
      "text/plain": [
       "user_id\n",
       "902    118\n",
       "780    145\n",
       "577    190\n",
       "901    201\n",
       "683    205\n",
       "914    235\n",
       "897    241\n",
       "949    288\n",
       "846    288\n",
       "48     311\n",
       "910    313\n",
       "477    327\n",
       "907    328\n",
       "693    345\n",
       "896    354\n",
       "575    355\n",
       "583    356\n",
       "731    364\n",
       "470    365\n",
       "587    372\n",
       "dtype: int64"
      ]
     },
     "execution_count": 18,
     "metadata": {},
     "output_type": "execute_result"
    }
   ],
   "source": [
    "#looking at ds active students that had lowest curriculum log access counts\n",
    "hardly_access_ds = active_ds.groupby('user_id').size().sort_values().head(20)\n",
    "hardly_access_ds"
   ]
  },
  {
   "cell_type": "code",
   "execution_count": 19,
   "id": "0dc19ed0",
   "metadata": {},
   "outputs": [
    {
     "data": {
      "image/png": "[encoded data removed]",
      "text/plain": [
       "<Figure size 720x360 with 1 Axes>"
      ]
     },
     "metadata": {
      "needs_background": "light"
     },
     "output_type": "display_data"
    }
   ],
   "source": [
    "#histogram of these 3 users under 114 access logs on curriculum:\n",
    "user_id_count1 = active_ds.groupby('user_id').size().sort_values()\n",
    "user_id_count1 = user_id_count1[:20]\n",
    "plt.figure(figsize=(10,5))\n",
    "sns.barplot(user_id_count1.index, user_id_count1.values, alpha=0.8)\n",
    "plt.title ('Top 20 users with the lowest access counts while active Data Science students')\n",
    "plt.ylabel('Number of Occurences')\n",
    "plt.xlabel('User Id', fontsize=15)\n",
    "plt.show()"
   ]
  },
  {
   "cell_type": "markdown",
   "id": "429d9348",
   "metadata": {},
   "source": [
    "#### Putting cohorts side-by-side:"
   ]
  },
  {
   "cell_type": "code",
   "execution_count": 68,
   "id": "e06bb874",
   "metadata": {},
   "outputs": [
    {
     "data": {
      "text/plain": [
       "<AxesSubplot:xlabel='accessed', ylabel='program_id'>"
      ]
     },
     "execution_count": 68,
     "metadata": {},
     "output_type": "execute_result"
    },
    {
     "data": {
      "image/png": "[encoded data removed]",
      "text/plain": [
       "<Figure size 720x576 with 1 Axes>"
      ]
     },
     "metadata": {},
     "output_type": "display_data"
    }
   ],
   "source": [
    "sample = df.sample(50000)\n",
    "sns.set_style('whitegrid')\n",
    "plt.figure(figsize=(10,8))\n",
    "sns.kdeplot(x='accessed', y='program_id', hue='is_active', \n",
    "            data=sample, n_levels=10,\n",
    "           shade = False, shade_lowest=False, ylabel=\"Program id (1=Webdev 2=Webdev 3=DataScience)\")"
   ]
  },
  {
   "cell_type": "code",
   "execution_count": 90,
   "id": "4c02f547",
   "metadata": {},
   "outputs": [
    {
     "data": {
      "text/plain": [
       "Text(0, 0.5, 'Programs: 1-WebDev, 2-WebDev, 3-DataSc')"
      ]
     },
     "execution_count": 90,
     "metadata": {},
     "output_type": "execute_result"
    },
    {
     "data": {
      "image/png": "[encoded data removed]",
      "text/plain": [
       "<Figure size 720x576 with 1 Axes>"
      ]
     },
     "metadata": {},
     "output_type": "display_data"
    }
   ],
   "source": [
    "#sns.kdeplot(df.accessed, df.program_id, with hue of is_active or not)\n",
    "sample = df.sample(20000)\n",
    "plt.figure(figsize=(10,8))\n",
    "sns.scatterplot(sample.accessed, sample.program_id, hue=sample.is_active, alpha=0.8)\n",
    "plt.xlabel('Access Dates', fontsize=16)\n",
    "plt.ylabel('Programs: 1-WebDev, 2-WebDev, 3-DataSc', fontsize=16)"
   ]
  },
  {
   "cell_type": "code",
   "execution_count": 98,
   "id": "111fcaf8",
   "metadata": {},
   "outputs": [],
   "source": [
    "def active_programtypes_KDE():\n",
    "    active_wd = wd.loc[(wd.accessed >= wd.start_date) & (wd.accessed <= wd.end_date)]\n",
    "    active_ds = ds.loc[(ds.accessed >= ds.start_date) & (ds.accessed <= ds.end_date)]\n",
    "    \n",
    "    plt.figure(figsize = (12, 7))\n",
    "\n",
    "    sns.kdeplot(active_wd, df.accessed, label = 'WebDev students access counts', shade = True, color = 'r')\n",
    "    sns.kdeplot(active_ds, df.accessed, label = 'DS students access counts', shade = True, color = 'b')\n",
    "\n",
    "    plt.xlabel('Active Students log access counts')"
   ]
  },
  {
   "cell_type": "code",
   "execution_count": 99,
   "id": "8fc9c19f",
   "metadata": {},
   "outputs": [
    {
     "ename": "ValueError",
     "evalue": "Buffer has wrong number of dimensions (expected 1, got 2)",
     "output_type": "error",
     "traceback": [
      "\u001b[0;31m---------------------------------------------------------------------------\u001b[0m",
      "\u001b[0;31mValueError\u001b[0m                                Traceback (most recent call last)",
      "\u001b[0;32m/var/folders/d3/11nygz6126ndxvtrp12687680000gn/T/ipykernel_67245/2685499987.py\u001b[0m in \u001b[0;36m<module>\u001b[0;34m\u001b[0m\n\u001b[0;32m----> 1\u001b[0;31m \u001b[0mactive_programtypes_KDE\u001b[0m\u001b[0;34m(\u001b[0m\u001b[0;34m)\u001b[0m\u001b[0;34m\u001b[0m\u001b[0;34m\u001b[0m\u001b[0m\n\u001b[0m",
      "\u001b[0;32m/var/folders/d3/11nygz6126ndxvtrp12687680000gn/T/ipykernel_67245/2421869720.py\u001b[0m in \u001b[0;36mactive_programtypes_KDE\u001b[0;34m()\u001b[0m\n\u001b[1;32m      5\u001b[0m     \u001b[0mplt\u001b[0m\u001b[0;34m.\u001b[0m\u001b[0mfigure\u001b[0m\u001b[0;34m(\u001b[0m\u001b[0mfigsize\u001b[0m \u001b[0;34m=\u001b[0m \u001b[0;34m(\u001b[0m\u001b[0;36m12\u001b[0m\u001b[0;34m,\u001b[0m \u001b[0;36m7\u001b[0m\u001b[0;34m)\u001b[0m\u001b[0;34m)\u001b[0m\u001b[0;34m\u001b[0m\u001b[0;34m\u001b[0m\u001b[0m\n\u001b[1;32m      6\u001b[0m \u001b[0;34m\u001b[0m\u001b[0m\n\u001b[0;32m----> 7\u001b[0;31m     \u001b[0msns\u001b[0m\u001b[0;34m.\u001b[0m\u001b[0mkdeplot\u001b[0m\u001b[0;34m(\u001b[0m\u001b[0mactive_wd\u001b[0m\u001b[0;34m,\u001b[0m \u001b[0mdf\u001b[0m\u001b[0;34m.\u001b[0m\u001b[0maccessed\u001b[0m\u001b[0;34m,\u001b[0m \u001b[0mlabel\u001b[0m \u001b[0;34m=\u001b[0m \u001b[0;34m'WebDev students access counts'\u001b[0m\u001b[0;34m,\u001b[0m \u001b[0mshade\u001b[0m \u001b[0;34m=\u001b[0m \u001b[0;32mTrue\u001b[0m\u001b[0;34m,\u001b[0m \u001b[0mcolor\u001b[0m \u001b[0;34m=\u001b[0m \u001b[0;34m'r'\u001b[0m\u001b[0;34m)\u001b[0m\u001b[0;34m\u001b[0m\u001b[0;34m\u001b[0m\u001b[0m\n\u001b[0m\u001b[1;32m      8\u001b[0m     \u001b[0msns\u001b[0m\u001b[0;34m.\u001b[0m\u001b[0mkdeplot\u001b[0m\u001b[0;34m(\u001b[0m\u001b[0mactive_ds\u001b[0m\u001b[0;34m,\u001b[0m \u001b[0mdf\u001b[0m\u001b[0;34m.\u001b[0m\u001b[0maccessed\u001b[0m\u001b[0;34m,\u001b[0m \u001b[0mlabel\u001b[0m \u001b[0;34m=\u001b[0m \u001b[0;34m'DS students access counts'\u001b[0m\u001b[0;34m,\u001b[0m \u001b[0mshade\u001b[0m \u001b[0;34m=\u001b[0m \u001b[0;32mTrue\u001b[0m\u001b[0;34m,\u001b[0m \u001b[0mcolor\u001b[0m \u001b[0;34m=\u001b[0m \u001b[0;34m'b'\u001b[0m\u001b[0;34m)\u001b[0m\u001b[0;34m\u001b[0m\u001b[0;34m\u001b[0m\u001b[0m\n\u001b[1;32m      9\u001b[0m \u001b[0;34m\u001b[0m\u001b[0m\n",
      "\u001b[0;32m/usr/local/anaconda3/lib/python3.9/site-packages/seaborn/_decorators.py\u001b[0m in \u001b[0;36minner_f\u001b[0;34m(*args, **kwargs)\u001b[0m\n\u001b[1;32m     44\u001b[0m             )\n\u001b[1;32m     45\u001b[0m         \u001b[0mkwargs\u001b[0m\u001b[0;34m.\u001b[0m\u001b[0mupdate\u001b[0m\u001b[0;34m(\u001b[0m\u001b[0;34m{\u001b[0m\u001b[0mk\u001b[0m\u001b[0;34m:\u001b[0m \u001b[0marg\u001b[0m \u001b[0;32mfor\u001b[0m \u001b[0mk\u001b[0m\u001b[0;34m,\u001b[0m \u001b[0marg\u001b[0m \u001b[0;32min\u001b[0m \u001b[0mzip\u001b[0m\u001b[0;34m(\u001b[0m\u001b[0msig\u001b[0m\u001b[0;34m.\u001b[0m\u001b[0mparameters\u001b[0m\u001b[0;34m,\u001b[0m \u001b[0margs\u001b[0m\u001b[0;34m)\u001b[0m\u001b[0;34m}\u001b[0m\u001b[0;34m)\u001b[0m\u001b[0;34m\u001b[0m\u001b[0;34m\u001b[0m\u001b[0m\n\u001b[0;32m---> 46\u001b[0;31m         \u001b[0;32mreturn\u001b[0m \u001b[0mf\u001b[0m\u001b[0;34m(\u001b[0m\u001b[0;34m**\u001b[0m\u001b[0mkwargs\u001b[0m\u001b[0;34m)\u001b[0m\u001b[0;34m\u001b[0m\u001b[0;34m\u001b[0m\u001b[0m\n\u001b[0m\u001b[1;32m     47\u001b[0m     \u001b[0;32mreturn\u001b[0m \u001b[0minner_f\u001b[0m\u001b[0;34m\u001b[0m\u001b[0;34m\u001b[0m\u001b[0m\n\u001b[1;32m     48\u001b[0m \u001b[0;34m\u001b[0m\u001b[0m\n",
      "\u001b[0;32m/usr/local/anaconda3/lib/python3.9/site-packages/seaborn/distributions.py\u001b[0m in \u001b[0;36mkdeplot\u001b[0;34m(x, y, shade, vertical, kernel, bw, gridsize, cut, clip, legend, cumulative, shade_lowest, cbar, cbar_ax, cbar_kws, ax, weights, hue, palette, hue_order, hue_norm, multiple, common_norm, common_grid, levels, thresh, bw_method, bw_adjust, log_scale, color, fill, data, data2, warn_singular, **kwargs)\u001b[0m\n\u001b[1;32m   1736\u001b[0m     \u001b[0;31m# - - - - - - - - - - - - - - - - - - - - - - - - - - - - - - - - - - - - #\u001b[0m\u001b[0;34m\u001b[0m\u001b[0;34m\u001b[0m\u001b[0m\n\u001b[1;32m   1737\u001b[0m \u001b[0;34m\u001b[0m\u001b[0m\n\u001b[0;32m-> 1738\u001b[0;31m     p = _DistributionPlotter(\n\u001b[0m\u001b[1;32m   1739\u001b[0m         \u001b[0mdata\u001b[0m\u001b[0;34m=\u001b[0m\u001b[0mdata\u001b[0m\u001b[0;34m,\u001b[0m\u001b[0;34m\u001b[0m\u001b[0;34m\u001b[0m\u001b[0m\n\u001b[1;32m   1740\u001b[0m         \u001b[0mvariables\u001b[0m\u001b[0;34m=\u001b[0m\u001b[0m_DistributionPlotter\u001b[0m\u001b[0;34m.\u001b[0m\u001b[0mget_semantics\u001b[0m\u001b[0;34m(\u001b[0m\u001b[0mlocals\u001b[0m\u001b[0;34m(\u001b[0m\u001b[0;34m)\u001b[0m\u001b[0;34m)\u001b[0m\u001b[0;34m,\u001b[0m\u001b[0;34m\u001b[0m\u001b[0;34m\u001b[0m\u001b[0m\n",
      "\u001b[0;32m/usr/local/anaconda3/lib/python3.9/site-packages/seaborn/distributions.py\u001b[0m in \u001b[0;36m__init__\u001b[0;34m(self, data, variables)\u001b[0m\n\u001b[1;32m    109\u001b[0m     ):\n\u001b[1;32m    110\u001b[0m \u001b[0;34m\u001b[0m\u001b[0m\n\u001b[0;32m--> 111\u001b[0;31m         \u001b[0msuper\u001b[0m\u001b[0;34m(\u001b[0m\u001b[0;34m)\u001b[0m\u001b[0;34m.\u001b[0m\u001b[0m__init__\u001b[0m\u001b[0;34m(\u001b[0m\u001b[0mdata\u001b[0m\u001b[0;34m=\u001b[0m\u001b[0mdata\u001b[0m\u001b[0;34m,\u001b[0m \u001b[0mvariables\u001b[0m\u001b[0;34m=\u001b[0m\u001b[0mvariables\u001b[0m\u001b[0;34m)\u001b[0m\u001b[0;34m\u001b[0m\u001b[0;34m\u001b[0m\u001b[0m\n\u001b[0m\u001b[1;32m    112\u001b[0m \u001b[0;34m\u001b[0m\u001b[0m\n\u001b[1;32m    113\u001b[0m     \u001b[0;34m@\u001b[0m\u001b[0mproperty\u001b[0m\u001b[0;34m\u001b[0m\u001b[0;34m\u001b[0m\u001b[0m\n",
      "\u001b[0;32m/usr/local/anaconda3/lib/python3.9/site-packages/seaborn/_core.py\u001b[0m in \u001b[0;36m__init__\u001b[0;34m(self, data, variables)\u001b[0m\n\u001b[1;32m    603\u001b[0m     \u001b[0;32mdef\u001b[0m \u001b[0m__init__\u001b[0m\u001b[0;34m(\u001b[0m\u001b[0mself\u001b[0m\u001b[0;34m,\u001b[0m \u001b[0mdata\u001b[0m\u001b[0;34m=\u001b[0m\u001b[0;32mNone\u001b[0m\u001b[0;34m,\u001b[0m \u001b[0mvariables\u001b[0m\u001b[0;34m=\u001b[0m\u001b[0;34m{\u001b[0m\u001b[0;34m}\u001b[0m\u001b[0;34m)\u001b[0m\u001b[0;34m:\u001b[0m\u001b[0;34m\u001b[0m\u001b[0;34m\u001b[0m\u001b[0m\n\u001b[1;32m    604\u001b[0m \u001b[0;34m\u001b[0m\u001b[0m\n\u001b[0;32m--> 605\u001b[0;31m         \u001b[0mself\u001b[0m\u001b[0;34m.\u001b[0m\u001b[0massign_variables\u001b[0m\u001b[0;34m(\u001b[0m\u001b[0mdata\u001b[0m\u001b[0;34m,\u001b[0m \u001b[0mvariables\u001b[0m\u001b[0;34m)\u001b[0m\u001b[0;34m\u001b[0m\u001b[0;34m\u001b[0m\u001b[0m\n\u001b[0m\u001b[1;32m    606\u001b[0m \u001b[0;34m\u001b[0m\u001b[0m\n\u001b[1;32m    607\u001b[0m         \u001b[0;32mfor\u001b[0m \u001b[0mvar\u001b[0m\u001b[0;34m,\u001b[0m \u001b[0mcls\u001b[0m \u001b[0;32min\u001b[0m \u001b[0mself\u001b[0m\u001b[0;34m.\u001b[0m\u001b[0m_semantic_mappings\u001b[0m\u001b[0;34m.\u001b[0m\u001b[0mitems\u001b[0m\u001b[0;34m(\u001b[0m\u001b[0;34m)\u001b[0m\u001b[0;34m:\u001b[0m\u001b[0;34m\u001b[0m\u001b[0;34m\u001b[0m\u001b[0m\n",
      "\u001b[0;32m/usr/local/anaconda3/lib/python3.9/site-packages/seaborn/_core.py\u001b[0m in \u001b[0;36massign_variables\u001b[0;34m(self, data, variables)\u001b[0m\n\u001b[1;32m    666\u001b[0m         \u001b[0;32melse\u001b[0m\u001b[0;34m:\u001b[0m\u001b[0;34m\u001b[0m\u001b[0;34m\u001b[0m\u001b[0m\n\u001b[1;32m    667\u001b[0m             \u001b[0mself\u001b[0m\u001b[0;34m.\u001b[0m\u001b[0minput_format\u001b[0m \u001b[0;34m=\u001b[0m \u001b[0;34m\"long\"\u001b[0m\u001b[0;34m\u001b[0m\u001b[0;34m\u001b[0m\u001b[0m\n\u001b[0;32m--> 668\u001b[0;31m             plot_data, variables = self._assign_variables_longform(\n\u001b[0m\u001b[1;32m    669\u001b[0m                 \u001b[0mdata\u001b[0m\u001b[0;34m,\u001b[0m \u001b[0;34m**\u001b[0m\u001b[0mvariables\u001b[0m\u001b[0;34m,\u001b[0m\u001b[0;34m\u001b[0m\u001b[0;34m\u001b[0m\u001b[0m\n\u001b[1;32m    670\u001b[0m             )\n",
      "\u001b[0;32m/usr/local/anaconda3/lib/python3.9/site-packages/seaborn/_core.py\u001b[0m in \u001b[0;36m_assign_variables_longform\u001b[0;34m(self, data, **kwargs)\u001b[0m\n\u001b[1;32m    925\u001b[0m         \u001b[0;31m# Construct a tidy plot DataFrame. This will convert a number of\u001b[0m\u001b[0;34m\u001b[0m\u001b[0;34m\u001b[0m\u001b[0m\n\u001b[1;32m    926\u001b[0m         \u001b[0;31m# types automatically, aligning on index in case of pandas objects\u001b[0m\u001b[0;34m\u001b[0m\u001b[0;34m\u001b[0m\u001b[0m\n\u001b[0;32m--> 927\u001b[0;31m         \u001b[0mplot_data\u001b[0m \u001b[0;34m=\u001b[0m \u001b[0mpd\u001b[0m\u001b[0;34m.\u001b[0m\u001b[0mDataFrame\u001b[0m\u001b[0;34m(\u001b[0m\u001b[0mplot_data\u001b[0m\u001b[0;34m)\u001b[0m\u001b[0;34m\u001b[0m\u001b[0;34m\u001b[0m\u001b[0m\n\u001b[0m\u001b[1;32m    928\u001b[0m \u001b[0;34m\u001b[0m\u001b[0m\n\u001b[1;32m    929\u001b[0m         \u001b[0;31m# Reduce the variables dictionary to fields with valid data\u001b[0m\u001b[0;34m\u001b[0m\u001b[0;34m\u001b[0m\u001b[0m\n",
      "\u001b[0;32m/usr/local/anaconda3/lib/python3.9/site-packages/pandas/core/frame.py\u001b[0m in \u001b[0;36m__init__\u001b[0;34m(self, data, index, columns, dtype, copy)\u001b[0m\n\u001b[1;32m    612\u001b[0m         \u001b[0;32melif\u001b[0m \u001b[0misinstance\u001b[0m\u001b[0;34m(\u001b[0m\u001b[0mdata\u001b[0m\u001b[0;34m,\u001b[0m \u001b[0mdict\u001b[0m\u001b[0;34m)\u001b[0m\u001b[0;34m:\u001b[0m\u001b[0;34m\u001b[0m\u001b[0;34m\u001b[0m\u001b[0m\n\u001b[1;32m    613\u001b[0m             \u001b[0;31m# GH#38939 de facto copy defaults to False only in non-dict cases\u001b[0m\u001b[0;34m\u001b[0m\u001b[0;34m\u001b[0m\u001b[0m\n\u001b[0;32m--> 614\u001b[0;31m             \u001b[0mmgr\u001b[0m \u001b[0;34m=\u001b[0m \u001b[0mdict_to_mgr\u001b[0m\u001b[0;34m(\u001b[0m\u001b[0mdata\u001b[0m\u001b[0;34m,\u001b[0m \u001b[0mindex\u001b[0m\u001b[0;34m,\u001b[0m \u001b[0mcolumns\u001b[0m\u001b[0;34m,\u001b[0m \u001b[0mdtype\u001b[0m\u001b[0;34m=\u001b[0m\u001b[0mdtype\u001b[0m\u001b[0;34m,\u001b[0m \u001b[0mcopy\u001b[0m\u001b[0;34m=\u001b[0m\u001b[0mcopy\u001b[0m\u001b[0;34m,\u001b[0m \u001b[0mtyp\u001b[0m\u001b[0;34m=\u001b[0m\u001b[0mmanager\u001b[0m\u001b[0;34m)\u001b[0m\u001b[0;34m\u001b[0m\u001b[0;34m\u001b[0m\u001b[0m\n\u001b[0m\u001b[1;32m    615\u001b[0m         \u001b[0;32melif\u001b[0m \u001b[0misinstance\u001b[0m\u001b[0;34m(\u001b[0m\u001b[0mdata\u001b[0m\u001b[0;34m,\u001b[0m \u001b[0mma\u001b[0m\u001b[0;34m.\u001b[0m\u001b[0mMaskedArray\u001b[0m\u001b[0;34m)\u001b[0m\u001b[0;34m:\u001b[0m\u001b[0;34m\u001b[0m\u001b[0;34m\u001b[0m\u001b[0m\n\u001b[1;32m    616\u001b[0m             \u001b[0;32mimport\u001b[0m \u001b[0mnumpy\u001b[0m\u001b[0;34m.\u001b[0m\u001b[0mma\u001b[0m\u001b[0;34m.\u001b[0m\u001b[0mmrecords\u001b[0m \u001b[0;32mas\u001b[0m \u001b[0mmrecords\u001b[0m\u001b[0;34m\u001b[0m\u001b[0;34m\u001b[0m\u001b[0m\n",
      "\u001b[0;32m/usr/local/anaconda3/lib/python3.9/site-packages/pandas/core/internals/construction.py\u001b[0m in \u001b[0;36mdict_to_mgr\u001b[0;34m(data, index, columns, dtype, typ, copy)\u001b[0m\n\u001b[1;32m    462\u001b[0m         \u001b[0;31m# TODO: can we get rid of the dt64tz special case above?\u001b[0m\u001b[0;34m\u001b[0m\u001b[0;34m\u001b[0m\u001b[0m\n\u001b[1;32m    463\u001b[0m \u001b[0;34m\u001b[0m\u001b[0m\n\u001b[0;32m--> 464\u001b[0;31m     return arrays_to_mgr(\n\u001b[0m\u001b[1;32m    465\u001b[0m         \u001b[0marrays\u001b[0m\u001b[0;34m,\u001b[0m \u001b[0mdata_names\u001b[0m\u001b[0;34m,\u001b[0m \u001b[0mindex\u001b[0m\u001b[0;34m,\u001b[0m \u001b[0mcolumns\u001b[0m\u001b[0;34m,\u001b[0m \u001b[0mdtype\u001b[0m\u001b[0;34m=\u001b[0m\u001b[0mdtype\u001b[0m\u001b[0;34m,\u001b[0m \u001b[0mtyp\u001b[0m\u001b[0;34m=\u001b[0m\u001b[0mtyp\u001b[0m\u001b[0;34m,\u001b[0m \u001b[0mconsolidate\u001b[0m\u001b[0;34m=\u001b[0m\u001b[0mcopy\u001b[0m\u001b[0;34m\u001b[0m\u001b[0;34m\u001b[0m\u001b[0m\n\u001b[1;32m    466\u001b[0m     )\n",
      "\u001b[0;32m/usr/local/anaconda3/lib/python3.9/site-packages/pandas/core/internals/construction.py\u001b[0m in \u001b[0;36marrays_to_mgr\u001b[0;34m(arrays, arr_names, index, columns, dtype, verify_integrity, typ, consolidate)\u001b[0m\n\u001b[1;32m    122\u001b[0m \u001b[0;34m\u001b[0m\u001b[0m\n\u001b[1;32m    123\u001b[0m         \u001b[0;31m# don't force copy because getting jammed in an ndarray anyway\u001b[0m\u001b[0;34m\u001b[0m\u001b[0;34m\u001b[0m\u001b[0m\n\u001b[0;32m--> 124\u001b[0;31m         \u001b[0marrays\u001b[0m \u001b[0;34m=\u001b[0m \u001b[0m_homogenize\u001b[0m\u001b[0;34m(\u001b[0m\u001b[0marrays\u001b[0m\u001b[0;34m,\u001b[0m \u001b[0mindex\u001b[0m\u001b[0;34m,\u001b[0m \u001b[0mdtype\u001b[0m\u001b[0;34m)\u001b[0m\u001b[0;34m\u001b[0m\u001b[0;34m\u001b[0m\u001b[0m\n\u001b[0m\u001b[1;32m    125\u001b[0m \u001b[0;34m\u001b[0m\u001b[0m\n\u001b[1;32m    126\u001b[0m     \u001b[0;32melse\u001b[0m\u001b[0;34m:\u001b[0m\u001b[0;34m\u001b[0m\u001b[0;34m\u001b[0m\u001b[0m\n",
      "\u001b[0;32m/usr/local/anaconda3/lib/python3.9/site-packages/pandas/core/internals/construction.py\u001b[0m in \u001b[0;36m_homogenize\u001b[0;34m(data, index, dtype)\u001b[0m\n\u001b[1;32m    587\u001b[0m                 \u001b[0mval\u001b[0m \u001b[0;34m=\u001b[0m \u001b[0mlib\u001b[0m\u001b[0;34m.\u001b[0m\u001b[0mfast_multiget\u001b[0m\u001b[0;34m(\u001b[0m\u001b[0mval\u001b[0m\u001b[0;34m,\u001b[0m \u001b[0moindex\u001b[0m\u001b[0;34m.\u001b[0m\u001b[0m_values\u001b[0m\u001b[0;34m,\u001b[0m \u001b[0mdefault\u001b[0m\u001b[0;34m=\u001b[0m\u001b[0mnp\u001b[0m\u001b[0;34m.\u001b[0m\u001b[0mnan\u001b[0m\u001b[0;34m)\u001b[0m\u001b[0;34m\u001b[0m\u001b[0;34m\u001b[0m\u001b[0m\n\u001b[1;32m    588\u001b[0m \u001b[0;34m\u001b[0m\u001b[0m\n\u001b[0;32m--> 589\u001b[0;31m             val = sanitize_array(\n\u001b[0m\u001b[1;32m    590\u001b[0m                 \u001b[0mval\u001b[0m\u001b[0;34m,\u001b[0m \u001b[0mindex\u001b[0m\u001b[0;34m,\u001b[0m \u001b[0mdtype\u001b[0m\u001b[0;34m=\u001b[0m\u001b[0mdtype\u001b[0m\u001b[0;34m,\u001b[0m \u001b[0mcopy\u001b[0m\u001b[0;34m=\u001b[0m\u001b[0;32mFalse\u001b[0m\u001b[0;34m,\u001b[0m \u001b[0mraise_cast_failure\u001b[0m\u001b[0;34m=\u001b[0m\u001b[0;32mFalse\u001b[0m\u001b[0;34m\u001b[0m\u001b[0;34m\u001b[0m\u001b[0m\n\u001b[1;32m    591\u001b[0m             )\n",
      "\u001b[0;32m/usr/local/anaconda3/lib/python3.9/site-packages/pandas/core/construction.py\u001b[0m in \u001b[0;36msanitize_array\u001b[0;34m(data, index, dtype, copy, raise_cast_failure, allow_2d)\u001b[0m\n\u001b[1;32m    569\u001b[0m             \u001b[0msubarr\u001b[0m \u001b[0;34m=\u001b[0m \u001b[0m_try_cast\u001b[0m\u001b[0;34m(\u001b[0m\u001b[0mdata\u001b[0m\u001b[0;34m,\u001b[0m \u001b[0mdtype\u001b[0m\u001b[0;34m,\u001b[0m \u001b[0mcopy\u001b[0m\u001b[0;34m,\u001b[0m \u001b[0mraise_cast_failure\u001b[0m\u001b[0;34m)\u001b[0m\u001b[0;34m\u001b[0m\u001b[0;34m\u001b[0m\u001b[0m\n\u001b[1;32m    570\u001b[0m         \u001b[0;32melse\u001b[0m\u001b[0;34m:\u001b[0m\u001b[0;34m\u001b[0m\u001b[0;34m\u001b[0m\u001b[0m\n\u001b[0;32m--> 571\u001b[0;31m             \u001b[0msubarr\u001b[0m \u001b[0;34m=\u001b[0m \u001b[0mmaybe_convert_platform\u001b[0m\u001b[0;34m(\u001b[0m\u001b[0mdata\u001b[0m\u001b[0;34m)\u001b[0m\u001b[0;34m\u001b[0m\u001b[0;34m\u001b[0m\u001b[0m\n\u001b[0m\u001b[1;32m    572\u001b[0m             \u001b[0;32mif\u001b[0m \u001b[0msubarr\u001b[0m\u001b[0;34m.\u001b[0m\u001b[0mdtype\u001b[0m \u001b[0;34m==\u001b[0m \u001b[0mobject\u001b[0m\u001b[0;34m:\u001b[0m\u001b[0;34m\u001b[0m\u001b[0;34m\u001b[0m\u001b[0m\n\u001b[1;32m    573\u001b[0m                 \u001b[0msubarr\u001b[0m \u001b[0;34m=\u001b[0m \u001b[0mcast\u001b[0m\u001b[0;34m(\u001b[0m\u001b[0mnp\u001b[0m\u001b[0;34m.\u001b[0m\u001b[0mndarray\u001b[0m\u001b[0;34m,\u001b[0m \u001b[0msubarr\u001b[0m\u001b[0;34m)\u001b[0m\u001b[0;34m\u001b[0m\u001b[0;34m\u001b[0m\u001b[0m\n",
      "\u001b[0;32m/usr/local/anaconda3/lib/python3.9/site-packages/pandas/core/dtypes/cast.py\u001b[0m in \u001b[0;36mmaybe_convert_platform\u001b[0;34m(values)\u001b[0m\n\u001b[1;32m    124\u001b[0m     \u001b[0;32mif\u001b[0m \u001b[0marr\u001b[0m\u001b[0;34m.\u001b[0m\u001b[0mdtype\u001b[0m \u001b[0;34m==\u001b[0m \u001b[0mobject\u001b[0m\u001b[0;34m:\u001b[0m\u001b[0;34m\u001b[0m\u001b[0;34m\u001b[0m\u001b[0m\n\u001b[1;32m    125\u001b[0m         \u001b[0marr\u001b[0m \u001b[0;34m=\u001b[0m \u001b[0mcast\u001b[0m\u001b[0;34m(\u001b[0m\u001b[0mnp\u001b[0m\u001b[0;34m.\u001b[0m\u001b[0mndarray\u001b[0m\u001b[0;34m,\u001b[0m \u001b[0marr\u001b[0m\u001b[0;34m)\u001b[0m\u001b[0;34m\u001b[0m\u001b[0;34m\u001b[0m\u001b[0m\n\u001b[0;32m--> 126\u001b[0;31m         \u001b[0marr\u001b[0m \u001b[0;34m=\u001b[0m \u001b[0mlib\u001b[0m\u001b[0;34m.\u001b[0m\u001b[0mmaybe_convert_objects\u001b[0m\u001b[0;34m(\u001b[0m\u001b[0marr\u001b[0m\u001b[0;34m)\u001b[0m\u001b[0;34m\u001b[0m\u001b[0;34m\u001b[0m\u001b[0m\n\u001b[0m\u001b[1;32m    127\u001b[0m \u001b[0;34m\u001b[0m\u001b[0m\n\u001b[1;32m    128\u001b[0m     \u001b[0;32mreturn\u001b[0m \u001b[0marr\u001b[0m\u001b[0;34m\u001b[0m\u001b[0;34m\u001b[0m\u001b[0m\n",
      "\u001b[0;32m/usr/local/anaconda3/lib/python3.9/site-packages/pandas/_libs/lib.pyx\u001b[0m in \u001b[0;36mpandas._libs.lib.maybe_convert_objects\u001b[0;34m()\u001b[0m\n",
      "\u001b[0;31mValueError\u001b[0m: Buffer has wrong number of dimensions (expected 1, got 2)"
     ]
    },
    {
     "data": {
      "text/plain": [
       "<Figure size 864x504 with 0 Axes>"
      ]
     },
     "metadata": {},
     "output_type": "display_data"
    }
   ],
   "source": [
    "active_programtypes_KDE()"
   ]
  },
  {
   "cell_type": "markdown",
   "id": "ad01e24a",
   "metadata": {},
   "source": [
    "_______________________________________________"
   ]
  },
  {
   "cell_type": "markdown",
   "id": "434641d1",
   "metadata": {},
   "source": [
    "## Answers to Questions:\n",
    "#### Overall, DataScience students are accessing their curriculum's website more times than WebDev.\n",
    "    - Do DS teachers teach more from the curriculum?\n",
    "    - What do exercises in the curriculum and lessons look like for each program type?"
   ]
  },
  {
   "cell_type": "markdown",
   "id": "40517751",
   "metadata": {},
   "source": [
    "## Takeaways and further Questions needed:\n",
    "\n",
    "1) Was there another website with curriculum information that 2018 students had access to?"
   ]
  },
  {
   "cell_type": "code",
   "execution_count": 22,
   "id": "2f1f834e",
   "metadata": {},
   "outputs": [
    {
     "data": {
      "text/plain": [
       "1"
      ]
     },
     "execution_count": 22,
     "metadata": {},
     "output_type": "execute_result"
    }
   ],
   "source": [
    "#minimum date students are accessing Codeup website:\n",
    "df.index.min()"
   ]
  },
  {
   "cell_type": "markdown",
   "id": "a208cdd3",
   "metadata": {},
   "source": [
    "<b>Some of the students that have a 'low' access log count might actually also being using another curriculum, if there was one available.</b>\n",
    "\n",
    "One example of this is student #278.\n",
    "\n",
    "This WebDev student only had 3 showing log counts during their cohort's active period, however after the cohort this student made 60 more log counts after their end date.\n",
    "\n",
    "One of two things:\n",
    "- Students/Alumni's are utilizing curriculum (some more so) after graduating\n",
    "- This could also be a web scrapping case!"
   ]
  },
  {
   "cell_type": "code",
   "execution_count": 23,
   "id": "323c7c47",
   "metadata": {},
   "outputs": [
    {
     "data": {
      "text/html": [
       "<div>\n",
       "<style scoped>\n",
       "    .dataframe tbody tr th:only-of-type {\n",
       "        vertical-align: middle;\n",
       "    }\n",
       "\n",
       "    .dataframe tbody tr th {\n",
       "        vertical-align: top;\n",
       "    }\n",
       "\n",
       "    .dataframe thead th {\n",
       "        text-align: right;\n",
       "    }\n",
       "</style>\n",
       "<table border=\"1\" class=\"dataframe\">\n",
       "  <thead>\n",
       "    <tr style=\"text-align: right;\">\n",
       "      <th></th>\n",
       "      <th>accessed</th>\n",
       "      <th>path</th>\n",
       "      <th>ip</th>\n",
       "      <th>user_id</th>\n",
       "      <th>program_id</th>\n",
       "      <th>program_type</th>\n",
       "      <th>cohort</th>\n",
       "      <th>start_date</th>\n",
       "      <th>end_date</th>\n",
       "      <th>lesson</th>\n",
       "      <th>hour</th>\n",
       "      <th>is_active</th>\n",
       "    </tr>\n",
       "  </thead>\n",
       "  <tbody>\n",
       "    <tr>\n",
       "      <th>121405</th>\n",
       "      <td>2018-09-27 14:47:37</td>\n",
       "      <td>java-ii/arrays</td>\n",
       "      <td>107.77.217.9</td>\n",
       "      <td>278</td>\n",
       "      <td>2.0</td>\n",
       "      <td>Web Development</td>\n",
       "      <td>Voyageurs</td>\n",
       "      <td>2018-05-29</td>\n",
       "      <td>2018-10-11</td>\n",
       "      <td>java-ii.arrays</td>\n",
       "      <td>14</td>\n",
       "      <td>True</td>\n",
       "    </tr>\n",
       "    <tr>\n",
       "      <th>121419</th>\n",
       "      <td>2018-09-27 14:58:48</td>\n",
       "      <td>java-ii/arrays</td>\n",
       "      <td>107.77.217.9</td>\n",
       "      <td>278</td>\n",
       "      <td>2.0</td>\n",
       "      <td>Web Development</td>\n",
       "      <td>Voyageurs</td>\n",
       "      <td>2018-05-29</td>\n",
       "      <td>2018-10-11</td>\n",
       "      <td>java-ii.arrays</td>\n",
       "      <td>14</td>\n",
       "      <td>True</td>\n",
       "    </tr>\n",
       "    <tr>\n",
       "      <th>121421</th>\n",
       "      <td>2018-09-27 14:59:07</td>\n",
       "      <td>java-ii/collections</td>\n",
       "      <td>107.77.217.9</td>\n",
       "      <td>278</td>\n",
       "      <td>2.0</td>\n",
       "      <td>Web Development</td>\n",
       "      <td>Voyageurs</td>\n",
       "      <td>2018-05-29</td>\n",
       "      <td>2018-10-11</td>\n",
       "      <td>java-ii.collections</td>\n",
       "      <td>14</td>\n",
       "      <td>True</td>\n",
       "    </tr>\n",
       "    <tr>\n",
       "      <th>130820</th>\n",
       "      <td>2018-10-16 18:56:02</td>\n",
       "      <td>javascript-ii</td>\n",
       "      <td>67.11.175.66</td>\n",
       "      <td>278</td>\n",
       "      <td>2.0</td>\n",
       "      <td>Web Development</td>\n",
       "      <td>Voyageurs</td>\n",
       "      <td>2018-05-29</td>\n",
       "      <td>2018-10-11</td>\n",
       "      <td>Not Lesson</td>\n",
       "      <td>18</td>\n",
       "      <td>False</td>\n",
       "    </tr>\n",
       "    <tr>\n",
       "      <th>130821</th>\n",
       "      <td>2018-10-16 18:56:22</td>\n",
       "      <td>javascript-ii/es6</td>\n",
       "      <td>67.11.175.66</td>\n",
       "      <td>278</td>\n",
       "      <td>2.0</td>\n",
       "      <td>Web Development</td>\n",
       "      <td>Voyageurs</td>\n",
       "      <td>2018-05-29</td>\n",
       "      <td>2018-10-11</td>\n",
       "      <td>javascript-ii.es6</td>\n",
       "      <td>18</td>\n",
       "      <td>False</td>\n",
       "    </tr>\n",
       "    <tr>\n",
       "      <th>...</th>\n",
       "      <td>...</td>\n",
       "      <td>...</td>\n",
       "      <td>...</td>\n",
       "      <td>...</td>\n",
       "      <td>...</td>\n",
       "      <td>...</td>\n",
       "      <td>...</td>\n",
       "      <td>...</td>\n",
       "      <td>...</td>\n",
       "      <td>...</td>\n",
       "      <td>...</td>\n",
       "      <td>...</td>\n",
       "    </tr>\n",
       "    <tr>\n",
       "      <th>179494</th>\n",
       "      <td>2019-02-09 17:31:50</td>\n",
       "      <td>mysql/introduction</td>\n",
       "      <td>67.11.175.66</td>\n",
       "      <td>278</td>\n",
       "      <td>2.0</td>\n",
       "      <td>Web Development</td>\n",
       "      <td>Voyageurs</td>\n",
       "      <td>2018-05-29</td>\n",
       "      <td>2018-10-11</td>\n",
       "      <td>mysql.introduction</td>\n",
       "      <td>17</td>\n",
       "      <td>False</td>\n",
       "    </tr>\n",
       "    <tr>\n",
       "      <th>179496</th>\n",
       "      <td>2019-02-09 17:35:43</td>\n",
       "      <td>mysql/tables</td>\n",
       "      <td>67.11.175.66</td>\n",
       "      <td>278</td>\n",
       "      <td>2.0</td>\n",
       "      <td>Web Development</td>\n",
       "      <td>Voyageurs</td>\n",
       "      <td>2018-05-29</td>\n",
       "      <td>2018-10-11</td>\n",
       "      <td>mysql.tables</td>\n",
       "      <td>17</td>\n",
       "      <td>False</td>\n",
       "    </tr>\n",
       "    <tr>\n",
       "      <th>179502</th>\n",
       "      <td>2019-02-09 17:37:19</td>\n",
       "      <td>mysql/basic-statements</td>\n",
       "      <td>67.11.175.66</td>\n",
       "      <td>278</td>\n",
       "      <td>2.0</td>\n",
       "      <td>Web Development</td>\n",
       "      <td>Voyageurs</td>\n",
       "      <td>2018-05-29</td>\n",
       "      <td>2018-10-11</td>\n",
       "      <td>mysql.basic-statements</td>\n",
       "      <td>17</td>\n",
       "      <td>False</td>\n",
       "    </tr>\n",
       "    <tr>\n",
       "      <th>179510</th>\n",
       "      <td>2019-02-09 17:58:08</td>\n",
       "      <td>mysql/tables</td>\n",
       "      <td>67.11.175.66</td>\n",
       "      <td>278</td>\n",
       "      <td>2.0</td>\n",
       "      <td>Web Development</td>\n",
       "      <td>Voyageurs</td>\n",
       "      <td>2018-05-29</td>\n",
       "      <td>2018-10-11</td>\n",
       "      <td>mysql.tables</td>\n",
       "      <td>17</td>\n",
       "      <td>False</td>\n",
       "    </tr>\n",
       "    <tr>\n",
       "      <th>179511</th>\n",
       "      <td>2019-02-09 17:58:51</td>\n",
       "      <td>mysql/databases</td>\n",
       "      <td>67.11.175.66</td>\n",
       "      <td>278</td>\n",
       "      <td>2.0</td>\n",
       "      <td>Web Development</td>\n",
       "      <td>Voyageurs</td>\n",
       "      <td>2018-05-29</td>\n",
       "      <td>2018-10-11</td>\n",
       "      <td>mysql.databases</td>\n",
       "      <td>17</td>\n",
       "      <td>False</td>\n",
       "    </tr>\n",
       "  </tbody>\n",
       "</table>\n",
       "<p>63 rows × 12 columns</p>\n",
       "</div>"
      ],
      "text/plain": [
       "                  accessed                    path            ip  user_id  \\\n",
       "121405 2018-09-27 14:47:37          java-ii/arrays  107.77.217.9      278   \n",
       "121419 2018-09-27 14:58:48          java-ii/arrays  107.77.217.9      278   \n",
       "121421 2018-09-27 14:59:07     java-ii/collections  107.77.217.9      278   \n",
       "130820 2018-10-16 18:56:02           javascript-ii  67.11.175.66      278   \n",
       "130821 2018-10-16 18:56:22       javascript-ii/es6  67.11.175.66      278   \n",
       "...                    ...                     ...           ...      ...   \n",
       "179494 2019-02-09 17:31:50      mysql/introduction  67.11.175.66      278   \n",
       "179496 2019-02-09 17:35:43            mysql/tables  67.11.175.66      278   \n",
       "179502 2019-02-09 17:37:19  mysql/basic-statements  67.11.175.66      278   \n",
       "179510 2019-02-09 17:58:08            mysql/tables  67.11.175.66      278   \n",
       "179511 2019-02-09 17:58:51         mysql/databases  67.11.175.66      278   \n",
       "\n",
       "        program_id     program_type     cohort start_date   end_date  \\\n",
       "121405         2.0  Web Development  Voyageurs 2018-05-29 2018-10-11   \n",
       "121419         2.0  Web Development  Voyageurs 2018-05-29 2018-10-11   \n",
       "121421         2.0  Web Development  Voyageurs 2018-05-29 2018-10-11   \n",
       "130820         2.0  Web Development  Voyageurs 2018-05-29 2018-10-11   \n",
       "130821         2.0  Web Development  Voyageurs 2018-05-29 2018-10-11   \n",
       "...            ...              ...        ...        ...        ...   \n",
       "179494         2.0  Web Development  Voyageurs 2018-05-29 2018-10-11   \n",
       "179496         2.0  Web Development  Voyageurs 2018-05-29 2018-10-11   \n",
       "179502         2.0  Web Development  Voyageurs 2018-05-29 2018-10-11   \n",
       "179510         2.0  Web Development  Voyageurs 2018-05-29 2018-10-11   \n",
       "179511         2.0  Web Development  Voyageurs 2018-05-29 2018-10-11   \n",
       "\n",
       "                        lesson  hour  is_active  \n",
       "121405          java-ii.arrays    14       True  \n",
       "121419          java-ii.arrays    14       True  \n",
       "121421     java-ii.collections    14       True  \n",
       "130820              Not Lesson    18      False  \n",
       "130821       javascript-ii.es6    18      False  \n",
       "...                        ...   ...        ...  \n",
       "179494      mysql.introduction    17      False  \n",
       "179496            mysql.tables    17      False  \n",
       "179502  mysql.basic-statements    17      False  \n",
       "179510            mysql.tables    17      False  \n",
       "179511         mysql.databases    17      False  \n",
       "\n",
       "[63 rows x 12 columns]"
      ]
     },
     "execution_count": 23,
     "metadata": {},
     "output_type": "execute_result"
    }
   ],
   "source": [
    "df[df.user_id == 278]"
   ]
  },
  {
   "cell_type": "code",
   "execution_count": 24,
   "id": "14b3f0eb",
   "metadata": {},
   "outputs": [
    {
     "data": {
      "text/html": [
       "<div>\n",
       "<style scoped>\n",
       "    .dataframe tbody tr th:only-of-type {\n",
       "        vertical-align: middle;\n",
       "    }\n",
       "\n",
       "    .dataframe tbody tr th {\n",
       "        vertical-align: top;\n",
       "    }\n",
       "\n",
       "    .dataframe thead th {\n",
       "        text-align: right;\n",
       "    }\n",
       "</style>\n",
       "<table border=\"1\" class=\"dataframe\">\n",
       "  <thead>\n",
       "    <tr style=\"text-align: right;\">\n",
       "      <th></th>\n",
       "      <th>accessed</th>\n",
       "      <th>path</th>\n",
       "      <th>ip</th>\n",
       "      <th>user_id</th>\n",
       "      <th>program_id</th>\n",
       "      <th>program_type</th>\n",
       "      <th>cohort</th>\n",
       "      <th>start_date</th>\n",
       "      <th>end_date</th>\n",
       "      <th>lesson</th>\n",
       "      <th>hour</th>\n",
       "      <th>is_active</th>\n",
       "    </tr>\n",
       "  </thead>\n",
       "  <tbody>\n",
       "    <tr>\n",
       "      <th>168682</th>\n",
       "      <td>2019-01-22 16:49:49</td>\n",
       "      <td>html-css</td>\n",
       "      <td>97.105.19.58</td>\n",
       "      <td>340</td>\n",
       "      <td>2.0</td>\n",
       "      <td>Web Development</td>\n",
       "      <td>Zion</td>\n",
       "      <td>2019-01-22</td>\n",
       "      <td>2019-06-04</td>\n",
       "      <td>Not Lesson</td>\n",
       "      <td>16</td>\n",
       "      <td>True</td>\n",
       "    </tr>\n",
       "    <tr>\n",
       "      <th>168684</th>\n",
       "      <td>2019-01-22 16:50:48</td>\n",
       "      <td>html-css/introduction</td>\n",
       "      <td>97.105.19.58</td>\n",
       "      <td>340</td>\n",
       "      <td>2.0</td>\n",
       "      <td>Web Development</td>\n",
       "      <td>Zion</td>\n",
       "      <td>2019-01-22</td>\n",
       "      <td>2019-06-04</td>\n",
       "      <td>html-css.introduction</td>\n",
       "      <td>16</td>\n",
       "      <td>True</td>\n",
       "    </tr>\n",
       "    <tr>\n",
       "      <th>168685</th>\n",
       "      <td>2019-01-22 16:51:13</td>\n",
       "      <td>html-css/elements</td>\n",
       "      <td>97.105.19.58</td>\n",
       "      <td>340</td>\n",
       "      <td>2.0</td>\n",
       "      <td>Web Development</td>\n",
       "      <td>Zion</td>\n",
       "      <td>2019-01-22</td>\n",
       "      <td>2019-06-04</td>\n",
       "      <td>html-css.elements</td>\n",
       "      <td>16</td>\n",
       "      <td>True</td>\n",
       "    </tr>\n",
       "    <tr>\n",
       "      <th>168686</th>\n",
       "      <td>2019-01-22 16:51:18</td>\n",
       "      <td>javascript-i</td>\n",
       "      <td>97.105.19.58</td>\n",
       "      <td>340</td>\n",
       "      <td>2.0</td>\n",
       "      <td>Web Development</td>\n",
       "      <td>Zion</td>\n",
       "      <td>2019-01-22</td>\n",
       "      <td>2019-06-04</td>\n",
       "      <td>Not Lesson</td>\n",
       "      <td>16</td>\n",
       "      <td>True</td>\n",
       "    </tr>\n",
       "    <tr>\n",
       "      <th>168688</th>\n",
       "      <td>2019-01-22 16:51:32</td>\n",
       "      <td>html-css</td>\n",
       "      <td>97.105.19.58</td>\n",
       "      <td>340</td>\n",
       "      <td>2.0</td>\n",
       "      <td>Web Development</td>\n",
       "      <td>Zion</td>\n",
       "      <td>2019-01-22</td>\n",
       "      <td>2019-06-04</td>\n",
       "      <td>Not Lesson</td>\n",
       "      <td>16</td>\n",
       "      <td>True</td>\n",
       "    </tr>\n",
       "    <tr>\n",
       "      <th>168689</th>\n",
       "      <td>2019-01-22 16:51:36</td>\n",
       "      <td>html-css/introduction</td>\n",
       "      <td>97.105.19.58</td>\n",
       "      <td>340</td>\n",
       "      <td>2.0</td>\n",
       "      <td>Web Development</td>\n",
       "      <td>Zion</td>\n",
       "      <td>2019-01-22</td>\n",
       "      <td>2019-06-04</td>\n",
       "      <td>html-css.introduction</td>\n",
       "      <td>16</td>\n",
       "      <td>True</td>\n",
       "    </tr>\n",
       "    <tr>\n",
       "      <th>168690</th>\n",
       "      <td>2019-01-22 16:51:53</td>\n",
       "      <td>html-css/css-ii/media-queries</td>\n",
       "      <td>97.105.19.58</td>\n",
       "      <td>340</td>\n",
       "      <td>2.0</td>\n",
       "      <td>Web Development</td>\n",
       "      <td>Zion</td>\n",
       "      <td>2019-01-22</td>\n",
       "      <td>2019-06-04</td>\n",
       "      <td>html-css.css-ii.media-queries</td>\n",
       "      <td>16</td>\n",
       "      <td>True</td>\n",
       "    </tr>\n",
       "    <tr>\n",
       "      <th>168691</th>\n",
       "      <td>2019-01-22 16:52:22</td>\n",
       "      <td>html-css/css-ii/grids</td>\n",
       "      <td>97.105.19.58</td>\n",
       "      <td>340</td>\n",
       "      <td>2.0</td>\n",
       "      <td>Web Development</td>\n",
       "      <td>Zion</td>\n",
       "      <td>2019-01-22</td>\n",
       "      <td>2019-06-04</td>\n",
       "      <td>html-css.css-ii.grids</td>\n",
       "      <td>16</td>\n",
       "      <td>True</td>\n",
       "    </tr>\n",
       "    <tr>\n",
       "      <th>168693</th>\n",
       "      <td>2019-01-22 16:52:39</td>\n",
       "      <td>html-css/css-ii/bootstrap-introduction</td>\n",
       "      <td>97.105.19.58</td>\n",
       "      <td>340</td>\n",
       "      <td>2.0</td>\n",
       "      <td>Web Development</td>\n",
       "      <td>Zion</td>\n",
       "      <td>2019-01-22</td>\n",
       "      <td>2019-06-04</td>\n",
       "      <td>html-css.css-ii.bootstrap-introduction</td>\n",
       "      <td>16</td>\n",
       "      <td>True</td>\n",
       "    </tr>\n",
       "    <tr>\n",
       "      <th>168694</th>\n",
       "      <td>2019-01-22 16:52:59</td>\n",
       "      <td>html-css/css-ii/bootstrap-grid-system</td>\n",
       "      <td>97.105.19.58</td>\n",
       "      <td>340</td>\n",
       "      <td>2.0</td>\n",
       "      <td>Web Development</td>\n",
       "      <td>Zion</td>\n",
       "      <td>2019-01-22</td>\n",
       "      <td>2019-06-04</td>\n",
       "      <td>html-css.css-ii.bootstrap-grid-system</td>\n",
       "      <td>16</td>\n",
       "      <td>True</td>\n",
       "    </tr>\n",
       "    <tr>\n",
       "      <th>168721</th>\n",
       "      <td>2019-01-22 18:45:17</td>\n",
       "      <td>html-css/css-ii/bootstrap-grid-system</td>\n",
       "      <td>66.69.108.117</td>\n",
       "      <td>340</td>\n",
       "      <td>2.0</td>\n",
       "      <td>Web Development</td>\n",
       "      <td>Zion</td>\n",
       "      <td>2019-01-22</td>\n",
       "      <td>2019-06-04</td>\n",
       "      <td>html-css.css-ii.bootstrap-grid-system</td>\n",
       "      <td>18</td>\n",
       "      <td>True</td>\n",
       "    </tr>\n",
       "    <tr>\n",
       "      <th>168722</th>\n",
       "      <td>2019-01-22 18:45:20</td>\n",
       "      <td>html-css/css-ii/bootstrap-grid-system</td>\n",
       "      <td>66.69.108.117</td>\n",
       "      <td>340</td>\n",
       "      <td>2.0</td>\n",
       "      <td>Web Development</td>\n",
       "      <td>Zion</td>\n",
       "      <td>2019-01-22</td>\n",
       "      <td>2019-06-04</td>\n",
       "      <td>html-css.css-ii.bootstrap-grid-system</td>\n",
       "      <td>18</td>\n",
       "      <td>True</td>\n",
       "    </tr>\n",
       "    <tr>\n",
       "      <th>168723</th>\n",
       "      <td>2019-01-22 18:45:22</td>\n",
       "      <td>html-css/css-ii/bootstrap-grid-system</td>\n",
       "      <td>66.69.108.117</td>\n",
       "      <td>340</td>\n",
       "      <td>2.0</td>\n",
       "      <td>Web Development</td>\n",
       "      <td>Zion</td>\n",
       "      <td>2019-01-22</td>\n",
       "      <td>2019-06-04</td>\n",
       "      <td>html-css.css-ii.bootstrap-grid-system</td>\n",
       "      <td>18</td>\n",
       "      <td>True</td>\n",
       "    </tr>\n",
       "  </tbody>\n",
       "</table>\n",
       "</div>"
      ],
      "text/plain": [
       "                  accessed                                    path  \\\n",
       "168682 2019-01-22 16:49:49                                html-css   \n",
       "168684 2019-01-22 16:50:48                   html-css/introduction   \n",
       "168685 2019-01-22 16:51:13                       html-css/elements   \n",
       "168686 2019-01-22 16:51:18                            javascript-i   \n",
       "168688 2019-01-22 16:51:32                                html-css   \n",
       "168689 2019-01-22 16:51:36                   html-css/introduction   \n",
       "168690 2019-01-22 16:51:53           html-css/css-ii/media-queries   \n",
       "168691 2019-01-22 16:52:22                   html-css/css-ii/grids   \n",
       "168693 2019-01-22 16:52:39  html-css/css-ii/bootstrap-introduction   \n",
       "168694 2019-01-22 16:52:59   html-css/css-ii/bootstrap-grid-system   \n",
       "168721 2019-01-22 18:45:17   html-css/css-ii/bootstrap-grid-system   \n",
       "168722 2019-01-22 18:45:20   html-css/css-ii/bootstrap-grid-system   \n",
       "168723 2019-01-22 18:45:22   html-css/css-ii/bootstrap-grid-system   \n",
       "\n",
       "                   ip  user_id  program_id     program_type cohort start_date  \\\n",
       "168682   97.105.19.58      340         2.0  Web Development   Zion 2019-01-22   \n",
       "168684   97.105.19.58      340         2.0  Web Development   Zion 2019-01-22   \n",
       "168685   97.105.19.58      340         2.0  Web Development   Zion 2019-01-22   \n",
       "168686   97.105.19.58      340         2.0  Web Development   Zion 2019-01-22   \n",
       "168688   97.105.19.58      340         2.0  Web Development   Zion 2019-01-22   \n",
       "168689   97.105.19.58      340         2.0  Web Development   Zion 2019-01-22   \n",
       "168690   97.105.19.58      340         2.0  Web Development   Zion 2019-01-22   \n",
       "168691   97.105.19.58      340         2.0  Web Development   Zion 2019-01-22   \n",
       "168693   97.105.19.58      340         2.0  Web Development   Zion 2019-01-22   \n",
       "168694   97.105.19.58      340         2.0  Web Development   Zion 2019-01-22   \n",
       "168721  66.69.108.117      340         2.0  Web Development   Zion 2019-01-22   \n",
       "168722  66.69.108.117      340         2.0  Web Development   Zion 2019-01-22   \n",
       "168723  66.69.108.117      340         2.0  Web Development   Zion 2019-01-22   \n",
       "\n",
       "         end_date                                  lesson  hour  is_active  \n",
       "168682 2019-06-04                              Not Lesson    16       True  \n",
       "168684 2019-06-04                   html-css.introduction    16       True  \n",
       "168685 2019-06-04                       html-css.elements    16       True  \n",
       "168686 2019-06-04                              Not Lesson    16       True  \n",
       "168688 2019-06-04                              Not Lesson    16       True  \n",
       "168689 2019-06-04                   html-css.introduction    16       True  \n",
       "168690 2019-06-04           html-css.css-ii.media-queries    16       True  \n",
       "168691 2019-06-04                   html-css.css-ii.grids    16       True  \n",
       "168693 2019-06-04  html-css.css-ii.bootstrap-introduction    16       True  \n",
       "168694 2019-06-04   html-css.css-ii.bootstrap-grid-system    16       True  \n",
       "168721 2019-06-04   html-css.css-ii.bootstrap-grid-system    18       True  \n",
       "168722 2019-06-04   html-css.css-ii.bootstrap-grid-system    18       True  \n",
       "168723 2019-06-04   html-css.css-ii.bootstrap-grid-system    18       True  "
      ]
     },
     "execution_count": 24,
     "metadata": {},
     "output_type": "execute_result"
    }
   ],
   "source": [
    "#example of a possible student that dropped out of course or another web scraper?\n",
    "df[df.user_id == 340]"
   ]
  },
  {
   "cell_type": "markdown",
   "id": "b5edba2c",
   "metadata": {},
   "source": [
    "2) Does Codeup recycle their user_ids at all?"
   ]
  },
  {
   "cell_type": "code",
   "execution_count": 25,
   "id": "90a4ae9f",
   "metadata": {},
   "outputs": [],
   "source": [
    "#user_id to cohort: are there student ranges here?\n",
    "#sns.barplot(data=df, x=df.user_id, y=df.index, hue=df.program_id)"
   ]
  },
  {
   "cell_type": "markdown",
   "id": "4868250e",
   "metadata": {},
   "source": [
    "_________________________________________________"
   ]
  },
  {
   "cell_type": "markdown",
   "id": "3fe6e628",
   "metadata": {},
   "source": [
    "#### User_id examples of users that went from student to staff"
   ]
  },
  {
   "cell_type": "code",
   "execution_count": 26,
   "id": "70c14a7d",
   "metadata": {},
   "outputs": [
    {
     "data": {
      "text/html": [
       "<div>\n",
       "<style scoped>\n",
       "    .dataframe tbody tr th:only-of-type {\n",
       "        vertical-align: middle;\n",
       "    }\n",
       "\n",
       "    .dataframe tbody tr th {\n",
       "        vertical-align: top;\n",
       "    }\n",
       "\n",
       "    .dataframe thead th {\n",
       "        text-align: right;\n",
       "    }\n",
       "</style>\n",
       "<table border=\"1\" class=\"dataframe\">\n",
       "  <thead>\n",
       "    <tr style=\"text-align: right;\">\n",
       "      <th></th>\n",
       "      <th>accessed</th>\n",
       "      <th>path</th>\n",
       "      <th>ip</th>\n",
       "      <th>user_id</th>\n",
       "      <th>program_id</th>\n",
       "      <th>program_type</th>\n",
       "      <th>cohort</th>\n",
       "      <th>start_date</th>\n",
       "      <th>end_date</th>\n",
       "      <th>lesson</th>\n",
       "      <th>hour</th>\n",
       "      <th>is_active</th>\n",
       "    </tr>\n",
       "  </thead>\n",
       "  <tbody>\n",
       "    <tr>\n",
       "      <th>912</th>\n",
       "      <td>2018-01-28 18:48:19</td>\n",
       "      <td>index.html</td>\n",
       "      <td>67.10.161.55</td>\n",
       "      <td>53</td>\n",
       "      <td>1.0</td>\n",
       "      <td>Web Development</td>\n",
       "      <td>Lassen</td>\n",
       "      <td>2016-07-18</td>\n",
       "      <td>2016-11-10</td>\n",
       "      <td>Not Lesson</td>\n",
       "      <td>18</td>\n",
       "      <td>False</td>\n",
       "    </tr>\n",
       "    <tr>\n",
       "      <th>913</th>\n",
       "      <td>2018-01-28 18:48:24</td>\n",
       "      <td>html-css</td>\n",
       "      <td>67.10.161.55</td>\n",
       "      <td>53</td>\n",
       "      <td>1.0</td>\n",
       "      <td>Web Development</td>\n",
       "      <td>Lassen</td>\n",
       "      <td>2016-07-18</td>\n",
       "      <td>2016-11-10</td>\n",
       "      <td>Not Lesson</td>\n",
       "      <td>18</td>\n",
       "      <td>False</td>\n",
       "    </tr>\n",
       "    <tr>\n",
       "      <th>914</th>\n",
       "      <td>2018-01-28 18:49:20</td>\n",
       "      <td>javascript-i</td>\n",
       "      <td>67.10.161.55</td>\n",
       "      <td>53</td>\n",
       "      <td>1.0</td>\n",
       "      <td>Web Development</td>\n",
       "      <td>Lassen</td>\n",
       "      <td>2016-07-18</td>\n",
       "      <td>2016-11-10</td>\n",
       "      <td>Not Lesson</td>\n",
       "      <td>18</td>\n",
       "      <td>False</td>\n",
       "    </tr>\n",
       "    <tr>\n",
       "      <th>915</th>\n",
       "      <td>2018-01-28 18:49:23</td>\n",
       "      <td>javascript-i/conditionals</td>\n",
       "      <td>67.10.161.55</td>\n",
       "      <td>53</td>\n",
       "      <td>1.0</td>\n",
       "      <td>Web Development</td>\n",
       "      <td>Lassen</td>\n",
       "      <td>2016-07-18</td>\n",
       "      <td>2016-11-10</td>\n",
       "      <td>javascript-i.conditionals</td>\n",
       "      <td>18</td>\n",
       "      <td>False</td>\n",
       "    </tr>\n",
       "    <tr>\n",
       "      <th>916</th>\n",
       "      <td>2018-01-28 18:50:41</td>\n",
       "      <td>javascript-i/conditionals</td>\n",
       "      <td>67.10.161.55</td>\n",
       "      <td>53</td>\n",
       "      <td>1.0</td>\n",
       "      <td>Web Development</td>\n",
       "      <td>Lassen</td>\n",
       "      <td>2016-07-18</td>\n",
       "      <td>2016-11-10</td>\n",
       "      <td>javascript-i.conditionals</td>\n",
       "      <td>18</td>\n",
       "      <td>False</td>\n",
       "    </tr>\n",
       "    <tr>\n",
       "      <th>...</th>\n",
       "      <td>...</td>\n",
       "      <td>...</td>\n",
       "      <td>...</td>\n",
       "      <td>...</td>\n",
       "      <td>...</td>\n",
       "      <td>...</td>\n",
       "      <td>...</td>\n",
       "      <td>...</td>\n",
       "      <td>...</td>\n",
       "      <td>...</td>\n",
       "      <td>...</td>\n",
       "      <td>...</td>\n",
       "    </tr>\n",
       "    <tr>\n",
       "      <th>373753</th>\n",
       "      <td>2020-01-22 13:33:12</td>\n",
       "      <td>spring/fundamentals/form-model-binding</td>\n",
       "      <td>97.105.19.58</td>\n",
       "      <td>53</td>\n",
       "      <td>1.0</td>\n",
       "      <td>Web Development</td>\n",
       "      <td>Lassen</td>\n",
       "      <td>2016-07-18</td>\n",
       "      <td>2016-11-10</td>\n",
       "      <td>spring.fundamentals.form-model-binding</td>\n",
       "      <td>13</td>\n",
       "      <td>False</td>\n",
       "    </tr>\n",
       "    <tr>\n",
       "      <th>374743</th>\n",
       "      <td>2020-01-23 09:47:35</td>\n",
       "      <td>index.html</td>\n",
       "      <td>97.105.19.58</td>\n",
       "      <td>53</td>\n",
       "      <td>1.0</td>\n",
       "      <td>Web Development</td>\n",
       "      <td>Lassen</td>\n",
       "      <td>2016-07-18</td>\n",
       "      <td>2016-11-10</td>\n",
       "      <td>Not Lesson</td>\n",
       "      <td>9</td>\n",
       "      <td>False</td>\n",
       "    </tr>\n",
       "    <tr>\n",
       "      <th>374744</th>\n",
       "      <td>2020-01-23 09:47:41</td>\n",
       "      <td>java-ii</td>\n",
       "      <td>97.105.19.58</td>\n",
       "      <td>53</td>\n",
       "      <td>1.0</td>\n",
       "      <td>Web Development</td>\n",
       "      <td>Lassen</td>\n",
       "      <td>2016-07-18</td>\n",
       "      <td>2016-11-10</td>\n",
       "      <td>Not Lesson</td>\n",
       "      <td>9</td>\n",
       "      <td>False</td>\n",
       "    </tr>\n",
       "    <tr>\n",
       "      <th>374745</th>\n",
       "      <td>2020-01-23 09:47:42</td>\n",
       "      <td>java-ii/inheritance-and-polymorphism</td>\n",
       "      <td>97.105.19.58</td>\n",
       "      <td>53</td>\n",
       "      <td>1.0</td>\n",
       "      <td>Web Development</td>\n",
       "      <td>Lassen</td>\n",
       "      <td>2016-07-18</td>\n",
       "      <td>2016-11-10</td>\n",
       "      <td>java-ii.inheritance-and-polymorphism</td>\n",
       "      <td>9</td>\n",
       "      <td>False</td>\n",
       "    </tr>\n",
       "    <tr>\n",
       "      <th>374746</th>\n",
       "      <td>2020-01-23 09:47:50</td>\n",
       "      <td>java-ii/interfaces-and-abstract-classes</td>\n",
       "      <td>97.105.19.58</td>\n",
       "      <td>53</td>\n",
       "      <td>1.0</td>\n",
       "      <td>Web Development</td>\n",
       "      <td>Lassen</td>\n",
       "      <td>2016-07-18</td>\n",
       "      <td>2016-11-10</td>\n",
       "      <td>java-ii.interfaces-and-abstract-classes</td>\n",
       "      <td>9</td>\n",
       "      <td>False</td>\n",
       "    </tr>\n",
       "  </tbody>\n",
       "</table>\n",
       "<p>7682 rows × 12 columns</p>\n",
       "</div>"
      ],
      "text/plain": [
       "                  accessed                                     path  \\\n",
       "912    2018-01-28 18:48:19                               index.html   \n",
       "913    2018-01-28 18:48:24                                 html-css   \n",
       "914    2018-01-28 18:49:20                             javascript-i   \n",
       "915    2018-01-28 18:49:23                javascript-i/conditionals   \n",
       "916    2018-01-28 18:50:41                javascript-i/conditionals   \n",
       "...                    ...                                      ...   \n",
       "373753 2020-01-22 13:33:12   spring/fundamentals/form-model-binding   \n",
       "374743 2020-01-23 09:47:35                               index.html   \n",
       "374744 2020-01-23 09:47:41                                  java-ii   \n",
       "374745 2020-01-23 09:47:42     java-ii/inheritance-and-polymorphism   \n",
       "374746 2020-01-23 09:47:50  java-ii/interfaces-and-abstract-classes   \n",
       "\n",
       "                  ip  user_id  program_id     program_type  cohort start_date  \\\n",
       "912     67.10.161.55       53         1.0  Web Development  Lassen 2016-07-18   \n",
       "913     67.10.161.55       53         1.0  Web Development  Lassen 2016-07-18   \n",
       "914     67.10.161.55       53         1.0  Web Development  Lassen 2016-07-18   \n",
       "915     67.10.161.55       53         1.0  Web Development  Lassen 2016-07-18   \n",
       "916     67.10.161.55       53         1.0  Web Development  Lassen 2016-07-18   \n",
       "...              ...      ...         ...              ...     ...        ...   \n",
       "373753  97.105.19.58       53         1.0  Web Development  Lassen 2016-07-18   \n",
       "374743  97.105.19.58       53         1.0  Web Development  Lassen 2016-07-18   \n",
       "374744  97.105.19.58       53         1.0  Web Development  Lassen 2016-07-18   \n",
       "374745  97.105.19.58       53         1.0  Web Development  Lassen 2016-07-18   \n",
       "374746  97.105.19.58       53         1.0  Web Development  Lassen 2016-07-18   \n",
       "\n",
       "         end_date                                   lesson  hour  is_active  \n",
       "912    2016-11-10                               Not Lesson    18      False  \n",
       "913    2016-11-10                               Not Lesson    18      False  \n",
       "914    2016-11-10                               Not Lesson    18      False  \n",
       "915    2016-11-10                javascript-i.conditionals    18      False  \n",
       "916    2016-11-10                javascript-i.conditionals    18      False  \n",
       "...           ...                                      ...   ...        ...  \n",
       "373753 2016-11-10   spring.fundamentals.form-model-binding    13      False  \n",
       "374743 2016-11-10                               Not Lesson     9      False  \n",
       "374744 2016-11-10                               Not Lesson     9      False  \n",
       "374745 2016-11-10     java-ii.inheritance-and-polymorphism     9      False  \n",
       "374746 2016-11-10  java-ii.interfaces-and-abstract-classes     9      False  \n",
       "\n",
       "[7682 rows x 12 columns]"
      ]
     },
     "execution_count": 26,
     "metadata": {},
     "output_type": "execute_result"
    }
   ],
   "source": [
    "#who dis? \n",
    "df[df.user_id == 53]"
   ]
  },
  {
   "cell_type": "code",
   "execution_count": 27,
   "id": "1074829a",
   "metadata": {},
   "outputs": [
    {
     "data": {
      "text/html": [
       "<div>\n",
       "<style scoped>\n",
       "    .dataframe tbody tr th:only-of-type {\n",
       "        vertical-align: middle;\n",
       "    }\n",
       "\n",
       "    .dataframe tbody tr th {\n",
       "        vertical-align: top;\n",
       "    }\n",
       "\n",
       "    .dataframe thead th {\n",
       "        text-align: right;\n",
       "    }\n",
       "</style>\n",
       "<table border=\"1\" class=\"dataframe\">\n",
       "  <thead>\n",
       "    <tr style=\"text-align: right;\">\n",
       "      <th></th>\n",
       "      <th>accessed</th>\n",
       "      <th>path</th>\n",
       "      <th>ip</th>\n",
       "      <th>user_id</th>\n",
       "      <th>program_id</th>\n",
       "      <th>program_type</th>\n",
       "      <th>cohort</th>\n",
       "      <th>start_date</th>\n",
       "      <th>end_date</th>\n",
       "      <th>lesson</th>\n",
       "      <th>hour</th>\n",
       "      <th>is_active</th>\n",
       "    </tr>\n",
       "  </thead>\n",
       "  <tbody>\n",
       "  </tbody>\n",
       "</table>\n",
       "</div>"
      ],
      "text/plain": [
       "Empty DataFrame\n",
       "Columns: [accessed, path, ip, user_id, program_id, program_type, cohort, start_date, end_date, lesson, hour, is_active]\n",
       "Index: []"
      ]
     },
     "execution_count": 27,
     "metadata": {},
     "output_type": "execute_result"
    }
   ],
   "source": [
    "#This last user_id had nulls. When following it, this shows that possible nulls might be when students are\n",
    "#going through their prework phase at Codeup...good to know for another time...\n",
    "df[df.user_id == 88]"
   ]
  },
  {
   "cell_type": "markdown",
   "id": "7b1273e7",
   "metadata": {},
   "source": [
    "Looking at each of these students to learn more:"
   ]
  },
  {
   "cell_type": "code",
   "execution_count": 28,
   "id": "d2dcd878",
   "metadata": {},
   "outputs": [
    {
     "data": {
      "text/html": [
       "<div>\n",
       "<style scoped>\n",
       "    .dataframe tbody tr th:only-of-type {\n",
       "        vertical-align: middle;\n",
       "    }\n",
       "\n",
       "    .dataframe tbody tr th {\n",
       "        vertical-align: top;\n",
       "    }\n",
       "\n",
       "    .dataframe thead th {\n",
       "        text-align: right;\n",
       "    }\n",
       "</style>\n",
       "<table border=\"1\" class=\"dataframe\">\n",
       "  <thead>\n",
       "    <tr style=\"text-align: right;\">\n",
       "      <th></th>\n",
       "      <th>accessed</th>\n",
       "      <th>path</th>\n",
       "      <th>ip</th>\n",
       "      <th>user_id</th>\n",
       "      <th>program_id</th>\n",
       "      <th>program_type</th>\n",
       "      <th>cohort</th>\n",
       "      <th>start_date</th>\n",
       "      <th>end_date</th>\n",
       "      <th>lesson</th>\n",
       "      <th>hour</th>\n",
       "      <th>is_active</th>\n",
       "    </tr>\n",
       "  </thead>\n",
       "  <tbody>\n",
       "  </tbody>\n",
       "</table>\n",
       "</div>"
      ],
      "text/plain": [
       "Empty DataFrame\n",
       "Columns: [accessed, path, ip, user_id, program_id, program_type, cohort, start_date, end_date, lesson, hour, is_active]\n",
       "Index: []"
      ]
     },
     "execution_count": 28,
     "metadata": {},
     "output_type": "execute_result"
    }
   ],
   "source": [
    "#user 95 (wondering if this is a webscraper? start date and access dates do not make sense)\n",
    "df[df.user_id == 95]"
   ]
  },
  {
   "cell_type": "code",
   "execution_count": 29,
   "id": "d9ad43f1",
   "metadata": {},
   "outputs": [
    {
     "data": {
      "text/html": [
       "<div>\n",
       "<style scoped>\n",
       "    .dataframe tbody tr th:only-of-type {\n",
       "        vertical-align: middle;\n",
       "    }\n",
       "\n",
       "    .dataframe tbody tr th {\n",
       "        vertical-align: top;\n",
       "    }\n",
       "\n",
       "    .dataframe thead th {\n",
       "        text-align: right;\n",
       "    }\n",
       "</style>\n",
       "<table border=\"1\" class=\"dataframe\">\n",
       "  <thead>\n",
       "    <tr style=\"text-align: right;\">\n",
       "      <th></th>\n",
       "      <th>accessed</th>\n",
       "      <th>path</th>\n",
       "      <th>ip</th>\n",
       "      <th>user_id</th>\n",
       "      <th>program_id</th>\n",
       "      <th>program_type</th>\n",
       "      <th>cohort</th>\n",
       "      <th>start_date</th>\n",
       "      <th>end_date</th>\n",
       "      <th>lesson</th>\n",
       "      <th>hour</th>\n",
       "      <th>is_active</th>\n",
       "    </tr>\n",
       "  </thead>\n",
       "  <tbody>\n",
       "  </tbody>\n",
       "</table>\n",
       "</div>"
      ],
      "text/plain": [
       "Empty DataFrame\n",
       "Columns: [accessed, path, ip, user_id, program_id, program_type, cohort, start_date, end_date, lesson, hour, is_active]\n",
       "Index: []"
      ]
     },
     "execution_count": 29,
     "metadata": {},
     "output_type": "execute_result"
    }
   ],
   "source": [
    "#user 679: maybe they quit??\n",
    "df[df.user_id == 679]"
   ]
  },
  {
   "cell_type": "code",
   "execution_count": 30,
   "id": "d08ca462",
   "metadata": {},
   "outputs": [
    {
     "data": {
      "text/html": [
       "<div>\n",
       "<style scoped>\n",
       "    .dataframe tbody tr th:only-of-type {\n",
       "        vertical-align: middle;\n",
       "    }\n",
       "\n",
       "    .dataframe tbody tr th {\n",
       "        vertical-align: top;\n",
       "    }\n",
       "\n",
       "    .dataframe thead th {\n",
       "        text-align: right;\n",
       "    }\n",
       "</style>\n",
       "<table border=\"1\" class=\"dataframe\">\n",
       "  <thead>\n",
       "    <tr style=\"text-align: right;\">\n",
       "      <th></th>\n",
       "      <th>accessed</th>\n",
       "      <th>path</th>\n",
       "      <th>ip</th>\n",
       "      <th>user_id</th>\n",
       "      <th>program_id</th>\n",
       "      <th>program_type</th>\n",
       "      <th>cohort</th>\n",
       "      <th>start_date</th>\n",
       "      <th>end_date</th>\n",
       "      <th>lesson</th>\n",
       "      <th>hour</th>\n",
       "      <th>is_active</th>\n",
       "    </tr>\n",
       "  </thead>\n",
       "  <tbody>\n",
       "  </tbody>\n",
       "</table>\n",
       "</div>"
      ],
      "text/plain": [
       "Empty DataFrame\n",
       "Columns: [accessed, path, ip, user_id, program_id, program_type, cohort, start_date, end_date, lesson, hour, is_active]\n",
       "Index: []"
      ]
     },
     "execution_count": 30,
     "metadata": {},
     "output_type": "execute_result"
    }
   ],
   "source": [
    "#user 71 : access dates and start_date do not coincide..\n",
    "df[df.user_id == 71]"
   ]
  },
  {
   "cell_type": "code",
   "execution_count": 31,
   "id": "36dfcc34",
   "metadata": {},
   "outputs": [
    {
     "data": {
      "text/html": [
       "<div>\n",
       "<style scoped>\n",
       "    .dataframe tbody tr th:only-of-type {\n",
       "        vertical-align: middle;\n",
       "    }\n",
       "\n",
       "    .dataframe tbody tr th {\n",
       "        vertical-align: top;\n",
       "    }\n",
       "\n",
       "    .dataframe thead th {\n",
       "        text-align: right;\n",
       "    }\n",
       "</style>\n",
       "<table border=\"1\" class=\"dataframe\">\n",
       "  <thead>\n",
       "    <tr style=\"text-align: right;\">\n",
       "      <th></th>\n",
       "      <th>accessed</th>\n",
       "      <th>path</th>\n",
       "      <th>ip</th>\n",
       "      <th>user_id</th>\n",
       "      <th>program_id</th>\n",
       "      <th>program_type</th>\n",
       "      <th>cohort</th>\n",
       "      <th>start_date</th>\n",
       "      <th>end_date</th>\n",
       "      <th>lesson</th>\n",
       "      <th>hour</th>\n",
       "      <th>is_active</th>\n",
       "    </tr>\n",
       "  </thead>\n",
       "  <tbody>\n",
       "  </tbody>\n",
       "</table>\n",
       "</div>"
      ],
      "text/plain": [
       "Empty DataFrame\n",
       "Columns: [accessed, path, ip, user_id, program_id, program_type, cohort, start_date, end_date, lesson, hour, is_active]\n",
       "Index: []"
      ]
     },
     "execution_count": 31,
     "metadata": {},
     "output_type": "execute_result"
    }
   ],
   "source": [
    "#user 246 : looks like webscaper | odd sign-in times and access/start dates do not match\n",
    "df[df.user_id == 246]"
   ]
  },
  {
   "cell_type": "code",
   "execution_count": 32,
   "id": "1b15d0fd",
   "metadata": {},
   "outputs": [
    {
     "data": {
      "text/html": [
       "<div>\n",
       "<style scoped>\n",
       "    .dataframe tbody tr th:only-of-type {\n",
       "        vertical-align: middle;\n",
       "    }\n",
       "\n",
       "    .dataframe tbody tr th {\n",
       "        vertical-align: top;\n",
       "    }\n",
       "\n",
       "    .dataframe thead th {\n",
       "        text-align: right;\n",
       "    }\n",
       "</style>\n",
       "<table border=\"1\" class=\"dataframe\">\n",
       "  <thead>\n",
       "    <tr style=\"text-align: right;\">\n",
       "      <th></th>\n",
       "      <th>accessed</th>\n",
       "      <th>path</th>\n",
       "      <th>ip</th>\n",
       "      <th>user_id</th>\n",
       "      <th>program_id</th>\n",
       "      <th>program_type</th>\n",
       "      <th>cohort</th>\n",
       "      <th>start_date</th>\n",
       "      <th>end_date</th>\n",
       "      <th>lesson</th>\n",
       "      <th>hour</th>\n",
       "      <th>is_active</th>\n",
       "    </tr>\n",
       "  </thead>\n",
       "  <tbody>\n",
       "  </tbody>\n",
       "</table>\n",
       "</div>"
      ],
      "text/plain": [
       "Empty DataFrame\n",
       "Columns: [accessed, path, ip, user_id, program_id, program_type, cohort, start_date, end_date, lesson, hour, is_active]\n",
       "Index: []"
      ]
     },
     "execution_count": 32,
     "metadata": {},
     "output_type": "execute_result"
    }
   ],
   "source": [
    "#user 399: pathways and quick scan times look like a webscraper\n",
    "df[df.user_id == 399]"
   ]
  },
  {
   "cell_type": "code",
   "execution_count": 33,
   "id": "54b30aed",
   "metadata": {},
   "outputs": [
    {
     "data": {
      "text/html": [
       "<div>\n",
       "<style scoped>\n",
       "    .dataframe tbody tr th:only-of-type {\n",
       "        vertical-align: middle;\n",
       "    }\n",
       "\n",
       "    .dataframe tbody tr th {\n",
       "        vertical-align: top;\n",
       "    }\n",
       "\n",
       "    .dataframe thead th {\n",
       "        text-align: right;\n",
       "    }\n",
       "</style>\n",
       "<table border=\"1\" class=\"dataframe\">\n",
       "  <thead>\n",
       "    <tr style=\"text-align: right;\">\n",
       "      <th></th>\n",
       "      <th>accessed</th>\n",
       "      <th>path</th>\n",
       "      <th>ip</th>\n",
       "      <th>user_id</th>\n",
       "      <th>program_id</th>\n",
       "      <th>program_type</th>\n",
       "      <th>cohort</th>\n",
       "      <th>start_date</th>\n",
       "      <th>end_date</th>\n",
       "      <th>lesson</th>\n",
       "      <th>hour</th>\n",
       "      <th>is_active</th>\n",
       "    </tr>\n",
       "  </thead>\n",
       "  <tbody>\n",
       "  </tbody>\n",
       "</table>\n",
       "</div>"
      ],
      "text/plain": [
       "Empty DataFrame\n",
       "Columns: [accessed, path, ip, user_id, program_id, program_type, cohort, start_date, end_date, lesson, hour, is_active]\n",
       "Index: []"
      ]
     },
     "execution_count": 33,
     "metadata": {},
     "output_type": "execute_result"
    }
   ],
   "source": [
    "#user 956: looks like a student that my have dropped out\n",
    "df[df.user_id == 956]"
   ]
  },
  {
   "cell_type": "code",
   "execution_count": 34,
   "id": "817fc61f",
   "metadata": {},
   "outputs": [
    {
     "data": {
      "text/html": [
       "<div>\n",
       "<style scoped>\n",
       "    .dataframe tbody tr th:only-of-type {\n",
       "        vertical-align: middle;\n",
       "    }\n",
       "\n",
       "    .dataframe tbody tr th {\n",
       "        vertical-align: top;\n",
       "    }\n",
       "\n",
       "    .dataframe thead th {\n",
       "        text-align: right;\n",
       "    }\n",
       "</style>\n",
       "<table border=\"1\" class=\"dataframe\">\n",
       "  <thead>\n",
       "    <tr style=\"text-align: right;\">\n",
       "      <th></th>\n",
       "      <th>accessed</th>\n",
       "      <th>path</th>\n",
       "      <th>ip</th>\n",
       "      <th>user_id</th>\n",
       "      <th>program_id</th>\n",
       "      <th>program_type</th>\n",
       "      <th>cohort</th>\n",
       "      <th>start_date</th>\n",
       "      <th>end_date</th>\n",
       "      <th>lesson</th>\n",
       "      <th>hour</th>\n",
       "      <th>is_active</th>\n",
       "    </tr>\n",
       "  </thead>\n",
       "  <tbody>\n",
       "  </tbody>\n",
       "</table>\n",
       "</div>"
      ],
      "text/plain": [
       "Empty DataFrame\n",
       "Columns: [accessed, path, ip, user_id, program_id, program_type, cohort, start_date, end_date, lesson, hour, is_active]\n",
       "Index: []"
      ]
     },
     "execution_count": 34,
     "metadata": {},
     "output_type": "execute_result"
    }
   ],
   "source": [
    "#user 539: student that dropped?\n",
    "df[df.user_id == 539]"
   ]
  },
  {
   "cell_type": "code",
   "execution_count": 35,
   "id": "9cb4b082",
   "metadata": {},
   "outputs": [
    {
     "data": {
      "text/html": [
       "<div>\n",
       "<style scoped>\n",
       "    .dataframe tbody tr th:only-of-type {\n",
       "        vertical-align: middle;\n",
       "    }\n",
       "\n",
       "    .dataframe tbody tr th {\n",
       "        vertical-align: top;\n",
       "    }\n",
       "\n",
       "    .dataframe thead th {\n",
       "        text-align: right;\n",
       "    }\n",
       "</style>\n",
       "<table border=\"1\" class=\"dataframe\">\n",
       "  <thead>\n",
       "    <tr style=\"text-align: right;\">\n",
       "      <th></th>\n",
       "      <th>accessed</th>\n",
       "      <th>path</th>\n",
       "      <th>ip</th>\n",
       "      <th>user_id</th>\n",
       "      <th>program_id</th>\n",
       "      <th>program_type</th>\n",
       "      <th>cohort</th>\n",
       "      <th>start_date</th>\n",
       "      <th>end_date</th>\n",
       "      <th>lesson</th>\n",
       "      <th>hour</th>\n",
       "      <th>is_active</th>\n",
       "    </tr>\n",
       "  </thead>\n",
       "  <tbody>\n",
       "  </tbody>\n",
       "</table>\n",
       "</div>"
      ],
      "text/plain": [
       "Empty DataFrame\n",
       "Columns: [accessed, path, ip, user_id, program_id, program_type, cohort, start_date, end_date, lesson, hour, is_active]\n",
       "Index: []"
      ]
     },
     "execution_count": 35,
     "metadata": {},
     "output_type": "execute_result"
    }
   ],
   "source": [
    "#user 216: possible web scraper?\n",
    "df[df.user_id == 216]"
   ]
  },
  {
   "cell_type": "code",
   "execution_count": 36,
   "id": "79ed4713",
   "metadata": {},
   "outputs": [
    {
     "data": {
      "text/html": [
       "<div>\n",
       "<style scoped>\n",
       "    .dataframe tbody tr th:only-of-type {\n",
       "        vertical-align: middle;\n",
       "    }\n",
       "\n",
       "    .dataframe tbody tr th {\n",
       "        vertical-align: top;\n",
       "    }\n",
       "\n",
       "    .dataframe thead th {\n",
       "        text-align: right;\n",
       "    }\n",
       "</style>\n",
       "<table border=\"1\" class=\"dataframe\">\n",
       "  <thead>\n",
       "    <tr style=\"text-align: right;\">\n",
       "      <th></th>\n",
       "      <th>accessed</th>\n",
       "      <th>path</th>\n",
       "      <th>ip</th>\n",
       "      <th>user_id</th>\n",
       "      <th>program_id</th>\n",
       "      <th>program_type</th>\n",
       "      <th>cohort</th>\n",
       "      <th>start_date</th>\n",
       "      <th>end_date</th>\n",
       "      <th>lesson</th>\n",
       "      <th>hour</th>\n",
       "      <th>is_active</th>\n",
       "    </tr>\n",
       "  </thead>\n",
       "  <tbody>\n",
       "  </tbody>\n",
       "</table>\n",
       "</div>"
      ],
      "text/plain": [
       "Empty DataFrame\n",
       "Columns: [accessed, path, ip, user_id, program_id, program_type, cohort, start_date, end_date, lesson, hour, is_active]\n",
       "Index: []"
      ]
     },
     "execution_count": 36,
     "metadata": {},
     "output_type": "execute_result"
    }
   ],
   "source": [
    "#user 177: path would indicate web scrap (images and favicon only)\n",
    "df[df.user_id == 177]"
   ]
  },
  {
   "cell_type": "code",
   "execution_count": 37,
   "id": "19d47422",
   "metadata": {},
   "outputs": [
    {
     "data": {
      "text/html": [
       "<div>\n",
       "<style scoped>\n",
       "    .dataframe tbody tr th:only-of-type {\n",
       "        vertical-align: middle;\n",
       "    }\n",
       "\n",
       "    .dataframe tbody tr th {\n",
       "        vertical-align: top;\n",
       "    }\n",
       "\n",
       "    .dataframe thead th {\n",
       "        text-align: right;\n",
       "    }\n",
       "</style>\n",
       "<table border=\"1\" class=\"dataframe\">\n",
       "  <thead>\n",
       "    <tr style=\"text-align: right;\">\n",
       "      <th></th>\n",
       "      <th>accessed</th>\n",
       "      <th>path</th>\n",
       "      <th>ip</th>\n",
       "      <th>user_id</th>\n",
       "      <th>program_id</th>\n",
       "      <th>program_type</th>\n",
       "      <th>cohort</th>\n",
       "      <th>start_date</th>\n",
       "      <th>end_date</th>\n",
       "      <th>lesson</th>\n",
       "      <th>hour</th>\n",
       "      <th>is_active</th>\n",
       "    </tr>\n",
       "  </thead>\n",
       "  <tbody>\n",
       "  </tbody>\n",
       "</table>\n",
       "</div>"
      ],
      "text/plain": [
       "Empty DataFrame\n",
       "Columns: [accessed, path, ip, user_id, program_id, program_type, cohort, start_date, end_date, lesson, hour, is_active]\n",
       "Index: []"
      ]
     },
     "execution_count": 37,
     "metadata": {},
     "output_type": "execute_result"
    }
   ],
   "source": [
    "#user 81: path would indicate web scrap (html and css only)\n",
    "df[df.user_id == 81]"
   ]
  },
  {
   "cell_type": "code",
   "execution_count": 38,
   "id": "cec7c091",
   "metadata": {},
   "outputs": [
    {
     "data": {
      "text/html": [
       "<div>\n",
       "<style scoped>\n",
       "    .dataframe tbody tr th:only-of-type {\n",
       "        vertical-align: middle;\n",
       "    }\n",
       "\n",
       "    .dataframe tbody tr th {\n",
       "        vertical-align: top;\n",
       "    }\n",
       "\n",
       "    .dataframe thead th {\n",
       "        text-align: right;\n",
       "    }\n",
       "</style>\n",
       "<table border=\"1\" class=\"dataframe\">\n",
       "  <thead>\n",
       "    <tr style=\"text-align: right;\">\n",
       "      <th></th>\n",
       "      <th>accessed</th>\n",
       "      <th>path</th>\n",
       "      <th>ip</th>\n",
       "      <th>user_id</th>\n",
       "      <th>program_id</th>\n",
       "      <th>program_type</th>\n",
       "      <th>cohort</th>\n",
       "      <th>start_date</th>\n",
       "      <th>end_date</th>\n",
       "      <th>lesson</th>\n",
       "      <th>hour</th>\n",
       "      <th>is_active</th>\n",
       "    </tr>\n",
       "  </thead>\n",
       "  <tbody>\n",
       "  </tbody>\n",
       "</table>\n",
       "</div>"
      ],
      "text/plain": [
       "Empty DataFrame\n",
       "Columns: [accessed, path, ip, user_id, program_id, program_type, cohort, start_date, end_date, lesson, hour, is_active]\n",
       "Index: []"
      ]
     },
     "execution_count": 38,
     "metadata": {},
     "output_type": "execute_result"
    }
   ],
   "source": [
    "#user 169: looks like web scraper\n",
    "df[df.user_id == 169]"
   ]
  },
  {
   "cell_type": "code",
   "execution_count": 39,
   "id": "c24206c2",
   "metadata": {},
   "outputs": [
    {
     "data": {
      "text/html": [
       "<div>\n",
       "<style scoped>\n",
       "    .dataframe tbody tr th:only-of-type {\n",
       "        vertical-align: middle;\n",
       "    }\n",
       "\n",
       "    .dataframe tbody tr th {\n",
       "        vertical-align: top;\n",
       "    }\n",
       "\n",
       "    .dataframe thead th {\n",
       "        text-align: right;\n",
       "    }\n",
       "</style>\n",
       "<table border=\"1\" class=\"dataframe\">\n",
       "  <thead>\n",
       "    <tr style=\"text-align: right;\">\n",
       "      <th></th>\n",
       "      <th>accessed</th>\n",
       "      <th>path</th>\n",
       "      <th>ip</th>\n",
       "      <th>user_id</th>\n",
       "      <th>program_id</th>\n",
       "      <th>program_type</th>\n",
       "      <th>cohort</th>\n",
       "      <th>start_date</th>\n",
       "      <th>end_date</th>\n",
       "      <th>lesson</th>\n",
       "      <th>hour</th>\n",
       "      <th>is_active</th>\n",
       "    </tr>\n",
       "  </thead>\n",
       "  <tbody>\n",
       "  </tbody>\n",
       "</table>\n",
       "</div>"
      ],
      "text/plain": [
       "Empty DataFrame\n",
       "Columns: [accessed, path, ip, user_id, program_id, program_type, cohort, start_date, end_date, lesson, hour, is_active]\n",
       "Index: []"
      ]
     },
     "execution_count": 39,
     "metadata": {},
     "output_type": "execute_result"
    }
   ],
   "source": [
    "#user 85: looks like a past possible student that dropped out or never started\n",
    "df[df.user_id == 85]"
   ]
  },
  {
   "cell_type": "code",
   "execution_count": 40,
   "id": "97e37d42",
   "metadata": {},
   "outputs": [
    {
     "data": {
      "text/html": [
       "<div>\n",
       "<style scoped>\n",
       "    .dataframe tbody tr th:only-of-type {\n",
       "        vertical-align: middle;\n",
       "    }\n",
       "\n",
       "    .dataframe tbody tr th {\n",
       "        vertical-align: top;\n",
       "    }\n",
       "\n",
       "    .dataframe thead th {\n",
       "        text-align: right;\n",
       "    }\n",
       "</style>\n",
       "<table border=\"1\" class=\"dataframe\">\n",
       "  <thead>\n",
       "    <tr style=\"text-align: right;\">\n",
       "      <th></th>\n",
       "      <th>accessed</th>\n",
       "      <th>path</th>\n",
       "      <th>ip</th>\n",
       "      <th>user_id</th>\n",
       "      <th>program_id</th>\n",
       "      <th>program_type</th>\n",
       "      <th>cohort</th>\n",
       "      <th>start_date</th>\n",
       "      <th>end_date</th>\n",
       "      <th>lesson</th>\n",
       "      <th>hour</th>\n",
       "      <th>is_active</th>\n",
       "    </tr>\n",
       "  </thead>\n",
       "  <tbody>\n",
       "  </tbody>\n",
       "</table>\n",
       "</div>"
      ],
      "text/plain": [
       "Empty DataFrame\n",
       "Columns: [accessed, path, ip, user_id, program_id, program_type, cohort, start_date, end_date, lesson, hour, is_active]\n",
       "Index: []"
      ]
     },
     "execution_count": 40,
     "metadata": {},
     "output_type": "execute_result"
    }
   ],
   "source": [
    "#user 832: student that didn't interact with curriculum??\n",
    "df[df.user_id == 832]"
   ]
  },
  {
   "cell_type": "code",
   "execution_count": 41,
   "id": "c514a7d4",
   "metadata": {},
   "outputs": [
    {
     "data": {
      "text/html": [
       "<div>\n",
       "<style scoped>\n",
       "    .dataframe tbody tr th:only-of-type {\n",
       "        vertical-align: middle;\n",
       "    }\n",
       "\n",
       "    .dataframe tbody tr th {\n",
       "        vertical-align: top;\n",
       "    }\n",
       "\n",
       "    .dataframe thead th {\n",
       "        text-align: right;\n",
       "    }\n",
       "</style>\n",
       "<table border=\"1\" class=\"dataframe\">\n",
       "  <thead>\n",
       "    <tr style=\"text-align: right;\">\n",
       "      <th></th>\n",
       "      <th>accessed</th>\n",
       "      <th>path</th>\n",
       "      <th>ip</th>\n",
       "      <th>user_id</th>\n",
       "      <th>program_id</th>\n",
       "      <th>program_type</th>\n",
       "      <th>cohort</th>\n",
       "      <th>start_date</th>\n",
       "      <th>end_date</th>\n",
       "      <th>lesson</th>\n",
       "      <th>hour</th>\n",
       "      <th>is_active</th>\n",
       "    </tr>\n",
       "  </thead>\n",
       "  <tbody>\n",
       "  </tbody>\n",
       "</table>\n",
       "</div>"
      ],
      "text/plain": [
       "Empty DataFrame\n",
       "Columns: [accessed, path, ip, user_id, program_id, program_type, cohort, start_date, end_date, lesson, hour, is_active]\n",
       "Index: []"
      ]
     },
     "execution_count": 41,
     "metadata": {},
     "output_type": "execute_result"
    }
   ],
   "source": [
    "#user 97: web scraper\n",
    "df[df.user_id == 97]"
   ]
  },
  {
   "cell_type": "code",
   "execution_count": 42,
   "id": "b42a0f55",
   "metadata": {},
   "outputs": [
    {
     "data": {
      "text/html": [
       "<div>\n",
       "<style scoped>\n",
       "    .dataframe tbody tr th:only-of-type {\n",
       "        vertical-align: middle;\n",
       "    }\n",
       "\n",
       "    .dataframe tbody tr th {\n",
       "        vertical-align: top;\n",
       "    }\n",
       "\n",
       "    .dataframe thead th {\n",
       "        text-align: right;\n",
       "    }\n",
       "</style>\n",
       "<table border=\"1\" class=\"dataframe\">\n",
       "  <thead>\n",
       "    <tr style=\"text-align: right;\">\n",
       "      <th></th>\n",
       "      <th>accessed</th>\n",
       "      <th>path</th>\n",
       "      <th>ip</th>\n",
       "      <th>user_id</th>\n",
       "      <th>program_id</th>\n",
       "      <th>program_type</th>\n",
       "      <th>cohort</th>\n",
       "      <th>start_date</th>\n",
       "      <th>end_date</th>\n",
       "      <th>lesson</th>\n",
       "      <th>hour</th>\n",
       "      <th>is_active</th>\n",
       "    </tr>\n",
       "  </thead>\n",
       "  <tbody>\n",
       "  </tbody>\n",
       "</table>\n",
       "</div>"
      ],
      "text/plain": [
       "Empty DataFrame\n",
       "Columns: [accessed, path, ip, user_id, program_id, program_type, cohort, start_date, end_date, lesson, hour, is_active]\n",
       "Index: []"
      ]
     },
     "execution_count": 42,
     "metadata": {},
     "output_type": "execute_result"
    }
   ],
   "source": [
    "#user 857: probably student that dropped out\n",
    "df[df.user_id == 857]"
   ]
  },
  {
   "cell_type": "code",
   "execution_count": 43,
   "id": "a3a6b0dc",
   "metadata": {},
   "outputs": [
    {
     "data": {
      "text/html": [
       "<div>\n",
       "<style scoped>\n",
       "    .dataframe tbody tr th:only-of-type {\n",
       "        vertical-align: middle;\n",
       "    }\n",
       "\n",
       "    .dataframe tbody tr th {\n",
       "        vertical-align: top;\n",
       "    }\n",
       "\n",
       "    .dataframe thead th {\n",
       "        text-align: right;\n",
       "    }\n",
       "</style>\n",
       "<table border=\"1\" class=\"dataframe\">\n",
       "  <thead>\n",
       "    <tr style=\"text-align: right;\">\n",
       "      <th></th>\n",
       "      <th>accessed</th>\n",
       "      <th>path</th>\n",
       "      <th>ip</th>\n",
       "      <th>user_id</th>\n",
       "      <th>program_id</th>\n",
       "      <th>program_type</th>\n",
       "      <th>cohort</th>\n",
       "      <th>start_date</th>\n",
       "      <th>end_date</th>\n",
       "      <th>lesson</th>\n",
       "      <th>hour</th>\n",
       "      <th>is_active</th>\n",
       "    </tr>\n",
       "  </thead>\n",
       "  <tbody>\n",
       "  </tbody>\n",
       "</table>\n",
       "</div>"
      ],
      "text/plain": [
       "Empty DataFrame\n",
       "Columns: [accessed, path, ip, user_id, program_id, program_type, cohort, start_date, end_date, lesson, hour, is_active]\n",
       "Index: []"
      ]
     },
     "execution_count": 43,
     "metadata": {},
     "output_type": "execute_result"
    }
   ],
   "source": [
    "#user 348: probably web scraper\n",
    "df[df.user_id == 348]"
   ]
  },
  {
   "cell_type": "code",
   "execution_count": 44,
   "id": "1c3d4272",
   "metadata": {},
   "outputs": [
    {
     "data": {
      "text/html": [
       "<div>\n",
       "<style scoped>\n",
       "    .dataframe tbody tr th:only-of-type {\n",
       "        vertical-align: middle;\n",
       "    }\n",
       "\n",
       "    .dataframe tbody tr th {\n",
       "        vertical-align: top;\n",
       "    }\n",
       "\n",
       "    .dataframe thead th {\n",
       "        text-align: right;\n",
       "    }\n",
       "</style>\n",
       "<table border=\"1\" class=\"dataframe\">\n",
       "  <thead>\n",
       "    <tr style=\"text-align: right;\">\n",
       "      <th></th>\n",
       "      <th>accessed</th>\n",
       "      <th>path</th>\n",
       "      <th>ip</th>\n",
       "      <th>user_id</th>\n",
       "      <th>program_id</th>\n",
       "      <th>program_type</th>\n",
       "      <th>cohort</th>\n",
       "      <th>start_date</th>\n",
       "      <th>end_date</th>\n",
       "      <th>lesson</th>\n",
       "      <th>hour</th>\n",
       "      <th>is_active</th>\n",
       "    </tr>\n",
       "  </thead>\n",
       "  <tbody>\n",
       "  </tbody>\n",
       "</table>\n",
       "</div>"
      ],
      "text/plain": [
       "Empty DataFrame\n",
       "Columns: [accessed, path, ip, user_id, program_id, program_type, cohort, start_date, end_date, lesson, hour, is_active]\n",
       "Index: []"
      ]
     },
     "execution_count": 44,
     "metadata": {},
     "output_type": "execute_result"
    }
   ],
   "source": [
    "#user 212: probably web scraper or maybe a past student?? (is there much info from 2014?)\n",
    "df[df.user_id == 212]"
   ]
  },
  {
   "cell_type": "code",
   "execution_count": 45,
   "id": "e3398e2d",
   "metadata": {},
   "outputs": [
    {
     "data": {
      "text/html": [
       "<div>\n",
       "<style scoped>\n",
       "    .dataframe tbody tr th:only-of-type {\n",
       "        vertical-align: middle;\n",
       "    }\n",
       "\n",
       "    .dataframe tbody tr th {\n",
       "        vertical-align: top;\n",
       "    }\n",
       "\n",
       "    .dataframe thead th {\n",
       "        text-align: right;\n",
       "    }\n",
       "</style>\n",
       "<table border=\"1\" class=\"dataframe\">\n",
       "  <thead>\n",
       "    <tr style=\"text-align: right;\">\n",
       "      <th></th>\n",
       "      <th>accessed</th>\n",
       "      <th>path</th>\n",
       "      <th>ip</th>\n",
       "      <th>user_id</th>\n",
       "      <th>program_id</th>\n",
       "      <th>program_type</th>\n",
       "      <th>cohort</th>\n",
       "      <th>start_date</th>\n",
       "      <th>end_date</th>\n",
       "      <th>lesson</th>\n",
       "      <th>hour</th>\n",
       "      <th>is_active</th>\n",
       "    </tr>\n",
       "  </thead>\n",
       "  <tbody>\n",
       "  </tbody>\n",
       "</table>\n",
       "</div>"
      ],
      "text/plain": [
       "Empty DataFrame\n",
       "Columns: [accessed, path, ip, user_id, program_id, program_type, cohort, start_date, end_date, lesson, hour, is_active]\n",
       "Index: []"
      ]
     },
     "execution_count": 45,
     "metadata": {},
     "output_type": "execute_result"
    }
   ],
   "source": [
    "#user 593: probably web scraper \n",
    "df[df.user_id == 593]"
   ]
  },
  {
   "cell_type": "code",
   "execution_count": 46,
   "id": "f2e747ae",
   "metadata": {},
   "outputs": [
    {
     "data": {
      "text/html": [
       "<div>\n",
       "<style scoped>\n",
       "    .dataframe tbody tr th:only-of-type {\n",
       "        vertical-align: middle;\n",
       "    }\n",
       "\n",
       "    .dataframe tbody tr th {\n",
       "        vertical-align: top;\n",
       "    }\n",
       "\n",
       "    .dataframe thead th {\n",
       "        text-align: right;\n",
       "    }\n",
       "</style>\n",
       "<table border=\"1\" class=\"dataframe\">\n",
       "  <thead>\n",
       "    <tr style=\"text-align: right;\">\n",
       "      <th></th>\n",
       "      <th>accessed</th>\n",
       "      <th>path</th>\n",
       "      <th>ip</th>\n",
       "      <th>user_id</th>\n",
       "      <th>program_id</th>\n",
       "      <th>program_type</th>\n",
       "      <th>cohort</th>\n",
       "      <th>start_date</th>\n",
       "      <th>end_date</th>\n",
       "      <th>lesson</th>\n",
       "      <th>hour</th>\n",
       "      <th>is_active</th>\n",
       "    </tr>\n",
       "  </thead>\n",
       "  <tbody>\n",
       "  </tbody>\n",
       "</table>\n",
       "</div>"
      ],
      "text/plain": [
       "Empty DataFrame\n",
       "Columns: [accessed, path, ip, user_id, program_id, program_type, cohort, start_date, end_date, lesson, hour, is_active]\n",
       "Index: []"
      ]
     },
     "execution_count": 46,
     "metadata": {},
     "output_type": "execute_result"
    }
   ],
   "source": [
    "#user 165: probably web scraper \n",
    "df[df.user_id == 165]"
   ]
  },
  {
   "cell_type": "markdown",
   "id": "bf11584d",
   "metadata": {},
   "source": [
    "#### Creating objects based on exploration of these students:"
   ]
  },
  {
   "cell_type": "code",
   "execution_count": 47,
   "id": "912d9c8c",
   "metadata": {},
   "outputs": [],
   "source": [
    "#creating object of known dropped students:\n",
    "df_drop_students = df[df.user_id == 85],df[df.user_id == 956]"
   ]
  },
  {
   "cell_type": "code",
   "execution_count": 48,
   "id": "bebfb164",
   "metadata": {},
   "outputs": [
    {
     "data": {
      "text/plain": [
       "(Empty DataFrame\n",
       " Columns: [accessed, path, ip, user_id, program_id, program_type, cohort, start_date, end_date, lesson, hour, is_active]\n",
       " Index: [],\n",
       " Empty DataFrame\n",
       " Columns: [accessed, path, ip, user_id, program_id, program_type, cohort, start_date, end_date, lesson, hour, is_active]\n",
       " Index: [])"
      ]
     },
     "execution_count": 48,
     "metadata": {},
     "output_type": "execute_result"
    }
   ],
   "source": [
    "#info together:\n",
    "df_drop_students"
   ]
  },
  {
   "cell_type": "code",
   "execution_count": 49,
   "id": "6556822a",
   "metadata": {},
   "outputs": [],
   "source": [
    "#creating object of known web scrapers:\n",
    "web_scrapes = df[df.user_id == 177],df[df.user_id == 399], df[df.user_id == 246]"
   ]
  },
  {
   "cell_type": "code",
   "execution_count": 50,
   "id": "d9fc495e",
   "metadata": {},
   "outputs": [],
   "source": [
    "#creating object of possible web scrapers:\n",
    "poss_web_scrapes = df[df.user_id == 165],df[df.user_id == 593], df[df.user_id == 212], df[df.user_id == 348], df[df.user_id == 857],df[df.user_id == 97], df[df.user_id == 832], df[df.user_id == 85], df[df.user_id == 169], df[df.user_id == 81],df[df.user_id == 216]"
   ]
  },
  {
   "cell_type": "code",
   "execution_count": 51,
   "id": "72079872",
   "metadata": {},
   "outputs": [],
   "source": [
    "#creating object of student then staff users:\n",
    "student_staff = df[df.user_id == 539],df[df.user_id == 64]"
   ]
  },
  {
   "cell_type": "code",
   "execution_count": 52,
   "id": "12c8354f",
   "metadata": {},
   "outputs": [
    {
     "data": {
      "text/plain": [
       "Index(['accessed', 'path', 'ip', 'user_id', 'program_id', 'program_type',\n",
       "       'cohort', 'start_date', 'end_date', 'lesson', 'hour', 'is_active'],\n",
       "      dtype='object')"
      ]
     },
     "execution_count": 52,
     "metadata": {},
     "output_type": "execute_result"
    }
   ],
   "source": [
    "#reminding myself of column names:\n",
    "df.columns"
   ]
  },
  {
   "cell_type": "code",
   "execution_count": 53,
   "id": "38c3c070",
   "metadata": {},
   "outputs": [
    {
     "data": {
      "image/png": "[encoded data removed]",
      "text/plain": [
       "<Figure size 1080x720 with 1 Axes>"
      ]
     },
     "metadata": {
      "needs_background": "light"
     },
     "output_type": "display_data"
    }
   ],
   "source": [
    "#histograph of user_id counts\n",
    "df.user_id.hist(figsize=(15, 10),\n",
    "            ec='black',\n",
    "            grid=True,\n",
    "            bins=25);"
   ]
  },
  {
   "cell_type": "code",
   "execution_count": 54,
   "id": "428835d7",
   "metadata": {},
   "outputs": [
    {
     "data": {
      "text/plain": [
       "True"
      ]
     },
     "execution_count": 54,
     "metadata": {},
     "output_type": "execute_result"
    }
   ],
   "source": [
    "#sns is having issues with index as it is showing duplicates:\n",
    "df.index.is_unique"
   ]
  },
  {
   "cell_type": "code",
   "execution_count": 55,
   "id": "42280df6",
   "metadata": {},
   "outputs": [],
   "source": [
    "#dropping index duplicates\n",
    "df=df.loc[~df.index.duplicated(), :]"
   ]
  },
  {
   "cell_type": "markdown",
   "id": "c2c04b78",
   "metadata": {},
   "source": [
    "#### Can we look at users' access log times? (help determine any web scrapers)"
   ]
  },
  {
   "cell_type": "code",
   "execution_count": 56,
   "id": "df31e2a8",
   "metadata": {},
   "outputs": [
    {
     "ename": "AttributeError",
     "evalue": "'DataFrame' object has no attribute 'time'",
     "output_type": "error",
     "traceback": [
      "\u001b[0;31m---------------------------------------------------------------------------\u001b[0m",
      "\u001b[0;31mAttributeError\u001b[0m                            Traceback (most recent call last)",
      "\u001b[0;32m/var/folders/d3/11nygz6126ndxvtrp12687680000gn/T/ipykernel_67245/3172213619.py\u001b[0m in \u001b[0;36m<module>\u001b[0;34m\u001b[0m\n\u001b[1;32m      1\u001b[0m \u001b[0;31m#adding hour column to df for hours shown:\u001b[0m\u001b[0;34m\u001b[0m\u001b[0;34m\u001b[0m\u001b[0m\n\u001b[0;32m----> 2\u001b[0;31m \u001b[0mdf\u001b[0m\u001b[0;34m[\u001b[0m\u001b[0;34m'hour'\u001b[0m\u001b[0;34m]\u001b[0m \u001b[0;34m=\u001b[0m \u001b[0mpd\u001b[0m\u001b[0;34m.\u001b[0m\u001b[0mto_datetime\u001b[0m\u001b[0;34m(\u001b[0m\u001b[0mdf\u001b[0m\u001b[0;34m.\u001b[0m\u001b[0mtime\u001b[0m\u001b[0;34m)\u001b[0m\u001b[0;34m.\u001b[0m\u001b[0mdt\u001b[0m\u001b[0;34m.\u001b[0m\u001b[0mhour\u001b[0m\u001b[0;34m\u001b[0m\u001b[0;34m\u001b[0m\u001b[0m\n\u001b[0m\u001b[1;32m      3\u001b[0m \u001b[0mdf\u001b[0m\u001b[0;34m.\u001b[0m\u001b[0mhead\u001b[0m\u001b[0;34m(\u001b[0m\u001b[0;36m1\u001b[0m\u001b[0;34m)\u001b[0m\u001b[0;34m\u001b[0m\u001b[0;34m\u001b[0m\u001b[0m\n",
      "\u001b[0;32m/usr/local/anaconda3/lib/python3.9/site-packages/pandas/core/generic.py\u001b[0m in \u001b[0;36m__getattr__\u001b[0;34m(self, name)\u001b[0m\n\u001b[1;32m   5485\u001b[0m         ):\n\u001b[1;32m   5486\u001b[0m             \u001b[0;32mreturn\u001b[0m \u001b[0mself\u001b[0m\u001b[0;34m[\u001b[0m\u001b[0mname\u001b[0m\u001b[0;34m]\u001b[0m\u001b[0;34m\u001b[0m\u001b[0;34m\u001b[0m\u001b[0m\n\u001b[0;32m-> 5487\u001b[0;31m         \u001b[0;32mreturn\u001b[0m \u001b[0mobject\u001b[0m\u001b[0;34m.\u001b[0m\u001b[0m__getattribute__\u001b[0m\u001b[0;34m(\u001b[0m\u001b[0mself\u001b[0m\u001b[0;34m,\u001b[0m \u001b[0mname\u001b[0m\u001b[0;34m)\u001b[0m\u001b[0;34m\u001b[0m\u001b[0;34m\u001b[0m\u001b[0m\n\u001b[0m\u001b[1;32m   5488\u001b[0m \u001b[0;34m\u001b[0m\u001b[0m\n\u001b[1;32m   5489\u001b[0m     \u001b[0;32mdef\u001b[0m \u001b[0m__setattr__\u001b[0m\u001b[0;34m(\u001b[0m\u001b[0mself\u001b[0m\u001b[0;34m,\u001b[0m \u001b[0mname\u001b[0m\u001b[0;34m:\u001b[0m \u001b[0mstr\u001b[0m\u001b[0;34m,\u001b[0m \u001b[0mvalue\u001b[0m\u001b[0;34m)\u001b[0m \u001b[0;34m->\u001b[0m \u001b[0;32mNone\u001b[0m\u001b[0;34m:\u001b[0m\u001b[0;34m\u001b[0m\u001b[0;34m\u001b[0m\u001b[0m\n",
      "\u001b[0;31mAttributeError\u001b[0m: 'DataFrame' object has no attribute 'time'"
     ]
    }
   ],
   "source": [
    "#adding hour column to df for hours shown:\n",
    "df['hour'] = pd.to_datetime(df.time).dt.hour\n",
    "df.head(1)"
   ]
  },
  {
   "cell_type": "code",
   "execution_count": null,
   "id": "6a90e832",
   "metadata": {},
   "outputs": [],
   "source": [
    "#showing hours these hardly accessed students logged in at:\n"
   ]
  },
  {
   "cell_type": "code",
   "execution_count": null,
   "id": "d4fcbc73",
   "metadata": {},
   "outputs": [],
   "source": [
    "#user_id to cohort: are there student ranges here?\n",
    "sns.histplot(data=df, x=df.user_id, hue=df.program_id, bins=30)"
   ]
  },
  {
   "cell_type": "markdown",
   "id": "47a72455",
   "metadata": {},
   "source": [
    "#### Question: Are there overlaps or recycling happening with user_id?"
   ]
  },
  {
   "cell_type": "code",
   "execution_count": null,
   "id": "ca8745a5",
   "metadata": {},
   "outputs": [],
   "source": [
    "#user_id to cohort: are there student ranges here?\n",
    "sns.histplot(data=df, x=df.user_id, hue=df.program_id, bins=60, multiple=\"stack\")"
   ]
  },
  {
   "cell_type": "code",
   "execution_count": null,
   "id": "de11593e",
   "metadata": {},
   "outputs": [],
   "source": [
    "plt.figure(figsize=(10,5))\n",
    "sns.barplot(df.user_id.index, df.program_type.values, alpha=0.8)\n",
    "plt.title ('Hardly Accessed Data Science Curriculum')\n",
    "plt.ylabel('Number of Occurences')\n",
    "plt.xlabel('User Id', fontsize=15)\n",
    "plt.show()"
   ]
  },
  {
   "cell_type": "code",
   "execution_count": null,
   "id": "10b8bcb5",
   "metadata": {},
   "outputs": [],
   "source": [
    "#user example of student then staff member\n",
    "#df[df.user_id ==539]"
   ]
  },
  {
   "cell_type": "code",
   "execution_count": null,
   "id": "92ae6ba8",
   "metadata": {},
   "outputs": [],
   "source": [
    "#using wrangle code to call in all dataframes and file to call in curriculum_log data:\n",
    "df, df_staff, df_multicohort, df_unimputed, df_non_curriculum, df_outliers=wrangle.full_wrangle()"
   ]
  },
  {
   "cell_type": "code",
   "execution_count": null,
   "id": "604cc6ec",
   "metadata": {},
   "outputs": [],
   "source": []
  }
 ],
 "metadata": {
  "kernelspec": {
   "display_name": "Python 3 (ipykernel)",
   "language": "python",
   "name": "python3"
  },
  "language_info": {
   "codemirror_mode": {
    "name": "ipython",
    "version": 3
   },
   "file_extension": ".py",
   "mimetype": "text/x-python",
   "name": "python",
   "nbconvert_exporter": "python",
   "pygments_lexer": "ipython3",
   "version": "3.9.7"
  }
 },
 "nbformat": 4,
 "nbformat_minor": 5
}
