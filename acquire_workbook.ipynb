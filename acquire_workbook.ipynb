{
 "cells": [
  {
   "cell_type": "code",
   "execution_count": 1,
   "id": "41f4b94d",
   "metadata": {},
   "outputs": [],
   "source": [
    "import pandas as pd\n",
    "import numpy as np\n",
    "from env import get_db_url\n",
    "import os"
   ]
  },
  {
   "cell_type": "markdown",
   "id": "fe584162",
   "metadata": {},
   "source": [
    "There are no column headers in txt file we received, so we manually added on into the file based on the SQL table 'logs' from 'curriculum_logs'."
   ]
  },
  {
   "cell_type": "code",
   "execution_count": 2,
   "id": "e37f2352",
   "metadata": {},
   "outputs": [
    {
     "name": "stdout",
     "output_type": "stream",
     "text": [
      "<class 'pandas.core.frame.DataFrame'>\n",
      "RangeIndex: 900223 entries, 0 to 900222\n",
      "Data columns (total 6 columns):\n",
      " #   Column     Non-Null Count   Dtype  \n",
      "---  ------     --------------   -----  \n",
      " 0   Date       900223 non-null  object \n",
      " 1   time       900223 non-null  object \n",
      " 2   path       900222 non-null  object \n",
      " 3   user_id    900223 non-null  int64  \n",
      " 4   cohort_id  847330 non-null  float64\n",
      " 5   ip         900223 non-null  object \n",
      "dtypes: float64(1), int64(1), object(4)\n",
      "memory usage: 41.2+ MB\n"
     ]
    },
    {
     "data": {
      "text/html": [
       "<div>\n",
       "<style scoped>\n",
       "    .dataframe tbody tr th:only-of-type {\n",
       "        vertical-align: middle;\n",
       "    }\n",
       "\n",
       "    .dataframe tbody tr th {\n",
       "        vertical-align: top;\n",
       "    }\n",
       "\n",
       "    .dataframe thead th {\n",
       "        text-align: right;\n",
       "    }\n",
       "</style>\n",
       "<table border=\"1\" class=\"dataframe\">\n",
       "  <thead>\n",
       "    <tr style=\"text-align: right;\">\n",
       "      <th></th>\n",
       "      <th>Date</th>\n",
       "      <th>time</th>\n",
       "      <th>path</th>\n",
       "      <th>user_id</th>\n",
       "      <th>cohort_id</th>\n",
       "      <th>ip</th>\n",
       "    </tr>\n",
       "  </thead>\n",
       "  <tbody>\n",
       "    <tr>\n",
       "      <th>0</th>\n",
       "      <td>2018-01-26</td>\n",
       "      <td>09:55:03</td>\n",
       "      <td>/</td>\n",
       "      <td>1</td>\n",
       "      <td>8.0</td>\n",
       "      <td>97.105.19.61</td>\n",
       "    </tr>\n",
       "    <tr>\n",
       "      <th>1</th>\n",
       "      <td>2018-01-26</td>\n",
       "      <td>09:56:02</td>\n",
       "      <td>java-ii</td>\n",
       "      <td>1</td>\n",
       "      <td>8.0</td>\n",
       "      <td>97.105.19.61</td>\n",
       "    </tr>\n",
       "    <tr>\n",
       "      <th>2</th>\n",
       "      <td>2018-01-26</td>\n",
       "      <td>09:56:05</td>\n",
       "      <td>java-ii/object-oriented-programming</td>\n",
       "      <td>1</td>\n",
       "      <td>8.0</td>\n",
       "      <td>97.105.19.61</td>\n",
       "    </tr>\n",
       "    <tr>\n",
       "      <th>3</th>\n",
       "      <td>2018-01-26</td>\n",
       "      <td>09:56:06</td>\n",
       "      <td>slides/object_oriented_programming</td>\n",
       "      <td>1</td>\n",
       "      <td>8.0</td>\n",
       "      <td>97.105.19.61</td>\n",
       "    </tr>\n",
       "    <tr>\n",
       "      <th>4</th>\n",
       "      <td>2018-01-26</td>\n",
       "      <td>09:56:24</td>\n",
       "      <td>javascript-i/conditionals</td>\n",
       "      <td>2</td>\n",
       "      <td>22.0</td>\n",
       "      <td>97.105.19.61</td>\n",
       "    </tr>\n",
       "  </tbody>\n",
       "</table>\n",
       "</div>"
      ],
      "text/plain": [
       "         Date      time                                 path  user_id  \\\n",
       "0  2018-01-26  09:55:03                                    /        1   \n",
       "1  2018-01-26  09:56:02                              java-ii        1   \n",
       "2  2018-01-26  09:56:05  java-ii/object-oriented-programming        1   \n",
       "3  2018-01-26  09:56:06   slides/object_oriented_programming        1   \n",
       "4  2018-01-26  09:56:24            javascript-i/conditionals        2   \n",
       "\n",
       "   cohort_id            ip  \n",
       "0        8.0  97.105.19.61  \n",
       "1        8.0  97.105.19.61  \n",
       "2        8.0  97.105.19.61  \n",
       "3        8.0  97.105.19.61  \n",
       "4       22.0  97.105.19.61  "
      ]
     },
     "execution_count": 2,
     "metadata": {},
     "output_type": "execute_result"
    }
   ],
   "source": [
    "df = pd.read_csv('anonymized-curriculum-access.txt', sep=' ')\n",
    "df.info()\n",
    "df.head()"
   ]
  },
  {
   "cell_type": "code",
   "execution_count": 3,
   "id": "4559360f",
   "metadata": {},
   "outputs": [],
   "source": [
    "def get_curriculum_data():\n",
    "    '''\n",
    "    Acquires curriculum dataframe based on SQL query found below\n",
    "    '''\n",
    "    filename = 'curriculum_access.csv'\n",
    "\n",
    "    if os.path.isfile(filename):\n",
    "        return pd.read_csv(filename, index_col=0)\n",
    "    else:\n",
    "        df = pd.read_sql(\n",
    "            '''\n",
    "            SELECT \n",
    "               logs.date,\n",
    "               logs.time,\n",
    "               logs.path,\n",
    "               logs.user_id,\n",
    "               logs.ip,\n",
    "               cohorts.name\n",
    "            FROM\n",
    "                logs\n",
    "            LEFT JOIN\n",
    "                cohorts ON logs.cohort_id = cohorts.id;\n",
    "            '''\n",
    "            ,\n",
    "            get_db_url('curriculum_logs')\n",
    "        )\n",
    "\n",
    "        df.to_csv(filename)\n",
    "\n",
    "        return df"
   ]
  },
  {
   "cell_type": "code",
   "execution_count": 4,
   "id": "2231d3bb",
   "metadata": {},
   "outputs": [
    {
     "data": {
      "text/html": [
       "<div>\n",
       "<style scoped>\n",
       "    .dataframe tbody tr th:only-of-type {\n",
       "        vertical-align: middle;\n",
       "    }\n",
       "\n",
       "    .dataframe tbody tr th {\n",
       "        vertical-align: top;\n",
       "    }\n",
       "\n",
       "    .dataframe thead th {\n",
       "        text-align: right;\n",
       "    }\n",
       "</style>\n",
       "<table border=\"1\" class=\"dataframe\">\n",
       "  <thead>\n",
       "    <tr style=\"text-align: right;\">\n",
       "      <th></th>\n",
       "      <th>date</th>\n",
       "      <th>time</th>\n",
       "      <th>path</th>\n",
       "      <th>user_id</th>\n",
       "      <th>ip</th>\n",
       "      <th>name</th>\n",
       "    </tr>\n",
       "  </thead>\n",
       "  <tbody>\n",
       "    <tr>\n",
       "      <th>0</th>\n",
       "      <td>2018-01-26</td>\n",
       "      <td>09:55:03</td>\n",
       "      <td>/</td>\n",
       "      <td>1</td>\n",
       "      <td>97.105.19.61</td>\n",
       "      <td>Hampton</td>\n",
       "    </tr>\n",
       "    <tr>\n",
       "      <th>1</th>\n",
       "      <td>2018-01-26</td>\n",
       "      <td>09:56:02</td>\n",
       "      <td>java-ii</td>\n",
       "      <td>1</td>\n",
       "      <td>97.105.19.61</td>\n",
       "      <td>Hampton</td>\n",
       "    </tr>\n",
       "    <tr>\n",
       "      <th>2</th>\n",
       "      <td>2018-01-26</td>\n",
       "      <td>09:56:05</td>\n",
       "      <td>java-ii/object-oriented-programming</td>\n",
       "      <td>1</td>\n",
       "      <td>97.105.19.61</td>\n",
       "      <td>Hampton</td>\n",
       "    </tr>\n",
       "    <tr>\n",
       "      <th>3</th>\n",
       "      <td>2018-01-26</td>\n",
       "      <td>09:56:06</td>\n",
       "      <td>slides/object_oriented_programming</td>\n",
       "      <td>1</td>\n",
       "      <td>97.105.19.61</td>\n",
       "      <td>Hampton</td>\n",
       "    </tr>\n",
       "    <tr>\n",
       "      <th>4</th>\n",
       "      <td>2018-01-26</td>\n",
       "      <td>09:56:24</td>\n",
       "      <td>javascript-i/conditionals</td>\n",
       "      <td>2</td>\n",
       "      <td>97.105.19.61</td>\n",
       "      <td>Teddy</td>\n",
       "    </tr>\n",
       "    <tr>\n",
       "      <th>...</th>\n",
       "      <td>...</td>\n",
       "      <td>...</td>\n",
       "      <td>...</td>\n",
       "      <td>...</td>\n",
       "      <td>...</td>\n",
       "      <td>...</td>\n",
       "    </tr>\n",
       "    <tr>\n",
       "      <th>900218</th>\n",
       "      <td>2021-04-21</td>\n",
       "      <td>16:41:51</td>\n",
       "      <td>jquery/personal-site</td>\n",
       "      <td>64</td>\n",
       "      <td>71.150.217.33</td>\n",
       "      <td>Staff</td>\n",
       "    </tr>\n",
       "    <tr>\n",
       "      <th>900219</th>\n",
       "      <td>2021-04-21</td>\n",
       "      <td>16:42:02</td>\n",
       "      <td>jquery/mapbox-api</td>\n",
       "      <td>64</td>\n",
       "      <td>71.150.217.33</td>\n",
       "      <td>Staff</td>\n",
       "    </tr>\n",
       "    <tr>\n",
       "      <th>900220</th>\n",
       "      <td>2021-04-21</td>\n",
       "      <td>16:42:09</td>\n",
       "      <td>jquery/ajax/weather-map</td>\n",
       "      <td>64</td>\n",
       "      <td>71.150.217.33</td>\n",
       "      <td>Staff</td>\n",
       "    </tr>\n",
       "    <tr>\n",
       "      <th>900221</th>\n",
       "      <td>2021-04-21</td>\n",
       "      <td>16:44:37</td>\n",
       "      <td>anomaly-detection/discrete-probabilistic-methods</td>\n",
       "      <td>744</td>\n",
       "      <td>24.160.137.86</td>\n",
       "      <td>Staff</td>\n",
       "    </tr>\n",
       "    <tr>\n",
       "      <th>900222</th>\n",
       "      <td>2021-04-21</td>\n",
       "      <td>16:44:39</td>\n",
       "      <td>jquery/mapbox-api</td>\n",
       "      <td>64</td>\n",
       "      <td>71.150.217.33</td>\n",
       "      <td>Staff</td>\n",
       "    </tr>\n",
       "  </tbody>\n",
       "</table>\n",
       "<p>900223 rows × 6 columns</p>\n",
       "</div>"
      ],
      "text/plain": [
       "              date      time  \\\n",
       "0       2018-01-26  09:55:03   \n",
       "1       2018-01-26  09:56:02   \n",
       "2       2018-01-26  09:56:05   \n",
       "3       2018-01-26  09:56:06   \n",
       "4       2018-01-26  09:56:24   \n",
       "...            ...       ...   \n",
       "900218  2021-04-21  16:41:51   \n",
       "900219  2021-04-21  16:42:02   \n",
       "900220  2021-04-21  16:42:09   \n",
       "900221  2021-04-21  16:44:37   \n",
       "900222  2021-04-21  16:44:39   \n",
       "\n",
       "                                                    path  user_id  \\\n",
       "0                                                      /        1   \n",
       "1                                                java-ii        1   \n",
       "2                    java-ii/object-oriented-programming        1   \n",
       "3                     slides/object_oriented_programming        1   \n",
       "4                              javascript-i/conditionals        2   \n",
       "...                                                  ...      ...   \n",
       "900218                              jquery/personal-site       64   \n",
       "900219                                 jquery/mapbox-api       64   \n",
       "900220                           jquery/ajax/weather-map       64   \n",
       "900221  anomaly-detection/discrete-probabilistic-methods      744   \n",
       "900222                                 jquery/mapbox-api       64   \n",
       "\n",
       "                   ip     name  \n",
       "0        97.105.19.61  Hampton  \n",
       "1        97.105.19.61  Hampton  \n",
       "2        97.105.19.61  Hampton  \n",
       "3        97.105.19.61  Hampton  \n",
       "4        97.105.19.61    Teddy  \n",
       "...               ...      ...  \n",
       "900218  71.150.217.33    Staff  \n",
       "900219  71.150.217.33    Staff  \n",
       "900220  71.150.217.33    Staff  \n",
       "900221  24.160.137.86    Staff  \n",
       "900222  71.150.217.33    Staff  \n",
       "\n",
       "[900223 rows x 6 columns]"
      ]
     },
     "execution_count": 4,
     "metadata": {},
     "output_type": "execute_result"
    }
   ],
   "source": [
    "df2 = get_curriculum_data()\n",
    "df2"
   ]
  },
  {
   "cell_type": "markdown",
   "id": "cc5a4e92",
   "metadata": {},
   "source": [
    "#### Will check all rows to ensure the txt file is the same as the SQL query."
   ]
  },
  {
   "cell_type": "code",
   "execution_count": 21,
   "id": "48376396",
   "metadata": {},
   "outputs": [
    {
     "data": {
      "text/plain": [
       "0"
      ]
     },
     "execution_count": 21,
     "metadata": {},
     "output_type": "execute_result"
    }
   ],
   "source": [
    "(df.Date != df2.date).sum()"
   ]
  },
  {
   "cell_type": "code",
   "execution_count": 22,
   "id": "99ac34e1",
   "metadata": {},
   "outputs": [
    {
     "data": {
      "text/plain": [
       "0"
      ]
     },
     "execution_count": 22,
     "metadata": {},
     "output_type": "execute_result"
    }
   ],
   "source": [
    "(df.time != df2.time).sum()"
   ]
  },
  {
   "cell_type": "code",
   "execution_count": 23,
   "id": "a8150776",
   "metadata": {},
   "outputs": [
    {
     "data": {
      "text/plain": [
       "1"
      ]
     },
     "execution_count": 23,
     "metadata": {},
     "output_type": "execute_result"
    }
   ],
   "source": [
    "(df.path != df2.path).sum()"
   ]
  },
  {
   "cell_type": "markdown",
   "id": "8f3d6f7b",
   "metadata": {},
   "source": [
    "There is one path that appears to be different:"
   ]
  },
  {
   "cell_type": "code",
   "execution_count": 24,
   "id": "3bf8ba62",
   "metadata": {},
   "outputs": [
    {
     "data": {
      "text/html": [
       "<div>\n",
       "<style scoped>\n",
       "    .dataframe tbody tr th:only-of-type {\n",
       "        vertical-align: middle;\n",
       "    }\n",
       "\n",
       "    .dataframe tbody tr th {\n",
       "        vertical-align: top;\n",
       "    }\n",
       "\n",
       "    .dataframe thead th {\n",
       "        text-align: right;\n",
       "    }\n",
       "</style>\n",
       "<table border=\"1\" class=\"dataframe\">\n",
       "  <thead>\n",
       "    <tr style=\"text-align: right;\">\n",
       "      <th></th>\n",
       "      <th>Date</th>\n",
       "      <th>time</th>\n",
       "      <th>path</th>\n",
       "      <th>user_id</th>\n",
       "      <th>cohort_id</th>\n",
       "      <th>ip</th>\n",
       "    </tr>\n",
       "  </thead>\n",
       "  <tbody>\n",
       "    <tr>\n",
       "      <th>506305</th>\n",
       "      <td>2020-04-08</td>\n",
       "      <td>09:25:18</td>\n",
       "      <td>NaN</td>\n",
       "      <td>586</td>\n",
       "      <td>55.0</td>\n",
       "      <td>72.177.240.51</td>\n",
       "    </tr>\n",
       "  </tbody>\n",
       "</table>\n",
       "</div>"
      ],
      "text/plain": [
       "              Date      time path  user_id  cohort_id             ip\n",
       "506305  2020-04-08  09:25:18  NaN      586       55.0  72.177.240.51"
      ]
     },
     "execution_count": 24,
     "metadata": {},
     "output_type": "execute_result"
    }
   ],
   "source": [
    "df[(df.path != df2.path)]"
   ]
  },
  {
   "cell_type": "code",
   "execution_count": 28,
   "id": "be241e8a",
   "metadata": {},
   "outputs": [
    {
     "data": {
      "text/plain": [
       "(Date            2020-04-08\n",
       " time              09:25:18\n",
       " path                   NaN\n",
       " user_id                586\n",
       " cohort_id             55.0\n",
       " ip           72.177.240.51\n",
       " Name: 506305, dtype: object,\n",
       " date          2020-04-08\n",
       " time            09:25:18\n",
       " path                 NaN\n",
       " user_id              586\n",
       " ip         72.177.240.51\n",
       " name               Curie\n",
       " Name: 506305, dtype: object)"
      ]
     },
     "execution_count": 28,
     "metadata": {},
     "output_type": "execute_result"
    }
   ],
   "source": [
    "df.iloc[506305], df2.iloc[506305]"
   ]
  },
  {
   "cell_type": "markdown",
   "id": "f5bb3db5",
   "metadata": {},
   "source": [
    "*This entry has a NaN for path on both, otherwise they are both the same.  Recommend throwing this out in cleanup.*"
   ]
  },
  {
   "cell_type": "code",
   "execution_count": 29,
   "id": "bbb3e73f",
   "metadata": {},
   "outputs": [
    {
     "data": {
      "text/plain": [
       "0"
      ]
     },
     "execution_count": 29,
     "metadata": {},
     "output_type": "execute_result"
    }
   ],
   "source": [
    "(df.user_id != df2.user_id).sum()"
   ]
  },
  {
   "cell_type": "code",
   "execution_count": 30,
   "id": "c9f3671f",
   "metadata": {},
   "outputs": [
    {
     "data": {
      "text/plain": [
       "0"
      ]
     },
     "execution_count": 30,
     "metadata": {},
     "output_type": "execute_result"
    }
   ],
   "source": [
    "(df.ip != df2.ip).sum()"
   ]
  },
  {
   "cell_type": "markdown",
   "id": "1941de2d",
   "metadata": {},
   "source": [
    "### Looks like the SQL query is good for acquire!"
   ]
  },
  {
   "cell_type": "code",
   "execution_count": 31,
   "id": "5775e77c",
   "metadata": {},
   "outputs": [],
   "source": [
    "import acquire"
   ]
  },
  {
   "cell_type": "code",
   "execution_count": 32,
   "id": "0b4c2bad",
   "metadata": {},
   "outputs": [
    {
     "name": "stdout",
     "output_type": "stream",
     "text": [
      "<class 'pandas.core.frame.DataFrame'>\n",
      "RangeIndex: 900223 entries, 0 to 900222\n",
      "Data columns (total 6 columns):\n",
      " #   Column   Non-Null Count   Dtype \n",
      "---  ------   --------------   ----- \n",
      " 0   date     900223 non-null  object\n",
      " 1   time     900223 non-null  object\n",
      " 2   path     900222 non-null  object\n",
      " 3   user_id  900223 non-null  int64 \n",
      " 4   ip       900223 non-null  object\n",
      " 5   name     847330 non-null  object\n",
      "dtypes: int64(1), object(5)\n",
      "memory usage: 41.2+ MB\n"
     ]
    },
    {
     "data": {
      "text/html": [
       "<div>\n",
       "<style scoped>\n",
       "    .dataframe tbody tr th:only-of-type {\n",
       "        vertical-align: middle;\n",
       "    }\n",
       "\n",
       "    .dataframe tbody tr th {\n",
       "        vertical-align: top;\n",
       "    }\n",
       "\n",
       "    .dataframe thead th {\n",
       "        text-align: right;\n",
       "    }\n",
       "</style>\n",
       "<table border=\"1\" class=\"dataframe\">\n",
       "  <thead>\n",
       "    <tr style=\"text-align: right;\">\n",
       "      <th></th>\n",
       "      <th>date</th>\n",
       "      <th>time</th>\n",
       "      <th>path</th>\n",
       "      <th>user_id</th>\n",
       "      <th>ip</th>\n",
       "      <th>name</th>\n",
       "    </tr>\n",
       "  </thead>\n",
       "  <tbody>\n",
       "    <tr>\n",
       "      <th>0</th>\n",
       "      <td>2018-01-26</td>\n",
       "      <td>09:55:03</td>\n",
       "      <td>/</td>\n",
       "      <td>1</td>\n",
       "      <td>97.105.19.61</td>\n",
       "      <td>Hampton</td>\n",
       "    </tr>\n",
       "    <tr>\n",
       "      <th>1</th>\n",
       "      <td>2018-01-26</td>\n",
       "      <td>09:56:02</td>\n",
       "      <td>java-ii</td>\n",
       "      <td>1</td>\n",
       "      <td>97.105.19.61</td>\n",
       "      <td>Hampton</td>\n",
       "    </tr>\n",
       "    <tr>\n",
       "      <th>2</th>\n",
       "      <td>2018-01-26</td>\n",
       "      <td>09:56:05</td>\n",
       "      <td>java-ii/object-oriented-programming</td>\n",
       "      <td>1</td>\n",
       "      <td>97.105.19.61</td>\n",
       "      <td>Hampton</td>\n",
       "    </tr>\n",
       "    <tr>\n",
       "      <th>3</th>\n",
       "      <td>2018-01-26</td>\n",
       "      <td>09:56:06</td>\n",
       "      <td>slides/object_oriented_programming</td>\n",
       "      <td>1</td>\n",
       "      <td>97.105.19.61</td>\n",
       "      <td>Hampton</td>\n",
       "    </tr>\n",
       "    <tr>\n",
       "      <th>4</th>\n",
       "      <td>2018-01-26</td>\n",
       "      <td>09:56:24</td>\n",
       "      <td>javascript-i/conditionals</td>\n",
       "      <td>2</td>\n",
       "      <td>97.105.19.61</td>\n",
       "      <td>Teddy</td>\n",
       "    </tr>\n",
       "  </tbody>\n",
       "</table>\n",
       "</div>"
      ],
      "text/plain": [
       "         date      time                                 path  user_id  \\\n",
       "0  2018-01-26  09:55:03                                    /        1   \n",
       "1  2018-01-26  09:56:02                              java-ii        1   \n",
       "2  2018-01-26  09:56:05  java-ii/object-oriented-programming        1   \n",
       "3  2018-01-26  09:56:06   slides/object_oriented_programming        1   \n",
       "4  2018-01-26  09:56:24            javascript-i/conditionals        2   \n",
       "\n",
       "             ip     name  \n",
       "0  97.105.19.61  Hampton  \n",
       "1  97.105.19.61  Hampton  \n",
       "2  97.105.19.61  Hampton  \n",
       "3  97.105.19.61  Hampton  \n",
       "4  97.105.19.61    Teddy  "
      ]
     },
     "execution_count": 32,
     "metadata": {},
     "output_type": "execute_result"
    }
   ],
   "source": [
    "df = acquire.get_curriculum_data()\n",
    "df.info()\n",
    "df.head()"
   ]
  },
  {
   "cell_type": "code",
   "execution_count": 49,
   "id": "a753fe8b",
   "metadata": {},
   "outputs": [
    {
     "data": {
      "text/html": [
       "<div>\n",
       "<style scoped>\n",
       "    .dataframe tbody tr th:only-of-type {\n",
       "        vertical-align: middle;\n",
       "    }\n",
       "\n",
       "    .dataframe tbody tr th {\n",
       "        vertical-align: top;\n",
       "    }\n",
       "\n",
       "    .dataframe thead th {\n",
       "        text-align: right;\n",
       "    }\n",
       "</style>\n",
       "<table border=\"1\" class=\"dataframe\">\n",
       "  <thead>\n",
       "    <tr style=\"text-align: right;\">\n",
       "      <th></th>\n",
       "      <th>date</th>\n",
       "      <th>time</th>\n",
       "      <th>path</th>\n",
       "      <th>user_id</th>\n",
       "      <th>ip</th>\n",
       "      <th>name</th>\n",
       "    </tr>\n",
       "  </thead>\n",
       "  <tbody>\n",
       "    <tr>\n",
       "      <th>411</th>\n",
       "      <td>2018-01-26</td>\n",
       "      <td>16:46:16</td>\n",
       "      <td>/</td>\n",
       "      <td>48</td>\n",
       "      <td>97.105.19.61</td>\n",
       "      <td>None</td>\n",
       "    </tr>\n",
       "    <tr>\n",
       "      <th>412</th>\n",
       "      <td>2018-01-26</td>\n",
       "      <td>16:46:24</td>\n",
       "      <td>spring/extra-features/form-validation</td>\n",
       "      <td>48</td>\n",
       "      <td>97.105.19.61</td>\n",
       "      <td>None</td>\n",
       "    </tr>\n",
       "    <tr>\n",
       "      <th>425</th>\n",
       "      <td>2018-01-26</td>\n",
       "      <td>17:54:24</td>\n",
       "      <td>/</td>\n",
       "      <td>48</td>\n",
       "      <td>97.105.19.61</td>\n",
       "      <td>None</td>\n",
       "    </tr>\n",
       "    <tr>\n",
       "      <th>435</th>\n",
       "      <td>2018-01-26</td>\n",
       "      <td>18:32:03</td>\n",
       "      <td>/</td>\n",
       "      <td>48</td>\n",
       "      <td>97.105.19.61</td>\n",
       "      <td>None</td>\n",
       "    </tr>\n",
       "    <tr>\n",
       "      <th>436</th>\n",
       "      <td>2018-01-26</td>\n",
       "      <td>18:32:17</td>\n",
       "      <td>mysql/relationships/joins</td>\n",
       "      <td>48</td>\n",
       "      <td>97.105.19.61</td>\n",
       "      <td>None</td>\n",
       "    </tr>\n",
       "    <tr>\n",
       "      <th>...</th>\n",
       "      <td>...</td>\n",
       "      <td>...</td>\n",
       "      <td>...</td>\n",
       "      <td>...</td>\n",
       "      <td>...</td>\n",
       "      <td>...</td>\n",
       "    </tr>\n",
       "    <tr>\n",
       "      <th>899897</th>\n",
       "      <td>2021-04-21</td>\n",
       "      <td>12:49:00</td>\n",
       "      <td>javascript-ii</td>\n",
       "      <td>717</td>\n",
       "      <td>136.50.102.126</td>\n",
       "      <td>None</td>\n",
       "    </tr>\n",
       "    <tr>\n",
       "      <th>899898</th>\n",
       "      <td>2021-04-21</td>\n",
       "      <td>12:49:02</td>\n",
       "      <td>javascript-ii/es6</td>\n",
       "      <td>717</td>\n",
       "      <td>136.50.102.126</td>\n",
       "      <td>None</td>\n",
       "    </tr>\n",
       "    <tr>\n",
       "      <th>899899</th>\n",
       "      <td>2021-04-21</td>\n",
       "      <td>12:51:27</td>\n",
       "      <td>javascript-ii/map-filter-reduce</td>\n",
       "      <td>717</td>\n",
       "      <td>136.50.102.126</td>\n",
       "      <td>None</td>\n",
       "    </tr>\n",
       "    <tr>\n",
       "      <th>899900</th>\n",
       "      <td>2021-04-21</td>\n",
       "      <td>12:52:37</td>\n",
       "      <td>javascript-ii/promises</td>\n",
       "      <td>717</td>\n",
       "      <td>136.50.102.126</td>\n",
       "      <td>None</td>\n",
       "    </tr>\n",
       "    <tr>\n",
       "      <th>899902</th>\n",
       "      <td>2021-04-21</td>\n",
       "      <td>12:56:26</td>\n",
       "      <td>javascript-ii/RESTful-api</td>\n",
       "      <td>717</td>\n",
       "      <td>136.50.102.126</td>\n",
       "      <td>None</td>\n",
       "    </tr>\n",
       "  </tbody>\n",
       "</table>\n",
       "<p>52893 rows × 6 columns</p>\n",
       "</div>"
      ],
      "text/plain": [
       "              date      time                                   path  user_id  \\\n",
       "411     2018-01-26  16:46:16                                      /       48   \n",
       "412     2018-01-26  16:46:24  spring/extra-features/form-validation       48   \n",
       "425     2018-01-26  17:54:24                                      /       48   \n",
       "435     2018-01-26  18:32:03                                      /       48   \n",
       "436     2018-01-26  18:32:17              mysql/relationships/joins       48   \n",
       "...            ...       ...                                    ...      ...   \n",
       "899897  2021-04-21  12:49:00                          javascript-ii      717   \n",
       "899898  2021-04-21  12:49:02                      javascript-ii/es6      717   \n",
       "899899  2021-04-21  12:51:27        javascript-ii/map-filter-reduce      717   \n",
       "899900  2021-04-21  12:52:37                 javascript-ii/promises      717   \n",
       "899902  2021-04-21  12:56:26              javascript-ii/RESTful-api      717   \n",
       "\n",
       "                    ip  name  \n",
       "411       97.105.19.61  None  \n",
       "412       97.105.19.61  None  \n",
       "425       97.105.19.61  None  \n",
       "435       97.105.19.61  None  \n",
       "436       97.105.19.61  None  \n",
       "...                ...   ...  \n",
       "899897  136.50.102.126  None  \n",
       "899898  136.50.102.126  None  \n",
       "899899  136.50.102.126  None  \n",
       "899900  136.50.102.126  None  \n",
       "899902  136.50.102.126  None  \n",
       "\n",
       "[52893 rows x 6 columns]"
      ]
     },
     "execution_count": 49,
     "metadata": {},
     "output_type": "execute_result"
    }
   ],
   "source": [
    "df[df.name.isnull()]"
   ]
  },
  {
   "cell_type": "code",
   "execution_count": 47,
   "id": "ea1a5b95",
   "metadata": {},
   "outputs": [
    {
     "data": {
      "text/plain": [
       "user_id\n",
       "48     1581\n",
       "54      146\n",
       "58      462\n",
       "59       42\n",
       "61      816\n",
       "       ... \n",
       "744      69\n",
       "782     370\n",
       "810     709\n",
       "814     187\n",
       "815      46\n",
       "Name: user_id, Length: 78, dtype: int64"
      ]
     },
     "execution_count": 47,
     "metadata": {},
     "output_type": "execute_result"
    }
   ],
   "source": [
    "df[df.name.isnull()].groupby('user_id').user_id.count()"
   ]
  }
 ],
 "metadata": {
  "kernelspec": {
   "display_name": "Python 3 (ipykernel)",
   "language": "python",
   "name": "python3"
  },
  "language_info": {
   "codemirror_mode": {
    "name": "ipython",
    "version": 3
   },
   "file_extension": ".py",
   "mimetype": "text/x-python",
   "name": "python",
   "nbconvert_exporter": "python",
   "pygments_lexer": "ipython3",
   "version": "3.9.7"
  }
 },
 "nbformat": 4,
 "nbformat_minor": 5
}
